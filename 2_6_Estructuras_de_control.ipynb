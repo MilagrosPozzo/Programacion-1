{
  "cells": [
    {
      "cell_type": "markdown",
      "metadata": {
        "colab_type": "text",
        "id": "view-in-github"
      },
      "source": [
        "<a href=\"https://colab.research.google.com/github/MilagrosPozzo/Programacion-1/blob/main/2_6_Estructuras_de_control.ipynb\" target=\"_parent\"><img src=\"https://colab.research.google.com/assets/colab-badge.svg\" alt=\"Open In Colab\"/></a>"
      ]
    },
    {
      "cell_type": "markdown",
      "metadata": {
        "id": "UG0BflsZQk3v"
      },
      "source": [
        "# 6. Estructuras de control"
      ]
    },
    {
      "cell_type": "markdown",
      "metadata": {
        "id": "R5HHsfjCQpiW"
      },
      "source": [
        "En cualquier programa, es esencial poder controlar el flujo de la ejecución. Aquí es donde entran en juego las estructuras de control, que nos permiten tomar decisiones y repetir acciones en nuestros programas. Antes de adentrarnos en los detalles de estas estructuras, recordemos algunos conceptos fundamentales de tipos de datos y operadores que hemos visto previamente. Los tipos de datos, como enteros, cadenas y booleanos, junto con los operadores de comparación y lógicos, son fundamentales para evaluar las condiciones que rigen nuestras decisiones. Además, la entrada y salida de datos nos permiten interactuar con el usuario, obteniendo información necesaria y mostrando resultados relevantes. Estas habilidades serán cruciales al trabajar con declaraciones condicionales, como if, elif y else, que nos permiten desarrollar programas dinámicos que responden a diferentes situaciones. Vamos a explorar estas estructuras de control en más detalle."
      ]
    },
    {
      "cell_type": "markdown",
      "metadata": {
        "id": "S9WqCCHyQt-6"
      },
      "source": [
        "## a. Cruce de Decisiones: Condicionales"
      ]
    },
    {
      "cell_type": "markdown",
      "metadata": {
        "id": "9qq9Wp-5Qv-0"
      },
      "source": [
        "Las estructuras de control son como los signos de tráfico en el camino de la ejecución de nuestro programa. Nos permiten tomar decisiones basadas en diferentes condiciones y repetir ciertas acciones hasta que se cumpla una condición. En Python, los condicionales se manejan con las palabras clave if, elif y else.\n",
        "\n",
        "Vamos a imaginar que estamos desarrollando un programa para determinar si un estudiante ha aprobado o reprobado un examen basado en su calificación."
      ]
    },
    {
      "cell_type": "code",
      "execution_count": null,
      "metadata": {
        "id": "R0NsZaZvQ1f5"
      },
      "outputs": [],
      "source": [
        "calificacion = int(input(\"Por favor ingrese la calificación del estudiante: \"))\n",
        "\n",
        "if calificacion >= 6:\n",
        "    print(\"El estudiante ha aprobado el examen.\")\n",
        "else:\n",
        "    print(\"El estudiante ha reprobado el examen.\")"
      ]
    },
    {
      "cell_type": "markdown",
      "metadata": {
        "id": "KlZiQh96RCvG"
      },
      "source": [
        "En este ejemplo, el programa pide al usuario que ingrese la calificación del estudiante. Luego, usa una declaración if para comprobar si la calificación es igual o superior a 6. Si es así, el programa imprime un mensaje diciendo que el estudiante ha aprobado. Si no es así, el programa imprime un mensaje diciendo que el estudiante ha reprobado."
      ]
    },
    {
      "cell_type": "markdown",
      "metadata": {
        "id": "CfXq4JRD7hBS"
      },
      "source": [
        "A menudo, cuando programamos, nos encontramos con situaciones donde no basta con preguntar \"¿es esto cierto o falso?\". La realidad suele ser más compleja y necesitamos considerar múltiples condiciones. Por ejemplo, ¿qué pasa si queremos saber si un número es positivo, negativo o cero? No podemos limitarnos a una sola pregunta. Aquí es donde el uso de elif se vuelve esencial, permitiéndonos manejar varios escenarios posibles con claridad y precisión."
      ]
    },
    {
      "cell_type": "code",
      "execution_count": null,
      "metadata": {
        "id": "3sU_WW5T7hBT"
      },
      "outputs": [],
      "source": [
        "numero = float(input(\"Ingrese un número: \"))\n",
        "\n",
        "if numero > 0:\n",
        "    print(f\"{numero} es un número positivo.\")\n",
        "elif numero == 0:\n",
        "    print(f\"{numero} es cero.\")\n",
        "else:\n",
        "    print(f\"{numero} es un número negativo.\")"
      ]
    },
    {
      "cell_type": "markdown",
      "metadata": {
        "id": "-M2PlXhU7hBV"
      },
      "source": [
        "A veces, nos encontramos en situaciones donde queremos asignar un valor a una variable dependiendo de una condición específica. Por ejemplo, queremos saber si un número es par o impar y asignar un valor basado en esa condición. En Python, podemos hacer esto de manera concisa utilizando expresiones condicionales en una sola línea. Esta técnica nos permite escribir código más limpio y directo. Aquí está la solución:"
      ]
    },
    {
      "cell_type": "code",
      "execution_count": null,
      "metadata": {
        "id": "lsAZlj-67hBW"
      },
      "outputs": [],
      "source": [
        "numero = int(input(\"Ingrese un número: \"))\n",
        "tipo_numero = \"par\" if numero % 2 == 0 else \"impar\"\n",
        "print(f\"El número {numero} es {tipo_numero}.\")"
      ]
    },
    {
      "cell_type": "markdown",
      "metadata": {
        "id": "dUMswdU3RFJs"
      },
      "source": [
        "## b. Ciclos Terminables: Bucles 'for'"
      ]
    },
    {
      "cell_type": "markdown",
      "metadata": {
        "id": "ataNihYiRHqQ"
      },
      "source": [
        "En ocasiones, necesitaremos repetir una acción varias veces. Aquí es donde los bucles entran en juego. Python ofrece dos tipos de bucles: for y while.\n",
        "\n",
        "Para ilustrar cómo funcionan, vamos a usar un ejemplo simple. Supongamos que queremos imprimir los números del 1 al 5."
      ]
    },
    {
      "cell_type": "code",
      "execution_count": null,
      "metadata": {
        "id": "vCaDA9g5RLTj"
      },
      "outputs": [],
      "source": [
        "for numero in range(1, 6):\n",
        "    print(numero)"
      ]
    },
    {
      "cell_type": "markdown",
      "metadata": {
        "id": "eDRQRryUROIi"
      },
      "source": [
        "En este caso, el bucle for recorre los números del 1 al 5 (el límite superior en range() es exclusivo), imprimiendo cada número en la consola.\n",
        "\n",
        "Las estructuras de control, los condicionales y los bucles son fundamentales en la programación. Nos permiten crear programas más dinámicos y flexibles, capaces de tomar decisiones y repetir tareas basadas en las condiciones que definamos."
      ]
    },
    {
      "cell_type": "markdown",
      "metadata": {
        "id": "V-uEdgXwRQ86"
      },
      "source": [
        "## c. Please, stop the 'while'"
      ]
    },
    {
      "cell_type": "markdown",
      "metadata": {
        "id": "Zq6WuZ2o7hBa"
      },
      "source": [
        "Primero vamos a ver que es \"while\", es un bucle que repite un bloque de codigo mientras sea verdadera, en nuestras palabras imaginemos que tenemos 10 ml de agua este estara con agua que es nuestra verdad hasta que lo terminamos ahi paso a ser falso entonces se terminaria el bucle"
      ]
    },
    {
      "cell_type": "markdown",
      "metadata": {
        "id": "mR47-zpZS6SE"
      },
      "source": [
        "Vamos a aplicar nuestro conocimiento recién adquirido sobre bucles para resolver un problema real: calcular el promedio de las calificaciones de un estudiante. Supongamos que un estudiante nos proporciona sus calificaciones una por una. El estudiante indicará que ha terminado de proporcionar las calificaciones ingresando el número 0."
      ]
    },
    {
      "cell_type": "code",
      "execution_count": null,
      "metadata": {
        "id": "dOIrCor0S8sH"
      },
      "outputs": [],
      "source": [
        "suma_calificaciones = 0\n",
        "contador_asignaturas = 0\n",
        "\n",
        "calificacion = int(input(\"Ingrese una calificación (entre 1 y 12) o 0 para terminar: \"))\n",
        "\n",
        "while calificacion != 0:\n",
        "    suma_calificaciones += calificacion\n",
        "    contador_asignaturas += 1\n",
        "    calificacion = int(input(\"Ingrese una calificación (entre 1 y 12) o 0 para terminar: \"))\n",
        "\n",
        "promedio = suma_calificaciones / contador_asignaturas\n",
        "print(f\"El promedio de las calificaciones es: {promedio}\")"
      ]
    },
    {
      "cell_type": "markdown",
      "metadata": {
        "id": "yd1hyqUfTZxw"
      },
      "source": [
        "En este código, el bucle while se ejecuta hasta que el estudiante ingrese 0. Si bien es sencillo y cumple con su objetivo, este código no verifica si las calificaciones ingresadas están dentro del rango válido (1 a 12)."
      ]
    },
    {
      "cell_type": "markdown",
      "metadata": {
        "id": "OIoa2RMNTaeq"
      },
      "source": [
        "## d. Controlando el Flujo con 'break' y 'continue'"
      ]
    },
    {
      "cell_type": "markdown",
      "metadata": {
        "id": "_N5yXORgTfjB"
      },
      "source": [
        "Ahora, vamos a mejorar nuestro código anterior incorporando las declaraciones break y continue para un mejor control del flujo del programa y la validación de las calificaciones."
      ]
    },
    {
      "cell_type": "markdown",
      "metadata": {
        "id": "5OpG-Wx1TrIM"
      },
      "source": [
        "En este código, la declaración break se utiliza para detener el bucle cuando el estudiante ingresa 0. Por otro lado, la declaración continue se usa para saltar a la próxima iteración del bucle si la calificación ingresada no está dentro del rango válido, evitando así que calificaciones incorrectas se sumen a suma_calificaciones y se cuenten en contador_asignaturas."
      ]
    },
    {
      "cell_type": "code",
      "execution_count": null,
      "metadata": {
        "id": "Xc8_XEQPTiRQ"
      },
      "outputs": [],
      "source": [
        "suma_calificaciones = 0\n",
        "contador_asignaturas = 0\n",
        "\n",
        "while True:\n",
        "    calificacion = int(input(\"Ingrese una calificación (entre 1 y 12) o 0 para terminar: \"))\n",
        "\n",
        "    if calificacion == 0:\n",
        "        break\n",
        "\n",
        "    if calificacion < 1 or calificacion > 12:\n",
        "        print(\"La calificación debe estar entre 1 y 12. Inténtalo de nuevo.\")\n",
        "        continue\n",
        "\n",
        "    suma_calificaciones += calificacion\n",
        "    contador_asignaturas += 1\n",
        "\n",
        "promedio = suma_calificaciones / contador_asignaturas\n",
        "print(f\"El promedio de las calificaciones es: {promedio}\")"
      ]
    },
    {
      "cell_type": "markdown",
      "metadata": {
        "id": "LkwXhVW1Txa4"
      },
      "source": [
        "# Desafíos\n"
      ]
    },
    {
      "cell_type": "markdown",
      "metadata": {
        "id": "F-ti-8L-V0lP"
      },
      "source": [
        "## Desafío 1: Calificaciones Aprobatorias y Desaprobatorias\n",
        "\n",
        "Supón que estás analizando las calificaciones de los estudiantes y quieres saber cuántos aprobaron y cuántos desaprobaron. Se considera que una calificación de 7 o superior es aprobatoria y cualquier calificación menor a 7 es desaprobatoria. Utiliza lo que aprendiste sobre bucles y condicionales para resolver este problema."
      ]
    },
    {
      "attachments": {
        "image.png": {
          "image/png": "[encoded data removed]"
        }
      },
      "cell_type": "markdown",
      "metadata": {},
      "source": [
        "![image.png](attachment:image.png)"
      ]
    },
    {
      "cell_type": "markdown",
      "metadata": {},
      "source": [
        "### Descripción del código\n",
        "Este código utiliza un bucle while para la entrada de datos, una estructura if-elif-else para clasificar a los estudiantes y la función print() para mostrar los resultados al usuario. Permite ingresar y clasificar calificaciones de estudiantes de forma interactiva."
      ]
    },
    {
      "cell_type": "markdown",
      "metadata": {},
      "source": [
        "1. Análisis del código:\n",
        "\n",
        "- Bucle while para la entrada de datos:\n",
        "\n",
        "Se utiliza un bucle while para repetir la entrada de datos de los estudiantes hasta que el usuario ingresa '0'.\n",
        "Esto permite ingresar información de varios estudiantes uno tras otro.\n",
        "2. Ingreso de nombre y calificación:\n",
        "\n",
        "Dentro del bucle while:\n",
        "Se solicita al usuario el nombre del estudiante utilizando la función input().\n",
        "Se verifica si el usuario ingresa '0'. Si es así, se rompe el bucle y se termina la entrada de datos.\n",
        "Se solicita al usuario la calificación del estudiante utilizando la función input().\n",
        "Se convierte la entrada de calificación a un número entero utilizando la función int().\n",
        "3. Clasificación de estudiantes:\n",
        "\n",
        "Se utiliza una estructura if-elif-else para clasificar a los estudiantes según su calificación:\n",
        "Aprobado (calificación >= 7 y <= 12): Si la calificación está entre 7 y 12, inclusive, se imprime un mensaje indicando que el estudiante está aprobado y se muestra su nombre y calificación.\n",
        "Desaprobado (calificación >= 1 y < 7): Si la calificación está entre 1 y 6, inclusive, se imprime un mensaje indicando que el estudiante está desaprobado y se muestra su nombre y calificación.\n",
        "Calificación inválida: Si la calificación no está entre 1 y 12, se imprime un mensaje indicando que la calificación es inválida y se muestra el nombre del estudiante y la calificación ingresada.\n",
        "- Explicación de la estructura if-elif-else:\n",
        "\n",
        "La estructura if-elif-else permite evaluar varias condiciones y ejecutar diferentes bloques de código en función de cuál se cumpla.\n",
        "\n",
        "Bloque if: Se ejecuta si la primera condición es verdadera (en este caso, si la calificación es mayor o igual a 7 y menor o igual a 12).\n",
        "Bloque elif: Se ejecuta si la primera condición es falsa y la segunda condición es verdadera (en este caso, si la calificación es mayor o igual a 1 y menor a 7).\n",
        "Bloque else: Se ejecuta si ninguna de las condiciones anteriores es verdadera (en este caso, si la calificación no está entre 1 y 12).\n",
        "- Salida del código:\n",
        "\n",
        "El código imprime un mensaje para cada estudiante, indicando si está aprobado o desaprobado, junto con su nombre y calificación. Si la calificación es inválida, también se muestra un mensaje de error."
      ]
    },
    {
      "cell_type": "code",
      "execution_count": null,
      "metadata": {},
      "outputs": [],
      "source": [
        "# Bucle para ingresar los datos de los estudiantes\n",
        "while True:\n",
        "    nombre = input(\"Ingresa el nombre del estudiante (o '0' para salir): \")\n",
        "    if nombre == '0':\n",
        "        break\n",
        "    calificacion = int(input(f\"Ingresa la calificación de {nombre}: \"))\n",
        "    \n",
        "    # Determinar si el estudiante está aprobado o no\n",
        "    if calificacion >= 7 and calificacion <= 12:\n",
        "        print(f\"{nombre}: {calificacion} - Aprobado\")\n",
        "    elif calificacion >= 1 and calificacion < 7:\n",
        "        print(f\"{nombre}: {calificacion} - Desaprobado\")\n",
        "    else:\n",
        "        print(f\"La calificación {calificacion} ingresada para {nombre} no es válida. Debe estar entre 1 y 12.\")"
      ]
    },
    {
      "cell_type": "markdown",
      "metadata": {},
      "source": [
        "Ver solución a este problema en el link: https://replit.com/@milagrospozzofa/Tarea2-6des1"
      ]
    },
    {
      "cell_type": "markdown",
      "metadata": {},
      "source": [
        "💡*Resolver con if, elif, else y lista de datos*"
      ]
    },
    {
      "cell_type": "markdown",
      "metadata": {},
      "source": [
        "### Explicación del código\n",
        "1. Inicializar con dos contadores llamados aprobados y desaprobados en 0. Estos contadores se utilizarán para llevar un registro de la cantidad de estudiantes aprobados y desaprobados.\n",
        "2. Iniciar un bucle while True que se ejecutará indefinidamente hasta que se ingrese la condición de salida.\n",
        "3. Dentro del bucle, pedir al usuario que ingrese el nombre del estudiante. Si el usuario ingresa '0', el bucle se rompe (break) y el programa continúa con la siguiente parte.\n",
        "4. Si el usuario no ingresa '0', se le solicita que ingrese la calificación del estudiante.\n",
        "5. Luego, se verifica si la calificación ingresada es válida o no. Una calificación válida debe estar en el rango de 1 a 12.\n",
        "6. Si la calificación está entre 7 y 12 (ambos inclusive), el estudiante se considera aprobado, por lo que incrementamos el contador aprobados en 1.\n",
        "7. Si la calificación está entre 1 y 6, el estudiante se considera desaprobado, por lo que incrementamos el contador desaprobados en 1.\n",
        "8. Si la calificación ingresada no está dentro del rango válido (1 a 12), se imprime un mensaje de error indicando que la calificación no es válida.\n",
        "9. Después de ingresar los datos de todos los estudiantes, el bucle while termina, y el programa continúa con la siguiente parte.\n",
        "10. Imprimir la cantidad total de estudiantes aprobados utilizando la variable aprobados y la cantidad total de estudiantes desaprobados utilizando la variable desaprobados. \n"
      ]
    },
    {
      "cell_type": "code",
      "execution_count": null,
      "metadata": {},
      "outputs": [],
      "source": [
        "# Inicializar contadores\n",
        "aprobados = 0\n",
        "desaprobados = 0\n",
        "\n",
        "# Bucle para ingresar los datos de los estudiantes\n",
        "while True:\n",
        "    nombre = input(\"Ingresa el nombre del estudiante (o '0' para salir): \")\n",
        "    if nombre == '0':\n",
        "        break\n",
        "    calificacion = int(input(f\"Ingresa la calificación de {nombre}: \"))\n",
        "    \n",
        "    # Determinar si el estudiante está aprobado o no\n",
        "    if calificacion >= 7 and calificacion <= 12:\n",
        "        aprobados += 1\n",
        "    elif calificacion >= 1 and calificacion < 7:\n",
        "        desaprobados += 1\n",
        "    else:\n",
        "        print(f\"La calificación {calificacion} ingresada para {nombre} no es válida. Debe estar entre 1 y 12.\")\n",
        "\n",
        "# Mostrar resultados finales\n",
        "print(f\"Estudiantes aprobados: {aprobados}\")\n",
        "print(f\"Estudiantes desaprobados: {desaprobados}\")"
      ]
    },
    {
      "cell_type": "markdown",
      "metadata": {},
      "source": [
        "Ver solución a este problema en el link: https://replit.com/@milagrospozzofa/Calificaciones-if-elif-else"
      ]
    },
    {
      "cell_type": "markdown",
      "metadata": {},
      "source": [
        "💡 *Se puede mejorar la impresión del resultado final*\n"
      ]
    },
    {
      "cell_type": "code",
      "execution_count": null,
      "metadata": {},
      "outputs": [],
      "source": [
        "    # Determinar si el estudiante está aprobado o no\n",
        "    if 7 <= calificacion <= 12:\n",
        "        aprobados += 1\n",
        "        print(f\"El estudiante {nombre} tiene una calificación de {calificacion} y está aprobado.\")\n",
        "    elif 1 <= calificacion < 7:\n",
        "        desaprobados += 1\n",
        "        print(f\"El estudiante {nombre} tiene una calificación de {calificacion} y está desaprobado.\")\n",
        "    else:\n",
        "        print(f\"La calificación {calificacion} ingresada para {nombre} no es válida. Debe estar entre 1 y 12.\")"
      ]
    },
    {
      "cell_type": "markdown",
      "metadata": {},
      "source": [
        "Ver solución a este problema en el link: https://replit.com/@milagrospozzofa/Calificaciones-exonerado-o-habilitado-a-ev-complementaria?v=1#main.py"
      ]
    },
    {
      "cell_type": "markdown",
      "metadata": {},
      "source": [
        "Se puede realizar una verificación explícita de si la entrada de calificación es un número válido o no. Esto podría ocasionar un error si el usuario ingresa un valor no numérico."
      ]
    },
    {
      "cell_type": "code",
      "execution_count": null,
      "metadata": {},
      "outputs": [],
      "source": [
        "except ValueError:\n",
        "    print(\"Calificación no válida. Debe ser un número.\")\n",
        "    continue"
      ]
    },
    {
      "cell_type": "markdown",
      "metadata": {},
      "source": [
        "💡 *Otra opción es resolver el desafío con datos predefinidos*\n",
        "### Descripción general\n",
        "\n",
        "El código proporcionado utiliza una lista de tuplas para almacenar nombres y calificaciones de estudiantes, y luego las clasifica en dos categorías: aprobados y desaprobados. Finalmente, imprime los resultados para cada categoría.\n",
        "### Explicación del código\n",
        "1. Lista de datos datos:La variable datos almacena una lista de tuplas, cada una compuesta por un nombre de estudiante (string) y su calificación correspondiente (entero).\n",
        "Cada tupla representa un registro de un estudiante.\n",
        "Ejemplo de tuplas en la lista:\n",
        "(\"Juan López\", 8): Estudiante \"Juan López\" con calificación 8.\n",
        "(\"Maria Sola\", 10): Estudiante \"Maria Sola\" con calificación 10.\n",
        "\n",
        "2. Bucle para estudiantes aprobados: print(\"Estudiantes aprobados:\"): Imprime un encabezado para la sección de estudiantes aprobados.\n",
        "for nombre, calificación in datos::\n",
        "Recorre cada tupla en la lista datos.\n",
        "Asigna cada elemento de la tupla a las variables nombre y calificación.\n",
        "if calificación >= 7::\n",
        "Evalúa si la calificación actual es mayor o igual a 7.\n",
        "Si se cumple la condición:\n",
        "print(f\"{nombre}: {calificación}\"): Imprime el nombre y la calificación del estudiante aprobado.\n",
        "\n",
        "3. Bucle para estudiantes desaprobados: print(\"\\nEstudiantes desaprobados:\"): Imprime un encabezado para la sección de estudiantes desaprobados\n",
        "for nombre, calificación in datos::\n",
        "Recorre cada tupla en la lista datos.\n",
        "Asigna cada elemento de la tupla a las variables nombre y calificación.\n",
        "if calificación < 7::\n",
        "Evalúa si la calificación actual es menor a 7.\n",
        "Si se cumple la condición:\n",
        "print(f\"{nombre}: {calificación}\"): Imprime el nombre y la calificación del estudiante desaprobado.\n",
        "\n",
        "* Explicación de las llaves ({}): Las llaves se utilizan en dos lugares del código:\n",
        "\n",
        "Dentro de la función print: print(f\"{nombre}: {calificación}\"):\n",
        "Las llaves se usan para formatear la cadena de salida.\n",
        "Permiten insertar variables (nombre y calificación) dentro de la cadena de texto.\n",
        "El resultado es una cadena con el nombre y la calificación del estudiante formateados correctamente.\n",
        "* Dentro de la condición if: if calificación >= 7: y if calificación < 7::\n",
        "Las llaves se usan para delimitar el bloque de código que se ejecuta si la condición se cumple.\n",
        "El bloque de código dentro de las llaves contiene la instrucción print para mostrar el nombre y la calificación del estudiante."
      ]
    },
    {
      "cell_type": "code",
      "execution_count": 11,
      "metadata": {},
      "outputs": [
        {
          "name": "stdout",
          "output_type": "stream",
          "text": [
            "Estudiantes aprobados:\n",
            "Juan López: 8\n",
            "Maria Sola: 10\n",
            "Carlos Asis: 8\n",
            "Agustin Carro: 7\n",
            "Lucas Pay: 9\n",
            "Antonhy Ercila: 9\n",
            "\n",
            "Estudiantes desaprobados:\n",
            "Pedro Gómez: 5\n",
            "Ana Piva: 5\n",
            "Paula Cabral: 2\n"
          ]
        }
      ],
      "source": [
        "# Lista de nombres y calificaciones\n",
        "datos = [\n",
        "    (\"Juan López\", 8),\n",
        "    (\"Maria Sola\", 10),\n",
        "    (\"Pedro Gómez\", 5),\n",
        "    (\"Ana Piva\", 5),\n",
        "    (\"Carlos Asis\", 8),\n",
        "    (\"Paula Cabral\", 2),\n",
        "    (\"Agustin Carro\", 7),\n",
        "    (\"Lucas Pay\", 9),\n",
        "    (\"Antonhy Ercila\", 9),\n",
        "]\n",
        "\n",
        "# Iterar sobre la lista de datos\n",
        "print(\"Estudiantes aprobados:\")\n",
        "for nombre, calificación in datos:\n",
        "    # Evaluar la calificación e imprimir el nombre si aprueba\n",
        "    if calificación >= 7 calificacion <= 12::\n",
        "    print(f\"{nombre}: {calificación}\")\n",
        "\n",
        "print(\"\\nEstudiantes desaprobados:\")\n",
        "for nombre, calificación in datos:\n",
        "    # Evaluar la calificación e imprimir el nombre si está desaprobado\n",
        "    if calificación < 7:\n",
        "        print(f\"{nombre}: {calificación}\")"
      ]
    },
    {
      "cell_type": "markdown",
      "metadata": {
        "id": "QCwpO0XhV_oA"
      },
      "source": [
        "## Desafío 2: Mejora del Cálculo del Promedio\n",
        "\n",
        "Toma el ejemplo del cálculo del promedio de calificaciones y mejóralo. En lugar de pedir las calificaciones una por una, modifica el código para pedir todas las calificaciones al mismo tiempo (el estudiante puede ingresar las calificaciones separadas por comas) y luego calcular el promedio."
      ]
    },
    {
      "cell_type": "markdown",
      "metadata": {},
      "source": [
        "*Resolver con split(\",\")* \n",
        "1. Inicializar con dos variables suma_calificaciones y contador_asignaturas en 0.\n",
        "2. Solicitar al usuario que ingrese todas las calificaciones separadas por comas en una sola línea, y asignar la entrada del usuario a la variable calificaciones_str y el código, split(\",\") se utiliza para dividir una cadena de texto en subcadenas utilizando una coma (\",\") como separador.\n",
        "3. Utilizar un ciclo for para iterar sobre cada elemento de la lista calificaciones.\n",
        "Dentro del bucle for, el código verifica si la calificación ingresada es igual a 0. Si es así, el bucle se interrumpe prematuramente con break, lo que significa que el usuario puede terminar de ingresar calificaciones si escribe 0. Si la calificación no es 0, el código verifica si está dentro del rango válido (entre 1 y 12). \n",
        "- Si la calificación está fuera de este rango, muestra un mensaje de error y pasa a la siguiente iteración del bucle con continue.\n",
        "- Si la calificación es válida, se agrega a la suma total de calificaciones (suma_calificaciones) y se incrementa el contador de asignaturas (contador_asignaturas).\n",
        "4. Después de que se procesan todas las calificaciones, se calcula el promedio dividiendo la suma total de calificaciones por el número total de asignaturas. Si se ingresaron al menos una calificación válida, se imprime el promedio resultante."
      ]
    },
    {
      "cell_type": "code",
      "execution_count": null,
      "metadata": {},
      "outputs": [],
      "source": [
        "# Inicializar variables para la suma de calificaciones y el contador de asignaturas\n",
        "suma_calificaciones = 0\n",
        "contador_asignaturas = 0\n",
        "\n",
        "# Pedir al usuario que ingrese todas las calificaciones separadas por comas y convertir la cadena a una lista de enteros\n",
        "calificaciones = [int(calificacion) for calificacion in input(\"Ingrese todas las calificaciones separadas por comas (entre 1 y 12) o 0 para terminar: \").split(\",\")]\n",
        "\n",
        "# Iterar sobre cada calificación\n",
        "for calificacion in calificaciones:\n",
        "    if calificacion == 0:\n",
        "        break  # Terminar el bucle si se ingresa 0\n",
        "    suma_calificaciones += calificacion\n",
        "    contador_asignaturas += 1\n",
        "\n",
        "# Calcular el promedio\n",
        "if contador_asignaturas > 0:\n",
        "    promedio = suma_calificaciones / contador_asignaturas\n",
        "    print(f\"El promedio de las calificaciones es: {promedio}\")"
      ]
    },
    {
      "cell_type": "markdown",
      "metadata": {},
      "source": [
        "Ver solución a este problema en el link https://replit.com/@milagrospozzofa/Tarea2-6des2#main.py"
      ]
    },
    {
      "cell_type": "markdown",
      "metadata": {},
      "source": [
        "*En este código, se utiliza una estructura de control bucle while*\n",
        "\n",
        "1. Se inicializan dos variables que se utilizarán para sumar las calificaciones válidas y contar el número de asignaturas ingresadas.\n",
        "2. Se muestra un mensaje al usuario para que ingrese las calificaciones, indicando que debe separarlas por comas y usar 0 para terminar el ingreso.\n",
        "3. Comienza un bucle infinito que se ejecutará hasta que se rompa con la instrucción break.\n",
        "4. calificacion = int(input()): Se solicita al usuario que ingrese una calificación, y se convierte la entrada a un número entero.\n",
        "5. if calificacion == 0:: Se verifica si la calificación ingresada es 0. Si es así, se rompe el bucle con break.\n",
        "6. suma_calificaciones += calificacion: Si la calificación ingresada no es 0, se suma a la variable suma_calificaciones.\n",
        "7. contador_asignaturas += 1: Se incrementa el contador de asignaturas ingresadas.\n",
        "8. Después de que el usuario termine de ingresar las calificaciones (al ingresar 0), se sale del bucle while.\n",
        "9. if contador_asignaturas > 0:: Se verifica si se ingresaron asignaturas válidas (calificaciones distintas de 0).\n",
        "10. promedio = suma_calificaciones / contador_asignaturas: Si se ingresaron asignaturas válidas, se calcula el promedio dividiendo la suma de las calificaciones por el número de asignaturas.\n",
        "11. print(f\"El promedio de las calificaciones válidas es: {promedio:.2f}\"): Se imprime el promedio de las calificaciones válidas con dos decimales.\n"
      ]
    },
    {
      "cell_type": "code",
      "execution_count": null,
      "metadata": {},
      "outputs": [],
      "source": [
        "# Inicializar variables\n",
        "suma_calificaciones = 0\n",
        "contador_asignaturas = 0\n",
        "\n",
        "# Pedir las calificaciones al usuario\n",
        "print(\"Ingrese las calificaciones separadas por comas (0 para terminar):\")\n",
        "while True:\n",
        "    calificacion = int(input())\n",
        "    if calificacion == 0:\n",
        "        break\n",
        "    suma_calificaciones += calificacion\n",
        "    contador_asignaturas += 1\n",
        "\n",
        "# Calcular y mostrar el promedio si hay asignaturas ingresadas\n",
        "if contador_asignaturas > 0:\n",
        "    promedio = suma_calificaciones / contador_asignaturas\n",
        "    print(f\"El promedio de las calificaciones válidas es: {promedio:.2f}\")"
      ]
    },
    {
      "cell_type": "markdown",
      "metadata": {
        "id": "DGHX8zGvWK5k"
      },
      "source": [
        "## Desafío 3: Simulación de una Carrera de Autos\n",
        "\n",
        "Vas a simular una carrera de autos. Cada auto tiene una velocidad aleatoria (puedes usar la biblioteca random de Python) y cada ciclo del bucle representa un segundo de la carrera. Al final de cada segundo, cada auto avanza una distancia igual a su velocidad. La carrera dura 10 segundos. Al final de la carrera, debes imprimir el auto ganador. Si hay un empate, debes imprimir todos los autos que empataron.\n",
        "\n",
        "*Nota:* Este desafío puede requerir que aprendas sobre conceptos adicionales, por ejemplo cómo generar números aleatorios."
      ]
    },
    {
      "cell_type": "markdown",
      "metadata": {},
      "source": [
        "## Explicación del código\n",
        "1. Importación del módulo: importa el módulo random, que usaremos para generar números aleatorios.\n",
        "2. Inicialización de los autos: Se crean dos variables, auto1 y auto2, inicializadas en 0.\n",
        "Estas variables representan la posición inicial de cada auto en la línea de salida.\n",
        "3. Simulación de la carrera:Este bucle for simula los 10 segundos de la carrera.\n",
        "range(1, 11) genera una secuencia de números del 1 al 10.\n",
        "La variable segundo tomará estos valores en cada iteración del bucle.\n",
        "4. Generación de velocidades aleatorias:random.randint(1, 5) genera un número entero aleatorio entre 1 y 5 (ambos inclusive).\n",
        "Esto simula la velocidad variable de los autos en cada segundo.\n",
        "5. Actualización de las posiciones: Se actualiza la posición de cada auto.\n",
        "+= es una forma abreviada de auto1 = auto1 + velocidad1.\n",
        "Esto simula el movimiento de los autos según su velocidad actual.\n",
        "6. Impresión del estado actual: Estas líneas imprimen el estado de la carrera en cada segundo.\n",
        "Se utiliza f-strings (cadenas formateadas) para insertar valores en las cadenas de texto.\n",
        "El print() vacío al final añade una línea en blanco para mejor legibilidad.\n",
        "7. Determinación del ganador: Primero, se imprimen las posiciones finales de ambos autos.\n",
        "Luego, se utiliza una estructura if-elif-else para determinar el ganador:\n",
        "\n",
        "Si auto1 está más adelante, gana el Auto 1.\n",
        "Si auto2 está más adelante, gana el Auto 2.\n",
        "Si están en la misma posición, es un empate.\n"
      ]
    },
    {
      "cell_type": "code",
      "execution_count": null,
      "metadata": {},
      "outputs": [],
      "source": [
        "import random\n",
        "\n",
        "# Inicializar los autos\n",
        "auto1 = 0\n",
        "auto2 = 0\n",
        "\n",
        "# Simular la carrera\n",
        "for segundo in range(1, 11):  # La carrera dura 10 segundos\n",
        "    # Generar velocidades aleatorias para este segundo\n",
        "    velocidad1 = random.randint(1, 5)\n",
        "    velocidad2 = random.randint(1, 5)\n",
        "    \n",
        "    # Actualizar las posiciones de los autos\n",
        "    auto1 += velocidad1\n",
        "    auto2 += velocidad2\n",
        "    \n",
        "    # Imprimir el estado actual\n",
        "    print(f\"Segundo {segundo}:\")\n",
        "    print(f\"Auto 1: posición = {auto1}, velocidad = {velocidad1}\")\n",
        "    print(f\"Auto 2: posición = {auto2}, velocidad = {velocidad2}\")\n",
        "    print()\n",
        "\n",
        "# Determinar el ganador\n",
        "print(\"Resultado final:\")\n",
        "print(f\"Auto 1: {auto1}\")\n",
        "print(f\"Auto 2: {auto2}\")\n",
        "\n",
        "if auto1 > auto2:\n",
        "    print(\"¡El Auto 1 es el ganador!\")\n",
        "elif auto2 > auto1:\n",
        "    print(\"¡El Auto 2 es el ganador!\")\n",
        "else:\n",
        "    print(\"¡Es un empate!\")"
      ]
    },
    {
      "cell_type": "markdown",
      "metadata": {
        "id": "RLrgqVsaVxSZ"
      },
      "source": [
        "# Problemas"
      ]
    },
    {
      "cell_type": "markdown",
      "metadata": {
        "id": "-aldGZ8yVyJ_"
      },
      "source": [
        "## Problema: Cálculo de Gastos de un Viaje\n",
        "\n",
        "Supongamos que estás planeando un viaje y quieres calcular el total de gastos estimados. Tienes un arreglo de los diferentes conceptos de gastos (por ejemplo, transporte, alojamiento, alimentación, actividades, etc.) y quieres solicitar al usuario que ingrese el costo estimado para cada concepto. Al final, quieres mostrar el total de gastos estimados para el viaje.\n",
        "\n",
        "Planteamiento del problema:\n",
        "* Crea un arreglo de conceptos de gastos.\n",
        "* Utiliza un bucle for para iterar sobre el arreglo y solicitar al usuario que ingrese el costo estimado para cada concepto.\n",
        "* Utiliza una variable para realizar el seguimiento del total de gastos estimados, inicializada en 0.\n",
        "* Dentro del bucle, agrega el costo ingresado a la variable del total de gastos estimados.\n",
        "* Al final del bucle, muestra el total de gastos estimados.\n",
        "\n",
        "Aquí tienes un ejemplo de cómo podrías resolver este desafío utilizando arreglos:"
      ]
    },
    {
      "cell_type": "code",
      "execution_count": null,
      "metadata": {
        "id": "A9duJ5uFYY81"
      },
      "outputs": [],
      "source": [
        "import numpy as np\n",
        "\n",
        "conceptos_gastos = np.array(['Transporte', 'Alojamiento', 'Alimentación', 'Actividades', 'Otros'])\n",
        "\n",
        "total_gastos = 0\n",
        "\n",
        "for concepto in conceptos_gastos:\n",
        "    costo = float(input(f\"Ingrese el costo estimado para {concepto}: \"))\n",
        "    total_gastos += costo\n",
        "\n",
        "print(f\"El total de gastos estimados para el viaje es: {total_gastos}\")"
      ]
    },
    {
      "cell_type": "markdown",
      "metadata": {
        "id": "jI7zImR4YjP2"
      },
      "source": [
        "En este código, utilizamos un bucle for para iterar sobre el arreglo de conceptos de gastos. En cada iteración, solicitamos al usuario que ingrese el costo estimado para ese concepto y lo sumamos al total de gastos estimados. Al final, mostramos el resultado.\n",
        "\n",
        "¡Ahora puedes calcular fácilmente el total de gastos estimados para tu próximo viaje utilizando arreglos! ¡Es asombroso cómo Python nos permite resolver problemas de manera eficiente y sencilla! No te preocupes, en el próximo cuaderno exploraremos más a fondo los conceptos y funcionalidades de los arreglos en Python."
      ]
    },
    {
      "cell_type": "markdown",
      "metadata": {
        "id": "_OndWBmaYovM"
      },
      "source": [
        "## Problema: Análisis de Calificaciones utilizando Pandas y Bucles\n",
        "Supongamos que tienes un archivo CSV llamado \"calificaciones.csv\" que contiene las calificaciones de varios estudiantes. Tu objetivo es realizar un análisis de las calificaciones utilizando la biblioteca Pandas y bucles for.\n",
        "\n",
        "\n",
        "*Planteamiento del problema:*\n",
        "Importa la biblioteca Pandas.\n",
        "Carga el archivo CSV \"calificaciones.csv\" en un DataFrame de Pandas.\n",
        "Utiliza un bucle for para calcular el promedio de cada estudiante y mostrarlo en la consola.\n",
        "\n",
        "Aquí tienes un ejemplo de cómo podrías resolver este desafío utilizando Pandas y bucles for:"
      ]
    },
    {
      "cell_type": "code",
      "execution_count": null,
      "metadata": {
        "id": "ycHLwAYcbSob"
      },
      "outputs": [],
      "source": [
        "import pandas as pd\n",
        "\n",
        "# Carga el archivo CSV en un DataFrame\n",
        "df = pd.read_csv(\"calificaciones.csv\")\n",
        "\n",
        "# Inicializa variables para calcular el promedio general\n",
        "total_calificaciones = 0\n",
        "numero_calificaciones = 0\n",
        "\n",
        "# Utiliza un bucle for para sumar todas las calificaciones\n",
        "for index, row in df.iterrows():\n",
        "    nombre = row['Nombre']\n",
        "    calificacion = int(row['Calificacion'])\n",
        "    total_calificaciones += calificacion\n",
        "    numero_calificaciones += 1\n",
        "    print(f\"La calificación de {nombre} es: {calificacion}\")\n",
        "\n",
        "# Calcula el promedio general\n",
        "promedio_general = total_calificaciones / numero_calificaciones\n",
        "print(f\"El promedio general de las calificaciones es: {promedio_general:.2f}\")\n"
      ]
    },
    {
      "cell_type": "markdown",
      "metadata": {
        "id": "jOSCW8hyauFA"
      },
      "source": [
        "En este código, utilizamos Pandas para cargar el archivo CSV en un DataFrame. Luego, utilizamos un bucle for junto con iterrows() para iterar sobre cada fila del DataFrame. Para cada estudiante, extraemos el nombre y la calificación, para luego calcular el promedio.\n",
        "\n",
        "Finalmente, mostramos el promedio de cada estudiante en la consola."
      ]
    }
  ],
  "metadata": {
    "colab": {
      "include_colab_link": true,
      "provenance": [],
      "toc_visible": true
    },
    "kernelspec": {
      "display_name": "Python 3",
      "name": "python3"
    },
    "language_info": {
      "codemirror_mode": {
        "name": "ipython",
        "version": 3
      },
      "file_extension": ".py",
      "mimetype": "text/x-python",
      "name": "python",
      "nbconvert_exporter": "python",
      "pygments_lexer": "ipython3",
      "version": "3.12.2"
    }
  },
  "nbformat": 4,
  "nbformat_minor": 0
}
