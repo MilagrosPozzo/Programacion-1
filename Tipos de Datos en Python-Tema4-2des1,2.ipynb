{
  "cells": [
    {
      "cell_type": "markdown",
      "metadata": {
        "colab_type": "text",
        "id": "view-in-github"
      },
      "source": [
        "<a href=\"https://colab.research.google.com/github/MilagrosPozzo/Programacion-1/blob/main/2_4_Tipos_de_datos_y_operadores.ipynb\" target=\"_parent\"><img src=\"https://colab.research.google.com/assets/colab-badge.svg\" alt=\"Open In Colab\"/></a>"
      ]
    },
    {
      "cell_type": "markdown",
      "metadata": {
        "id": "rjg0ZURjsv4z"
      },
      "source": [
        "<a id=\"des1\"> </a>\n",
        "# Desafío 1: Clasificar números\n",
        "\n",
        "Dado tres números distintos, clasificarlos en orden ascendente utilizando comparaciones encadenadas y operadores lógicos."
      ]
    },
    {
      "cell_type": "markdown",
      "metadata": {},
      "source": [
        "### Descripción general\n",
        "\n",
        "Se definen los tres números distintos asignándoles valores directamente a las variables **num1**, **num2** y **num3**.\n",
        "\n",
        "Se utiliza la función **min()** para encontrar el número más pequeño de los tres y se asigna a la variable menor.\n",
        "\n",
        "Se utiliza la función **max()** para encontrar el número más grande de los tres y se asigna a la variable mayor.\n",
        "\n",
        "El número intermedio se calcula restando el menor y el mayor de la suma de los tres números, y se asigna a la variable medio.\n",
        "\n",
        "Finalmente, se imprime un mensaje con los números en orden ascendente utilizando una cadena formateada con **f-strings**."
      ]
    },
    {
      "cell_type": "markdown",
      "metadata": {},
      "source": [
        "### Explicación del código:"
      ]
    },
    {
      "cell_type": "code",
      "execution_count": 3,
      "metadata": {},
      "outputs": [
        {
          "name": "stdout",
          "output_type": "stream",
          "text": [
            "Tipos de Datos y Operadores-Tema4-2des1:\n",
            "\n",
            "Los números en orden ascendente son: 2, 5, 8\n"
          ]
        }
      ],
      "source": [
        "print(\"Tipos de Datos y Operadores-Tema4-2des1:\\n\") #Nombre de la actividad, tema(4), bloque(2), desafío(1))\n",
        "# Definir tres números distintos\n",
        "num1 = 5\n",
        "num2 = 2\n",
        "num3 = 8\n",
        "\n",
        "# Clasificar los números en orden ascendente\n",
        "menor = min(num1, num2, num3)\n",
        "mayor = max(num1, num2, num3)\n",
        "medio = sum([num1, num2, num3]) - menor - mayor\n",
        "\n",
        "# Imprimir los números en orden ascendente\n",
        "print(f\"Los números en orden ascendente son: {menor}, {medio}, {mayor}\")"
      ]
    },
    {
      "cell_type": "markdown",
      "metadata": {},
      "source": [
        "Ver opción de solución en www.programiz.com: https://www.programiz.com/online-compiler/25xr8pTBlVCr1"
      ]
    },
    {
      "cell_type": "markdown",
      "metadata": {
        "id": "F33J-X7dRTmh"
      },
      "source": [
        "<a id=\"des2\"> </a>\n",
        "# Desafío 2: Calcular promedio\n",
        "Crear un programa que lea 5 calificaciones y calcule su promedio"
      ]
    },
    {
      "cell_type": "markdown",
      "metadata": {},
      "source": [
        "![imagen](https://favtutor.com/resources/images/uploads/Find_Average_of_List_Python.png)"
      ]
    },
    {
      "cell_type": "markdown",
      "metadata": {},
      "source": [
        "### Descripción general\n",
        "Este código toma un conjunto de cinco calificaciones almacenadas en una lista, calcula la suma de esas calificaciones, y luego calcula el promedio dividiendo la suma por el número de calificaciones (en este caso, cinco). \n",
        "\n",
        "Finalmente, imprime el valor del promedio calculado.\n",
        "\n",
        "### Explicación del código\n",
        "-Definir las calificaciones:Se define una lista llamada calificaciones que contiene cinco calificaciones de ejemplo."
      ]
    },
    {
      "cell_type": "code",
      "execution_count": null,
      "metadata": {},
      "outputs": [],
      "source": [
        "calificaciones = [10, 9, 8, 10, 9]"
      ]
    },
    {
      "cell_type": "markdown",
      "metadata": {},
      "source": [
        "-Calcular la suma de las calificaciones:La función sum() se utiliza para calcular la suma de todos los elementos en la lista calificaciones.\n",
        "\n",
        "suma_de_calificaciones almacenará el resultado de esta suma."
      ]
    },
    {
      "cell_type": "code",
      "execution_count": null,
      "metadata": {},
      "outputs": [],
      "source": [
        "suma_de_calificaciones = sum(calificaciones)"
      ]
    },
    {
      "cell_type": "markdown",
      "metadata": {},
      "source": [
        "-Calcular el promedio sin usar len():Sabemos que la lista contiene exactamente 5 calificaciones, por lo que definimos numero_de_calificaciones como 5.\n",
        "\n",
        "El promedio se calcula dividiendo la suma de las calificaciones por 5."
      ]
    },
    {
      "cell_type": "code",
      "execution_count": 4,
      "metadata": {},
      "outputs": [],
      "source": [
        "numero_de_calificaciones = 5\n",
        "promedio = suma_de_calificaciones / numero_de_calificaciones"
      ]
    },
    {
      "cell_type": "markdown",
      "metadata": {},
      "source": [
        "El código quedaría:"
      ]
    },
    {
      "cell_type": "code",
      "execution_count": 6,
      "metadata": {},
      "outputs": [
        {
          "name": "stdout",
          "output_type": "stream",
          "text": [
            "Tipos de Datos y Operadores-Tema4-2des2:\n",
            "\n"
          ]
        },
        {
          "data": {
            "text/plain": [
              "9.2"
            ]
          },
          "execution_count": 6,
          "metadata": {},
          "output_type": "execute_result"
        }
      ],
      "source": [
        "print(\"Tipos de Datos y Operadores-Tema4-2des2:\\n\") #Nombre de la actividad, tema(4), bloque(2), desafío(2)\n",
        "# Definir las calificaciones\n",
        "calificaciones = [10, 9, 8, 10, 9]\n",
        "\n",
        "# Calcular la suma de las calificaciones\n",
        "suma_de_calificaciones = sum(calificaciones)\n",
        "\n",
        "# Calcular el promedio asumiendo que siempre hay 5 calificaciones\n",
        "numero_de_calificaciones = 5\n",
        "promedio = suma_de_calificaciones / numero_de_calificaciones\n",
        "\n",
        "# El promedio calculado está ahora almacenado en la variable 'promedio'\n",
        "promedio"
      ]
    },
    {
      "cell_type": "markdown",
      "metadata": {},
      "source": [
        "Ver opción de solución en www.programiz.com: https://www.programiz.com/online-compiler/2NwTUnxDkBeTv"
      ]
    },
    {
      "cell_type": "markdown",
      "metadata": {},
      "source": [
        "💡 *Otra opción de solución*\n",
        "\n",
        "### Descripción general\n",
        " El usuario ingresa las 5 calificaciones. El programa calcula la suma de estas calificaciones y luego divide esa suma por el número de calificaciones (5) para obtener el promedio.\n",
        "\n",
        " ### Explicación del código\n",
        "- Se utilizan cinco líneas con la función input() para solicitar al usuario que ingrese cada una de las cinco calificaciones. La función **float** se utiliza para convertir la entrada del usuario (que es una cadena de texto) a un número de punto flotante.\n",
        "- Se calcula la suma de las cinco calificaciones almacenándola en la variable suma_calificaciones.\n",
        "- Se calcula el promedio dividiendo suma_calificaciones entre 5 (el número de calificaciones) y se almacena en la variable promedio.\n",
        "- Finalmente, se imprime el valor del promedio utilizando la función print()."
      ]
    },
    {
      "cell_type": "code",
      "execution_count": 5,
      "metadata": {},
      "outputs": [
        {
          "ename": "KeyboardInterrupt",
          "evalue": "Interrupted by user",
          "output_type": "error",
          "traceback": [
            "\u001b[1;31m---------------------------------------------------------------------------\u001b[0m",
            "\u001b[1;31mKeyboardInterrupt\u001b[0m                         Traceback (most recent call last)",
            "Cell \u001b[1;32mIn[5], line 2\u001b[0m\n\u001b[0;32m      1\u001b[0m \u001b[38;5;66;03m# Leer las 5 calificaciones del usuario\u001b[39;00m\n\u001b[1;32m----> 2\u001b[0m calificacion1 \u001b[38;5;241m=\u001b[39m \u001b[38;5;28mfloat\u001b[39m(\u001b[38;5;28;43minput\u001b[39;49m\u001b[43m(\u001b[49m\u001b[38;5;124;43m\"\u001b[39;49m\u001b[38;5;124;43mIngrese la calificación 1: \u001b[39;49m\u001b[38;5;124;43m\"\u001b[39;49m\u001b[43m)\u001b[49m)\n\u001b[0;32m      3\u001b[0m calificacion2 \u001b[38;5;241m=\u001b[39m \u001b[38;5;28mfloat\u001b[39m(\u001b[38;5;28minput\u001b[39m(\u001b[38;5;124m\"\u001b[39m\u001b[38;5;124mIngrese la calificación 2: \u001b[39m\u001b[38;5;124m\"\u001b[39m))\n\u001b[0;32m      4\u001b[0m calificacion3 \u001b[38;5;241m=\u001b[39m \u001b[38;5;28mfloat\u001b[39m(\u001b[38;5;28minput\u001b[39m(\u001b[38;5;124m\"\u001b[39m\u001b[38;5;124mIngrese la calificación 3: \u001b[39m\u001b[38;5;124m\"\u001b[39m))\n",
            "File \u001b[1;32m~\\AppData\\Roaming\\Python\\Python312\\site-packages\\ipykernel\\kernelbase.py:1282\u001b[0m, in \u001b[0;36mKernel.raw_input\u001b[1;34m(self, prompt)\u001b[0m\n\u001b[0;32m   1280\u001b[0m     msg \u001b[38;5;241m=\u001b[39m \u001b[38;5;124m\"\u001b[39m\u001b[38;5;124mraw_input was called, but this frontend does not support input requests.\u001b[39m\u001b[38;5;124m\"\u001b[39m\n\u001b[0;32m   1281\u001b[0m     \u001b[38;5;28;01mraise\u001b[39;00m StdinNotImplementedError(msg)\n\u001b[1;32m-> 1282\u001b[0m \u001b[38;5;28;01mreturn\u001b[39;00m \u001b[38;5;28;43mself\u001b[39;49m\u001b[38;5;241;43m.\u001b[39;49m\u001b[43m_input_request\u001b[49m\u001b[43m(\u001b[49m\n\u001b[0;32m   1283\u001b[0m \u001b[43m    \u001b[49m\u001b[38;5;28;43mstr\u001b[39;49m\u001b[43m(\u001b[49m\u001b[43mprompt\u001b[49m\u001b[43m)\u001b[49m\u001b[43m,\u001b[49m\n\u001b[0;32m   1284\u001b[0m \u001b[43m    \u001b[49m\u001b[38;5;28;43mself\u001b[39;49m\u001b[38;5;241;43m.\u001b[39;49m\u001b[43m_parent_ident\u001b[49m\u001b[43m[\u001b[49m\u001b[38;5;124;43m\"\u001b[39;49m\u001b[38;5;124;43mshell\u001b[39;49m\u001b[38;5;124;43m\"\u001b[39;49m\u001b[43m]\u001b[49m\u001b[43m,\u001b[49m\n\u001b[0;32m   1285\u001b[0m \u001b[43m    \u001b[49m\u001b[38;5;28;43mself\u001b[39;49m\u001b[38;5;241;43m.\u001b[39;49m\u001b[43mget_parent\u001b[49m\u001b[43m(\u001b[49m\u001b[38;5;124;43m\"\u001b[39;49m\u001b[38;5;124;43mshell\u001b[39;49m\u001b[38;5;124;43m\"\u001b[39;49m\u001b[43m)\u001b[49m\u001b[43m,\u001b[49m\n\u001b[0;32m   1286\u001b[0m \u001b[43m    \u001b[49m\u001b[43mpassword\u001b[49m\u001b[38;5;241;43m=\u001b[39;49m\u001b[38;5;28;43;01mFalse\u001b[39;49;00m\u001b[43m,\u001b[49m\n\u001b[0;32m   1287\u001b[0m \u001b[43m\u001b[49m\u001b[43m)\u001b[49m\n",
            "File \u001b[1;32m~\\AppData\\Roaming\\Python\\Python312\\site-packages\\ipykernel\\kernelbase.py:1325\u001b[0m, in \u001b[0;36mKernel._input_request\u001b[1;34m(self, prompt, ident, parent, password)\u001b[0m\n\u001b[0;32m   1322\u001b[0m \u001b[38;5;28;01mexcept\u001b[39;00m \u001b[38;5;167;01mKeyboardInterrupt\u001b[39;00m:\n\u001b[0;32m   1323\u001b[0m     \u001b[38;5;66;03m# re-raise KeyboardInterrupt, to truncate traceback\u001b[39;00m\n\u001b[0;32m   1324\u001b[0m     msg \u001b[38;5;241m=\u001b[39m \u001b[38;5;124m\"\u001b[39m\u001b[38;5;124mInterrupted by user\u001b[39m\u001b[38;5;124m\"\u001b[39m\n\u001b[1;32m-> 1325\u001b[0m     \u001b[38;5;28;01mraise\u001b[39;00m \u001b[38;5;167;01mKeyboardInterrupt\u001b[39;00m(msg) \u001b[38;5;28;01mfrom\u001b[39;00m \u001b[38;5;28;01mNone\u001b[39;00m\n\u001b[0;32m   1326\u001b[0m \u001b[38;5;28;01mexcept\u001b[39;00m \u001b[38;5;167;01mException\u001b[39;00m:\n\u001b[0;32m   1327\u001b[0m     \u001b[38;5;28mself\u001b[39m\u001b[38;5;241m.\u001b[39mlog\u001b[38;5;241m.\u001b[39mwarning(\u001b[38;5;124m\"\u001b[39m\u001b[38;5;124mInvalid Message:\u001b[39m\u001b[38;5;124m\"\u001b[39m, exc_info\u001b[38;5;241m=\u001b[39m\u001b[38;5;28;01mTrue\u001b[39;00m)\n",
            "\u001b[1;31mKeyboardInterrupt\u001b[0m: Interrupted by user"
          ]
        }
      ],
      "source": [
        "\n",
        "print(\"Tipos de Datos y Operadores-Tema4-2des2:\\n\") #Nombre de la actividad, tema(4), bloque(2), desafío(2)\n",
        "# Leer las 5 calificaciones del usuario\n",
        "calificacion1 = float(input(\"Ingrese la calificación 1: \"))\n",
        "calificacion2 = float(input(\"Ingrese la calificación 2: \"))\n",
        "calificacion3 = float(input(\"Ingrese la calificación 3: \"))\n",
        "calificacion4 = float(input(\"Ingrese la calificación 4: \"))\n",
        "calificacion5 = float(input(\"Ingrese la calificación 5: \"))\n",
        "\n",
        "# Calcular la suma de las calificaciones\n",
        "suma_calificaciones = calificacion1 + calificacion2 + calificacion3 + calificacion4 + calificacion5\n",
        "\n",
        "# Calcular el promedio\n",
        "promedio = suma_calificaciones / 5\n",
        "\n",
        "# Imprimir el promedio\n",
        "print(\"El promedio de las calificaciones es:\", promedio)"
      ]
    },
    {
      "cell_type": "markdown",
      "metadata": {},
      "source": [
        "Ver opción de solución en www.programiz.com: https://www.programiz.com/online-compiler/24XQnSQuswRNp"
      ]
    },
    {
      "cell_type": "markdown",
      "metadata": {},
      "source": [
        "💡*Otra opción de solución es utilizando la función len()*\n",
        "### Descripción general\n",
        "Así es como funciona el código:\n",
        "\n",
        "- Define una lista de cinco números.\n",
        "- Calcula la suma de los números de la lista.\n",
        "- Calcula el promedio de los números dividiendo la suma por el número de números en la lista.\n",
        "- Imprime el promedio a la consola.\n",
        "\n",
        "La función sum() se utiliza para calcular la suma de todos los elementos en la lista calificaciones.\n",
        "\n",
        "La función [len()](https://www.mclibre.org/consultar/python/lecciones/python-range.html) se utiliza para obtener el número de elementos en la lista calificaciones."
      ]
    },
    {
      "cell_type": "code",
      "execution_count": null,
      "metadata": {},
      "outputs": [
        {
          "name": "stdout",
          "output_type": "stream",
          "text": [
            "El promedio de los números es: 9.2\n"
          ]
        }
      ],
      "source": [
        "print(\"Tipos de Datos y Operadores-Tema4-2des2:\\n\") #Nombre de la actividad, tema(4), bloque(2), desafío(2)\n",
        "# Calcular el promedio de 5 números. \n",
        " \n",
        "# Definir los números \n",
        "números = [10, 9, 8, 10, 9] \n",
        " \n",
        "# Calcular la suma de los números. \n",
        "suma_de_números = sum(números) \n",
        " \n",
        "# Calcular el promedio \n",
        "promedio = suma_de_números / len(números) \n",
        " \n",
        "# Imprimir el promedio \n",
        "print(f\"El promedio de los números es: {promedio}\") "
      ]
    },
    {
      "cell_type": "markdown",
      "metadata": {},
      "source": [
        "Este código genera lo siguiente:"
      ]
    },
    {
      "cell_type": "code",
      "execution_count": null,
      "metadata": {},
      "outputs": [],
      "source": [
        "El promedio de los números es: 9.2"
      ]
    },
    {
      "cell_type": "markdown",
      "metadata": {},
      "source": [
        "Ver opción de solución en www.programiz.com: https://www.programiz.com/online-compiler/4YuHBW5Rgtrnb"
      ]
    }
  ],
  "metadata": {
    "colab": {
      "collapsed_sections": [
        "jmd7_BeKnE5v"
      ],
      "include_colab_link": true,
      "provenance": []
    },
    "kernelspec": {
      "display_name": "Python 3",
      "name": "python3"
    },
    "language_info": {
      "codemirror_mode": {
        "name": "ipython",
        "version": 3
      },
      "file_extension": ".py",
      "mimetype": "text/x-python",
      "name": "python",
      "nbconvert_exporter": "python",
      "pygments_lexer": "ipython3",
      "version": "3.12.2"
    }
  },
  "nbformat": 4,
  "nbformat_minor": 0
}
