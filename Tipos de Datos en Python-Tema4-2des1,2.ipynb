{
  "cells": [
    {
      "cell_type": "markdown",
      "metadata": {
        "colab_type": "text",
        "id": "view-in-github"
      },
      "source": [
        "<a href=\"https://colab.research.google.com/github/MilagrosPozzo/Programacion-1/blob/main/2_4_Tipos_de_datos_y_operadores.ipynb\" target=\"_parent\"><img src=\"https://colab.research.google.com/assets/colab-badge.svg\" alt=\"Open In Colab\"/></a>"
      ]
    },
    {
      "cell_type": "markdown",
      "metadata": {
        "id": "Nyv5epN_RD6r"
      },
      "source": [
        "## Índice\n",
        "\n",
        "1.   [Identificadores, constantes y variables](#id1)\n",
        "2.   [Tipos de datos simples. Enteros, reales, booleanos y caracteres](#id2)\n",
        "3.   [Operadores logicos y de comparacion](#id3)\n",
        "4.   [Comparaciones encadenadas](#id4)\n",
        "5.   [Desafio 1: Clasificar números](#des1)\n",
        "6.   [Desafio 2: Calcular promedio](#des2)\n",
        "7.   [Desafio 3: Convertidor de temperaturas](#des3)\n",
        "8.   [Desafio 4: Verificar múltiplos de varios números](#des4)\n",
        "9.   [Ejemplos](#ejemplos)"
      ]
    },
    {
      "cell_type": "markdown",
      "metadata": {
        "id": "Zrf6O3RVkwZ9"
      },
      "source": [
        "<a id=\"id1\"> </a>\n",
        "# Identificadores, constantes y variables\n",
        "\n",
        "En Python, un identificador es un nombre que se utiliza para identificar una variable, función, clase, módulo u otro objeto. Los identificadores son sensibles a mayúsculas y minúsculas y deben seguir ciertas reglas de nomenclatura. Para nombrar los identificadores en Python, se utilizan letras, números y guiones bajos. Sin embargo, el primer carácter no puede ser un número y no se permiten espacios ni caracteres especiales.\n",
        "\n",
        "Para garantizar la creación correcta de identificadores en Python, es importante seguir las PEP 8, que son las guías de estilo de Python. Estas proporcionan recomendaciones sobre cómo nombrar variables, funciones y otros objetos de manera consistente y legible para otros programadores. Puedes encontrar las [PEP 8 en el sitio web oficial de Python](https://peps.python.org/pep-0008/). Siguiendo estas pautas, puedes mejorar la claridad y la legibilidad de tu código, lo que facilita su mantenimiento y colaboración con otros desarrolladores.\n",
        "\n",
        "Por ejemplo, los siguientes son identificadores válidos en Python:"
      ]
    },
    {
      "cell_type": "code",
      "execution_count": null,
      "metadata": {
        "id": "9xPs9kVyRTlE"
      },
      "outputs": [],
      "source": [
        "numero\n",
        "total_venta\n",
        "ListaDeCompras\n",
        "edad"
      ]
    },
    {
      "cell_type": "markdown",
      "metadata": {
        "id": "0nfjr3nIl2gE"
      },
      "source": [
        "Mientras que los siguientes no son identificadores válidos:"
      ]
    },
    {
      "cell_type": "code",
      "execution_count": null,
      "metadata": {
        "id": "YFSXdTXrPsHY"
      },
      "outputs": [],
      "source": [
        "2d_array  # el primer carácter no puede ser un número\n",
        "mi identificador  # no se permiten espacios\n",
        "total$  # no se permiten caracteres especiales"
      ]
    },
    {
      "cell_type": "markdown",
      "metadata": {
        "id": "N6aLbY12FxpH"
      },
      "source": [
        "*Nota 2: Cabe destacar, que por mas que no es inválido, utilizar los caracteres \"l\" (ele minúscula), \"i\" (letra i latina mayuscula), \"O\" (letra o mayúscula) y \"0\" (número cero), puede causar confusión según el caso en donde se utilicen.*"
      ]
    },
    {
      "cell_type": "markdown",
      "metadata": {
        "id": "IbEAjo90LM88"
      },
      "source": [
        "También se tiene en cuenta que, como la mayoría de lenguajes, Python tiene una lista de palabras reservadas, que no pueden utilizarse como identificadores:\n",
        "\n",
        "| Palabra reservadas |\n",
        "|---------------|\n",
        "| False         |\n",
        "| True          |\n",
        "| def           |\n",
        "| while         |\n",
        "| if            |\n",
        "| else          |"
      ]
    },
    {
      "cell_type": "markdown",
      "metadata": {
        "id": "LHCJuqcO3yWg"
      },
      "source": [
        "Para ver la lista completa utiliza el siguiente codigo en Python:"
      ]
    },
    {
      "cell_type": "code",
      "execution_count": null,
      "metadata": {
        "id": "X0CxjW9m3yWh"
      },
      "outputs": [],
      "source": [
        "import keyword\n",
        "\n",
        "print(keyword.kwlist)"
      ]
    },
    {
      "cell_type": "markdown",
      "metadata": {
        "id": "_4bajzrTl7mA"
      },
      "source": [
        "Las constantes son valores que no cambian durante la ejecución de un programa. En Python, se utilizan variables para almacenar constantes. Las constantes pueden ser números, cadenas de texto, booleanos o cualquier otro valor inmutable.\n",
        "\n",
        "Por ejemplo, los siguientes son constantes en Python:"
      ]
    },
    {
      "cell_type": "code",
      "execution_count": null,
      "metadata": {
        "id": "e9y8hSkyl8iM"
      },
      "outputs": [],
      "source": [
        "PI = 3.14159\n",
        "NOMBRE_EMPRESA = \"Acme Corporation\"\n",
        "ES_POSITIVO = True"
      ]
    },
    {
      "cell_type": "markdown",
      "metadata": {
        "id": "3js_bf3Tl_KU"
      },
      "source": [
        "Las variables en Python son objetos que se utilizan para almacenar datos. Las variables se crean cuando se les asigna un valor y pueden cambiar durante la ejecución de un programa.\n",
        "\n",
        "Por ejemplo, el siguiente código crea una variable llamada edad y le asigna el valor 25:"
      ]
    },
    {
      "cell_type": "code",
      "execution_count": null,
      "metadata": {
        "id": "IZqYUDokmAc9"
      },
      "outputs": [],
      "source": [
        "edad = 25"
      ]
    },
    {
      "cell_type": "markdown",
      "metadata": {
        "id": "JuC930pzmDF4"
      },
      "source": [
        "En Python, las variables no necesitan ser declaradas antes de usarlas. Python automáticamente asigna un tipo de datos a las variables basándose en el valor que se les asigna. Por ejemplo, si se asigna un número entero a una variable, Python automáticamente la considerará como una variable de tipo int. Si se asigna una cadena de texto a una variable, Python la considerará como una variable de tipo str."
      ]
    },
    {
      "cell_type": "markdown",
      "metadata": {
        "id": "EmryA0ff3yWj"
      },
      "source": [
        "Pero... ¿cómo podemos determinar el tipo de una variable? Si veo \"un número\" entero, puedo identificar que el tipo de variable es un int o si veo un texto escrito entre (\" \"), puedo determinar que es una variable str."
      ]
    },
    {
      "cell_type": "code",
      "execution_count": null,
      "metadata": {
        "id": "K9SDBM-W3yWj"
      },
      "outputs": [],
      "source": [
        "edad = 12\n",
        "nombre = \"Anthony\"\n",
        "altura = 1.75\n",
        "\n",
        "print (\"la variable\", edad, \"es de tipo:\", type(edad))\n",
        "print (\"la variable\", nombre, \"es de tipo:\", type(nombre))\n",
        "print (\"la variable\", altura, \"es de tipo:\", type(altura))\n"
      ]
    },
    {
      "cell_type": "markdown",
      "metadata": {
        "id": "GvoUdDtU3yWj"
      },
      "source": [
        "Es importante tener en cuenta que las variables en Python son sensibles a mayúsculas y minúsculas. Esto significa que las variables edad y Edad son dos variables diferentes en Python.\n",
        "\n",
        "Además, las variables en Python pueden ser eliminadas utilizando la palabra clave del (Siempre y cuando esten definidas). Por ejemplo, el siguiente código elimina la variable edad y nombre:"
      ]
    },
    {
      "cell_type": "code",
      "execution_count": null,
      "metadata": {
        "id": "_8Hw11Mop0yX"
      },
      "outputs": [],
      "source": [
        "del edad, nombre\n",
        "print(altura)\n"
      ]
    },
    {
      "cell_type": "markdown",
      "metadata": {
        "id": "g_i4OTVh3yWk"
      },
      "source": [
        "Cuidado! Que si intento eliminar la variable edad, sin crearla de nuevo, dará error, ya que la misma no existe. Este codigo resuelve este problema:\n"
      ]
    },
    {
      "cell_type": "code",
      "execution_count": null,
      "metadata": {
        "id": "T7RZ6qv-3yWk"
      },
      "outputs": [],
      "source": [
        "if \"edad\" in globals():\n",
        "    del edad\n",
        "    print(\"puedo borrar edad\")\n",
        "else:\n",
        "    print(\"no puedo borrar\")"
      ]
    },
    {
      "cell_type": "markdown",
      "metadata": {
        "id": "2ma8nIxL3yWk"
      },
      "source": [
        "*Nota 3: globals es un diccionario que cuenta con todas las variables globales que se utilizan en el programa actual.*"
      ]
    },
    {
      "cell_type": "markdown",
      "metadata": {
        "id": "MSeGFRBik5fO"
      },
      "source": [
        "<a id=\"id2\"> </a>\n",
        "# Tipos de datos simples. Enteros, reales, booleanos y caracteres."
      ]
    },
    {
      "cell_type": "markdown",
      "metadata": {
        "id": "oO7oT2c8ncdw"
      },
      "source": [
        "En programación, los datos son la información que se manipula. Los lenguajes de programación trabajan con diferentes tipos de datos para poder manipular la información. En este artículo nos enfocaremos en los tipos de datos simples en Python, que son los más básicos y fundamentales para cualquier programa.\n",
        "\n",
        "Python es un lenguaje de programación orientado a objetos, lo que significa que cada valor en Python es un objeto. Un objeto es una estructura de datos que puede tener atributos (variables) y métodos (funciones). Los objetos en Python tienen un tipo que determina qué operaciones se pueden realizar con ellos.\n",
        "\n",
        "## Tipos de datos simples\n",
        "\n",
        "Los tipos de datos simples en Python se dividen en cuatro categorías: enteros, reales, booleanos y caracteres. En Python también existe un tipo de dato complejo, que nos permite trabajar con números complejos.\n",
        "\n",
        "### Enteros (int)\n",
        "\n",
        "Los enteros son números sin parte decimal. En Python, los enteros se representan con el tipo de datos int. Los enteros se pueden representar en notación decimal, binaria, octal y hexadecimal.\n",
        "\n",
        "Por ejemplo, para definir una variable entera y mostrar su valor y tipo, podemos hacer lo siguiente:"
      ]
    },
    {
      "cell_type": "code",
      "execution_count": null,
      "metadata": {
        "id": "06T-FpltlAzM"
      },
      "outputs": [],
      "source": [
        "numero_entero = 10\n",
        "print(\"Número entero:\", numero_entero, \"Tipo:\", type(numero_entero))"
      ]
    },
    {
      "cell_type": "code",
      "execution_count": null,
      "metadata": {
        "id": "NhBDu0Fn3yWl"
      },
      "outputs": [],
      "source": [
        "a = 3\n",
        "b = 5\n",
        "c = 10\n",
        "res = 0\n",
        "\n",
        "res=a+b\n",
        "print(res)\n",
        "res=a-b\n",
        "print(res)\n",
        "res=a*b\n",
        "print(res)\n",
        "res=a/b\n",
        "print(res)\n",
        "res=c/a\n",
        "print(res)\n",
        "res=a**b\n",
        "print(res)\n"
      ]
    },
    {
      "cell_type": "markdown",
      "metadata": {
        "id": "aOIsGOpToyFL"
      },
      "source": [
        "### Reales (float)\n",
        "\n",
        "Los números reales son aquellos que tienen una parte decimal. En Python, los números reales se representan con el tipo de datos float.\n",
        "\n",
        "Por ejemplo, para definir una variable real y mostrar su valor y tipo, podemos hacer lo siguiente:"
      ]
    },
    {
      "cell_type": "code",
      "execution_count": null,
      "metadata": {
        "id": "c70s0pL2ozrz"
      },
      "outputs": [],
      "source": [
        "numero_real = 3.1416\n",
        "print(\"Número real:\", numero_real, \"Tipo:\", type(numero_real))"
      ]
    },
    {
      "cell_type": "markdown",
      "metadata": {
        "id": "IcuK_DDbo1V7"
      },
      "source": [
        "### Booleanos (bool)\n",
        "\n",
        "Los booleanos son tipos de datos que solo pueden tomar dos valores: True (verdadero) o False (falso). En Python, los booleanos se representan con el tipo de datos bool.\n",
        "\n",
        "Por ejemplo, para definir una variable booleana y mostrar su valor y tipo, podemos hacer lo siguiente:"
      ]
    },
    {
      "cell_type": "code",
      "execution_count": null,
      "metadata": {
        "id": "hUPItMuOo2tV"
      },
      "outputs": [],
      "source": [
        "verdadero = True\n",
        "print(\"Booleano:\", verdadero, \"Tipo:\", type(verdadero))"
      ]
    },
    {
      "cell_type": "markdown",
      "metadata": {
        "id": "2dezj-3v3yWm"
      },
      "source": [
        "Los valores booleanos tambien pueden ser utilizados"
      ]
    },
    {
      "cell_type": "code",
      "execution_count": null,
      "metadata": {
        "id": "7GBYvzKZ3yWm"
      },
      "outputs": [],
      "source": [
        "A = True\n",
        "B = False\n",
        "C = True\n",
        "D = A and B\n",
        "print(D)"
      ]
    },
    {
      "cell_type": "markdown",
      "metadata": {
        "id": "_yepfJRc3yWm"
      },
      "source": [
        "*Nota 5: Como operadores logicos solo existen 3, el and, or, y el not.\n",
        "Faltando: el condicional, bicondicional*"
      ]
    },
    {
      "cell_type": "markdown",
      "metadata": {
        "id": "KjdmzyUEo4R1"
      },
      "source": [
        "### Caracteres (str)\n",
        "\n",
        "Los caracteres son un tipo de dato que representa un solo carácter. En Python, los caracteres se representan con el tipo de datos str.\n",
        "\n",
        "Por ejemplo, para definir una variable de tipo carácter y mostrar su valor y tipo, podemos hacer lo siguiente:"
      ]
    },
    {
      "cell_type": "code",
      "execution_count": null,
      "metadata": {
        "id": "kM2ChOYlo7A8"
      },
      "outputs": [],
      "source": [
        "caracter = 'a'\n",
        "print(\"Carácter:\", caracter, \"Tipo:\", type(caracter))"
      ]
    },
    {
      "cell_type": "markdown",
      "metadata": {
        "id": "EKGsVhsho8k8"
      },
      "source": [
        "### Complejos (complex)\n",
        "\n",
        "Los números complejos son aquellos que tienen una parte real y una parte imaginaria. En Python, los números complejos se representan con el tipo de datos complex.\n",
        "\n",
        "Por ejemplo, para definir una variable compleja y mostrar su valor y tipo, podemos hacer lo siguiente:"
      ]
    },
    {
      "cell_type": "code",
      "execution_count": null,
      "metadata": {
        "id": "H31l86bZo-HL"
      },
      "outputs": [],
      "source": [
        "numero_complejo = 2+3j\n",
        "print(\"Número complejo:\", numero_complejo, \"Tipo:\", type(numero_complejo))"
      ]
    },
    {
      "cell_type": "markdown",
      "metadata": {
        "id": "Y-pk7Jr1nJpo"
      },
      "source": [
        "<a id=\"id3\"> </a>\n",
        "# Operadores lógicos y de comparación\n",
        "\n",
        "Los operadores lógicos y de comparación son fundamentales en la programación, ya que permiten evaluar condiciones y realizar acciones basadas en el resultado de esas condiciones. En Python, tenemos operadores de comparación para comparar valores y operadores lógicos para combinar condiciones.\n",
        "\n",
        "## Operadores de comparación\n",
        "Los operadores de comparación son utilizados para comparar dos valores y devuelven un valor booleano, es decir, True o False. Los operadores de comparación en Python incluyen:\n",
        "\n",
        "* Igual (==)\n",
        "* Diferente (!=)\n",
        "* Mayor que (>)\n",
        "* Menor que (<)\n",
        "* Mayor o igual que (>=)\n",
        "* Menor o igual que (<=)\n",
        "\n",
        "Ejemplo de uso de operadores de comparación:"
      ]
    },
    {
      "cell_type": "code",
      "execution_count": null,
      "metadata": {
        "id": "TMp9NMFkrvxW"
      },
      "outputs": [],
      "source": [
        "a = 5\n",
        "b = 7\n",
        "\n",
        "print(\"a == b:\", a == b) # Falso, porque 5 no es igual a 7\n",
        "print(\"a != b:\", a != b) # Verdadero, porque 5 es diferente de 7\n",
        "print(\"a > b:\", a > b)   # Falso, porque 5 no es mayor que 7\n",
        "print(\"a < b:\", a < b)   # Verdadero, porque 5 es menor que 7\n",
        "print(\"a >= b:\", a >= b) # Falso, porque 5 no es mayor o igual que 7\n",
        "print(\"a <= b:\", a <= b) # Verdadero, porque 5 es menor o igual que 7"
      ]
    },
    {
      "cell_type": "markdown",
      "metadata": {
        "id": "g_p9h7s6r0Dx"
      },
      "source": [
        "## Operadores lógicos\n",
        "Los operadores lógicos son utilizados para combinar condiciones. Los operadores lógicos en Python incluyen:\n",
        "\n",
        "* and: Devuelve True si ambas condiciones son verdaderas, de lo contrario devuelve False.\n",
        "* or: Devuelve True si al menos una de las condiciones es verdadera, de lo contrario devuelve False.\n",
        "* not: Devuelve True si la condición es falsa, y False si la condición es verdadera.\n",
        "\n",
        "Ejemplo de uso de operadores lógicos:"
      ]
    },
    {
      "cell_type": "code",
      "execution_count": null,
      "metadata": {
        "id": "f-1Z6R6Ir-YK"
      },
      "outputs": [],
      "source": [
        "x = 5\n",
        "y = 10\n",
        "z = 15\n",
        "\n",
        "# Comprobar si x es menor que y y si y es menor que z\n",
        "condicion1 = x < y and y < z\n",
        "print(\"Condición 1 (x < y y y < z):\", condicion1) # Verdadero\n",
        "\n",
        "# Comprobar si x es igual a y o si y es igual a z\n",
        "condicion2 = x == y or y == z\n",
        "print(\"Condición 2 (x == y o y == z):\", condicion2) # Falso\n",
        "\n",
        "# Negar la condición 1\n",
        "condicion3 = not condicion1\n",
        "print(\"Condición 3 (negación de la condición 1):\", condicion3) # Falso"
      ]
    },
    {
      "cell_type": "markdown",
      "metadata": {
        "id": "RIylnd6csCej"
      },
      "source": [
        "En este ejemplo, hemos utilizado operadores de comparación y operadores lógicos para construir condiciones más complejas y realizar acciones basadas en el resultado de esas condiciones."
      ]
    },
    {
      "cell_type": "markdown",
      "metadata": {
        "id": "EdyLuTFrsF-R"
      },
      "source": [
        "<a id=\"id4\"> </a>\n",
        "# Comparaciones encadenadas\n",
        "\n",
        "Una característica interesante de Python es la posibilidad de realizar comparaciones encadenadas, lo que permite escribir condiciones más compactas y legibles. Veamos un ejemplo de cómo podemos utilizar comparaciones encadenadas y luego plantearemos un desafío para poner en práctica este concepto.\n",
        "\n",
        "En Python, se pueden encadenar comparaciones en una sola expresión. Por ejemplo, en lugar de escribir x < y and y < z, puedes escribir x < y < z. Esto es posible gracias a la evaluación de cortocircuito de Python, lo que significa que si la primera comparación devuelve False, el resto de las comparaciones no se evaluarán.\n",
        "\n",
        "Ejemplo de comparaciones encadenadas:"
      ]
    },
    {
      "cell_type": "code",
      "execution_count": 8,
      "metadata": {
        "id": "VbgPr8YhstL7"
      },
      "outputs": [
        {
          "name": "stdout",
          "output_type": "stream",
          "text": [
            "Comparación encadenada (a < b < c): True\n"
          ]
        }
      ],
      "source": [
        "a = 5\n",
        "b = 10\n",
        "c = 15\n",
        "\n",
        "# Comprobar si a es menor que b y si b es menor que c\n",
        "condicion_encadenada = a < b < c\n",
        "print(\"Comparación encadenada (a < b < c):\", condicion_encadenada) # Verdadero"
      ]
    },
    {
      "cell_type": "markdown",
      "metadata": {
        "id": "rjg0ZURjsv4z"
      },
      "source": [
        "<a id=\"des1\"> </a>\n",
        "# Desafío 1: Clasificar números\n",
        "\n",
        "Dado tres números distintos, clasificarlos en orden ascendente utilizando comparaciones encadenadas y operadores lógicos."
      ]
    },
    {
      "cell_type": "markdown",
      "metadata": {},
      "source": [
        "### Descripción general\n",
        "\n",
        "Se definen los tres números distintos asignándoles valores directamente a las variables **num1**, **num2** y **num3**.\n",
        "\n",
        "Se utiliza la función **min()** para encontrar el número más pequeño de los tres y se asigna a la variable menor.\n",
        "\n",
        "Se utiliza la función **max()** para encontrar el número más grande de los tres y se asigna a la variable mayor.\n",
        "\n",
        "El número intermedio se calcula restando el menor y el mayor de la suma de los tres números, y se asigna a la variable medio.\n",
        "\n",
        "Finalmente, se imprime un mensaje con los números en orden ascendente utilizando una cadena formateada con **f-strings**."
      ]
    },
    {
      "cell_type": "markdown",
      "metadata": {},
      "source": [
        "### Explicación del código:"
      ]
    },
    {
      "cell_type": "code",
      "execution_count": 7,
      "metadata": {},
      "outputs": [
        {
          "name": "stdout",
          "output_type": "stream",
          "text": [
            "Los números en orden ascendente son: 2, 5, 8\n"
          ]
        }
      ],
      "source": [
        "# Definir tres números distintos\n",
        "num1 = 5\n",
        "num2 = 2\n",
        "num3 = 8\n",
        "\n",
        "# Clasificar los números en orden ascendente\n",
        "menor = min(num1, num2, num3)\n",
        "mayor = max(num1, num2, num3)\n",
        "medio = sum([num1, num2, num3]) - menor - mayor\n",
        "\n",
        "# Imprimir los números en orden ascendente\n",
        "print(f\"Los números en orden ascendente son: {menor}, {medio}, {mayor}\")"
      ]
    },
    {
      "cell_type": "markdown",
      "metadata": {
        "id": "F33J-X7dRTmh"
      },
      "source": [
        "<a id=\"des2\"> </a>\n",
        "# Desafío 2: Calcular promedio\n",
        "Crear un programa que lea 5 calificaciones y calcule su promedio"
      ]
    },
    {
      "cell_type": "markdown",
      "metadata": {},
      "source": [
        "![imagen](https://favtutor.com/resources/images/uploads/Find_Average_of_List_Python.png)"
      ]
    },
    {
      "cell_type": "markdown",
      "metadata": {},
      "source": [
        "### Descripción general\n",
        "Este código toma un conjunto de cinco calificaciones almacenadas en una lista, calcula la suma de esas calificaciones, y luego calcula el promedio dividiendo la suma por el número de calificaciones (en este caso, cinco). \n",
        "\n",
        "Finalmente, imprime el valor del promedio calculado.\n",
        "\n",
        "### Explicación del código\n",
        "-Definir las calificaciones:Se define una lista llamada calificaciones que contiene cinco calificaciones de ejemplo."
      ]
    },
    {
      "cell_type": "code",
      "execution_count": null,
      "metadata": {},
      "outputs": [],
      "source": [
        "calificaciones = [10, 9, 8, 10, 9]"
      ]
    },
    {
      "cell_type": "markdown",
      "metadata": {},
      "source": [
        "-Calcular la suma de las calificaciones:La función sum() se utiliza para calcular la suma de todos los elementos en la lista calificaciones.\n",
        "\n",
        "suma_de_calificaciones almacenará el resultado de esta suma."
      ]
    },
    {
      "cell_type": "code",
      "execution_count": null,
      "metadata": {},
      "outputs": [],
      "source": [
        "suma_de_calificaciones = sum(calificaciones)"
      ]
    },
    {
      "cell_type": "markdown",
      "metadata": {},
      "source": [
        "-Calcular el promedio sin usar len():Sabemos que la lista contiene exactamente 5 calificaciones, por lo que definimos numero_de_calificaciones como 5.\n",
        "\n",
        "El promedio se calcula dividiendo la suma de las calificaciones por 5."
      ]
    },
    {
      "cell_type": "code",
      "execution_count": 4,
      "metadata": {},
      "outputs": [],
      "source": [
        "numero_de_calificaciones = 5\n",
        "promedio = suma_de_calificaciones / numero_de_calificaciones"
      ]
    },
    {
      "cell_type": "markdown",
      "metadata": {},
      "source": [
        "El código quedaría:"
      ]
    },
    {
      "cell_type": "code",
      "execution_count": 3,
      "metadata": {},
      "outputs": [
        {
          "data": {
            "text/plain": [
              "9.2"
            ]
          },
          "execution_count": 3,
          "metadata": {},
          "output_type": "execute_result"
        }
      ],
      "source": [
        "# Definir las calificaciones\n",
        "calificaciones = [10, 9, 8, 10, 9]\n",
        "\n",
        "# Calcular la suma de las calificaciones\n",
        "suma_de_calificaciones = sum(calificaciones)\n",
        "\n",
        "# Calcular el promedio asumiendo que siempre hay 5 calificaciones\n",
        "numero_de_calificaciones = 5\n",
        "promedio = suma_de_calificaciones / numero_de_calificaciones\n",
        "\n",
        "# El promedio calculado está ahora almacenado en la variable 'promedio'\n",
        "promedio"
      ]
    },
    {
      "cell_type": "markdown",
      "metadata": {},
      "source": [
        "💡 *Otra opción de solución*\n",
        "\n",
        "### Descripción general\n",
        " El usuario ingresa las 5 calificaciones. El programa calcula la suma de estas calificaciones y luego divide esa suma por el número de calificaciones (5) para obtener el promedio.\n",
        "\n",
        " ### Explicación del código\n",
        "- Se utilizan cinco líneas con la función input() para solicitar al usuario que ingrese cada una de las cinco calificaciones. La función **float** se utiliza para convertir la entrada del usuario (que es una cadena de texto) a un número de punto flotante.\n",
        "- Se calcula la suma de las cinco calificaciones almacenándola en la variable suma_calificaciones.\n",
        "- Se calcula el promedio dividiendo suma_calificaciones entre 5 (el número de calificaciones) y se almacena en la variable promedio.\n",
        "- Finalmente, se imprime el valor del promedio utilizando la función print()."
      ]
    },
    {
      "cell_type": "code",
      "execution_count": 5,
      "metadata": {},
      "outputs": [],
      "source": [
        "# Leer las 5 calificaciones del usuario\n",
        "calificacion1 = float(input(\"Ingrese la calificación 1: \"))\n",
        "calificacion2 = float(input(\"Ingrese la calificación 2: \"))\n",
        "calificacion3 = float(input(\"Ingrese la calificación 3: \"))\n",
        "calificacion4 = float(input(\"Ingrese la calificación 4: \"))\n",
        "calificacion5 = float(input(\"Ingrese la calificación 5: \"))\n",
        "\n",
        "# Calcular la suma de las calificaciones\n",
        "suma_calificaciones = calificacion1 + calificacion2 + calificacion3 + calificacion4 + calificacion5\n",
        "\n",
        "# Calcular el promedio\n",
        "promedio = suma_calificaciones / 5\n",
        "\n",
        "# Imprimir el promedio\n",
        "print(\"El promedio de las calificaciones es:\", promedio)"
      ]
    },
    {
      "cell_type": "markdown",
      "metadata": {},
      "source": [
        "💡*Otra opción de solución es utilizando la función len()*\n",
        "### Descripción general\n",
        "Así es como funciona el código:\n",
        "\n",
        "- Define una lista de cinco números.\n",
        "- Calcula la suma de los números de la lista.\n",
        "- Calcula el promedio de los números dividiendo la suma por el número de números en la lista.\n",
        "- Imprime el promedio a la consola.\n",
        "\n",
        "La función sum() se utiliza para calcular la suma de todos los elementos en la lista calificaciones.\n",
        "\n",
        "La función [len()](https://www.mclibre.org/consultar/python/lecciones/python-range.html) se utiliza para obtener el número de elementos en la lista calificaciones."
      ]
    },
    {
      "cell_type": "code",
      "execution_count": null,
      "metadata": {},
      "outputs": [
        {
          "name": "stdout",
          "output_type": "stream",
          "text": [
            "El promedio de los números es: 9.2\n"
          ]
        }
      ],
      "source": [
        "# Calcular el promedio de 5 números. \n",
        " \n",
        "# Definir los números \n",
        "números = [10, 9, 8, 10, 9] \n",
        " \n",
        "# Calcular la suma de los números. \n",
        "suma_de_números = sum(números) \n",
        " \n",
        "# Calcular el promedio \n",
        "promedio = suma_de_números / len(números) \n",
        " \n",
        "# Imprimir el promedio \n",
        "print(f\"El promedio de los números es: {promedio}\") "
      ]
    },
    {
      "cell_type": "markdown",
      "metadata": {},
      "source": [
        "Este código genera lo siguiente:"
      ]
    },
    {
      "cell_type": "code",
      "execution_count": null,
      "metadata": {},
      "outputs": [],
      "source": [
        "El promedio de los números es: 9.2"
      ]
    },
    {
      "cell_type": "markdown",
      "metadata": {
        "id": "NbHpVJ6C3yWt"
      },
      "source": [
        "<a id=\"des3\"> </a>\n",
        "# Desafío 3: Convertidor de temperaturas\n",
        "Realizar conversiones de una temperatura dada en Celsius a Fahrenheit y Kelvin utilizando operaciones directas sobre las variables. Los cálculos se realizarán directamente al asignar los valores a las variables."
      ]
    },
    {
      "cell_type": "markdown",
      "metadata": {},
      "source": [
        "### Descripción general\n",
        "Para convertir la temperatura dada en grados Celsius a Fahrenheit y Kelvin, se utilizan las siguientes fórmulas de conversión de temperatura:"
      ]
    },
    {
      "cell_type": "markdown",
      "metadata": {},
      "source": [
        "<img src='Temp_C_a_FyK.png'>\n"
      ]
    },
    {
      "cell_type": "markdown",
      "metadata": {},
      "source": [
        "El grado Celsius (también conocido como centígrado), que lleva el nombre del astrónomo sueco Anders Celsius, sirve como unidad de medida de temperatura en el SI. El siguiente algoritmo proporciona una secuencia de pasos a seguir al escribir un programa Python para convertir grados Celsius a Fahrenheit y Kelvin."
      ]
    },
    {
      "cell_type": "markdown",
      "metadata": {},
      "source": [
        "### Explicación del código\n",
        "1. Crear referencias que asigne cada escala de temperatura a un identificador único:"
      ]
    },
    {
      "cell_type": "code",
      "execution_count": null,
      "metadata": {},
      "outputs": [],
      "source": [
        "TEMPERATURA_ESCALAS = {\n",
        "    'Celsius': 'C',\n",
        "    'Fahrenheit': 'F',\n",
        "    'Kelvin': 'K'\n",
        "}"
      ]
    },
    {
      "cell_type": "markdown",
      "metadata": {},
      "source": [
        "2. Comenzar definiendo una *variable en grados centígrados* y asignándole el valor 37. Esta es la temperatura Celsius predefinida, que se convertirá a Fahrenheit y Kelvin.\n",
        "\n",
        "Se utilizan [operadores de asignación (=)](https://ellibrodepython.com/operadores-asignacion), para asignar valores a las variables C, F y K.\n",
        "\n",
        "3. *Conversión a Fahrenheit:* Se realiza la conversión de la temperatura en grados Celsius a grados Fahrenheit utilizando la fórmula de conversión: F=(1.8×C)+32 Se multiplica la temperatura en grados Celsius por 1.8 y luego se le suma 32 para obtener la temperatura equivalente en grados Fahrenheit. El resultado se almacena en la *variable F (fahrenheit).*\n",
        "\n",
        "Se utilizan [Operadores aritméticos (*, +)](https://ellibrodepython.com/operadores-aritmeticos), para realizar operaciones aritméticas en las temperaturas. Por ejemplo: (1.8 * C) + 32: calcula la conversión de temperatura de Celsius a Fahrenheit.\n",
        "\n",
        "*Conversión a Kelvin:* Se lleva a cabo la conversión de la temperatura en grados Celsius a Kelvin utilizando la fórmula: K=C+273.15 Se suma 273.15 a la temperatura en grados Celsius para obtener la temperatura equivalente en Kelvin. El resultado se almacena en la *variable K (Kelvin)*. \n",
        "\n",
        "4. Mostrar resultados: Se imprimen los resultados en pantalla utilizando la *función print()*, tres veces para mostrar la temperatura Celsius original y la temperatura Fahrenheit y Kelvin equivalente. La temperatura Celsius original se imprime sin decimales. La temperatura equivalente en Fahrenheit y Kelvin se imprime con varios decimales. Se realiza corrección para reducir los decimales a dos. La fórmula de todas las conversiones se muestra arriba en la sección de descripción general. El código de la función se muestra a continuación:"
      ]
    },
    {
      "cell_type": "code",
      "execution_count": 3,
      "metadata": {},
      "outputs": [
        {
          "name": "stdout",
          "output_type": "stream",
          "text": [
            "Temperatura Celsius original: 37\n",
            "Temperatura en Fahrenheit: 98.60000000000001\n",
            "Temperatura en Kelvin: 310.15\n"
          ]
        }
      ],
      "source": [
        "# Temperatura Celsius predefinida\n",
        "C = 37\n",
        "\n",
        "# Conversión a Fahrenheit\n",
        "F = (1.8 * C) + 32\n",
        "\n",
        "# Conversión a Kelvin\n",
        "K = C + 273.15\n",
        "\n",
        "# Mostrar las temperaturas\n",
        "print (\"Temperatura Celsius original:\", C)\n",
        "print(\"Temperatura en Fahrenheit:\", F)\n",
        "print(\"Temperatura en Kelvin:\", K)"
      ]
    },
    {
      "cell_type": "markdown",
      "metadata": {},
      "source": [
        "💡*Corrección. Este código en Python es una cadena de formato que muestra la temperatura en diferentes unidades (Celsius a Fahrenheit y Kelvin) con un cierto número de decimales específico.*\n",
        "\n",
        "En este código se utilizan **operadores aritméticos (*, +)**, para realizar operaciones aritméticas en las temperaturas. Por ejemplo:\\n\",\"(1.8 * C) + 32: calcula la conversión de temperatura de Celsius a Fahrenheit.\\n\",\"print (\\\"Temperatura Celsius original:\\\", C ): Esta línea simplemente imprime la temperatura original en grados Celsius. Donde C es una variable que representa la temperatura en grados Celsius.\n",
        "\n",
        "print(f\\\"Temperatura en Fahrenheit:, {F:.2f}\\\"): Esta línea imprime la temperatura convertida a grados Fahrenheit. Utiliza una cadena de formato con una f-string [cadena formateada](https://docs.python.org/es/3/tutorial/inputoutput.html#formatted-string-literals) que permite incrustar valores de variables dentro de la cadena. {F:.2f} indica que se imprimirá el valor de la variable F con dos decimales (:.2f). La f antes de la cadena de formato indica que es una f-string, lo que permite la interpolación de variables.\n",
        "\n",
        "print(f\\\"Temperatura en Kelvin:, {K:.2f}\\\"): Similar a la línea anterior, esta línea imprime la temperatura convertida a grados Kelvin. También utiliza una f-string con {K:.2f} para imprimir el valor de la variable K con dos decimales.\n",
        "\n",
        "Se utiliza un operador de comparación (:) (dentro de las f-strings), para especificar la precisión de los números decimales en el formateo de cadenas. Por ejemplo: {F:.2f}: indica que el valor de F se formateará como un número de punto flotante (número decimal) con 2 decimales."
      ]
    },
    {
      "cell_type": "code",
      "execution_count": 2,
      "metadata": {},
      "outputs": [
        {
          "name": "stdout",
          "output_type": "stream",
          "text": [
            "Temperatura Celsius original: 37\n",
            "Temperatura en Fahrenheit:, 98.60\n",
            "Temperatura en Kelvin:, 310.15\n"
          ]
        }
      ],
      "source": [
        "# Temperatura Celsius predefinida\n",
        "C = 37\n",
        "\n",
        "# Conversión a Fahrenheit\n",
        "F = (1.8 * C) + 32\n",
        "\n",
        "# Conversión a Kelvin\n",
        "K = C + 273.15\n",
        "\n",
        "# Mostrar las temperaturas\n",
        "print (\"Temperatura Celsius original:\", C )\n",
        "print(f\"Temperatura en Fahrenheit:, {F:.2f}\")\n",
        "print(f\"Temperatura en Kelvin:, {K:.2f}\")"
      ]
    },
    {
      "cell_type": "markdown",
      "metadata": {
        "id": "Z8UuJFAo3yWt"
      },
      "source": [
        "<a id=\"des4\"> </a>\n",
        "# Desafío 4: Verificar múltiplos de varios números\n",
        "Objetivo: Determinar si un número dado es múltiplo de 2, 3, 5, 7, 9, 10, y 11 utilizando comparaciones y operadores lógicos.\n",
        "\n",
        "*Descripción:*\n",
        "Crea un programa que, dado un número, verifique si es múltiplo de los números mencionados. Para cada uno de estos números, el programa debe indicar si el número dado es o no un múltiplo de estos.\n",
        "\n",
        "_Ejemplo de lo que se debe lograr:_\n",
        "Supongamos que el número dado es 30. El programa deberá determinar:\n",
        "\n",
        "¿Es 30 múltiplo de 2? Sí\n",
        "\n",
        "¿Es 30 múltiplo de 3? Sí\n",
        "\n",
        "¿Es 30 múltiplo de 5? Sí\n",
        "\n",
        "¿Es 30 múltiplo de 7? No\n",
        "\n",
        "¿Es 30 múltiplo de 9? No\n",
        "\n",
        "¿Es 30 múltiplo de 10? Sí\n",
        "\n",
        "¿Es 30 múltiplo de 11? No\n"
      ]
    },
    {
      "cell_type": "markdown",
      "metadata": {},
      "source": [
        "### Descripción general\n",
        "\n",
        "El objetivo de este código es determinar si un número dado es múltiplo de varios números específicos (en este caso, 2, 3, 5, 7, 9, 10 y 11) utilizando comparaciones y operadores lógicos en Python.\n",
        "\n",
        "#### ¿Qué quiere decir que un número es múltiplo de otro?\n",
        "\n",
        "Un múltiplo de un número es un número que se puede dividir por el número dado y da un resto de cero.\n",
        "\n",
        "#### Determinar si un número es múltiplo de un número dado\n",
        "\n",
        "Para determinar si un número, *x* , es múltiplo de un número dado, *y* , divide *x* por *y*.\n",
        "\n",
        "Verifique el resto después de la división. Si el resto es cero después de la división, entonces *x* es múltiplo del número dado *y* . Si el resto es un número distinto de cero, entonces *x* no es múltiplo del número dado *y*.\n",
        "\n",
        "La forma más sencilla de hacerlo en cuanto a código es utilizar el operador de resto/módulo (%), tal como lo hace cuando intenta encontrar números pares. Entonces la ecuación es algo como esto:"
      ]
    },
    {
      "cell_type": "code",
      "execution_count": null,
      "metadata": {},
      "outputs": [],
      "source": [
        "número1  %  número2  ==  0"
      ]
    },
    {
      "cell_type": "markdown",
      "metadata": {},
      "source": [
        "Esa expresión será verdadera si num1 es múltiplo de num2 y falsa en caso contrario.\n",
        "\n",
        "### Explicación del código\n",
        "1. Definir el número dado. En la primera línea del código se utiliza el operador de asignación **(=)** para asignar el valor 42 a la variable **num**. Esto define el número dado que va a verificar si es múltiplo de otros números.\n",
        "\n",
        "2. Realizar las comparaciones. Se utiliza el operador de módulo **(%)** para determinar si el número dado **(num)** es divisible de manera exacta por cada uno de los números específicos (2, 3, 5, 7, 9, 10 y 11). El operador de módulo devuelve el resto de la división entre dos números. Si el resultado es cero, entonces el número es múltiplo del número específico. Por ejemplo:"
      ]
    },
    {
      "cell_type": "code",
      "execution_count": null,
      "metadata": {},
      "outputs": [],
      "source": [
        "num % 2 == 0: Verifica si num es divisible por 2. Si el resultado es cero, entonces num es múltiplo de 2.\n",
        "num % 3 == 0: Verifica si num es divisible por 3. Si el resultado es cero, entonces num es múltiplo de 3."
      ]
    },
    {
      "cell_type": "markdown",
      "metadata": {},
      "source": [
        "Y así sucesivamente para los demás números.\n",
        "\n",
        "El operador de comparación **(==)** se utiliza para comparar el resultado de cada operación de módulo con cero. Si el resultado de la operación de módulo es cero, entonces el número dado es múltiplo del número específico, por lo que la expresión num % x == 0 devolverá 'Sí', de lo contrario devolverá 'No'.\n",
        "\n",
        "3. Se utiliza además la sintaxis de sentencia condicional (operador ternario) **if** en las cadenas formateadas dentro de las declaraciones **print()** para seleccionar entre \\\"Sí\\\" y \\\"No\\\" dependiendo del valor de la variable booleana o dato lógico correspondiente. La sintaxis es valor_verdadero if condicion else valor_falso. Esto permite mostrar \\\"Sí\\\" si el número dado es múltiplo del número específico y \\\"No\\\" si no lo es.\n",
        "\n",
        "La función **print()** se utiliza para mostrar los resultados de cada verificación de múltiplo en pantalla. \\n\",\"\\n\",\"La [cadena formateada (f-string)](https://docs.python.org/es/3/reference/lexical_analysis.html#f-strings) se emplea para mostrar la pregunta \\\"¿Es 42 múltiplo de 2?\\\" seguida de \\\"Sí\\\" o \\\"No\\\" dependiendo del resultado de la verificación.\n",
        "\n",
        " **Sentecias condicionales (if y else)**\n",
        " \n",
        " ![Imagen](https://datascientest.com/es/wp-content/uploads/sites/7/2023/02/Illu_BLOG_if_else_elif.jpg)\n",
        " \n",
        " La sentencia «If-else» se utiliza para ejecutar tanto la parte verdadera como la falsa de una condición. Si la condición es verdadera, se ejecuta el bloque de código If. Si la condición es falsa, se ejecuta el bloque de código Else.\n",
        " \n",
        "  Se utilizan en las expresiones condicionales dentro de las cadenas formateadas para determinar si el número num es múltiplo de cada divisor y mostrar \\\"Sí\\\" o \\\"No\\\" según corresponda. Por ejemplo: print(f\\\"¿Es {num} múltiplo de 2? {'Sí' if es_multiplo_de_2 else 'No'}\\\")"
      ]
    },
    {
      "cell_type": "code",
      "execution_count": 4,
      "metadata": {},
      "outputs": [
        {
          "name": "stdout",
          "output_type": "stream",
          "text": [
            "¿Es 42 múltiplo de 2? Sí\n",
            "¿Es 42 múltiplo de 3? Sí\n",
            "¿Es 42 múltiplo de 5? No\n",
            "¿Es 42 múltiplo de 7? Sí\n",
            "¿Es 42 múltiplo de 9? No\n",
            "¿Es 42 múltiplo de 10? No\n",
            "¿Es 42 múltiplo de 11? No\n"
          ]
        }
      ],
      "source": [
        "# Definir el número dado\n",
        "num = 42\n",
        "\n",
        "# Verificar si es múltiplo de 2, 3, 5, 7, 9, 10 y 11\n",
        "es_multiplo_de_2 = num % 2 == 0\n",
        "es_multiplo_de_3 = num % 3 == 0\n",
        "es_multiplo_de_5 = num % 5 == 0\n",
        "es_multiplo_de_7 = num % 7 == 0\n",
        "es_multiplo_de_9 = num % 9 == 0\n",
        "es_multiplo_de_10 = num % 10 == 0\n",
        "es_multiplo_de_11 = num % 11 == 0\n",
        "\n",
        "# Mostrar resultados\n",
        "print(f\"¿Es {num} múltiplo de 2? {'Sí' if es_multiplo_de_2 else 'No'}\")\n",
        "print(f\"¿Es {num} múltiplo de 3? {'Sí' if es_multiplo_de_3 else 'No'}\")\n",
        "print(f\"¿Es {num} múltiplo de 5? {'Sí' if es_multiplo_de_5 else 'No'}\")\n",
        "print(f\"¿Es {num} múltiplo de 7? {'Sí' if es_multiplo_de_7 else 'No'}\")\n",
        "print(f\"¿Es {num} múltiplo de 9? {'Sí' if es_multiplo_de_9 else 'No'}\")\n",
        "print(f\"¿Es {num} múltiplo de 10? {'Sí' if es_multiplo_de_10 else 'No'}\")\n",
        "print(f\"¿Es {num} múltiplo de 11? {'Sí' if es_multiplo_de_11 else 'No'}\")"
      ]
    },
    {
      "cell_type": "markdown",
      "metadata": {},
      "source": [
        "💡 *Otra opción* \n",
        "\n",
        "<img src='Bucle.png'>\n",
        "\n",
        "Ciclo o bucle **for/in** en python\"\n",
        "\n",
        "Definir **(def)** la función **es_multiplo** verifica si un número dado es múltiplo de un divisor específico utilizando el operador de módulo **%**, y luego se itera (se repite el mismo procedimiento varias veces hasta que se alcanza un resultado específico) sobre una lista de divisores para verificar si el número dado es múltiplo de cada uno de ellos.\n",
        "\n",
        "El operador de comparación **(==)** se utiliza para comparar el resultado de cada operación de módulo con cero. Si el resultado de la operación de módulo es cero, entonces el número dado es múltiplo del número específico, por lo que la expresión num % x == 0 devolverá 'Sí', de lo contrario devolverá 'No'.\n",
        "\n",
        "Se asigna el valor 42 a la variable **num**. Este es el número que se verificará si es múltiplo de varios divisores.\n",
        "\n",
        "Se define una lista llamada divisores que contiene los números (2, 3, 5, 7, 9, 10 y 11) por los cuales se verificará si **num** es múltiplo.\n",
        "\n",
        "Los resultados se imprimen en pantalla se utiliza un [bucle for](https://www.mclibre.org/consultar/python/lecciones/python-for.html) para recorrer cada elemento en la lista divisores. La sentencia **for/in** es una sentencia de bucle que se repite en una secuencia, en este caso recorre la lista de divisores uno por uno en el orden con el que aparecen, asignando cada elemento a la variable divisor en cada repetición o iteración.\n",
        "\n",
        "El [bucle](https://tutorial.recursospython.com/bucles/#google_vignette) **for** ejecuta el bloque de código indentado (en este caso la llamada a **print()**) tantas veces como elementos haya en la colección indicada a la derecha del operador in. Pero, cada vez que ese código es ejecutado, la variable divisor tendrá un valor diferente: en la primera ejecución será igual a 2; en la segunda, a 3; y así hasta alcanzar el final de la lista.\n",
        "\n",
        "Dentro del **bucle for**, se utiliza la variable divisor en una cadena formateada **(f\\\"...\\\")** para imprimir la pregunta \\\"¿Es 42 múltiplo de {divisor}?\\\".\n",
        "\n",
        "**{num}** representa el número dado que se está verificando si es múltiplo, y **{divisor}** representa el divisor actual que se está evaluando.\\n\",\"Se utiliza una expresión condicional en la cadena formateada para determinar si num es múltiplo del divisor actual.\\n\",\"La expresión es_multiplo(num, divisor) llama a la función es_multiplo para verificar si num es múltiplo de divisor.\n",
        "\n",
        "Se utiliza una [estructura de control if](https://www.mclibre.org/consultar/python/lecciones/python-if-else.html) para verificar si un número dado es múltiplo de un divisor, y se utiliza una estructura de control **else** para manejar el caso en que el número no sea múltiplo del divisor. Es decir, la estructura de control **if ... else ...** if: Se ejecuta todo lo que este dentro del bloque si determinada condición se cumple, de lo contrario, se omite todo lo que este dentro de este. else: Siempre tiene que ir acompañado y después de un bloque if o else-if, y se ejecuta cuando las condiciones de los bloques anteriores no se cumplen.\n",
        "\n",
        "En inglés \\\"if\\\" significa \\\"si\\\" (condición) y \\\"else\\\" significa \\\"si no\\\".\\n\",\"Si la función es_multiplo devuelve True, se imprime \\\"Sí\\\"; de lo contrario, se imprime \\\"No\\\".\\n\",\"La función **print()** se utiliza para mostrar los resultados de cada verificación de múltiplo en pantalla."
      ]
    },
    {
      "cell_type": "code",
      "execution_count": 5,
      "metadata": {},
      "outputs": [
        {
          "name": "stdout",
          "output_type": "stream",
          "text": [
            "¿Es 42 múltiplo de 2? Sí\n",
            "¿Es 42 múltiplo de 3? Sí\n",
            "¿Es 42 múltiplo de 5? No\n",
            "¿Es 42 múltiplo de 7? Sí\n",
            "¿Es 42 múltiplo de 9? No\n",
            "¿Es 42 múltiplo de 10? No\n",
            "¿Es 42 múltiplo de 11? No\n"
          ]
        }
      ],
      "source": [
        "def es_multiplo(num, divisor):\n",
        "    return num % divisor == 0\n",
        "\n",
        "# Definir el número dado\n",
        "num = 42\n",
        "\n",
        "# Lista de divisores a verificar\n",
        "divisores = [2, 3, 5, 7, 9, 10, 11]\n",
        "\n",
        "# Mostrar resultados\n",
        "for divisor in divisores:\n",
        "    print(f\"¿Es {num} múltiplo de {divisor}? {'Sí' if es_multiplo(num, divisor) else 'No'}\")"
      ]
    },
    {
      "cell_type": "markdown",
      "metadata": {},
      "source": [
        "💡*También se puede resolver mediante la siguiente opción:*\n",
        "\n",
        "Definir el número dado **num** como 42.\n",
        "\n",
        "Crear una lista de **divisores** que queremos verificar. Esta lista contiene los números 2, 3, 5, 7, 9, 10 y 11.\n",
        "\n",
        "Utilizamos un [bucle for](https://www.mclibre.org/consultar/python/lecciones/python-for.html) para recorrer cada elemento en la lista divisores.\n",
        "\n",
        "El operador de comparación **(==)** se utiliza para comparar el resultado de cada operación de módulo con cero. Si el resultado de la operación de módulo es cero, entonces el número dado es múltiplo del número específico, por lo que la expresión num % x == 0 devolverá 'Sí', de lo contrario devolverá 'No'.\n",
        "\n",
        "Dentro del bucle, utilizamos una sentencia condicional [if-else](https://www.mclibre.org/consultar/python/lecciones/python-if-else.html) para verificar si el número dado es múltiplo de cada divisor. Si el residuo de la división de **num** por divisor es cero, entonces **num** es múltiplo de divisor. En tal caso, imprimimos \\\"Sí\\\". De lo contrario, imprimimos \\\"No\\\".\n",
        "\n",
        "La función **print()** muestra los resultados en pantalla."
      ]
    },
    {
      "cell_type": "code",
      "execution_count": 6,
      "metadata": {},
      "outputs": [
        {
          "name": "stdout",
          "output_type": "stream",
          "text": [
            "¿Es 42 múltiplo de 2? Sí\n",
            "¿Es 42 múltiplo de 3? Sí\n",
            "¿Es 42 múltiplo de 5? No\n",
            "¿Es 42 múltiplo de 7? Sí\n",
            "¿Es 42 múltiplo de 9? No\n",
            "¿Es 42 múltiplo de 10? No\n",
            "¿Es 42 múltiplo de 11? No\n"
          ]
        }
      ],
      "source": [
        "# Definir el número dado\n",
        "num = 42\n",
        "\n",
        "# Lista de divisores a verificar\n",
        "divisores = [2, 3, 5, 7, 9, 10, 11]\n",
        "\n",
        "# Mostrar resultados\n",
        "for divisor in divisores:\n",
        "    if num % divisor == 0:\n",
        "        print(f\"¿Es {num} múltiplo de {divisor}? Sí\")\n",
        "    else:\n",
        "        print(f\"¿Es {num} múltiplo de {divisor}? No\")"
      ]
    },
    {
      "cell_type": "markdown",
      "metadata": {
        "id": "fbkiEpmUI2iZ"
      },
      "source": [
        "<a id=\"ejemplos\"></a>\n",
        "# Ejemplos\n"
      ]
    },
    {
      "cell_type": "markdown",
      "metadata": {
        "id": "C2Iqf0o9I_Ca"
      },
      "source": [
        "Aquí se señala la importancia de que los identificadores sean \"sensibles a mayúsculas y minúsculas\", siendo qué numero y Numero son dos variables diferentes."
      ]
    },
    {
      "cell_type": "code",
      "execution_count": null,
      "metadata": {
        "id": "_zUTgpPoO4mD"
      },
      "outputs": [],
      "source": [
        "numero = 12 # Se crea la variable \"numero\"\n",
        "Numero = 86 # Se crea la variable \"Numero\", siendo un identificador completamente diferente\n",
        "\n",
        "print (\"La variable ´numero´, tiene un valor de:\", numero, \", mientras que la variable ´Numero´ tiene el valor de:\", Numero, \". Demostrando así que ambas son completamente diferentes para Python.\")"
      ]
    }
  ],
  "metadata": {
    "colab": {
      "collapsed_sections": [
        "jmd7_BeKnE5v"
      ],
      "include_colab_link": true,
      "provenance": []
    },
    "kernelspec": {
      "display_name": "Python 3",
      "name": "python3"
    },
    "language_info": {
      "codemirror_mode": {
        "name": "ipython",
        "version": 3
      },
      "file_extension": ".py",
      "mimetype": "text/x-python",
      "name": "python",
      "nbconvert_exporter": "python",
      "pygments_lexer": "ipython3",
      "version": "3.12.2"
    }
  },
  "nbformat": 4,
  "nbformat_minor": 0
}
