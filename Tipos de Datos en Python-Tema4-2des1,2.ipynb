{
  "cells": [
    {
      "cell_type": "markdown",
      "metadata": {
        "colab_type": "text",
        "id": "view-in-github"
      },
      "source": [
        "<a href=\"https://colab.research.google.com/github/MilagrosPozzo/Programacion-1/blob/main/2_4_Tipos_de_datos_y_operadores.ipynb\" target=\"_parent\"><img src=\"https://colab.research.google.com/assets/colab-badge.svg\" alt=\"Open In Colab\"/></a>"
      ]
    },
    {
      "cell_type": "markdown",
      "metadata": {
        "id": "rjg0ZURjsv4z"
      },
      "source": [
        "<a id=\"des1\"> </a>\n",
        "# Desafío 1: Clasificar números\n",
        "\n",
        "Dado tres números distintos, clasificarlos en orden ascendente utilizando comparaciones encadenadas y operadores lógicos."
      ]
    },
    {
      "cell_type": "markdown",
      "metadata": {},
      "source": [
        "### Descripción general\n",
        "\n",
        "Se definen los tres números distintos asignándoles valores directamente a las variables **num1**, **num2** y **num3**.\n",
        "\n",
        "Se utiliza la función **min()** para encontrar el número más pequeño de los tres y se asigna a la variable menor.\n",
        "\n",
        "Se utiliza la función **max()** para encontrar el número más grande de los tres y se asigna a la variable mayor.\n",
        "\n",
        "El número intermedio se calcula restando el menor y el mayor de la suma de los tres números, y se asigna a la variable medio.\n",
        "\n",
        "Finalmente, se imprime un mensaje con los números en orden ascendente utilizando una cadena formateada con **f-strings**."
      ]
    },
    {
      "cell_type": "markdown",
      "metadata": {},
      "source": [
        "### Explicación del código:"
      ]
    },
    {
      "cell_type": "code",
      "execution_count": 3,
      "metadata": {},
      "outputs": [
        {
          "name": "stdout",
          "output_type": "stream",
          "text": [
            "Tipos de Datos y Operadores-Tema4-2des1:\n",
            "\n",
            "Los números en orden ascendente son: 2, 5, 8\n"
          ]
        }
      ],
      "source": [
        "print(\"Tipos de Datos y Operadores-Tema4-2des1:\\n\") #Nombre de la actividad, tema(4), bloque(2), desafío(1))\n",
        "# Definir tres números distintos\n",
        "num1 = 5\n",
        "num2 = 2\n",
        "num3 = 8\n",
        "\n",
        "# Clasificar los números en orden ascendente\n",
        "menor = min(num1, num2, num3)\n",
        "mayor = max(num1, num2, num3)\n",
        "medio = sum([num1, num2, num3]) - menor - mayor\n",
        "\n",
        "# Imprimir los números en orden ascendente\n",
        "print(f\"Los números en orden ascendente son: {menor}, {medio}, {mayor}\")"
      ]
    },
    {
      "cell_type": "markdown",
      "metadata": {},
      "source": [
        "Ver opción de solución en www.programiz.com: https://www.programiz.com/online-compiler/25xr8pTBlVCr1"
      ]
    },
    {
      "cell_type": "markdown",
      "metadata": {
        "id": "F33J-X7dRTmh"
      },
      "source": [
        "<a id=\"des2\"> </a>\n",
        "# Desafío 2: Calcular promedio\n",
        "Crear un programa que lea 5 calificaciones y calcule su promedio"
      ]
    },
    {
      "cell_type": "markdown",
      "metadata": {},
      "source": [
        "![imagen](https://favtutor.com/resources/images/uploads/Find_Average_of_List_Python.png)"
      ]
    },
    {
      "cell_type": "markdown",
      "metadata": {},
      "source": [
        "### Descripción general\n",
        "Este código toma un conjunto de cinco calificaciones almacenadas en una lista, calcula la suma de esas calificaciones, y luego calcula el promedio dividiendo la suma por el número de calificaciones (en este caso, cinco). \n",
        "\n",
        "Finalmente, imprime el valor del promedio calculado.\n",
        "\n",
        "### Explicación del código\n",
        "-Definir las calificaciones:Se define una lista llamada calificaciones que contiene cinco calificaciones de ejemplo."
      ]
    },
    {
      "cell_type": "code",
      "execution_count": null,
      "metadata": {},
      "outputs": [],
      "source": [
        "calificaciones = [10, 9, 8, 10, 9]"
      ]
    },
    {
      "cell_type": "markdown",
      "metadata": {},
      "source": [
        "-Calcular la suma de las calificaciones:La función sum() se utiliza para calcular la suma de todos los elementos en la lista calificaciones.\n",
        "\n",
        "suma_de_calificaciones almacenará el resultado de esta suma."
      ]
    },
    {
      "cell_type": "code",
      "execution_count": null,
      "metadata": {},
      "outputs": [],
      "source": [
        "suma_de_calificaciones = sum(calificaciones)"
      ]
    },
    {
      "cell_type": "markdown",
      "metadata": {},
      "source": [
        "-Calcular el promedio sin usar len():Sabemos que la lista contiene exactamente 5 calificaciones, por lo que definimos numero_de_calificaciones como 5.\n",
        "\n",
        "El promedio se calcula dividiendo la suma de las calificaciones por 5."
      ]
    },
    {
      "cell_type": "code",
      "execution_count": 4,
      "metadata": {},
      "outputs": [],
      "source": [
        "numero_de_calificaciones = 5\n",
        "promedio = suma_de_calificaciones / numero_de_calificaciones"
      ]
    },
    {
      "cell_type": "markdown",
      "metadata": {},
      "source": [
        "El código quedaría:"
      ]
    },
    {
      "cell_type": "code",
      "execution_count": 6,
      "metadata": {},
      "outputs": [
        {
          "name": "stdout",
          "output_type": "stream",
          "text": [
            "Tipos de Datos y Operadores-Tema4-2des2:\n",
            "\n"
          ]
        },
        {
          "data": {
            "text/plain": [
              "9.2"
            ]
          },
          "execution_count": 6,
          "metadata": {},
          "output_type": "execute_result"
        }
      ],
      "source": [
        "print(\"Tipos de Datos y Operadores-Tema4-2des2:\\n\") #Nombre de la actividad, tema(4), bloque(2), desafío(2)\n",
        "# Definir las calificaciones\n",
        "calificaciones = [10, 9, 8, 10, 9]\n",
        "\n",
        "# Calcular la suma de las calificaciones\n",
        "suma_de_calificaciones = sum(calificaciones)\n",
        "\n",
        "# Calcular el promedio asumiendo que siempre hay 5 calificaciones\n",
        "numero_de_calificaciones = 5\n",
        "promedio = suma_de_calificaciones / numero_de_calificaciones\n",
        "\n",
        "# El promedio calculado está ahora almacenado en la variable 'promedio'\n",
        "promedio"
      ]
    },
    {
      "cell_type": "markdown",
      "metadata": {},
      "source": [
        "Ver opción de solución en www.programiz.com: https://www.programiz.com/online-compiler/2NwTUnxDkBeTv"
      ]
    },
    {
      "cell_type": "markdown",
      "metadata": {},
      "source": [
        "💡 *Otra opción de solución*\n",
        "\n",
        "### Descripción general\n",
        " El usuario ingresa las 5 calificaciones. El programa calcula la suma de estas calificaciones y luego divide esa suma por el número de calificaciones (5) para obtener el promedio.\n",
        "\n",
        " ### Explicación del código\n",
        "- Se utilizan cinco líneas con la función input() para solicitar al usuario que ingrese cada una de las cinco calificaciones. La función **float** se utiliza para convertir la entrada del usuario (que es una cadena de texto) a un número de punto flotante.\n",
        "- Se calcula la suma de las cinco calificaciones almacenándola en la variable suma_calificaciones.\n",
        "- Se calcula el promedio dividiendo suma_calificaciones entre 5 (el número de calificaciones) y se almacena en la variable promedio.\n",
        "- Finalmente, se imprime el valor del promedio utilizando la función print()."
      ]
    },
    {
      "cell_type": "code",
      "execution_count": null,
      "metadata": {},
      "outputs": [],
      "source": [
        "print(\"Tipos de Datos y Operadores-Tema4-2des2:\\n\") #Nombre de la actividad, tema(4), bloque(2), desafío(2)\n",
        "# Leer las 5 calificaciones del usuario\n",
        "calificacion1 = float(input(\"Ingrese la calificación 1: \"))\n",
        "calificacion2 = float(input(\"Ingrese la calificación 2: \"))\n",
        "calificacion3 = float(input(\"Ingrese la calificación 3: \"))\n",
        "calificacion4 = float(input(\"Ingrese la calificación 4: \"))\n",
        "calificacion5 = float(input(\"Ingrese la calificación 5: \"))\n",
        "\n",
        "# Calcular la suma de las calificaciones\n",
        "suma_calificaciones = calificacion1 + calificacion2 + calificacion3 + calificacion4 + calificacion5\n",
        "\n",
        "# Calcular el promedio\n",
        "promedio = suma_calificaciones / 5\n",
        "\n",
        "# Imprimir el promedio\n",
        "print(\"El promedio de las calificaciones es:\", promedio)"
      ]
    },
    {
      "cell_type": "markdown",
      "metadata": {},
      "source": [
        "Ver opción de solución en www.programiz.com: https://www.programiz.com/online-compiler/24XQnSQuswRNp"
      ]
    },
    {
      "cell_type": "markdown",
      "metadata": {},
      "source": [
        "💡*Otra opción de solución es utilizando la función len()*\n",
        "### Descripción general\n",
        "Así es como funciona el código:\n",
        "\n",
        "- Define una lista de cinco números.\n",
        "- Calcula la suma de los números de la lista.\n",
        "- Calcula el promedio de los números dividiendo la suma por el número de números en la lista.\n",
        "- Imprime el promedio a la consola.\n",
        "\n",
        "La función sum() se utiliza para calcular la suma de todos los elementos en la lista calificaciones.\n",
        "\n",
        "La función [len()](https://www.mclibre.org/consultar/python/lecciones/python-range.html) se utiliza para obtener el número de elementos en la lista calificaciones."
      ]
    },
    {
      "cell_type": "code",
      "execution_count": null,
      "metadata": {},
      "outputs": [
        {
          "name": "stdout",
          "output_type": "stream",
          "text": [
            "El promedio de los números es: 9.2\n"
          ]
        }
      ],
      "source": [
        "print(\"Tipos de Datos y Operadores-Tema4-2des2:\\n\") #Nombre de la actividad, tema(4), bloque(2), desafío(2)\n",
        "# Calcular el promedio de 5 números. \n",
        " \n",
        "# Definir los números \n",
        "números = [10, 9, 8, 10, 9] \n",
        " \n",
        "# Calcular la suma de los números. \n",
        "suma_de_números = sum(números) \n",
        " \n",
        "# Calcular el promedio \n",
        "promedio = suma_de_números / len(números) \n",
        " \n",
        "# Imprimir el promedio \n",
        "print(f\"El promedio de los números es: {promedio}\") "
      ]
    },
    {
      "cell_type": "markdown",
      "metadata": {},
      "source": [
        "Este código genera lo siguiente:"
      ]
    },
    {
      "cell_type": "code",
      "execution_count": null,
      "metadata": {},
      "outputs": [],
      "source": [
        "El promedio de los números es: 9.2"
      ]
    },
    {
      "cell_type": "markdown",
      "metadata": {},
      "source": [
        "Ver opción de solución en www.programiz.com: https://www.programiz.com/online-compiler/4YuHBW5Rgtrnb"
      ]
    }
  ],
  "metadata": {
    "colab": {
      "collapsed_sections": [
        "jmd7_BeKnE5v"
      ],
      "include_colab_link": true,
      "provenance": []
    },
    "kernelspec": {
      "display_name": "Python 3",
      "name": "python3"
    },
    "language_info": {
      "codemirror_mode": {
        "name": "ipython",
        "version": 3
      },
      "file_extension": ".py",
      "mimetype": "text/x-python",
      "name": "python",
      "nbconvert_exporter": "python",
      "pygments_lexer": "ipython3",
      "version": "3.12.2"
    }
  },
  "nbformat": 4,
  "nbformat_minor": 0
}
