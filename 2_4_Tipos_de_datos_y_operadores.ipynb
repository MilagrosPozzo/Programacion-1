{
  "cells": [
    {
      "cell_type": "markdown",
      "metadata": {
        "colab_type": "text",
        "id": "view-in-github"
      },
      "source": [
        "<a href=\"https://colab.research.google.com/github/MilagrosPozzo/Programacion-1/blob/main/2_4_Tipos_de_datos_y_operadores.ipynb\" target=\"_parent\"><img src=\"https://colab.research.google.com/assets/colab-badge.svg\" alt=\"Open In Colab\"/></a>"
      ]
    },
    {
      "cell_type": "markdown",
      "metadata": {
        "id": "NbHpVJ6C3yWt"
      },
      "source": [
        "<a id=\"des3\"> </a>\n",
        "# Desafío 3: Convertidor de temperaturas\n",
        "Realizar conversiones de una temperatura dada en Celsius a Fahrenheit y Kelvin utilizando operaciones directas sobre las variables. Los cálculos se realizarán directamente al asignar los valores a las variables."
      ]
    },
    {
      "cell_type": "markdown",
      "metadata": {},
      "source": [
        "### Descripción general\n",
        "Para convertir la temperatura dada en grados Celsius a Fahrenheit y Kelvin, se utilizan las siguientes fórmulas de conversión de temperatura:"
      ]
    },
    {
      "cell_type": "markdown",
      "metadata": {},
      "source": [
        "<img src='Temp_C_a_FyK.png'>\n"
      ]
    },
    {
      "cell_type": "markdown",
      "metadata": {},
      "source": [
        "El grado Celsius (también conocido como centígrado), que lleva el nombre del astrónomo sueco Anders Celsius, sirve como unidad de medida de temperatura en el SI. El siguiente algoritmo proporciona una secuencia de pasos a seguir al escribir un programa Python para convertir grados Celsius a Fahrenheit y Kelvin."
      ]
    },
    {
      "cell_type": "markdown",
      "metadata": {},
      "source": [
        "### Explicación del código\n",
        "1. Crear referencias que asigne cada escala de temperatura a un identificador único:"
      ]
    },
    {
      "cell_type": "code",
      "execution_count": null,
      "metadata": {},
      "outputs": [],
      "source": [
        "TEMPERATURA_ESCALAS = {\n",
        "    'Celsius': 'C',\n",
        "    'Fahrenheit': 'F',\n",
        "    'Kelvin': 'K'\n",
        "}"
      ]
    },
    {
      "cell_type": "markdown",
      "metadata": {},
      "source": [
        "2. Comenzar definiendo una *variable en grados centígrados* y asignándole el valor 37. Esta es la temperatura Celsius predefinida, que se convertirá a Fahrenheit y Kelvin.\n",
        "\n",
        "Se utilizan [operadores de asignación (=)](https://ellibrodepython.com/operadores-asignacion), para asignar valores a las variables C, F y K.\n",
        "\n",
        "3. *Conversión a Fahrenheit:* Se realiza la conversión de la temperatura en grados Celsius a grados Fahrenheit utilizando la fórmula de conversión: F=(1.8×C)+32 Se multiplica la temperatura en grados Celsius por 1.8 y luego se le suma 32 para obtener la temperatura equivalente en grados Fahrenheit. El resultado se almacena en la *variable F (fahrenheit).*\n",
        "\n",
        "Se utilizan [Operadores aritméticos (*, +)](https://ellibrodepython.com/operadores-aritmeticos), para realizar operaciones aritméticas en las temperaturas. Por ejemplo: (1.8 * C) + 32: calcula la conversión de temperatura de Celsius a Fahrenheit.\n",
        "\n",
        "*Conversión a Kelvin:* Se lleva a cabo la conversión de la temperatura en grados Celsius a Kelvin utilizando la fórmula: K=C+273.15 Se suma 273.15 a la temperatura en grados Celsius para obtener la temperatura equivalente en Kelvin. El resultado se almacena en la *variable K (Kelvin)*. \n",
        "\n",
        "4. Mostrar resultados: Se imprimen los resultados en pantalla utilizando la *función print()*, tres veces para mostrar la temperatura Celsius original y la temperatura Fahrenheit y Kelvin equivalente. La temperatura Celsius original se imprime sin decimales. La temperatura equivalente en Fahrenheit y Kelvin se imprime con varios decimales. Se realiza corrección para reducir los decimales a dos. La fórmula de todas las conversiones se muestra arriba en la sección de descripción general. El código de la función se muestra a continuación:"
      ]
    },
    {
      "cell_type": "code",
      "execution_count": 6,
      "metadata": {},
      "outputs": [
        {
          "name": "stdout",
          "output_type": "stream",
          "text": [
            "Tipos de Datos y Operadores-Tema4-2des3:\n",
            "\n",
            "Temperatura Celsius original: 37\n",
            "Temperatura en Fahrenheit: 98.60000000000001\n",
            "Temperatura en Kelvin: 310.15\n"
          ]
        }
      ],
      "source": [
        "print(\"Tipos de Datos y Operadores-Tema4-2des3:\\n\") #Nombre de la actividad, tema(4), bloque(2), desafío(3)\n",
        "# Temperatura Celsius predefinida\n",
        "C = 37\n",
        "\n",
        "# Conversión a Fahrenheit\n",
        "F = (1.8 * C) + 32\n",
        "\n",
        "# Conversión a Kelvin\n",
        "K = C + 273.15\n",
        "\n",
        "# Mostrar las temperaturas\n",
        "print (\"Temperatura Celsius original:\", C)\n",
        "print(\"Temperatura en Fahrenheit:\", F)\n",
        "print(\"Temperatura en Kelvin:\", K)"
      ]
    },
    {
      "cell_type": "markdown",
      "metadata": {},
      "source": [
        "Ver solución en el siguiente link: https://replit.com/@milagrospozzofa/Tarea2-4des3\n",
        "\n",
        "Otra opción de solución en www.programiz.com: https://www.programiz.com/online-compiler/5c2f4m4uegW5N"
      ]
    },
    {
      "cell_type": "markdown",
      "metadata": {},
      "source": [
        "💡*Corrección. Este código en Python es una cadena de formato que muestra la temperatura en diferentes unidades (Celsius a Fahrenheit y Kelvin) con un cierto número de decimales específico.*\n",
        "\n",
        "En este código se utilizan **operadores aritméticos (*, +)**, para realizar operaciones aritméticas en las temperaturas. Por ejemplo:\\n\",\"(1.8 * C) + 32: calcula la conversión de temperatura de Celsius a Fahrenheit.\\n\",\"print (\\\"Temperatura Celsius original:\\\", C ): Esta línea simplemente imprime la temperatura original en grados Celsius. Donde C es una variable que representa la temperatura en grados Celsius.\n",
        "\n",
        "print(f\\\"Temperatura en Fahrenheit:, {F:.2f}\\\"): Esta línea imprime la temperatura convertida a grados Fahrenheit. Utiliza una cadena de formato con una f-string [cadena formateada](https://docs.python.org/es/3/tutorial/inputoutput.html#formatted-string-literals) que permite incrustar valores de variables dentro de la cadena. {F:.2f} indica que se imprimirá el valor de la variable F con dos decimales (:.2f). La f antes de la cadena de formato indica que es una f-string, lo que permite la interpolación de variables.\n",
        "\n",
        "print(f\\\"Temperatura en Kelvin:, {K:.2f}\\\"): Similar a la línea anterior, esta línea imprime la temperatura convertida a grados Kelvin. También utiliza una f-string con {K:.2f} para imprimir el valor de la variable K con dos decimales.\n",
        "\n",
        "Se utiliza un operador de comparación (:) (dentro de las f-strings), para especificar la precisión de los números decimales en el formateo de cadenas. Por ejemplo: {F:.2f}: indica que el valor de F se formateará como un número de punto flotante (número decimal) con 2 decimales."
      ]
    },
    {
      "cell_type": "code",
      "execution_count": 4,
      "metadata": {},
      "outputs": [
        {
          "name": "stdout",
          "output_type": "stream",
          "text": [
            "Tipos de Datos y Operadores-Tema4-2des3:\n",
            "\n",
            "Temperatura Celsius original: 37\n",
            "Temperatura en Fahrenheit: 98.60\n",
            "Temperatura en Kelvin: 310.15\n"
          ]
        }
      ],
      "source": [
        "print(\"Tipos de Datos y Operadores-Tema4-2des3:\\n\") #Nombre de la actividad, tema(4), bloque(2), desafío(3)\n",
        "# Temperatura Celsius predefinida\n",
        "C = 37\n",
        "\n",
        "# Conversión a Fahrenheit\n",
        "F = (1.8 * C) + 32\n",
        "\n",
        "# Conversión a Kelvin\n",
        "K = C + 273.15\n",
        "\n",
        "# Mostrar las temperaturas con dos decimales\n",
        "print (\"Temperatura Celsius original:\", C )\n",
        "print(f\"Temperatura en Fahrenheit: {F:.2f}\")\n",
        "print(f\"Temperatura en Kelvin: {K:.2f}\")"
      ]
    },
    {
      "cell_type": "markdown",
      "metadata": {},
      "source": [
        "Otra opción de solución en www.programiz.com: https://www.programiz.com/online-compiler/7yAsjgLkBd0ae"
      ]
    },
    {
      "cell_type": "markdown",
      "metadata": {
        "id": "Z8UuJFAo3yWt"
      },
      "source": [
        "<a id=\"des4\"> </a>\n",
        "# Desafío 4: Verificar múltiplos de varios números\n",
        "Objetivo: Determinar si un número dado es múltiplo de 2, 3, 5, 7, 9, 10, y 11 utilizando comparaciones y operadores lógicos.\n",
        "\n",
        "*Descripción:*\n",
        "Crea un programa que, dado un número, verifique si es múltiplo de los números mencionados. Para cada uno de estos números, el programa debe indicar si el número dado es o no un múltiplo de estos.\n",
        "\n",
        "_Ejemplo de lo que se debe lograr:_\n",
        "Supongamos que el número dado es 30. El programa deberá determinar:\n",
        "\n",
        "¿Es 30 múltiplo de 2? Sí\n",
        "\n",
        "¿Es 30 múltiplo de 3? Sí\n",
        "\n",
        "¿Es 30 múltiplo de 5? Sí\n",
        "\n",
        "¿Es 30 múltiplo de 7? No\n",
        "\n",
        "¿Es 30 múltiplo de 9? No\n",
        "\n",
        "¿Es 30 múltiplo de 10? Sí\n",
        "\n",
        "¿Es 30 múltiplo de 11? No\n"
      ]
    },
    {
      "cell_type": "markdown",
      "metadata": {},
      "source": [
        "### Descripción general\n",
        "\n",
        "El objetivo de este código es determinar si un número dado es múltiplo de varios números específicos (en este caso, 2, 3, 5, 7, 9, 10 y 11) utilizando comparaciones y operadores lógicos en Python.\n",
        "\n",
        "#### ¿Qué quiere decir que un número es múltiplo de otro?\n",
        "\n",
        "Un múltiplo de un número es un número que se puede dividir por el número dado y da un resto de cero.\n",
        "\n",
        "#### Determinar si un número es múltiplo de un número dado\n",
        "\n",
        "Para determinar si un número, *x* , es múltiplo de un número dado, *y* , divide *x* por *y*.\n",
        "\n",
        "Verifique el resto después de la división. Si el resto es cero después de la división, entonces *x* es múltiplo del número dado *y* . Si el resto es un número distinto de cero, entonces *x* no es múltiplo del número dado *y*.\n",
        "\n",
        "La forma más sencilla de hacerlo en cuanto a código es utilizar el operador de resto/módulo (%), tal como lo hace cuando intenta encontrar números pares. Entonces la ecuación es algo como esto:"
      ]
    },
    {
      "cell_type": "code",
      "execution_count": null,
      "metadata": {},
      "outputs": [],
      "source": [
        "número1  %  número2  ==  0"
      ]
    },
    {
      "cell_type": "markdown",
      "metadata": {},
      "source": [
        "Esa expresión será verdadera si num1 es múltiplo de num2 y falsa en caso contrario.\n",
        "\n",
        "### Explicación del código\n",
        "1. Definir el número dado. En la primera línea del código se utiliza el operador de asignación **(=)** para asignar el valor 42 a la variable **num**. Esto define el número dado que va a verificar si es múltiplo de otros números.\n",
        "2. Verificar si es múltiplo. Para verificar si num es múltiplo de un número, utilizar el operador de módulo %. Este operador devuelve el resto de la división entre num y el número en cuestión.\n",
        "- Si el resto de la división es cero, significa que num es divisible por ese número y, por lo tanto, es un múltiplo. Por lo tanto, si num % x == 0, donde x es el número en cuestión, entonces es_multiplo_de_x será True.\n",
        "- Si el resto de la división no es cero, num no es divisible por ese número y, por lo tanto, no es un múltiplo. En este caso, es_multiplo_de_x será False.\n",
        "3. Mostrar resultado. La función print() se utiliza para mostrar si num es múltiplo de cada uno de los números dados. Los valores de es_multiplo_de_x serán True o False, que se imprimirán junto con la pregunta \"¿Es num múltiplo de x?\"."
      ]
    },
    {
      "cell_type": "code",
      "execution_count": 5,
      "metadata": {},
      "outputs": [
        {
          "name": "stdout",
          "output_type": "stream",
          "text": [
            "Tipos de Datos y Operadores-Tema4-2des4:\n",
            "\n",
            "¿Es 42 múltiplo de 2? True\n",
            "¿Es 42 múltiplo de 3? True\n",
            "¿Es 42 múltiplo de 5? False\n",
            "¿Es 42 múltiplo de 7? True\n",
            "¿Es 42 múltiplo de 9? False\n",
            "¿Es 42 múltiplo de 10? False\n",
            "¿Es 42 múltiplo de 11? False\n"
          ]
        }
      ],
      "source": [
        "print(\"Tipos de Datos y Operadores-Tema4-2des4:\\n\") #Nombre de la actividad, tema(4), bloque(2), desafío(4)\n",
        "# Definir el número dado\n",
        "num = 42\n",
        "\n",
        "# Verificar si es múltiplo de 2, 3, 5, 7, 9, 10 y 11\n",
        "es_multiplo_de_2 = num % 2 == 0\n",
        "es_multiplo_de_3 = num % 3 == 0\n",
        "es_multiplo_de_5 = num % 5 == 0\n",
        "es_multiplo_de_7 = num % 7 == 0\n",
        "es_multiplo_de_9 = num % 9 == 0\n",
        "es_multiplo_de_10 = num % 10 == 0\n",
        "es_multiplo_de_11 = num % 11 == 0\n",
        "\n",
        "# Mostrar resultados\n",
        "print(\"¿Es\", num, \"múltiplo de 2?\", es_multiplo_de_2)\n",
        "print(\"¿Es\", num, \"múltiplo de 3?\", es_multiplo_de_3)\n",
        "print(\"¿Es\", num, \"múltiplo de 5?\", es_multiplo_de_5)\n",
        "print(\"¿Es\", num, \"múltiplo de 7?\", es_multiplo_de_7)\n",
        "print(\"¿Es\", num, \"múltiplo de 9?\", es_multiplo_de_9)\n",
        "print(\"¿Es\", num, \"múltiplo de 10?\", es_multiplo_de_10)\n",
        "print(\"¿Es\", num, \"múltiplo de 11?\", es_multiplo_de_11)"
      ]
    },
    {
      "cell_type": "markdown",
      "metadata": {},
      "source": [
        "Ver solución en el siguiente link: https://replit.com/@milagrospozzofa/Tarea2-4des4\n",
        "\n",
        "Otra opción de solución en www.programiz.com: https://www.programiz.com/online-compiler/4yAsjgzCOdzrZ"
      ]
    },
    {
      "cell_type": "markdown",
      "metadata": {},
      "source": [
        "💡 **Otra forma de resolución**\n",
        "1. Definir el número dado.\n",
        "2. Lista de respuesta. Crear una lista llamada respuestas que contiene las cadenas \"No\" y \"Sí\". Esta lista se utilizará para seleccionar la respuesta correcta basada en el valor booleano del cálculo de múltiplos.\n",
        "4. Mostrar resultado. Utilizar print junto con concatenación de cadenas para formatear la salida.\n",
        "Convertimos num a cadena usando [str()](https://docs.python.org/es/3/library/stdtypes.html#text-sequence-type-str) para concatenarlo con otras cadenas.\n",
        "Utilizamos la expresión respuestas[num % x == 0] para obtener la respuesta basada en el valor booleano del cálculo de múltiplos.\n",
        "- La función str() se utiliza para convertir el número entero num en una cadena para que pueda ser concatenado con otras cadenas en el mensaje de salida.\n",
        "- La expresión respuestas[num % x == 0] para obtener la respuesta basada en el valor booleano del cálculo de múltiplos:\n",
        "\n",
        "- En Python, la expresión num % x == 0 calcula el residuo de la división de num por x y luego verifica si ese residuo es igual a cero.\n",
        "- Si el residuo es cero, significa que num es múltiplo de x. Esto devuelve True.\n",
        "- La lista respuestas contiene dos elementos: \"No\" y \"Sí\". Está organizada de tal manera que el elemento en el índice 0 (respuestas[0]) es \"No\" y el elemento en el índice 1 (respuestas[1]) es \"Sí\".\n",
        "- Se utiliza la expresión respuestas[num % x == 0] para seleccionar la respuesta apropiada basada en si num es múltiplo de x. Si es múltiplo, esto será True, lo que seleccionará \"Sí\" de la lista respuestas. Si no es múltiplo, será False, lo que seleccionará \"No\" de la lista respuestas."
      ]
    },
    {
      "cell_type": "code",
      "execution_count": 7,
      "metadata": {},
      "outputs": [
        {
          "name": "stdout",
          "output_type": "stream",
          "text": [
            "Tipos de Datos y Operadores-Tema4-2des4:\n",
            "\n",
            "¿Es 42 múltiplo de 2? Sí\n",
            "¿Es 42 múltiplo de 3? Sí\n",
            "¿Es 42 múltiplo de 5? No\n",
            "¿Es 42 múltiplo de 7? Sí\n",
            "¿Es 42 múltiplo de 9? No\n",
            "¿Es 42 múltiplo de 10? No\n",
            "¿Es 42 múltiplo de 11? No\n"
          ]
        }
      ],
      "source": [
        "print(\"Tipos de Datos y Operadores-Tema4-2des4:\\n\") #Nombre de la actividad, tema(4), bloque(2), desafío(4)\n",
        "# Definir el número dado\n",
        "num = 42\n",
        "\n",
        "# Lista para seleccionar \"Sí\" o \"No\" basada en el valor booleano (False es 0 y True es 1)\n",
        "respuestas = [\"No\", \"Sí\"]\n",
        "\n",
        "# Mostrar resultados utilizando print y concatenación de cadenas\n",
        "print(\"¿Es \" + str(num) + \" múltiplo de 2? \" + respuestas[num % 2 == 0])\n",
        "print(\"¿Es \" + str(num) + \" múltiplo de 3? \" + respuestas[num % 3 == 0])\n",
        "print(\"¿Es \" + str(num) + \" múltiplo de 5? \" + respuestas[num % 5 == 0])\n",
        "print(\"¿Es \" + str(num) + \" múltiplo de 7? \" + respuestas[num % 7 == 0])\n",
        "print(\"¿Es \" + str(num) + \" múltiplo de 9? \" + respuestas[num % 9 == 0])\n",
        "print(\"¿Es \" + str(num) + \" múltiplo de 10? \" + respuestas[num % 10 == 0])\n",
        "print(\"¿Es \" + str(num) + \" múltiplo de 11? \" + respuestas[num % 11 == 0])"
      ]
    },
    {
      "cell_type": "markdown",
      "metadata": {},
      "source": [
        "Otra opción de solución en www.programiz.com: https://www.programiz.com/online-compiler/5oVGOztq8ETm4"
      ]
    },
    {
      "cell_type": "markdown",
      "metadata": {},
      "source": [
        "💡 *Otra opción de solución* \n",
        "\n",
        "<img src='Bucle.jpg'>\n",
        "\n",
        "Ciclo o bucle **for/in** en python\"\n",
        "\n",
        "Definir **(def)** la función **es_multiplo** verifica si un número dado es múltiplo de un divisor específico utilizando el operador de módulo **%**, y luego se itera (se repite el mismo procedimiento varias veces hasta que se alcanza un resultado específico) sobre una lista de divisores para verificar si el número dado es múltiplo de cada uno de ellos.\n",
        "\n",
        "El operador de comparación **(==)** se utiliza para comparar el resultado de cada operación de módulo con cero. Si el resultado de la operación de módulo es cero, entonces el número dado es múltiplo del número específico, por lo que la expresión num % x == 0 devolverá 'Sí', de lo contrario devolverá 'No'.\n",
        "\n",
        "Se asigna el valor 42 a la variable **num**. Este es el número que se verificará si es múltiplo de varios divisores.\n",
        "\n",
        "Se define una lista llamada divisores que contiene los números (2, 3, 5, 7, 9, 10 y 11) por los cuales se verificará si **num** es múltiplo.\n",
        "\n",
        "Los resultados se imprimen en pantalla se utiliza un [bucle for](https://www.mclibre.org/consultar/python/lecciones/python-for.html) para recorrer cada elemento en la lista divisores. La sentencia **for/in** es una sentencia de bucle que se repite en una secuencia, en este caso recorre la lista de divisores uno por uno en el orden con el que aparecen, asignando cada elemento a la variable divisor en cada repetición o iteración.\n",
        "\n",
        "El [bucle](https://tutorial.recursospython.com/bucles/#google_vignette) **for** ejecuta el bloque de código indentado (en este caso la llamada a **print()**) tantas veces como elementos haya en la colección indicada a la derecha del operador in. Pero, cada vez que ese código es ejecutado, la variable divisor tendrá un valor diferente: en la primera ejecución será igual a 2; en la segunda, a 3; y así hasta alcanzar el final de la lista.\n",
        "\n",
        "Dentro del **bucle for**, se utiliza la variable divisor en una cadena formateada **(f\\\"...\\\")** para imprimir la pregunta \\\"¿Es 42 múltiplo de {divisor}?\\\".\n",
        "\n",
        "**{num}** representa el número dado que se está verificando si es múltiplo, y **{divisor}** representa el divisor actual que se está evaluando.\\n\",\"Se utiliza una expresión condicional en la cadena formateada para determinar si num es múltiplo del divisor actual.\\n\",\"La expresión es_multiplo(num, divisor) llama a la función es_multiplo para verificar si num es múltiplo de divisor.\n",
        "\n",
        "Se utiliza una [estructura de control if](https://www.mclibre.org/consultar/python/lecciones/python-if-else.html) para verificar si un número dado es múltiplo de un divisor, y se utiliza una estructura de control **else** para manejar el caso en que el número no sea múltiplo del divisor. Es decir, la estructura de control **if ... else ...** if: Se ejecuta todo lo que este dentro del bloque si determinada condición se cumple, de lo contrario, se omite todo lo que este dentro de este. else: Siempre tiene que ir acompañado y después de un bloque if o else-if, y se ejecuta cuando las condiciones de los bloques anteriores no se cumplen.\n",
        "\n",
        "En inglés \\\"if\\\" significa \\\"si\\\" (condición) y \\\"else\\\" significa \\\"si no\\\".\\n\",\"Si la función es_multiplo devuelve True, se imprime \\\"Sí\\\"; de lo contrario, se imprime \\\"No\\\".\\n\",\"La función **print()** se utiliza para mostrar los resultados de cada verificación de múltiplo en pantalla."
      ]
    },
    {
      "cell_type": "code",
      "execution_count": 8,
      "metadata": {},
      "outputs": [
        {
          "name": "stdout",
          "output_type": "stream",
          "text": [
            "Tipos de Datos y Operadores-Tema4-2des4:\n",
            "\n",
            "¿Es 42 múltiplo de 2? Sí\n",
            "¿Es 42 múltiplo de 3? Sí\n",
            "¿Es 42 múltiplo de 5? No\n",
            "¿Es 42 múltiplo de 7? Sí\n",
            "¿Es 42 múltiplo de 9? No\n",
            "¿Es 42 múltiplo de 10? No\n",
            "¿Es 42 múltiplo de 11? No\n"
          ]
        }
      ],
      "source": [
        "print(\"Tipos de Datos y Operadores-Tema4-2des4:\\n\") #Nombre de la actividad, tema(4), bloque(2), desafío(4)\n",
        "def es_multiplo(num, divisor):\n",
        "    return num % divisor == 0\n",
        "\n",
        "# Definir el número dado\n",
        "num = 42\n",
        "\n",
        "# Lista de divisores a verificar\n",
        "divisores = [2, 3, 5, 7, 9, 10, 11]\n",
        "\n",
        "# Mostrar resultados\n",
        "for divisor in divisores:\n",
        "    print(f\"¿Es {num} múltiplo de {divisor}? {'Sí' if es_multiplo(num, divisor) else 'No'}\")"
      ]
    },
    {
      "cell_type": "markdown",
      "metadata": {},
      "source": [
        "Otra opción de solución en www.programiz.com: https://www.programiz.com/online-compiler/0wQjzRl7zTE95"
      ]
    },
    {
      "cell_type": "markdown",
      "metadata": {},
      "source": [
        "💡*También se puede resolver mediante la siguiente opción:*\n",
        "\n",
        "Definir el número dado **num** como 42.\n",
        "\n",
        "Crear una lista de **divisores** que queremos verificar. Esta lista contiene los números 2, 3, 5, 7, 9, 10 y 11.\n",
        "\n",
        "Utilizamos un [bucle for](https://www.mclibre.org/consultar/python/lecciones/python-for.html) para recorrer cada elemento en la lista divisores.\n",
        "\n",
        "El operador de comparación **(==)** se utiliza para comparar el resultado de cada operación de módulo con cero. Si el resultado de la operación de módulo es cero, entonces el número dado es múltiplo del número específico, por lo que la expresión num % x == 0 devolverá 'Sí', de lo contrario devolverá 'No'.\n",
        "\n",
        "Dentro del bucle, utilizamos una sentencia condicional [if-else](https://www.mclibre.org/consultar/python/lecciones/python-if-else.html) para verificar si el número dado es múltiplo de cada divisor. Si el residuo de la división de **num** por divisor es cero, entonces **num** es múltiplo de divisor. En tal caso, imprimimos \\\"Sí\\\". De lo contrario, imprimimos \\\"No\\\".\n",
        "\n",
        "La función **print()** muestra los resultados en pantalla."
      ]
    },
    {
      "cell_type": "code",
      "execution_count": 9,
      "metadata": {},
      "outputs": [
        {
          "name": "stdout",
          "output_type": "stream",
          "text": [
            "Tipos de Datos y Operadores-Tema4-2des4:\n",
            "\n",
            "¿Es 42 múltiplo de 2? Sí\n",
            "¿Es 42 múltiplo de 3? Sí\n",
            "¿Es 42 múltiplo de 5? No\n",
            "¿Es 42 múltiplo de 7? Sí\n",
            "¿Es 42 múltiplo de 9? No\n",
            "¿Es 42 múltiplo de 10? No\n",
            "¿Es 42 múltiplo de 11? No\n"
          ]
        }
      ],
      "source": [
        "print(\"Tipos de Datos y Operadores-Tema4-2des4:\\n\") #Nombre de la actividad, tema(4), bloque(2), desafío(4)\n",
        "# Definir el número dado\n",
        "num = 42\n",
        "\n",
        "# Lista de divisores a verificar\n",
        "divisores = [2, 3, 5, 7, 9, 10, 11]\n",
        "\n",
        "# Mostrar resultados\n",
        "for divisor in divisores:\n",
        "    if num % divisor == 0:\n",
        "        print(f\"¿Es {num} múltiplo de {divisor}? Sí\")\n",
        "    else:\n",
        "        print(f\"¿Es {num} múltiplo de {divisor}? No\")"
      ]
    },
    {
      "cell_type": "markdown",
      "metadata": {},
      "source": [
        "Otra opción de solución en www.programiz.com: https://www.programiz.com/online-compiler/2eYtA7uvY8Ven"
      ]
    },
    {
      "cell_type": "markdown",
      "metadata": {},
      "source": [
        "# Resolución de los Desafíos 1, 2:\n",
        "\n",
        "![imagen](https://encrypted-tbn0.gstatic.com/images?q=tbn:ANd9GcSFKUd8TKlGho5jUUcPimr0MKnVEyIP3uI-TQ&s)\n",
        "\n",
        "https://github.com/MilagrosPozzo/Programacion-1/blob/main/Tipos%20de%20Datos%20en%20Python-Tema4-2des1%2C2.ipynb"
      ]
    }
  ],
  "metadata": {
    "colab": {
      "collapsed_sections": [
        "jmd7_BeKnE5v"
      ],
      "include_colab_link": true,
      "provenance": []
    },
    "kernelspec": {
      "display_name": "Python 3",
      "name": "python3"
    },
    "language_info": {
      "codemirror_mode": {
        "name": "ipython",
        "version": 3
      },
      "file_extension": ".py",
      "mimetype": "text/x-python",
      "name": "python",
      "nbconvert_exporter": "python",
      "pygments_lexer": "ipython3",
      "version": "3.12.2"
    }
  },
  "nbformat": 4,
  "nbformat_minor": 0
}
