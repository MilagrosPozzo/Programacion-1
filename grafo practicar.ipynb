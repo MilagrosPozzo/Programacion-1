{
 "cells": [
  {
   "cell_type": "code",
   "execution_count": 1,
   "metadata": {},
   "outputs": [
    {
     "ename": "NameError",
     "evalue": "name 'Grafo' is not defined",
     "output_type": "error",
     "traceback": [
      "\u001b[1;31m---------------------------------------------------------------------------\u001b[0m",
      "\u001b[1;31mNameError\u001b[0m                                 Traceback (most recent call last)",
      "Cell \u001b[1;32mIn[1], line 1\u001b[0m\n\u001b[1;32m----> 1\u001b[0m grafo \u001b[38;5;241m=\u001b[39m \u001b[43mGrafo\u001b[49m()\n\u001b[0;32m      2\u001b[0m grafo\u001b[38;5;241m.\u001b[39magregar_nodo(\u001b[38;5;124m'\u001b[39m\u001b[38;5;124mA\u001b[39m\u001b[38;5;124m'\u001b[39m)  \u001b[38;5;66;03m# Nodo A, índice 0\u001b[39;00m\n\u001b[0;32m      3\u001b[0m grafo\u001b[38;5;241m.\u001b[39magregar_nodo(\u001b[38;5;124m'\u001b[39m\u001b[38;5;124mX\u001b[39m\u001b[38;5;124m'\u001b[39m)  \u001b[38;5;66;03m# Nodo X, índice 1 (nombre personalizado)\u001b[39;00m\n",
      "\u001b[1;31mNameError\u001b[0m: name 'Grafo' is not defined"
     ]
    }
   ],
   "source": [
    "            \n",
    "grafo = Grafo()\n",
    "grafo.agregar_nodo('A')  # Nodo A, índice 0\n",
    "grafo.agregar_nodo('X')  # Nodo X, índice 1 (nombre personalizado)\n",
    "grafo.agregar_nodo('B')  # Nodo B, índice 2"
   ]
  }
 ],
 "metadata": {
  "kernelspec": {
   "display_name": "Python 3",
   "language": "python",
   "name": "python3"
  },
  "language_info": {
   "codemirror_mode": {
    "name": "ipython",
    "version": 3
   },
   "file_extension": ".py",
   "mimetype": "text/x-python",
   "name": "python",
   "nbconvert_exporter": "python",
   "pygments_lexer": "ipython3",
   "version": "3.12.2"
  }
 },
 "nbformat": 4,
 "nbformat_minor": 2
}
