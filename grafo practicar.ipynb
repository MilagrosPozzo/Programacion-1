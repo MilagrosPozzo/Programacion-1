{
 "cells": [
  {
   "cell_type": "code",
   "execution_count": null,
   "metadata": {},
   "outputs": [],
   "source": [
    "            \n",
    "grafo = Grafo()\n",
    "grafo.agregar_nodo('A')  # Nodo A, índice 0\n",
    "grafo.agregar_nodo('X')  # Nodo X, índice 1 (nombre personalizado)\n",
    "grafo.agregar_nodo('B')  # Nodo B, índice 2"
   ]
  }
 ],
 "metadata": {
  "language_info": {
   "name": "python"
  }
 },
 "nbformat": 4,
 "nbformat_minor": 2
}
