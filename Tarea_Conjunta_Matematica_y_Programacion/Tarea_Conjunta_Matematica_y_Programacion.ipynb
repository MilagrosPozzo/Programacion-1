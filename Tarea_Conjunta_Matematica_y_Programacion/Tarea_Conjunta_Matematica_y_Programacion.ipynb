{
 "cells": [
  {
   "cell_type": "markdown",
   "metadata": {},
   "source": [
    "# Tarea Conjunta: Implementación de Grafos y Caminos Cortos con Dijkstra"
   ]
  },
  {
   "cell_type": "markdown",
   "metadata": {
    "id": "Nyv5epN_RD6r"
   },
   "source": [
    "## Índice\n",
    "\n",
    "1.   [Clase Grafo](#id1)\n",
    "2.   [Algoritmo de Dijkstra](#id2)"
   ]
  },
  {
   "cell_type": "markdown",
   "metadata": {
    "id": "Zrf6O3RVkwZ9"
   },
   "source": [
    "<a id=\"id1\"> </a>\n",
    "# Clase Grafo\n",
    "\n",
    "## Estructura de la Clase Grafo:\n",
    "\n",
    "Crear una clase Grafo que represente un gráfico dirigido usando una matriz de adyacencia. Esto permitirá visualizar y manipular las conexiones entre los nodos en el gráfico.\n",
    "\n",
    "Para implementar la clase *Grafo* con una matriz de adyacencia, seguimos estos pasos:\n",
    "\n",
    "1. **Inicialización de la clase:** Creamos una instancia de Grafo con una matriz de adyacencia vacía y una lista para almacenar los nombres de los nodos.\n",
    "2. **Método para agregar nodos:** Añadimos un método que permite agregar un nodo con un nombre personalizado, expandiendo la matriz para acomodar el nuevo nodo.\n",
    "3. **Método para agregar aristas:** Creamos un método que define las conexiones dirigidas entre nodos, actualizando la matriz con los valores de peso para cada arista.\n",
    "4. **Método para mostrar la matriz de adyacencia:** Implementamos un método que imprime la matriz de adyacencia en pantalla, mostrando los nombres de los nodos y los pesos de cada conexión."
   ]
  },
  {
   "cell_type": "code",
   "execution_count": 14,
   "metadata": {},
   "outputs": [
    {
     "name": "stdout",
     "output_type": "stream",
     "text": [
      "Matriz de Adyacencia:\n",
      "   A  B  C\n",
      "A 0  5  0\n",
      "B 0  0  3\n",
      "C 2  0  0\n"
     ]
    }
   ],
   "source": [
    "# Importamos numpy para facilitar el manejo de matrices\n",
    "import numpy as np\n",
    "\n",
    "# Definición de la clase Grafo\n",
    "class Grafo:\n",
    "    def __init__(self):\n",
    "        # Inicializamos una matriz de adyacencia vacía utilizando numpy\n",
    "        self.matriz_adyacencia = np.array([])  # Matriz que representará el grafo\n",
    "        self.nombres_nodos = []  # Lista para almacenar los nombres de los nodos\n",
    "\n",
    "    def agregar_nodo(self, nombre):\n",
    "        # Añadimos el nombre del nuevo nodo a la lista de nombres\n",
    "        self.nombres_nodos.append(nombre)\n",
    "        \n",
    "        # Aumentamos el tamaño de la matriz para acomodar el nuevo nodo\n",
    "        if self.matriz_adyacencia.size == 0:\n",
    "            # Si la matriz está vacía, inicializamos una matriz 1x1 con un solo elemento 0\n",
    "            self.matriz_adyacencia = np.array([[0]])\n",
    "        else:\n",
    "            # Añadimos una fila y columna de ceros para el nuevo nodo\n",
    "            n = len(self.matriz_adyacencia)  # Cantidad actual de nodos\n",
    "            nueva_matriz = np.zeros((n + 1, n + 1), dtype=int)  # Nueva matriz más grande con enteros\n",
    "            nueva_matriz[:n, :n] = self.matriz_adyacencia  # Copiamos los valores anteriores\n",
    "            self.matriz_adyacencia = nueva_matriz  # Actualizamos la matriz\n",
    "\n",
    "    def agregar_arista(self, inicio, fin, peso):\n",
    "        # Verificamos si los nodos existen en la matriz\n",
    "        if inicio < len(self.matriz_adyacencia) and fin < len(self.matriz_adyacencia):\n",
    "            # Establecemos el peso de la conexión en la posición correspondiente\n",
    "            self.matriz_adyacencia[inicio][fin] = peso  # Peso en la posición inicio, fin\n",
    "        else:\n",
    "            print(\"Uno o ambos nodos no existen en el grafo.\")\n",
    "\n",
    "    def mostrar_matriz(self):\n",
    "        # Mostramos la matriz de adyacencia con nombres de nodos personalizados\n",
    "        print(\"Matriz de Adyacencia:\")\n",
    "        \n",
    "        # Imprimir la cabecera con los nombres de los nodos\n",
    "        print(\"   \" + \"  \".join(self.nombres_nodos))\n",
    "        \n",
    "        # Imprimir cada fila de la matriz con su nombre de nodo correspondiente\n",
    "        for i, fila in enumerate(self.matriz_adyacencia):\n",
    "            # Convertimos cada elemento de la fila a entero para evitar puntos decimales\n",
    "            fila_formateada = \"  \".join(map(str, map(int, fila)))\n",
    "            print(f\"{self.nombres_nodos[i]} {fila_formateada}\")\n",
    "\n",
    "        \n",
    "# Código principal para probar la clase Grafo\n",
    "# Creamos una instancia del grafo\n",
    "grafo = Grafo()\n",
    "\n",
    "# Agregamos nodos al grafo con nombres personalizados\n",
    "grafo.agregar_nodo('A')  # Nodo A\n",
    "grafo.agregar_nodo('B')  # Nodo B\n",
    "grafo.agregar_nodo('C')  # Nodo C\n",
    "\n",
    "# Agregamos aristas entre los nodos\n",
    "grafo.agregar_arista(0, 1, 5)  # Arista de nodo A a nodo B con peso 5\n",
    "grafo.agregar_arista(1, 2, 3)  # Arista de nodo B a nodo C con peso 3\n",
    "grafo.agregar_arista(2, 0, 2)  # Arista de nodo C a nodo A con peso 2\n",
    "\n",
    "# Imprimimos la matriz de adyacencia con los nombres de los nodos\n",
    "grafo.mostrar_matriz()"
   ]
  },
  {
   "cell_type": "markdown",
   "metadata": {},
   "source": [
    "El código permite añadir nuevos nodos y aristas al grafo. Esto es posible gracias a los métodos agregar_nodo y agregar_arista que hemos implementado en la clase Grafo.\n",
    "\n",
    "    agregar_nodo(nombre): Este método aumenta el tamaño de la matriz de adyacencia para incluir un nuevo nodo, permitiendo así extender el grafo dinámicamente.\n",
    "\n",
    "    agregar_arista(inicio, fin, peso): Este método permite definir una conexión (arista) entre dos nodos específicos (inicio y fin) y asignar un peso a esa conexión."
   ]
  },
  {
   "cell_type": "markdown",
   "metadata": {},
   "source": [
    "➡️ Link a solución de clase grafo en www.online-python.com: https://www.online-python.com/wFJxUtuHzi"
   ]
  },
  {
   "cell_type": "markdown",
   "metadata": {
    "id": "MSeGFRBik5fO"
   },
   "source": [
    "<a id=\"id2\"> </a>\n",
    "# Algoritmo de Dijkstra"
   ]
  },
  {
   "cell_type": "markdown",
   "metadata": {
    "id": "oO7oT2c8ncdw"
   },
   "source": [
    "## Algoritmo de Dijkstra para el camino más corto\n",
    "\n",
    "El algoritmo de Dijkstra encuentra el camino más corto desde un nodo de inicio a todos los demás nodos en el grafo. En este caso, calcularemos el costo mínimo y mostraremos el camino desde el nodo origen a cada otro nodo."
   ]
  },
  {
   "cell_type": "code",
   "execution_count": null,
   "metadata": {
    "id": "f-1Z6R6Ir-YK"
   },
   "outputs": [],
   "source": [
    "# Algoritmo de Dijkstra implementado en la clase Grafo\n",
    "def dijkstra(self, inicio):\n",
    "    # Inicializamos las variables para el algoritmo\n",
    "    n = len(self.matriz_adyacencia)  # Número de nodos en el grafo\n",
    "    distancias = [float('inf')] * n  # Distancias iniciales, \"inf\" significa infinito\n",
    "    distancias[inicio] = 0  # La distancia del nodo inicial a sí mismo es 0\n",
    "    visitados = [False] * n  # Lista para rastrear nodos visitados\n",
    "    padres = [-1] * n  # Para rastrear el camino más corto\n",
    "\n",
    "    # Iteración principal para encontrar caminos mínimos\n",
    "    for _ in range(n):\n",
    "        # Selección del nodo no visitado con la menor distancia\n",
    "        min_distancia = float('inf')\n",
    "        nodo_actual = -1\n",
    "        for nodo in range(n):\n",
    "            if not visitados[nodo] and distancias[nodo] < min_distancia:\n",
    "                min_distancia = distancias[nodo]\n",
    "                nodo_actual = nodo\n",
    "\n",
    "        if nodo_actual == -1:  # Si no quedan ningún nodo accesible, salimos del ciclo\n",
    "            break\n",
    "\n",
    "        # Marcamos el nodo seleccionado como visitado\n",
    "        visitados[nodo_actual] = True\n",
    "\n",
    "        # Actualizamos las distancias de los vecinos del nodo seleccionado\n",
    "        for vecino in range(n):\n",
    "            if self.matriz_adyacencia[nodo_actual][vecino] > 0 and not visitados[vecino]:\n",
    "                nueva_distancia = distancias[nodo_actual] + self.matriz_adyacencia[nodo_actual][vecino]\n",
    "                if nueva_distancia < distancias[vecino]:  # Si encontramos una distancia menor\n",
    "                    distancias[vecino] = nueva_distancia  # Actualizamos la distancia mínima\n",
    "                    padres[vecino] = nodo_actual  # Registramos el nodo predecesor\n",
    "\n",
    "    for nodo in range(n):  # Recorre cada nodo del grafo para mostrar el camino más corto desde el nodo inicial\n",
    "        if distancias[nodo] == float('inf'):  # Verifica si la distancia al nodo es infinita (no accesible)\n",
    "        # Si el nodo es inaccesible, imprime un mensaje indicando que no hay camino\n",
    "            print(f\"No hay camino desde el nodo {self.nombres_nodos[inicio]} al nodo {self.nombres_nodos[nodo]}\")\n",
    "    else:\n",
    "        camino = []  # Inicializa una lista vacía para almacenar el camino hacia el nodo actual\n",
    "        actual = nodo  # Comienza desde el nodo de destino actual\n",
    "        while actual != -1:  # Mientras no se haya llegado al nodo de inicio, sigue retrocediendo por el camino\n",
    "            # Inserta el nombre del nodo en el inicio de la lista para construir el camino en orden correcto\n",
    "            camino.insert(0, self.nombres_nodos[actual])  \n",
    "            actual = padres[actual]  # Actualiza `actual` para retroceder al nodo anterior en el camino\n",
    "        # Muestra el camino más corto hacia el nodo junto con el coste acumulado\n",
    "        print(f\"Camino más corto al nodo {self.nombres_nodos[nodo]}: {' -> '.join(camino)} con coste {distancias[nodo]}\")"
   ]
  },
  {
   "cell_type": "markdown",
   "metadata": {},
   "source": [
    "## Código completo clase Grafo con el método Dijkstra:"
   ]
  },
  {
   "cell_type": "code",
   "execution_count": null,
   "metadata": {},
   "outputs": [
    {
     "name": "stdout",
     "output_type": "stream",
     "text": [
      "Matriz de Adyacencia:\n",
      "   A  B  C\n",
      "A 0  5  0\n",
      "B 0  0  3\n",
      "C 2  0  0\n",
      "No hay camino desde el nodo A al nodo C\n",
      "Camino más corto al nodo C: A -> B -> C con coste 8\n"
     ]
    }
   ],
   "source": [
    "# Importamos numpy para facilitar el manejo de matrices\n",
    "import numpy as np\n",
    "\n",
    "# Definición de la clase Grafo\n",
    "class Grafo:\n",
    "    def __init__(self):\n",
    "        # Inicializamos una matriz de adyacencia vacía y una lista para nombres de nodos\n",
    "        self.matriz_adyacencia = np.array([])  # Matriz que representará el grafo\n",
    "        self.nombres_nodos = []  # Lista para almacenar los nombres de los nodos\n",
    "\n",
    "    def agregar_nodo(self, nombre):\n",
    "        # Añadimos el nombre del nuevo nodo a la lista de nombres\n",
    "        self.nombres_nodos.append(nombre)\n",
    "        \n",
    "        # Aumentamos el tamaño de la matriz para acomodar el nuevo nodo\n",
    "        if self.matriz_adyacencia.size == 0:\n",
    "            # Si la matriz está vacía, inicializamos una matriz 1x1 con un solo elemento 0\n",
    "            self.matriz_adyacencia = np.array([[0]])\n",
    "        else:\n",
    "            # Añadimos una fila y columna de ceros para el nuevo nodo\n",
    "            n = len(self.matriz_adyacencia)  # Cantidad actual de nodos\n",
    "            nueva_matriz = np.zeros((n + 1, n + 1), dtype=int)  # Nueva matriz más grande con enteros\n",
    "            nueva_matriz[:n, :n] = self.matriz_adyacencia  # Copiamos los valores anteriores\n",
    "            self.matriz_adyacencia = nueva_matriz  # Actualizamos la matriz\n",
    "\n",
    "    def agregar_arista(self, inicio, fin, peso):\n",
    "        # Verificamos si los nodos existen en la matriz\n",
    "        if inicio < len(self.matriz_adyacencia) and fin < len(self.matriz_adyacencia):\n",
    "            # Establecemos el peso de la conexión en la posición correspondiente\n",
    "            self.matriz_adyacencia[inicio][fin] = peso  # Peso en la posición inicio, fin\n",
    "        else:\n",
    "            print(\"Uno o ambos nodos no existen en el grafo.\")\n",
    "\n",
    "    def mostrar_matriz(self):\n",
    "        # Mostramos la matriz de adyacencia con nombres de nodos personalizados\n",
    "        print(\"Matriz de Adyacencia:\")\n",
    "        \n",
    "        # Imprimir la cabecera con los nombres de los nodos\n",
    "        print(\"   \" + \"  \".join(self.nombres_nodos))\n",
    "        \n",
    "        # Imprimir cada fila de la matriz con su nombre de nodo correspondiente\n",
    "        for i, fila in enumerate(self.matriz_adyacencia):\n",
    "            # Convertimos cada elemento de la fila a entero para evitar puntos decimales\n",
    "            fila_formateada = \"  \".join(map(str, map(int, fila)))\n",
    "            print(f\"{self.nombres_nodos[i]} {fila_formateada}\")\n",
    "\n",
    "# Agregamos al Código completo clase Grafo el método Dijkstra\n",
    "    def dijkstra(self, inicio):\n",
    "        # Inicializamos las variables para el algoritmo\n",
    "        n = len(self.matriz_adyacencia)  # Número de nodos en el grafo\n",
    "        distancias = [float('inf')] * n  # Distancias iniciales, \"inf\" significa infinito\n",
    "        distancias[inicio] = 0  # La distancia del nodo inicial a sí mismo es 0\n",
    "        visitados = [False] * n  # Lista para rastrear nodos visitados\n",
    "        padres = [-1] * n  # Para rastrear el camino más corto\n",
    "\n",
    "        # Iteración principal para encontrar caminos mínimos\n",
    "        for _ in range(n):\n",
    "            # Selección del nodo no visitado con la menor distancia\n",
    "            min_distancia = float('inf')\n",
    "            nodo_actual = -1\n",
    "            for nodo in range(n):\n",
    "                if not visitados[nodo] and distancias[nodo] < min_distancia:\n",
    "                    min_distancia = distancias[nodo]\n",
    "                    nodo_actual = nodo\n",
    "\n",
    "            if nodo_actual == -1:  # Si no quedan ningún nodo accesible, salimos del ciclo\n",
    "                break\n",
    "\n",
    "            # Marcamos el nodo seleccionado como visitado\n",
    "            visitados[nodo_actual] = True\n",
    "\n",
    "            # Actualizamos las distancias de los vecinos del nodo seleccionado\n",
    "            for vecino in range(n):\n",
    "                if self.matriz_adyacencia[nodo_actual][vecino] > 0 and not visitados[vecino]:\n",
    "                    nueva_distancia = distancias[nodo_actual] + self.matriz_adyacencia[nodo_actual][vecino]\n",
    "                    if nueva_distancia < distancias[vecino]:  # Si encontramos una distancia menor\n",
    "                        distancias[vecino] = nueva_distancia  # Actualizamos la distancia mínima\n",
    "                        padres[vecino] = nodo_actual  # Registamos el nodo predecesor\n",
    "\n",
    "            for nodo in range(n):  # Recorre cada nodo del grafo para mostrar el camino más corto desde el nodo inicial\n",
    "                if distancias[nodo] == float('inf'):  # Verifica si la distancia al nodo es infinita (no accesible)\n",
    "        # Si el nodo es inaccesible, imprime un mensaje indicando que no hay camino\n",
    "                   print(f\"No hay camino desde el nodo {self.nombres_nodos[inicio]} al nodo {self.nombres_nodos[nodo]}\")\n",
    "        else:\n",
    "             camino = []  # Inicializa una lista vacía para almacenar el camino hacia el nodo actual\n",
    "             actual = nodo  # Comienza desde el nodo de destino actual\n",
    "             while actual != -1:  # Mientras no se haya llegado al nodo de inicio, sigue retrocediendo por el camino\n",
    "            # Inserta el nombre del nodo en el inicio de la lista para construir el camino en orden correcto\n",
    "                camino.insert(0, self.nombres_nodos[actual])  \n",
    "                actual = padres[actual]  # Actualiza `actual` para retroceder al nodo anterior en el camino\n",
    "        # Muestra el camino más corto hacia el nodo junto con el coste acumulado\n",
    "        print(f\"Camino más corto al nodo {self.nombres_nodos[nodo]}: {' -> '.join(camino)} con coste {distancias[nodo]}\")\n",
    "        \n",
    "# Ejemplo de uso para probar la clase Grafo\n",
    "# Creamos una instancia del grafo\n",
    "grafo = Grafo()\n",
    "\n",
    "# Agregamos nodos al grafo con nombres personalizados\n",
    "grafo.agregar_nodo('A')  # Nodo A\n",
    "grafo.agregar_nodo('B')  # Nodo B\n",
    "grafo.agregar_nodo('C')  # Nodo C\n",
    "\n",
    "# Agregamos aristas entre los nodos\n",
    "grafo.agregar_arista(0, 1, 5)  # Arista de nodo A a nodo B con peso 5\n",
    "grafo.agregar_arista(1, 2, 3)  # Arista de nodo B a nodo C con peso 3\n",
    "grafo.agregar_arista(2, 0, 2)  # Arista de nodo C a nodo A con peso 2\n",
    "\n",
    "# Imprimimos la matriz de adyacencia con los nombres de los nodos\n",
    "grafo.mostrar_matriz()\n",
    "\n",
    "# Ejecutamos el algoritmo de Dijkstra desde el nodo 'A' (índice 0)\n",
    "grafo.dijkstra(0)"
   ]
  },
  {
   "cell_type": "markdown",
   "metadata": {},
   "source": [
    "Explicación de las Secciones Clave del Código\n",
    "\n",
    "    Clase Grafo: La clase Grafo tiene una matriz de adyacencia (matriz_adyacencia) y una lista (nombres_nodos) que almacena los nombres de los nodos.\n",
    "\n",
    "    Método agregar_nodo(nombre): Permite agregar nodos con nombres personalizados, expandiendo la matriz de adyacencia para cada nuevo nodo.\n",
    "\n",
    "    Método agregar_arista(inicio, fin, peso): Crea una conexión dirigida entre dos nodos con un peso específico, representado en la matriz.\n",
    "\n",
    "    Método mostrar_matriz(): Muestra la matriz de adyacencia con los nombres de los nodos, eliminando decimales en los valores de las aristas.\n",
    "\n",
    "    Método dijkstra(inicio):\n",
    "        Implementa el algoritmo de Dijkstra para calcular los caminos más cortos desde un nodo inicial a todos los demás.\n",
    "        Los nombres de los nodos se usan en lugar de índices para imprimir rutas, haciendo la salida más clara."
   ]
  },
  {
   "cell_type": "markdown",
   "metadata": {},
   "source": [
    "➡️ Link a solución de clase grafo + Algoritmo de Dijkstra en www.online-python.com: https://www.online-python.com/Jny3Z8Ewu5"
   ]
  }
 ],
 "metadata": {
  "colab": {
   "collapsed_sections": [
    "jmd7_BeKnE5v"
   ],
   "provenance": []
  },
  "kernelspec": {
   "display_name": "Python 3",
   "name": "python3"
  },
  "language_info": {
   "codemirror_mode": {
    "name": "ipython",
    "version": 3
   },
   "file_extension": ".py",
   "mimetype": "text/x-python",
   "name": "python",
   "nbconvert_exporter": "python",
   "pygments_lexer": "ipython3",
   "version": "3.12.2"
  }
 },
 "nbformat": 4,
 "nbformat_minor": 0
}
