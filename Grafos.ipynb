{
  "nbformat": 4,
  "nbformat_minor": 0,
  "metadata": {
    "colab": {
      "provenance": [],
      "include_colab_link": true
    },
    "kernelspec": {
      "name": "python3",
      "display_name": "Python 3"
    },
    "language_info": {
      "name": "python"
    }
  },
  "cells": [
    {
      "cell_type": "markdown",
      "metadata": {
        "id": "view-in-github",
        "colab_type": "text"
      },
      "source": [
        "<a href=\"https://colab.research.google.com/github/MilagrosPozzo/Programacion-1/blob/main/Grafos.ipynb\" target=\"_parent\"><img src=\"https://colab.research.google.com/assets/colab-badge.svg\" alt=\"Open In Colab\"/></a>"
      ]
    },
    {
      "cell_type": "markdown",
      "source": [
        "# Introducción a los Grafos\n",
        "Los **grafos** son estructuras de datos que representan relaciones entre objetos.\n",
        "Se componen de nodos (o vértices) y aristas (o enlaces) que conectan pares de nodos.\n",
        "Existen múltiples aplicaciones de los grafos en diversas áreas, como redes sociales, transporte, circuitos, entre otras.\n",
        "\n",
        "Existen diferentes tipos de grafos:\n",
        "- **Grafos simples**: Grafos sin aristas múltiples ni bucles.\n",
        "- **Grafos dirigidos**: Grafos cuyas aristas tienen una dirección.\n",
        "- **Grafos ponderados**: Grafos en los que cada arista tiene un peso asociado.\n",
        "\n",
        "Para representar grafos, se utilizan diferentes estructuras como la **matriz de adyacencia** y la **lista de adyacencia**.\n",
        "\n",
        "## Matriz de Adyacencia\n",
        "La **matriz de adyacencia** es una representación de los grafos en una estructura matricial.\n",
        "Cada fila y columna de la matriz representa un nodo y el valor en la posición (i, j) indica la presencia o ausencia de una arista entre los nodos i y j.\n",
        "Para un grafo de n vértices, la matriz de adyacencia es de tamaño n x n.\n",
        "\n",
        "Una matriz de adyacencia es útil para operaciones donde necesitamos verificar rápidamente la conexión entre dos nodos.\n"
      ],
      "metadata": {
        "id": "gdCpvQibq7Cf"
      }
    },
    {
      "cell_type": "code",
      "source": [
        "import numpy as np\n",
        "from collections import deque\n",
        "\n",
        "# Definición de la clase Grafo con métodos vacíos (solo con `pass`)\n",
        "class Grafo:\n",
        "    def __init__(self, num_vertices):\n",
        "        self.num_vertices = num_vertices\n",
        "        self.matriz_adyacencia = np.zeros((num_vertices, num_vertices))\n",
        "\n",
        "    def esSimple(self):\n",
        "        pass\n",
        "\n",
        "    def esCompleto(self):\n",
        "        pass\n",
        "\n",
        "    def esConexo(self):\n",
        "        pass\n",
        "\n",
        "    def grado(self, vertice):\n",
        "        pass\n",
        "\n",
        "    def adyacentes(self, vertice):\n",
        "        pass\n",
        "\n",
        "    def agregar_arista(self, vertice1, vertice2, peso=1):\n",
        "        pass\n",
        "\n",
        "    def eliminar_arista(self, vertice1, vertice2):\n",
        "        pass\n",
        "\n",
        "    def esDirigido(self):\n",
        "        pass\n",
        "\n",
        "    def contarComponentesConexas(self):\n",
        "        pass\n",
        "\n",
        "    def bfs(self, vertice_inicial):\n",
        "        pass\n",
        "\n",
        "    def ciclo(self):\n",
        "        pass\n",
        "\n",
        "    def esRegular(self):\n",
        "        pass\n",
        "\n",
        "    def algoritmoDijkstra(self, inicio):\n",
        "        pass\n",
        "\n",
        "    def mostrar_grafo(self):\n",
        "        pass\n",
        "\n",
        "    def mostrar_grafo_interactivo_pyvis(self):\n",
        "        pass\n",
        "\n",
        "# Creación de un grafo para pruebas con 4 vértices y algunas aristas\n",
        "grafo = Grafo(4)\n",
        "grafo.matriz_adyacencia[0][1] = 1\n",
        "grafo.matriz_adyacencia[1][0] = 1\n",
        "grafo.matriz_adyacencia[1][2] = 1\n",
        "grafo.matriz_adyacencia[2][1] = 1\n",
        "grafo.matriz_adyacencia[2][3] = 1\n",
        "grafo.matriz_adyacencia[3][2] = 1\n",
        "\n",
        "print(\"Matriz de adyacencia inicial:\")\n",
        "print(grafo.matriz_adyacencia)\n",
        "grafo.mostrar_grafo()"
      ],
      "metadata": {
        "id": "pDkI-TqxrB6R"
      },
      "execution_count": null,
      "outputs": []
    },
    {
      "cell_type": "markdown",
      "source": [
        "### Implementación de `esSimple()`\n",
        "El método `esSimple` verifica si el grafo es simple, es decir, si no contiene bucles (aristas que comienzan y terminan en el mismo nodo) ni aristas múltiples.\n"
      ],
      "metadata": {
        "id": "mgOxqoAouIpv"
      }
    },
    {
      "cell_type": "code",
      "source": [
        "def esSimple(self):\n",
        "    \"\"\"Verifica si el grafo es simple (sin bucles ni aristas múltiples).\"\"\"\n",
        "    pass\n",
        "\n",
        "# Asignación a la clase Grafo\n",
        "Grafo.esSimple = esSimple\n",
        "\n",
        "# Prueba de esSimple\n",
        "print(\"¿El grafo es simple?\", grafo.esSimple())\n"
      ],
      "metadata": {
        "id": "l8W9_vVCuKWv"
      },
      "execution_count": null,
      "outputs": []
    },
    {
      "cell_type": "markdown",
      "source": [
        "### Implementación de `esCompleto()`\n",
        "El método `esCompleto` verifica si el grafo es completo. Un grafo es completo cuando todos los nodos están conectados entre sí, es decir, existe una arista entre cada par de nodos.\n",
        "\n",
        "Si el grafo tiene n vértices, entonces un grafo completo tendrá una arista entre cada par de vértices, sin importar el orden. Este tipo de grafo se llama \"Kn\" en teoría de grafos, donde \"n\" es el número de nodos. En un grafo no dirigido, esto significa que cada celda de la matriz de adyacencia (excepto la diagonal) debe tener un valor distinto de cero.\n",
        "\n",
        "Si se encuentra algún par de nodos que no están conectados, el método devuelve `False`. Si todos los pares de nodos están conectados, el método devuelve `True`.\n"
      ],
      "metadata": {
        "id": "I50QQ6vP-QZt"
      }
    },
    {
      "cell_type": "code",
      "source": [
        "def esCompleto(self):\n",
        "    \"\"\"Verifica si el grafo es completo (todos los nodos están conectados entre sí).\"\"\"\n",
        "    pass\n",
        "\n",
        "# Asignación a la clase Grafo\n",
        "Grafo.esCompleto = esCompleto\n",
        "\n",
        "# Prueba del método esCompleto\n",
        "print(\"¿El grafo es completo?\", grafo.esCompleto())\n"
      ],
      "metadata": {
        "id": "E_UrPIYa-Psh"
      },
      "execution_count": null,
      "outputs": []
    },
    {
      "cell_type": "markdown",
      "source": [
        "### Implementación de `esConexo()`\n",
        "El método `esConexo` verifica si el grafo es conexo, es decir, si existe un camino entre todos los pares de nodos.\n"
      ],
      "metadata": {
        "id": "3V2NCyzLuS8d"
      }
    },
    {
      "cell_type": "code",
      "source": [
        "def esConexo(self):\n",
        "    \"\"\"Determina si el grafo es conexo.\"\"\"\n",
        "    visitados = [False] * self.num_vertices\n",
        "\n",
        "    def dfs(v):\n",
        "        visitados[v] = True\n",
        "        for i in range(self.num_vertices):\n",
        "            if self.matriz_adyacencia[v][i] != 0 and not visitados[i]:\n",
        "                dfs(i)\n",
        "\n",
        "    dfs(0)\n",
        "    return all(visitados)\n",
        "\n",
        "# Asignación a la clase Grafo\n",
        "Grafo.esConexo = esConexo\n",
        "\n",
        "# Prueba de esConexo\n",
        "print(\"¿El grafo es conexo?\", grafo.esConexo())\n"
      ],
      "metadata": {
        "id": "RlKRp0dSuV0W"
      },
      "execution_count": null,
      "outputs": []
    },
    {
      "cell_type": "markdown",
      "source": [
        "### Implementación de `grado(vertice)`\n",
        "El método `grado` calcula el grado de un vértice específico, es decir, el número de conexiones que tiene con otros nodos.\n"
      ],
      "metadata": {
        "id": "a0gbNqccuZYK"
      }
    },
    {
      "cell_type": "code",
      "source": [
        "def grado(self, vertice):\n",
        "    \"\"\"Calcula el grado del vértice indicado.\"\"\"\n",
        "    return 0\n",
        "\n",
        "# Asignación a la clase Grafo\n",
        "Grafo.grado = grado\n",
        "\n",
        "# Prueba de grado\n",
        "print(\"Grado del vértice 1:\", grafo.grado(1))\n"
      ],
      "metadata": {
        "id": "jni0DSLmuZ-n"
      },
      "execution_count": null,
      "outputs": []
    },
    {
      "cell_type": "markdown",
      "source": [
        "### Implementación de `adyacentes(vertice)`\n",
        "El método `adyacentes` devuelve los nodos adyacentes a un vértice dado, es decir, los nodos con los que tiene conexión directa.\n"
      ],
      "metadata": {
        "id": "4mVXKHQhumA4"
      }
    },
    {
      "cell_type": "code",
      "source": [
        "def adyacentes(self, vertice):\n",
        "    \"\"\"Devuelve los nodos adyacentes a un vértice dado.\"\"\"\n",
        "    return [i for i in range(1,9)]\n",
        "\n",
        "# Asignación a la clase Grafo\n",
        "Grafo.adyacentes = adyacentes\n",
        "\n",
        "# Prueba de adyacentes\n",
        "print(\"Nodos adyacentes al vértice 1:\", grafo.adyacentes(1))\n"
      ],
      "metadata": {
        "id": "Q8CNF8Sfumfj"
      },
      "execution_count": null,
      "outputs": []
    },
    {
      "cell_type": "markdown",
      "source": [
        "### Implementación de `agregar_arista(vertice1, vertice2, peso=1)`\n",
        "El método `agregar_arista` permite agregar una arista entre dos nodos, con un peso opcional.\n"
      ],
      "metadata": {
        "id": "MmyjDpIuuqes"
      }
    },
    {
      "cell_type": "code",
      "source": [
        "def agregar_arista(self, vertice1, vertice2, peso=1):\n",
        "    \"\"\"Agrega una arista entre dos nodos con un peso opcional.\"\"\"\n",
        "    pass\n",
        "\n",
        "# Asignación a la clase Grafo\n",
        "Grafo.agregar_arista = agregar_arista\n",
        "\n",
        "# Prueba de agregar_arista\n",
        "grafo.agregar_arista(0, 3)\n",
        "print(\"\\nMatriz de adyacencia después de agregar una arista entre 0 y 3:\")\n",
        "print(grafo.matriz_adyacencia)\n"
      ],
      "metadata": {
        "id": "dwB7pqsEurG0"
      },
      "execution_count": null,
      "outputs": []
    },
    {
      "cell_type": "markdown",
      "source": [
        "### Implementación de `eliminar_arista(vertice1, vertice2)`\n",
        "El método `eliminar_arista` permite eliminar una arista entre dos nodos específicos en el grafo, modificando la matriz de adyacencia.\n",
        "\n"
      ],
      "metadata": {
        "id": "0rPRMG4crNtK"
      }
    },
    {
      "cell_type": "code",
      "source": [
        "def eliminar_arista(self, vertice1, vertice2):\n",
        "    \"\"\"Elimina la arista entre dos nodos.\"\"\"\n",
        "    pass\n",
        "\n",
        "# Asignación a la clase Grafo\n",
        "Grafo.eliminar_arista = eliminar_arista\n",
        "\n",
        "# Prueba de eliminar_arista\n",
        "grafo.eliminar_arista(1, 2)\n",
        "print(\"\\nMatriz de adyacencia después de eliminar la arista entre 1 y 2:\")\n",
        "print(grafo.matriz_adyacencia)\n",
        "\n",
        "\n",
        "\n"
      ],
      "metadata": {
        "id": "4TstNmeJrO1l"
      },
      "execution_count": null,
      "outputs": []
    },
    {
      "cell_type": "markdown",
      "source": [
        "### Implementación de `esDirigido()`\n",
        "El método `esDirigido` verifica si el grafo es dirigido, evaluando si la matriz de adyacencia es simétrica.\n"
      ],
      "metadata": {
        "id": "KnjUP326s_mC"
      }
    },
    {
      "cell_type": "code",
      "source": [
        "def esDirigido(self):\n",
        "    \"\"\"Verifica si el grafo es dirigido comparando la simetría de la matriz de adyacencia.\"\"\"\n",
        "    return False\n",
        "\n",
        "# Asignación a la clase Grafo\n",
        "Grafo.esDirigido = esDirigido\n",
        "\n",
        "# Prueba de esDirigido\n",
        "print(\"\\n¿El grafo es dirigido?\", grafo.esDirigido())\n"
      ],
      "metadata": {
        "id": "9m9XUIYEtBYl"
      },
      "execution_count": null,
      "outputs": []
    },
    {
      "cell_type": "markdown",
      "source": [
        "### Implementación de `contarComponentesConexas()`\n",
        "Este método cuenta el número de componentes conexas en el grafo.\n"
      ],
      "metadata": {
        "id": "jGRianbGtJKZ"
      }
    },
    {
      "cell_type": "code",
      "source": [
        "def contarComponentesConexas(self):\n",
        "    \"\"\"Cuenta el número de componentes conexas en el grafo.\"\"\"\n",
        "    visitados = [False] * self.num_vertices\n",
        "    componentes = 0\n",
        "\n",
        "    def dfs(v):\n",
        "        visitados[v] = True\n",
        "        for i in range(self.num_vertices):\n",
        "            if self.matriz_adyacencia[v][i] != 0 and not visitados[i]:\n",
        "                dfs(i)\n",
        "\n",
        "    for v in range(self.num_vertices):\n",
        "        if not visitados[v]:\n",
        "            dfs(v)\n",
        "            componentes += 1\n",
        "\n",
        "    return componentes\n",
        "\n",
        "# Asignación a la clase Grafo\n",
        "Grafo.contarComponentesConexas = contarComponentesConexas\n",
        "\n",
        "# Prueba de contarComponentesConexas\n",
        "print(\"\\nNúmero de componentes conexas en el grafo:\", grafo.contarComponentesConexas())\n"
      ],
      "metadata": {
        "id": "aK0PRDyZtK1a"
      },
      "execution_count": null,
      "outputs": []
    },
    {
      "cell_type": "markdown",
      "source": [
        "### Implementación de `bfs(vertice_inicial)`\n",
        "El método `bfs` realiza una búsqueda en anchura desde un nodo inicial y devuelve los nodos alcanzables desde ese vértice.\n"
      ],
      "metadata": {
        "id": "MVy_H692tOmv"
      }
    },
    {
      "cell_type": "code",
      "source": [
        "def bfs(self, vertice_inicial):\n",
        "    \"\"\"Realiza una búsqueda en anchura desde un nodo inicial y devuelve los nodos alcanzables.\"\"\"\n",
        "    visitados = [False] * self.num_vertices\n",
        "    cola = deque([vertice_inicial])\n",
        "    visitados[vertice_inicial] = True\n",
        "    resultado = []\n",
        "\n",
        "    while cola:\n",
        "        v = cola.popleft()\n",
        "        resultado.append(v)\n",
        "        for i in range(self.num_vertices):\n",
        "            if self.matriz_adyacencia[v][i] != 0 and not visitados[i]:\n",
        "                cola.append(i)\n",
        "                visitados[i] = True\n",
        "\n",
        "    return resultado\n",
        "\n",
        "# Asignación a la clase Grafo\n",
        "Grafo.bfs = bfs\n",
        "\n",
        "# Prueba de bfs\n",
        "print(\"\\nNodos alcanzables desde el nodo 0 usando BFS:\", grafo.bfs(0))\n"
      ],
      "metadata": {
        "id": "fzS2yUewtQLU"
      },
      "execution_count": null,
      "outputs": []
    },
    {
      "cell_type": "markdown",
      "source": [
        "### Implementación de `ciclo()`\n",
        "El método `ciclo` determina si el grafo contiene algún ciclo.\n"
      ],
      "metadata": {
        "id": "Fi0cJ3iOtTBt"
      }
    },
    {
      "cell_type": "code",
      "source": [
        "def ciclo(self):\n",
        "    \"\"\"Determina si el grafo contiene algún ciclo.\"\"\"\n",
        "    visitados = [False] * self.num_vertices\n",
        "\n",
        "    def dfs(v, padre):\n",
        "        visitados[v] = True\n",
        "        for i in range(self.num_vertices):\n",
        "            if self.matriz_adyacencia[v][i] != 0:\n",
        "                if not visitados[i]:\n",
        "                    if dfs(i, v):\n",
        "                        return True\n",
        "                elif i != padre:\n",
        "                    return True\n",
        "        return False\n",
        "\n",
        "    for v in range(self.num_vertices):\n",
        "        if not visitados[v]:\n",
        "            if dfs(v, -1):\n",
        "                return True\n",
        "\n",
        "    return False\n",
        "\n",
        "# Asignación a la clase Grafo\n",
        "Grafo.ciclo = ciclo\n",
        "\n",
        "# Prueba de ciclo\n",
        "print(\"\\n¿El grafo contiene algún ciclo?\", grafo.ciclo())\n"
      ],
      "metadata": {
        "id": "G3O1AwGRtUaJ"
      },
      "execution_count": null,
      "outputs": []
    },
    {
      "cell_type": "markdown",
      "source": [
        "### Implementación de `esRegular()`\n",
        "El método `esRegular` verifica si todos los vértices del grafo tienen el mismo grado.\n"
      ],
      "metadata": {
        "id": "1e67xwactWYk"
      }
    },
    {
      "cell_type": "code",
      "source": [
        "def esRegular(self):\n",
        "    \"\"\"Verifica si el grafo es regular, es decir, si todos los vértices tienen el mismo grado.\"\"\"\n",
        "    pass\n",
        "\n",
        "# Asignación a la clase Grafo\n",
        "Grafo.esRegular = esRegular\n",
        "\n",
        "# Prueba de esRegular\n",
        "print(\"\\n¿El grafo es regular?\", grafo.esRegular())\n"
      ],
      "metadata": {
        "id": "991T-1dbtlfJ"
      },
      "execution_count": null,
      "outputs": []
    },
    {
      "cell_type": "markdown",
      "source": [
        "### Implementación de `algoritmoDijkstra(inicio)`\n",
        "El método `algoritmoDijkstra` encuentra el camino mínimo desde un nodo de inicio a todos los demás nodos usando el algoritmo de Dijkstra.\n"
      ],
      "metadata": {
        "id": "yyRURBotuunP"
      }
    },
    {
      "cell_type": "code",
      "source": [
        "def algoritmoDijkstra(self, inicio):\n",
        "    \"\"\"Implementa el algoritmo de Dijkstra para encontrar caminos mínimos desde un nodo de inicio.\"\"\"\n",
        "    distancias = [float('inf')] * self.num_vertices\n",
        "    distancias[inicio] = 0\n",
        "    visitados = [False] * self.num_vertices\n",
        "\n",
        "    for _ in range(self.num_vertices):\n",
        "        min_dist = float('inf')\n",
        "        min_index = -1\n",
        "\n",
        "        # Encuentra el nodo no visitado con la distancia mínima\n",
        "        for i in range(self.num_vertices):\n",
        "            if not visitados[i] and distancias[i] < min_dist:\n",
        "                min_dist = distancias[i]\n",
        "                min_index = i\n",
        "\n",
        "        # Marca el nodo como visitado\n",
        "        visitados[min_index] = True\n",
        "\n",
        "        # Actualiza la distancia de los nodos adyacentes\n",
        "        for j in range(self.num_vertices):\n",
        "            if self.matriz_adyacencia[min_index][j] != 0 and not visitados[j]:\n",
        "                nueva_dist = distancias[min_index] + self.matriz_adyacencia[min_index][j]\n",
        "                if nueva_dist < distancias[j]:\n",
        "                    distancias[j] = nueva_dist\n",
        "\n",
        "    return distancias\n",
        "\n",
        "# Asignación a la clase Grafo\n",
        "Grafo.algoritmoDijkstra = algoritmoDijkstra\n",
        "\n",
        "# Prueba de algoritmoDijkstra\n",
        "print(\"\\nDistancias mínimas desde el nodo 0:\", grafo.algoritmoDijkstra(0))\n"
      ],
      "metadata": {
        "id": "geXlI8JsuwQT"
      },
      "execution_count": null,
      "outputs": []
    },
    {
      "cell_type": "markdown",
      "source": [
        "### Implementación de `mostrar_grafo()`\n",
        "El método `mostrar_grafo` muestra el grafo visualmente utilizando NetworkX y Matplotlib. Esto ayuda a comprender mejor la estructura del grafo.\n"
      ],
      "metadata": {
        "id": "_cv8iOdiz--u"
      }
    },
    {
      "cell_type": "code",
      "source": [
        "import matplotlib.pyplot as plt\n",
        "import networkx as nx\n",
        "\n",
        "def mostrar_grafo(self):\n",
        "    \"\"\"Muestra el grafo visualmente usando NetworkX y Matplotlib.\"\"\"\n",
        "    G = nx.Graph()\n",
        "\n",
        "    # Agrega nodos y aristas al grafo de NetworkX\n",
        "    for i in range(self.num_vertices):\n",
        "        G.add_node(i)\n",
        "        for j in range(i + 1, self.num_vertices):\n",
        "            if self.matriz_adyacencia[i][j] != 0:\n",
        "                G.add_edge(i, j, weight=self.matriz_adyacencia[i][j])\n",
        "\n",
        "    # Dibujar el grafo\n",
        "    pos = nx.spring_layout(G)  # Layout del grafo\n",
        "    nx.draw(G, pos, with_labels=True, node_color='lightblue', edge_color='gray', node_size=500, font_size=15)\n",
        "    edge_labels = nx.get_edge_attributes(G, 'weight')\n",
        "    nx.draw_networkx_edge_labels(G, pos, edge_labels=edge_labels)\n",
        "    plt.show()\n",
        "\n",
        "# Asignación a la clase Grafo\n",
        "Grafo.mostrar_grafo = mostrar_grafo\n",
        "\n",
        "# Prueba de mostrar_grafo\n",
        "grafo.mostrar_grafo()\n"
      ],
      "metadata": {
        "id": "kQ2L9GcFz_qW"
      },
      "execution_count": null,
      "outputs": []
    },
    {
      "cell_type": "code",
      "source": [
        "!pip install pyvis"
      ],
      "metadata": {
        "id": "aMcz6BiK2YO2"
      },
      "execution_count": null,
      "outputs": []
    },
    {
      "cell_type": "code",
      "source": [
        "from pyvis.network import Network\n",
        "from IPython.display import display, HTML\n",
        "\n",
        "def mostrar_grafo_interactivo_pyvis(self):\n",
        "        \"\"\"Muestra el grafo visualmente en una interfaz interactiva con Pyvis, donde se pueden mover los nodos.\"\"\"\n",
        "        net = Network(notebook=True, cdn_resources=\"remote\")  # Aseguramos recursos CDN remotos\n",
        "\n",
        "        # Agrega nodos al grafo\n",
        "        for i in range(self.num_vertices):\n",
        "            net.add_node(i, label=str(i))\n",
        "\n",
        "        # Agrega aristas basadas en la matriz de adyacencia\n",
        "        for i in range(self.num_vertices):\n",
        "            for j in range(i + 1, self.num_vertices):\n",
        "                if self.matriz_adyacencia[i][j] != 0:\n",
        "                    net.add_edge(i, j, value=self.matriz_adyacencia[i][j])\n",
        "\n",
        "        # Genera el archivo HTML y lo guarda\n",
        "        net.show(\"grafo_interactivo.html\")\n",
        "\n",
        "        # Mostrar el archivo HTML en Colab\n",
        "        display(HTML(\"grafo_interactivo.html\"))\n",
        "\n",
        "\n",
        "\n",
        "# Asignación a la clase Grafo\n",
        "Grafo.mostrar_grafo_interactivo_pyvis = mostrar_grafo_interactivo_pyvis\n",
        "\n",
        "# Prueba del método interactivo en el grafo\n",
        "grafo.mostrar_grafo_interactivo_pyvis()\n",
        "\n"
      ],
      "metadata": {
        "id": "-VxC0oRk1SZ8"
      },
      "execution_count": null,
      "outputs": []
    }
  ]
}