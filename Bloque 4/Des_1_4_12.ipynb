{
 "cells": [
  {
   "cell_type": "markdown",
   "metadata": {},
   "source": [
    "💻🧑‍💻Objetivo\n",
    "\n",
    "Ampliar la clase Autor para que\n",
    "\n",
    "Incluir\n",
    "Implementar métodos que permitan agregaryeliminarlibros de esto\n",
    "Solución\n",
    "Paso 1:Autor\n",
    "Vamos a crear un atributo llamadolibrosque sera\n",
    "Implementaremos dos métodos adicionales:\n",
    "agregar_libro:\n",
    "eliminar_libro:Para\n",
    "Paso 2:\n",
    "Clase Autor :\n",
    "Atributos:\n",
    "nombre: Nombre del\n",
    "nacionalidad:\n",
    "libros:Lista\n",
    "Métodos :\n",
    "mostrar_autor:\n",
    "agregar_libro:Ag\n",
    "eliminar_libro:"
   ]
  }
 ],
 "metadata": {
  "language_info": {
   "name": "python"
  }
 },
 "nbformat": 4,
 "nbformat_minor": 2
}
