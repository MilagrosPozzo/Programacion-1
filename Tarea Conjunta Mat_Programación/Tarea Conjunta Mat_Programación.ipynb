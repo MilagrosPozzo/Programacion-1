{
 "cells": [
  {
   "cell_type": "markdown",
   "metadata": {},
   "source": [
    "# Tarea Conjunta: Implementación de Grafos y Caminos Cortos con Dijkstra"
   ]
  },
  {
   "cell_type": "markdown",
   "metadata": {
    "id": "Nyv5epN_RD6r"
   },
   "source": [
    "## Índice\n",
    "\n",
    "1.   [Clase Grafo](#id1)\n",
    "2.   [Algoritmo de Dijkstra](#id2)"
   ]
  },
  {
   "cell_type": "markdown",
   "metadata": {
    "id": "Zrf6O3RVkwZ9"
   },
   "source": [
    "<a id=\"id1\"> </a>\n",
    "# 1- Clase Grafo\n",
    "\n",
    "## Estructura de la Clase Grafo:\n",
    "\n",
    "Crear una clase Grafo que represente un gráfico dirigido usando una matriz de adyacencia. Esto permitirá visualizar y manipular las conexiones entre los nodos en el gráfico.\n",
    "\n",
<<<<<<< HEAD
    "Para implementar la clase Grafo con una matriz de adyacencia:\n",
    "\n",
    "1. Inicializar la clase con una matriz vacía.\n",
    "2. Implementar un método para agregar nodos (extender la matriz).\n",
    "3. Implementar un método para agregar aristas (actualizar la matriz con los valores de conexión).\n",
=======
    "Para implementar la clase Grafocon una matriz de adyacencia:\n",
    "\n",
    "1. Inicializamos la clase con una matriz vacía.\n",
    "2. Implementamos un método para agregar nodos (extender la matriz).\n",
    "3. Implementamos un método para agregar aristas (actualizar la matriz con los valores de conexión).\n",
>>>>>>> 77ee8bec532d67aeecd8a4b7f17755a21f74edd7
    "4. Un método para mostrar la matriz de adyacencia en pantalla."
   ]
  },
  {
   "cell_type": "code",
   "execution_count": null,
   "metadata": {
    "id": "9xPs9kVyRTlE"
   },
   "outputs": [
    {
     "name": "stdout",
     "output_type": "stream",
     "text": [
      "Matriz de Adyacencia:\n",
      "[[0. 5. 0.]\n",
      " [0. 0. 3.]\n",
      " [2. 0. 0.]]\n"
     ]
    }
   ],
   "source": [
    "# Importamos numpy para facilitar el manejo de matrices\n",
    "import numpy as np\n",
    "\n",
    "# Definición de la clase Grafo\n",
    "class Grafo:\n",
    "    def __init__(self):\n",
    "        # Inicializamos una matriz de adyacencia vacía utilizando numpy\n",
    "        self.matriz_adyacencia = np.array([])  # Matriz que representará el grafo\n",
    "\n",
    "    def agregar_nodo(self):\n",
    "        # Aumentamos el tamaño de la matriz para acomodar un nuevo nodo\n",
    "        if self.matriz_adyacencia.size == 0:\n",
    "            # Si la matriz está vacía, inicializamos una matriz 1x1 con un solo elemento 0\n",
    "            self.matriz_adyacencia = np.array([[0]])\n",
    "        else:\n",
    "            # Añadimos una fila y columna de ceros para el nuevo nodo\n",
    "            n = len(self.matriz_adyacencia)  # Cantidad actual de nodos\n",
    "            nueva_matriz = np.zeros((n + 1, n + 1))  # Nueva matriz más grande\n",
    "            nueva_matriz[:n, :n] = self.matriz_adyacencia  # Copiamos los valores anteriores\n",
    "            self.matriz_adyacencia = nueva_matriz  # Actualizamos la matriz\n",
    "\n",
    "    def agregar_arista(self, inicio, fin, peso):\n",
    "        # Verificamos si los nodos existen en la matriz\n",
    "        if inicio < len(self.matriz_adyacencia) and fin < len(self.matriz_adyacencia):\n",
    "            # Establecemos el peso de la conexión en la posición correspondiente\n",
    "            self.matriz_adyacencia[inicio][fin] = peso  # Peso en la posición inicio, fin\n",
    "        else:\n",
    "            print(\"Uno o ambos nodos no existen en el grafo.\")\n",
    "\n",
    "    def mostrar_matriz(self):\n",
    "        # Mostramos la matriz de adyacencia\n",
    "        print(\"Matriz de Adyacencia:\")\n",
    "        print(self.matriz_adyacencia)\n",
    "   \n",
    "        \n",
    "# Código principal para probar la clase Grafo\n",
    "# Creamos una instancia del grafo\n",
    "grafo = Grafo()\n",
    "\n",
    "# Agregamos nodos al grafo\n",
    "grafo.agregar_nodo()  # Nodo 0\n",
    "grafo.agregar_nodo()  # Nodo 1\n",
    "grafo.agregar_nodo()  # Nodo 2\n",
    "\n",
    "# Agregamos aristas entre los nodos\n",
    "grafo.agregar_arista(0, 1, 5)  # Arista de nodo 0 a nodo 1 con peso 5\n",
    "grafo.agregar_arista(1, 2, 3)  # Arista de nodo 1 a nodo 2 con peso 3\n",
    "grafo.agregar_arista(2, 0, 2)  # Arista de nodo 2 a nodo 0 con peso 2\n",
    "\n",
    "# Imprimimos la matriz de adyacencia solo una vez\n",
    "grafo.mostrar_matriz()"
   ]
  },
  {
   "cell_type": "markdown",
   "metadata": {
    "id": "N6aLbY12FxpH"
   },
   "source": [
    "# Explicación:\n",
    "\n",
    "* **Instancia de la Clase:** Se crea un objeto *grafo* de la clase *Grafo*.\n",
    "* **Agregar de Nodos:** Usamos *agregar_nodo()* tres veces para añadir tres nodos al grafo.\n",
    "* **Agregar de Aristas:** Se crean conexiones entre los nodos mediante *agregar_arista()*.\n",
    "* **Impresión de la Matriz de Adyacencia:** Finalmente, se llama a *mostrar_matriz()* para ver la matriz de adyacencia del grafo."
   ]
  },
  {
   "cell_type": "markdown",
<<<<<<< HEAD
   "metadata": {},
   "source": [
    "## Añadir nuevos nodos y aristas \n",
    "\n",
    "El código permite añadir nuevos nodos y aristas al grafo. Esto es posible gracias a los métodos *agregar_nodo* y *agregar_arista* que hemos implementado en la clase Grafo.\n",
    "\n",
    "    1. agregar_nodo(): Este método aumenta el tamaño de la matriz de adyacencia para incluir un nuevo nodo, permitiendo así extender el grafo dinámicamente.\n",
    "\n",
    "    2. agregar_arista(inicio, fin, peso): Este método permite definir una conexión (arista) entre dos nodos específicos (inicio y fin) y asignar un peso a esa conexión."
   ]
  },
  {
   "cell_type": "markdown",
=======
>>>>>>> 77ee8bec532d67aeecd8a4b7f17755a21f74edd7
   "metadata": {
    "id": "MSeGFRBik5fO"
   },
   "source": [
    "<a id=\"id2\"> </a>\n",
    "# 2- Algoritmo de Dijkstra"
   ]
  },
  {
   "cell_type": "markdown",
   "metadata": {
    "id": "oO7oT2c8ncdw"
   },
   "source": [
    "## Algoritmo de Dijkstra para el camino más corto\n",
    "\n",
    "El algoritmo de Dijkstra encuentra el camino más corto desde un nodo de inicio a todos los demás nodos en el grafo. En este caso, calcularemos el costo mínimo y mostraremos el camino desde el nodo origen a cada otro nodo."
   ]
  },
  {
   "cell_type": "code",
<<<<<<< HEAD
   "execution_count": null,
=======
   "execution_count": 15,
>>>>>>> 77ee8bec532d67aeecd8a4b7f17755a21f74edd7
   "metadata": {
    "id": "f-1Z6R6Ir-YK",
    "tags": [
     "parameters"
    ]
   },
<<<<<<< HEAD
   "outputs": [],
=======
   "outputs": [
    {
     "name": "stdout",
     "output_type": "stream",
     "text": [
      "Matriz de Adyacencia:\n",
      "[[0. 5. 0.]\n",
      " [0. 0. 3.]\n",
      " [2. 0. 0.]]\n",
      "\n",
      "Resultados de Dijkstra desde el nodo 0:\n"
     ]
    },
    {
     "ename": "AttributeError",
     "evalue": "'Grafo' object has no attribute 'dijkstra'",
     "output_type": "error",
     "traceback": [
      "\u001b[1;31m---------------------------------------------------------------------------\u001b[0m",
      "\u001b[1;31mAttributeError\u001b[0m                            Traceback (most recent call last)",
      "Cell \u001b[1;32mIn[15], line 70\u001b[0m\n\u001b[0;32m     68\u001b[0m \u001b[38;5;66;03m# Ejecutamos el algoritmo de Dijkstra desde el nodo 0\u001b[39;00m\n\u001b[0;32m     69\u001b[0m \u001b[38;5;28mprint\u001b[39m(\u001b[38;5;124m\"\u001b[39m\u001b[38;5;130;01m\\n\u001b[39;00m\u001b[38;5;124mResultados de Dijkstra desde el nodo 0:\u001b[39m\u001b[38;5;124m\"\u001b[39m)\n\u001b[1;32m---> 70\u001b[0m \u001b[43mgrafo\u001b[49m\u001b[38;5;241;43m.\u001b[39;49m\u001b[43mdijkstra\u001b[49m(\u001b[38;5;241m0\u001b[39m)\n",
      "\u001b[1;31mAttributeError\u001b[0m: 'Grafo' object has no attribute 'dijkstra'"
     ]
    }
   ],
>>>>>>> 77ee8bec532d67aeecd8a4b7f17755a21f74edd7
   "source": [
    "import sys  # Importamos sys para usar 'sys.maxsize' como valor infinito\n",
    "\n",
    "# Algoritmo de Dijkstra implementado en la clase Grafo\n",
    "def dijkstra(self, inicio):\n",
    "    # Inicialización de variables para el algoritmo\n",
    "    n = len(self.matriz_adyacencia)  # Número de nodos en el grafo\n",
    "    distancias = [float('inf')] * n  # Inicializamos todas las distancias a infinito\n",
    "    distancias[inicio] = 0  # La distancia del nodo inicial a sí mismo es 0\n",
    "    visitados = [False] * n  # Lista para rastrear nodos visitados\n",
    "    padres = [-1] * n  # Lista para rastrear el camino más corto (predecesores)\n",
    "\n",
    "    # Iteración principal para encontrar caminos mínimos\n",
    "    for _ in range(n):\n",
    "        # Selección del nodo con la distancia mínima no visitado\n",
    "        min_distancia = float('inf')\n",
    "        nodo_actual = -1\n",
    "        for nodo in range(n):\n",
    "            if not visitados[nodo] and distancias[nodo] < min_distancia:\n",
    "                min_distancia = distancias[nodo]\n",
    "                nodo_actual = nodo\n",
    "\n",
    "        # Si no queda ningún nodo accesible, salimos del ciclo\n",
    "        if nodo_actual == -1:\n",
    "            break\n",
    "\n",
    "        # Marcamos el nodo seleccionado como visitado\n",
    "        visitados[nodo_actual] = True\n",
    "\n",
    "        # Actualizamos las distancias de los vecinos del nodo seleccionado\n",
    "        for vecino in range(n):\n",
    "            if self.matriz_adyacencia[nodo_actual][vecino] > 0 and not visitados[vecino]:\n",
    "                nueva_distancia = distancias[nodo_actual] + self.matriz_adyacencia[nodo_actual][vecino]\n",
    "                if nueva_distancia < distancias[vecino]:  # Si encontramos una distancia menor\n",
    "                    distancias[vecino] = nueva_distancia  # Actualizamos la distancia mínima\n",
    "                    padres[vecino] = nodo_actual  # Registramos el nodo predecesor\n",
    "\n",
    "    # Reconstrucción y visualización de caminos\n",
    "    for nodo in range(n):\n",
    "        if distancias[nodo] == float('inf'):\n",
    "            print(f\"No hay camino desde el nodo {inicio} al nodo {nodo}\")\n",
    "        else:\n",
    "            camino = []  # Lista para almacenar el camino\n",
    "            actual = nodo\n",
    "            while actual != -1:  # Reconstrucción del camino desde el destino al origen\n",
    "                camino.insert(0, actual)  # Insertamos cada nodo al inicio de la lista\n",
    "                actual = padres[actual]  # Retrocedemos al predecesor\n",
    "            # Convertimos la lista de nodos en un formato legible\n",
    "            camino_str = \" -> \".join(map(str, camino))  # Método manual para construir el camino como texto\n",
<<<<<<< HEAD
    "            print(f\"Camino más corto al nodo {nodo}: {camino_str} con coste {distancias[nodo]}\")"
=======
    "            print(f\"Camino más corto al nodo {nodo}: {camino_str} con coste {distancias[nodo]}\")\n",
    "            \n",
    "# Código principal para probar la clase Grafo y el algoritmo de Dijkstra\n",
    "# Creamos una instancia del grafo\n",
    "grafo = Grafo()\n",
    "\n",
    "# Agregamos nodos al grafo\n",
    "grafo.agregar_nodo()  # Nodo 0\n",
    "grafo.agregar_nodo()  # Nodo 1\n",
    "grafo.agregar_nodo()  # Nodo 2\n",
    "\n",
    "# Agregamos aristas entre los nodos\n",
    "grafo.agregar_arista(0, 1, 5)  # Arista de nodo 0 a nodo 1 con peso 5\n",
    "grafo.agregar_arista(1, 2, 3)  # Arista de nodo 1 a nodo 2 con peso 3\n",
    "grafo.agregar_arista(2, 0, 2)  # Arista de nodo 2 a nodo 0 con peso 2\n",
    "\n",
    "# Imprimimos la matriz de adyacencia solo una vez\n",
    "grafo.mostrar_matriz()\n",
    "\n",
    "# Ejecutamos el algoritmo de Dijkstra desde el nodo 0\n",
    "print(\"\\nResultados de Dijkstra desde el nodo 0:\")\n",
    "grafo.dijkstra(0)"
>>>>>>> 77ee8bec532d67aeecd8a4b7f17755a21f74edd7
   ]
  },
  {
   "cell_type": "markdown",
<<<<<<< HEAD
=======
   "metadata": {
    "id": "RIylnd6csCej"
   },
   "source": [
    " y luego usar Dijkstra para calcular caminos más cortos:"
   ]
  },
  {
   "cell_type": "code",
   "execution_count": null,
   "metadata": {},
   "outputs": [],
   "source": []
  },
  {
   "cell_type": "markdown",
>>>>>>> 77ee8bec532d67aeecd8a4b7f17755a21f74edd7
   "metadata": {},
   "source": [
    "## Explicación del ejemplo:\n",
    "\n",
    "1. **Creación de Grafo y Nodos:** Inicializamos mi_grafo como un objeto de la clase Grafo, luego agregamos nodos y aristas usando los métodos agregar_nodo y agregar_arista.\n",
    "\n",
    "2. **Matriz de Adyacencia:** Utilizamos mostrar_matriz_adyacencia para ver la representación gráfica del gráfico. Los elementos de la matriz indican la conexión y el costo entre nodos.\n",
    "\n",
    "3. **Dijkstra:** Calculamos el camino más corto desde el nodo Ausando dijkstra(\"A\"), que muestra el costo y el camino más corto desde A cada nodo."
   ]
  },
  {
<<<<<<< HEAD
   "cell_type": "code",
   "execution_count": 4,
   "metadata": {},
   "outputs": [
    {
     "name": "stdout",
     "output_type": "stream",
     "text": [
      "Matriz de Adyacencia:\n",
      "[[0. 1. 4. 0.]\n",
      " [0. 0. 2. 0.]\n",
      " [0. 0. 0. 1.]\n",
      " [0. 0. 0. 0.]]\n",
      "Matriz de Adyacencia:\n",
      "[[0. 1. 4. 0. 0.]\n",
      " [0. 0. 2. 0. 3.]\n",
      " [0. 0. 0. 1. 0.]\n",
      " [0. 0. 0. 0. 5.]\n",
      " [0. 0. 0. 0. 0.]]\n",
      "Camino más corto al nodo 0: 0 con coste 0\n",
      "Camino más corto al nodo 1: 0 -> 1 con coste 1.0\n",
      "Camino más corto al nodo 2: 0 -> 1 -> 2 con coste 3.0\n",
      "Camino más corto al nodo 3: 0 -> 1 -> 2 -> 3 con coste 4.0\n",
      "Camino más corto al nodo 4: 0 -> 1 -> 4 con coste 4.0\n"
     ]
    }
   ],
=======
   "cell_type": "markdown",
   "metadata": {},
   "source": [
    "## Añadir nuevos nodos y aristas \n",
    "\n",
    "El código permite añadir nuevos nodos y aristas al grafo. Esto es posible gracias a los métodos *agregar_nodo* y *agregar_arista* que hemos implementado en la clase Grafo.\n",
    "\n",
    "    1. agregar_nodo(): Este método aumenta el tamaño de la matriz de adyacencia para incluir un nuevo nodo, permitiendo así extender el grafo dinámicamente.\n",
    "\n",
    "    2. agregar_arista(inicio, fin, peso): Este método permite definir una conexión (arista) entre dos nodos específicos (inicio y fin) y asignar un peso a esa conexión."
   ]
  },
  {
   "cell_type": "markdown",
   "metadata": {},
   "source": [
    "Ejemplo de cómo añadir nuevos nodos y aristas después de la creación inicial del grafo:"
   ]
  },
  {
   "cell_type": "code",
   "execution_count": null,
   "metadata": {},
   "outputs": [],
>>>>>>> 77ee8bec532d67aeecd8a4b7f17755a21f74edd7
   "source": [
    "# Crear instancia de la clase Grafo\n",
    "grafo = Grafo()\n",
    "\n",
    "# Añadir nodos al grafo\n",
    "grafo.agregar_nodo()  # Añade el nodo 0\n",
    "grafo.agregar_nodo()  # Añade el nodo 1\n",
    "grafo.agregar_nodo()  # Añade el nodo 2\n",
    "grafo.agregar_nodo()  # Añade el nodo 3\n",
    "\n",
    "# Añadir aristas entre los nodos existentes\n",
    "grafo.agregar_arista(0, 1, 1)  # Conexión de nodo 0 a nodo 1 con peso 1\n",
    "grafo.agregar_arista(0, 2, 4)  # Conexión de nodo 0 a nodo 2 con peso 4\n",
    "grafo.agregar_arista(1, 2, 2)  # Conexión de nodo 1 a nodo 2 con peso 2\n",
    "grafo.agregar_arista(2, 3, 1)  # Conexión de nodo 2 a nodo 3 con peso 1\n",
    "\n",
    "# Mostrar la matriz de adyacencia para ver la estructura del grafo\n",
    "grafo.mostrar_matriz()\n",
    "\n",
    "# Agregar un nuevo nodo después de la inicialización del grafo\n",
    "grafo.agregar_nodo()  # Esto añade un nuevo nodo (nodo 4)\n",
    "\n",
    "# Añadir aristas al nuevo nodo\n",
    "grafo.agregar_arista(1, 4, 3)  # Conexión de nodo 1 a nodo 4 con peso 3\n",
    "grafo.agregar_arista(3, 4, 5)  # Conexión de nodo 3 a nodo 4 con peso 5\n",
    "\n",
    "# Mostrar la matriz de adyacencia actualizada\n",
    "grafo.mostrar_matriz()\n",
    "\n",
    "# Ejecutar Dijkstra desde un nodo específico, por ejemplo, el nodo 0\n",
    "grafo.dijkstra(0)"
   ]
  },
  {
   "cell_type": "markdown",
   "metadata": {},
   "source": [
<<<<<<< HEAD
    "# Implementación del Algoritmo de Dijkstra dentro de la clase Grafo:"
   ]
  },
  {
   "cell_type": "code",
   "execution_count": 3,
   "metadata": {},
   "outputs": [
    {
     "name": "stdout",
     "output_type": "stream",
     "text": [
      "Matriz de Adyacencia:\n",
      "[[0. 5. 0.]\n",
      " [0. 0. 3.]\n",
      " [2. 0. 0.]]\n",
      "\n",
      "Resultados de Dijkstra desde el nodo 0:\n",
      "Camino más corto al nodo 0: 0 con coste 0\n",
      "Camino más corto al nodo 1: 0 -> 1 con coste 5.0\n",
      "Camino más corto al nodo 2: 0 -> 1 -> 2 con coste 8.0\n"
     ]
    }
   ],
   "source": [
    "# Importamos numpy para facilitar el manejo de matrices\n",
    "import numpy as np\n",
    "\n",
    "# Definición de la clase Grafo\n",
    "class Grafo:\n",
    "    def __init__(self):\n",
    "        # Inicializamos una matriz de adyacencia vacía utilizando numpy\n",
    "        self.matriz_adyacencia = np.array([])  # Matriz que representará el grafo\n",
    "\n",
    "    def agregar_nodo(self):\n",
    "        # Aumentamos el tamaño de la matriz para acomodar un nuevo nodo\n",
    "        if self.matriz_adyacencia.size == 0:\n",
    "            # Si la matriz está vacía, inicializamos una matriz 1x1 con un solo elemento 0\n",
    "            self.matriz_adyacencia = np.array([[0]])\n",
    "        else:\n",
    "            # Añadimos una fila y columna de ceros para el nuevo nodo\n",
    "            n = len(self.matriz_adyacencia)  # Cantidad actual de nodos\n",
    "            nueva_matriz = np.zeros((n + 1, n + 1))  # Nueva matriz más grande\n",
    "            nueva_matriz[:n, :n] = self.matriz_adyacencia  # Copiamos los valores anteriores\n",
    "            self.matriz_adyacencia = nueva_matriz  # Actualizamos la matriz\n",
    "\n",
    "    def agregar_arista(self, inicio, fin, peso):\n",
    "        # Verificamos si los nodos existen en la matriz\n",
    "        if inicio < len(self.matriz_adyacencia) and fin < len(self.matriz_adyacencia):\n",
    "            # Establecemos el peso de la conexión en la posición correspondiente\n",
    "            self.matriz_adyacencia[inicio][fin] = peso  # Peso en la posición inicio, fin\n",
    "        else:\n",
    "            print(\"Uno o ambos nodos no existen en el grafo.\")\n",
    "\n",
    "    def mostrar_matriz(self):\n",
    "        # Mostramos la matriz de adyacencia\n",
    "        print(\"Matriz de Adyacencia:\")\n",
    "        print(self.matriz_adyacencia)\n",
    "\n",
    "# Implementación del Algoritmo de Dijkstra dentro de la clase Grafo\n",
    "    def dijkstra(self, inicio):\n",
    "        # Inicializamos las variables para el algoritmo\n",
    "        n = len(self.matriz_adyacencia)  # Número de nodos en el grafo\n",
    "        distancias = [float('inf')] * n  # Distancias iniciales, \"inf\" significa infinito\n",
    "        distancias[inicio] = 0  # La distancia del nodo inicial a sí mismo es 0\n",
    "        visitados = [False] * n  # Lista para rastrear nodos visitados\n",
    "        padres = [-1] * n  # Para rastrear el camino más corto\n",
    "\n",
    "        for _ in range(n):\n",
    "            # Selección del nodo no visitado con la menor distancia\n",
    "            min_distancia = float('inf')\n",
    "            nodo_actual = -1\n",
    "            for nodo in range(n):\n",
    "                if not visitados[nodo] and distancias[nodo] < min_distancia:\n",
    "                    min_distancia = distancias[nodo]\n",
    "                    nodo_actual = nodo\n",
    "\n",
    "            if nodo_actual == -1:  # Si no hay nodo accesible, rompemos el ciclo\n",
    "                break\n",
    "\n",
    "            # Marcamos el nodo actual como visitado\n",
    "            visitados[nodo_actual] = True\n",
    "\n",
    "            # Actualizamos las distancias de los vecinos del nodo actual\n",
    "            for vecino in range(n):\n",
    "                if self.matriz_adyacencia[nodo_actual][vecino] > 0 and not visitados[vecino]:\n",
    "                    nueva_distancia = distancias[nodo_actual] + self.matriz_adyacencia[nodo_actual][vecino]\n",
    "                    if nueva_distancia < distancias[vecino]:  # Si encontramos una distancia menor\n",
    "                        distancias[vecino] = nueva_distancia  # Actualizamos la distancia\n",
    "                        padres[vecino] = nodo_actual  # Actualizamos el camino\n",
    "\n",
    "        # Mostrar los resultados del camino más corto y su coste\n",
    "        for nodo in range(n):\n",
    "            if distancias[nodo] == float('inf'):\n",
    "                print(f\"No hay camino desde el nodo {inicio} al nodo {nodo}\")\n",
    "            else:\n",
    "                camino = []\n",
    "                actual = nodo\n",
    "                while actual != -1:\n",
    "                    camino.insert(0, actual)\n",
    "                    actual = padres[actual]\n",
    "                print(f\"Camino más corto al nodo {nodo}: {' -> '.join(map(str, camino))} con coste {distancias[nodo]}\")\n",
    "                \n",
    "# Código principal para probar la clase Grafo y el algoritmo de Dijkstra\n",
    "grafo = Grafo()\n",
    "\n",
    "# Agregamos nodos al grafo\n",
    "grafo.agregar_nodo()  # Nodo 0\n",
    "grafo.agregar_nodo()  # Nodo 1\n",
    "grafo.agregar_nodo()  # Nodo 2\n",
    "\n",
    "# Agregamos aristas entre los nodos\n",
    "grafo.agregar_arista(0, 1, 5)  # Arista de nodo 0 a nodo 1 con peso 5\n",
    "grafo.agregar_arista(1, 2, 3)  # Arista de nodo 1 a nodo 2 con peso 3\n",
    "grafo.agregar_arista(2, 0, 2)  # Arista de nodo 2 a nodo 0 con peso 2\n",
    "\n",
    "# Imprimimos la matriz de adyacencia solo una vez\n",
    "grafo.mostrar_matriz()\n",
    "\n",
    "# Ejecutamos el algoritmo de Dijkstra desde el nodo 0\n",
    "print(\"\\nResultados de Dijkstra desde el nodo 0:\")\n",
    "grafo.dijkstra(0)"
=======
    "# Explicación del Ejemplo\n",
    "\n",
    "1. **Creación del Grafo:** Primero, creamos una instancia de *Grafo*.\n",
    "\n",
    "2. **Agregar Nodos:** Usamos *agregar_nodo()* para añadir varios nodos, expandiendo la matriz de adyacencia automáticamente cada vez que se llama.\n",
    "\n",
    "3. **Agregar Aristas:** Usamos *agregar_arista(inicio, fin, peso)* para conectar nodos específicos y asignar un peso a cada conexión.\n",
    "\n",
    "4. **Agregar un Nuevo Nodo y Nuevas Aristas:** Después de la configuración inicial, puedes agregar un nuevo nodo y conectar este nodo a otros en cualquier momento. Esto hace que el grafo sea flexible y permite crecer según sea necesario.\n",
    "\n",
    "5. **Ejecutar el Algoritmo de Dijkstra:** Finalmente, calculamos el camino más corto desde el nodo de inicio (en este caso, el nodo *0*) a los demás nodos."
>>>>>>> 77ee8bec532d67aeecd8a4b7f17755a21f74edd7
   ]
  }
 ],
 "metadata": {
  "colab": {
   "collapsed_sections": [
    "jmd7_BeKnE5v"
   ],
   "provenance": []
  },
  "kernelspec": {
   "display_name": "Python 3",
   "name": "python3"
  },
  "language_info": {
   "codemirror_mode": {
    "name": "ipython",
    "version": 3
   },
   "file_extension": ".py",
   "mimetype": "text/x-python",
   "name": "python",
   "nbconvert_exporter": "python",
   "pygments_lexer": "ipython3",
   "version": "3.12.2"
  }
 },
 "nbformat": 4,
 "nbformat_minor": 0
}
