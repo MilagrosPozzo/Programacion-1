{
 "cells": [
  {
   "cell_type": "markdown",
   "metadata": {},
   "source": [
    "# Tarea Conjunta: Implementación de Grafos y Caminos Cortos con Dijkstra"
   ]
  },
  {
   "cell_type": "markdown",
   "metadata": {
    "id": "Nyv5epN_RD6r"
   },
   "source": [
    "## Índice\n",
    "\n",
    "1.   [Clase Grafo](#id1)\n",
    "2.   [Algoritmo de Dijkstra](#id2)"
   ]
  },
  {
   "cell_type": "markdown",
   "metadata": {
    "id": "Zrf6O3RVkwZ9"
   },
   "source": [
    "<a id=\"id1\"> </a>\n",
    "# Clase Grafo\n",
    "\n",
    "## Estructura de la Clase Grafo:\n",
    "\n",
    "Crear una clase Grafo que represente un gráfico dirigido usando una matriz de adyacencia. Esto permitirá visualizar y manipular las conexiones entre los nodos en el gráfico.\n",
    "\n",
    "Para implementar la clase Grafocon una matriz de adyacencia:\n",
    "\n",
    "1. Inicializamos la clase con una matriz vacía.\n",
    "2. Implementamos un método para agregar nodos (extender la matriz).\n",
    "3. Implementamos un método para agregar aristas (actualizar la matriz con los valores de conexión).\n",
    "4. Un método para mostrar la matriz de adyacencia en pantalla."
   ]
  },
  {
   "cell_type": "markdown",
   "metadata": {},
   "source": [
    "## Explicación del Código Paso a Paso\n",
    "\n",
    "1- Importación de NumPy:"
   ]
  },
  {
   "cell_type": "markdown",
   "metadata": {},
   "source": [
    "Propósito: Se importa la biblioteca NumPy, la cual permite crear y manipular matrices de forma eficiente.\n",
    "\n",
    "¿Por qué usar NumPy?: En este caso, la matriz de adyacencia es una estructura cuadrada (filas = columnas) que es ideal para representar las conexiones entre nodos. NumPy facilita la creación y expansión de esta matriz."
   ]
  },
  {
   "cell_type": "code",
   "execution_count": 3,
   "metadata": {
    "id": "9xPs9kVyRTlE"
   },
   "outputs": [],
   "source": [
    "# Importamos numpy para facilitar el manejo de matrices\n",
    "import numpy as np\n",
    "\n",
    "# Definición de la clase Grafo\n",
    "class Grafo:\n",
    "    def __init__(self):\n",
    "        # Inicializamos una matriz de adyacencia vacía utilizando numpy\n",
    "        self.matriz_adyacencia = np.array([])  # Matriz que representará el grafo\n",
    "\n",
    "    def agregar_nodo(self):\n",
    "        # Aumentamos el tamaño de la matriz para acomodar un nuevo nodo\n",
    "        if self.matriz_adyacencia.size == 0:\n",
    "            # Si la matriz está vacía, inicializamos una matriz 1x1 con un solo elemento 0\n",
    "            self.matriz_adyacencia = np.array([[0]])\n",
    "        else:\n",
    "            # Añadimos una fila y columna de ceros para el nuevo nodo\n",
    "            n = len(self.matriz_adyacencia)  # Cantidad actual de nodos\n",
    "            nueva_matriz = np.zeros((n + 1, n + 1))  # Nueva matriz más grande\n",
    "            nueva_matriz[:n, :n] = self.matriz_adyacencia  # Copiamos los valores anteriores\n",
    "            self.matriz_adyacencia = nueva_matriz  # Actualizamos la matriz\n",
    "\n",
    "    def agregar_arista(self, inicio, fin, peso):\n",
    "        # Verificamos si los nodos existen en la matriz\n",
    "        if inicio < len(self.matriz_adyacencia) and fin < len(self.matriz_adyacencia):\n",
    "            # Establecemos el peso de la conexión en la posición correspondiente\n",
    "            self.matriz_adyacencia[inicio][fin] = peso  # Peso en la posición inicio, fin\n",
    "        else:\n",
    "            print(\"Uno o ambos nodos no existen en el grafo.\")\n",
    "\n",
    "    def mostrar_matriz(self):\n",
    "        # Mostramos la matriz de adyacencia\n",
    "        print(\"Matriz de Adyacencia:\")\n",
    "        print(self.matriz_adyacencia)"
   ]
  },
  {
   "cell_type": "markdown",
   "metadata": {
    "id": "N6aLbY12FxpH"
   },
   "source": [
    "*Nota 2: Cabe destacar, que por mas que no es inválido, utilizar los caracteres \"l\" (ele minúscula), \"i\" (letra i latina mayuscula), \"O\" (letra o mayúscula) y \"0\" (número cero), puede causar confusión según el caso en donde se utilicen.*"
   ]
  },
  {
   "cell_type": "markdown",
   "metadata": {
    "id": "MSeGFRBik5fO"
   },
   "source": [
    "<a id=\"id2\"> </a>\n",
    "# Algoritmo de Dijkstra"
   ]
  },
  {
   "cell_type": "markdown",
   "metadata": {
    "id": "oO7oT2c8ncdw"
   },
   "source": [
    "## Algoritmo de Dijkstra para el camino más corto\n",
    "\n",
    "El algoritmo de Dijkstra encuentra el camino más corto desde un nodo de inicio a todos los demás nodos en el grafo. En este caso, calcularemos el costo mínimo y mostraremos el camino desde el nodo origen a cada otro nodo."
   ]
  },
  {
   "cell_type": "markdown",
   "metadata": {},
   "source": [
    "## Explicación Línea por Línea:\n",
    "1.n = len(self.matriz_adyacencia): Obtenemos el número de nodos en el gráfico.\n",
    "\n",
    "2.distancias = [float('inf')] * n: Creamos una lista para almacenar las distancias mínimas de cada nodo, inicializándolas como infinitoporque aún no conocemos las distancias.\n",
    "\n",
    "3.distancias[inicio] = 0: Establecemos la distancia del nodo de inicio a sí mismo como 0.\n",
    "\n",
    "4.visitados = [False] * n: Lista para saber si ya visitamos un nodo.\n",
    "\n",
    "5.padres = [-1] * n: Lista para registrar el nodo anterior en el camino más corto.\n",
    "\n",
    "for _ in range(n):: Iteramos n veces para procesar todos los nodos.\n",
    "\n",
    "min_distancia = float('inf'): Reiniciamos la distancia mínima en infinito en cada ciclo.\n",
    "\n",
    "for nodo in range(n):: Buscamos el nudo no visitado con la menor distancia.\n",
    "\n",
    "visitados[nodo_actual] = True: Marcamos el nudo actual como visitado.\n",
    "\n",
    "for vecino in range(n):: Iteramos sobre los nodos vecinos del nodo actual.\n",
    "\n",
    "nueva_distancia = distancias[nodo_actual] + self.matriz_adyacencia[nodo_actual][vecino]: Calculamos una nueva distancia desde el nodo de inicio.\n",
    "\n",
    "if nueva_distancia < distancias[vecino]:: Si encontramos una distancia menor, la actualizamos y registramos el nudo anterior.\n",
    "\n",
    "camino = []: Inicializamos una lista para construir el camino más corto.\n",
    "\n",
    "actual = nodo: Retrocedemos en el camino para obtener la secuencia completa hasta el nodo de inicio.\n",
    "\n",
    "print(f\"Camino más corto...)`: Imprimimos el camino más corto y el coste final."
   ]
  },
  {
   "cell_type": "code",
   "execution_count": null,
   "metadata": {
    "id": "f-1Z6R6Ir-YK"
   },
   "outputs": [],
   "source": [
    "import sys  # Importamos sys para usar 'sys.maxsize' como valor infinito\n",
    "\n",
    "# Algoritmo de Dijkstra implementado en la clase Grafo\n",
    "def dijkstra(self, inicio):\n",
    "    # Inicialización de variables\n",
    "    n = len(self.matriz_adyacencia)  # Número de nodos en el grafo\n",
    "    distancias = [float('inf')] * n  # Inicializamos todas las distancias a infinito\n",
    "    distancias[inicio] = 0  # La distancia del nodo inicial a sí mismo es 0\n",
    "    visitados = [False] * n  # Lista para rastrear nodos visitados\n",
    "    padres = [-1] * n  # Lista para rastrear el camino más corto (predecesores)\n",
    "\n",
    "    # Iteración principal para encontrar caminos mínimos\n",
    "    for _ in range(n):\n",
    "        # Selección del nodo con la distancia mínima no visitado\n",
    "        min_distancia = float('inf')\n",
    "        nodo_actual = -1\n",
    "        for nodo in range(n):\n",
    "            if not visitados[nodo] and distancias[nodo] < min_distancia:\n",
    "                min_distancia = distancias[nodo]\n",
    "                nodo_actual = nodo\n",
    "\n",
    "        # Si no queda ningún nodo accesible, salimos del ciclo\n",
    "        if nodo_actual == -1:\n",
    "            break\n",
    "\n",
    "        # Marcamos el nodo seleccionado como visitado\n",
    "        visitados[nodo_actual] = True\n",
    "\n",
    "        # Actualizamos las distancias de los vecinos del nodo seleccionado\n",
    "        for vecino in range(n):\n",
    "            if self.matriz_adyacencia[nodo_actual][vecino] > 0 and not visitados[vecino]:\n",
    "                nueva_distancia = distancias[nodo_actual] + self.matriz_adyacencia[nodo_actual][vecino]\n",
    "                if nueva_distancia < distancias[vecino]:  # Si encontramos una distancia menor\n",
    "                    distancias[vecino] = nueva_distancia  # Actualizamos la distancia mínima\n",
    "                    padres[vecino] = nodo_actual  # Registramos el nodo predecesor\n",
    "\n",
    "    # Reconstrucción y visualización de caminos\n",
    "    for nodo in range(n):\n",
    "        if distancias[nodo] == float('inf'):\n",
    "            print(f\"No hay camino desde el nodo {inicio} al nodo {nodo}\")\n",
    "        else:\n",
    "            camino = []  # Lista para almacenar el camino\n",
    "            actual = nodo\n",
    "            while actual != -1:  # Reconstrucción del camino desde el destino al origen\n",
    "                camino.insert(0, actual)  # Insertamos cada nodo al inicio de la lista\n",
    "                actual = padres[actual]  # Retrocedemos al predecesor\n",
    "            # Convertimos la lista de nodos en un formato legible\n",
    "            camino_str = \" -> \".join(map(str, camino))  # Método manual para construir el camino como texto\n",
    "            print(f\"Camino más corto al nodo {nodo}: {camino_str} con coste {distancias[nodo]}\")"
   ]
  },
  {
   "cell_type": "markdown",
   "metadata": {
    "id": "RIylnd6csCej"
   },
   "source": [
    "A continuación se muestra cómo crear un gráfico, agregar nodos y aristas, mostrar la matriz de adyacencia y luego usar Dijkstra para calcular caminos más cortos:"
   ]
  },
  {
   "cell_type": "code",
   "execution_count": 1,
   "metadata": {},
   "outputs": [
    {
     "ename": "NameError",
     "evalue": "name 'Grafo' is not defined",
     "output_type": "error",
     "traceback": [
      "\u001b[1;31m---------------------------------------------------------------------------\u001b[0m",
      "\u001b[1;31mNameError\u001b[0m                                 Traceback (most recent call last)",
      "Cell \u001b[1;32mIn[1], line 2\u001b[0m\n\u001b[0;32m      1\u001b[0m \u001b[38;5;66;03m# Crear una instancia de la clase Grafo\u001b[39;00m\n\u001b[1;32m----> 2\u001b[0m grafo \u001b[38;5;241m=\u001b[39m \u001b[43mGrafo\u001b[49m()\n\u001b[0;32m      3\u001b[0m \u001b[38;5;28;01mfor\u001b[39;00m _ \u001b[38;5;129;01min\u001b[39;00m \u001b[38;5;28mrange\u001b[39m(\u001b[38;5;241m4\u001b[39m):  \u001b[38;5;66;03m# Creamos 4 nodos\u001b[39;00m\n\u001b[0;32m      4\u001b[0m     grafo\u001b[38;5;241m.\u001b[39magregar_nodo()\n",
      "\u001b[1;31mNameError\u001b[0m: name 'Grafo' is not defined"
     ]
    }
   ],
   "source": [
    "# Crear una instancia de la clase Grafo\n",
    "grafo = Grafo()\n",
    "for _ in range(4):  # Creamos 4 nodos\n",
    "    grafo.agregar_nodo()\n",
    "\n",
    "# Agregamos aristas con pesos\n",
    "grafo.agregar_arista(0, 1, 1)\n",
    "grafo.agregar_arista(0, 2, 4)\n",
    "grafo.agregar_arista(1, 2, 2)\n",
    "grafo.agregar_arista(2, 3, 1)\n",
    "\n",
    "# Mostramos la matriz de adyacencia\n",
    "grafo.mostrar_matriz()\n",
    "\n",
    "# Ejecutamos Dijkstra desde el nodo 0\n",
    "grafo.dijkstra(0)"
   ]
  },
  {
   "cell_type": "markdown",
   "metadata": {},
   "source": [
    "## Explicación del ejemplo:\n",
    "\n",
    "1. **Creación de Grafo y Nodos:** Inicializamos mi_grafo como un objeto de la clase Grafo, luego agregamos nodos y aristas usando los métodos agregar_nodo y agregar_arista.\n",
    "\n",
    "2. **Matriz de Adyacencia:** Utilizamos mostrar_matriz_adyacencia para ver la representación gráfica del gráfico. Los elementos de la matriz indican la conexión y el costo entre nodos.\n",
    "\n",
    "3. **Dijkstra:** Calculamos el camino más corto desde el nodo Ausando dijkstra(\"A\"), que muestra el costo y el camino más corto desde A cada nodo."
   ]
  }
 ],
 "metadata": {
  "colab": {
   "collapsed_sections": [
    "jmd7_BeKnE5v"
   ],
   "provenance": []
  },
  "kernelspec": {
   "display_name": "Python 3",
   "name": "python3"
  },
  "language_info": {
   "codemirror_mode": {
    "name": "ipython",
    "version": 3
   },
   "file_extension": ".py",
   "mimetype": "text/x-python",
   "name": "python",
   "nbconvert_exporter": "python",
   "pygments_lexer": "ipython3",
   "version": "3.12.2"
  }
 },
 "nbformat": 4,
 "nbformat_minor": 0
}
