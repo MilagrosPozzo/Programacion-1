{
 "cells": [
  {
   "cell_type": "markdown",
   "metadata": {},
   "source": [
    "# Polimorfismo\n",
    "\n",
    "El polimorfismo es otro concepto fundamental en la Programación Orientada a Objetos que permite que un objeto pueda adoptar múltiples formas. En el contexto de la herencia, el polimorfismo permite que un objeto de la subclase pueda ser tratado como un objeto de la clase base, lo que facilita la escritura de código más genérico y reutilizable.\n",
    "\n",
    "## Ejemplo de Polimorfismo en la Biblioteca\n",
    "\n",
    "Vamos a ver cómo podemos aplicar el polimorfismo en nuestro ejemplo de la biblioteca. Supongamos que queremos tener una función que imprima la información de cualquier autor, sin importar si es un Autor, un Escritor, un EscritorAcademico, etc."
   ]
  },
  {
   "cell_type": "code",
   "execution_count": 1,
   "metadata": {},
   "outputs": [],
   "source": [
    "def imprimir_informacion_autor(autor):\n",
    "    print(\"Nombre:\", autor.nombre)\n",
    "    if isinstance(autor, Escritor):\n",
    "        print(\"Género Literario:\", autor.genero)\n",
    "    if isinstance(autor, Academico):\n",
    "        print(\"Universidad:\", autor.universidad)"
   ]
  },
  {
   "cell_type": "markdown",
   "metadata": {},
   "source": [
    "Ahora, podemos pasar cualquier objeto de una clase que herede de Autor a esta función, y se imprimirá la información correspondiente:"
   ]
  },
  {
   "cell_type": "code",
   "execution_count": null,
   "metadata": {},
   "outputs": [],
   "source": [
    "autor = Autor(\"Julio Cortázar\")\n",
    "escritor_academico = EscritorAcademico(\"Umberto Eco\", \"Novela Histórica\", \"Universidad de Bolonia\")\n",
    "\n",
    "imprimir_informacion_autor(autor)\n",
    "imprimir_informacion_autor(escritor_academico)"
   ]
  },
  {
   "cell_type": "markdown",
   "metadata": {},
   "source": [
    "## Sobrescritura de Métodos\n",
    "\n",
    "El polimorfismo también nos permite sobrescribir métodos en las subclases. Por ejemplo, podríamos tener un método informacion() en la clase Autor y sobrescribirlo en las subclases para que devuelva información adicional:"
   ]
  },
  {
   "cell_type": "code",
   "execution_count": null,
   "metadata": {},
   "outputs": [],
   "source": [
    "class Autor:\n",
    "    def __init__(self, nombre):\n",
    "        self.nombre = nombre\n",
    "    \n",
    "    def informacion(self):\n",
    "        return f\"Nombre: {self.nombre}\"\n",
    "\n",
    "class Escritor(Autor):\n",
    "    def __init__(self, nombre, genero):\n",
    "        super().__init__(nombre)\n",
    "        self.genero = genero\n",
    "    \n",
    "    def informacion(self):\n",
    "        return f\"{super().informacion()} - Género Literario: {self.genero}\"\n",
    "\n",
    "# Instanciamos un objeto de la clase Escritor para Mario Benedetti\n",
    "escritor = Escritor(\"Mario Benedetti\", \"Realismo Social\")\n",
    "print(escritor.informacion())"
   ]
  },
  {
   "cell_type": "markdown",
   "metadata": {},
   "source": [
    "El polimorfismo, junto con la herencia, nos permite escribir código más flexible y reutilizable, al permitirnos tratar objetos de subclases como si fueran objetos de la clase base y sobrescribir métodos para añadir funcionalidades específicas a las subclases."
   ]
  },
  {
   "cell_type": "markdown",
   "metadata": {},
   "source": [
    "## Ejemplos Adicionales de Polimorfismo\n",
    "### Polimorfismo con Métodos de Clase"
   ]
  },
  {
   "cell_type": "code",
   "execution_count": null,
   "metadata": {},
   "outputs": [],
   "source": [
    "class Animal:\n",
    "    def sonido(self):\n",
    "        return \"Algunos animales hacen sonidos\"\n",
    "\n",
    "class Perro(Animal):\n",
    "    def sonido(self):\n",
    "        return \"Guau Guau\"\n",
    "\n",
    "class Gato(Animal):\n",
    "    def sonido(self):\n",
    "        return \"Miau Miau\"\n",
    "    \n",
    "class Loro(Animal):\n",
    "    def sonido(self):\n",
    "        return \"Prr Prr\"\n",
    "\n",
    "animales = [Perro(), Gato(), Loro(), Animal()]\n",
    "\n",
    "for animal in animales:\n",
    "    print(animal.sonido())"
   ]
  },
  {
   "cell_type": "markdown",
   "metadata": {},
   "source": [
    "## Desafíos\n",
    "\n",
    "### Desafío 1: \n",
    "Crea una clase Musico que tenga un método instrumento y crea dos subclases Guitarrista y Baterista que sobrescriban el método instrumento. Instancia objetos de estas clases y demuestra el polimorfismo.\n",
    "\n",
    "### Desafío 2: \n",
    "Añade un método biografia a la clase Autor y sobrescríbelo en la clase Escritor. Instancia un objeto de la clase Escritor y muestra cómo se puede acceder al método biografia de ambas clases.\n",
    "\n",
    "### Desafío 3: \n",
    "En este desafío, vamos a extender la clase Libro para crear una subclase `LibroEspecializado`. Un `LibroEspecializado`, además de tener un título y un autor, también tiene un campo de estudio y un nivel de especialización (básico, intermedio, avanzado).\n",
    "\n",
    "### Desafío 4: Polimorfismo en figuras geométricas\n",
    "En este desafío, se te pide que implementes el polimorfismo con métodos de clase en figuras geométricas. Deberás crear una clase base Figura con un método area y dos subclases Circulo y Cuadrado que sobrescriban este método para calcular el área de cada figura.\n",
    "\n",
    "### Desafío 5: Polimorfismo en operaciones matemáticas\n",
    "En este desafío, aplicarás el polimorfismo para realizar diferentes operaciones matemáticas. Deberás crear una clase base Operacion con un método resultado y dos subclases Suma y Multiplicacion que sobrescriban este método para realizar las operaciones correspondientes."
   ]
  },
  {
   "cell_type": "markdown",
   "metadata": {},
   "source": [
    "## Referencias\n",
    "\n",
    "- [Polimorfismo en Python - W3Schools](https://www.w3schools.com/python/python_polymorphism.asp)\n",
    "- [Python Polymorphism - Programiz](https://www.programiz.com/python-programming/polymorphism)\n"
   ]
  },
  {
   "cell_type": "code",
   "execution_count": 1,
   "metadata": {},
   "outputs": [
    {
     "name": "stdout",
     "output_type": "stream",
     "text": [
      "Toca la guitarra\n",
      "Toca la batería\n",
      "Instrumento desconocido\n"
     ]
    }
   ],
   "source": [
    "#DESAFIO 1\n",
    "# Clase base Musico\n",
    "class Musico:\n",
    "    def instrumento(self):\n",
    "        return \"Instrumento desconocido\"\n",
    "\n",
    "# Subclase Guitarrista que sobrescribe el método instrumento\n",
    "class Guitarrista(Musico):\n",
    "    def instrumento(self):\n",
    "        return \"Toca la guitarra\"\n",
    "\n",
    "# Subclase Baterista que sobrescribe el método instrumento\n",
    "class Baterista(Musico):\n",
    "    def instrumento(self):\n",
    "        return \"Toca la batería\"\n",
    "\n",
    "# Demostración del polimorfismo\n",
    "musicos = [Guitarrista(), Baterista(), Musico()]  # Lista de diferentes tipos de músicos\n",
    "\n",
    "for musico in musicos:\n",
    "    print(musico.instrumento())  # Se llama al método correspondiente de cada objeto"
   ]
  },
  {
   "cell_type": "code",
   "execution_count": 2,
   "metadata": {},
   "outputs": [
    {
     "name": "stdout",
     "output_type": "stream",
     "text": [
      "Gabriel García Márquez es un escritor del género Realismo Mágico.\n",
      "Isabel Allende es un autor.\n"
     ]
    }
   ],
   "source": [
    "# DESAFIO 2\n",
    "# Clase base Autor\n",
    "class Autor:\n",
    "    def __init__(self, nombre):\n",
    "        self.nombre = nombre\n",
    "\n",
    "    # Método biografia en la clase Autor\n",
    "    def biografia(self):\n",
    "        return f\"{self.nombre} es un autor.\"\n",
    "\n",
    "# Subclase Escritor que sobrescribe el método biografia\n",
    "class Escritor(Autor):\n",
    "    def __init__(self, nombre, genero):\n",
    "        super().__init__(nombre)\n",
    "        self.genero = genero\n",
    "\n",
    "    # Sobrescribimos el método biografia en la clase Escritor\n",
    "    def biografia(self):\n",
    "        return f\"{self.nombre} es un escritor del género {self.genero}.\"\n",
    "\n",
    "# Instanciar un objeto de la clase Escritor\n",
    "escritor = Escritor(\"Gabriel García Márquez\", \"Realismo Mágico\")\n",
    "\n",
    "# Acceder al método biografia desde el objeto de la clase Escritor\n",
    "print(escritor.biografia())  # Llama al método sobrescrito en Escritor\n",
    "\n",
    "# Acceder al método biografia de la clase Autor a través de una instancia de Autor\n",
    "autor = Autor(\"Isabel Allende\")\n",
    "print(autor.biografia())  # Llama al método de la clase base Autor"
   ]
  },
  {
   "cell_type": "code",
   "execution_count": 3,
   "metadata": {},
   "outputs": [
    {
     "name": "stdout",
     "output_type": "stream",
     "text": [
      "'Introducción a la Física Cuántica' de Stephen Hawking, sobre Física, nivel Avanzado\n"
     ]
    }
   ],
   "source": [
    "# DESAFIO 3\n",
    "# Clase base Libro\n",
    "class Libro:\n",
    "    def __init__(self, titulo, autor):\n",
    "        self.titulo = titulo\n",
    "        self.autor = autor\n",
    "\n",
    "    def descripcion(self):\n",
    "        return f\"'{self.titulo}' de {self.autor}\"\n",
    "\n",
    "# Subclase LibroEspecializado\n",
    "class LibroEspecializado(Libro):\n",
    "    def __init__(self, titulo, autor, campo_estudio, nivel):\n",
    "        super().__init__(titulo, autor)\n",
    "        self.campo_estudio = campo_estudio\n",
    "        self.nivel = nivel\n",
    "\n",
    "    def descripcion(self):\n",
    "        return f\"'{self.titulo}' de {self.autor}, sobre {self.campo_estudio}, nivel {self.nivel}\"\n",
    "\n",
    "# Instanciar un objeto de la clase LibroEspecializado\n",
    "libro = LibroEspecializado(\"Introducción a la Física Cuántica\", \"Stephen Hawking\", \"Física\", \"Avanzado\")\n",
    "print(libro.descripcion())"
   ]
  },
  {
   "cell_type": "code",
   "execution_count": 4,
   "metadata": {},
   "outputs": [
    {
     "name": "stdout",
     "output_type": "stream",
     "text": [
      "Área: 78.53981633974483\n",
      "Área: 16\n"
     ]
    }
   ],
   "source": [
    "# DESAFIO 4\n",
    "import math\n",
    "\n",
    "# Clase base Figura\n",
    "class Figura:\n",
    "    def area(self):\n",
    "        pass  # Método vacío en la clase base\n",
    "\n",
    "# Subclase Circulo\n",
    "class Circulo(Figura):\n",
    "    def __init__(self, radio):\n",
    "        self.radio = radio\n",
    "\n",
    "    def area(self):\n",
    "        return math.pi * self.radio ** 2\n",
    "\n",
    "# Subclase Cuadrado\n",
    "class Cuadrado(Figura):\n",
    "    def __init__(self, lado):\n",
    "        self.lado = lado\n",
    "\n",
    "    def area(self):\n",
    "        return self.lado ** 2\n",
    "\n",
    "# Demostración de polimorfismo\n",
    "figuras = [Circulo(5), Cuadrado(4)]  # Lista de figuras\n",
    "\n",
    "for figura in figuras:\n",
    "    print(f\"Área: {figura.area()}\")"
   ]
  },
  {
   "cell_type": "code",
   "execution_count": 5,
   "metadata": {},
   "outputs": [
    {
     "name": "stdout",
     "output_type": "stream",
     "text": [
      "Resultado: 15\n",
      "Resultado: 50\n"
     ]
    }
   ],
   "source": [
    "# DESAFIO 5\n",
    "# Clase base Operacion\n",
    "class Operacion:\n",
    "    def resultado(self, a, b):\n",
    "        pass  # Método vacío en la clase base\n",
    "\n",
    "# Subclase Suma\n",
    "class Suma(Operacion):\n",
    "    def resultado(self, a, b):\n",
    "        return a + b\n",
    "\n",
    "# Subclase Multiplicacion\n",
    "class Multiplicacion(Operacion):\n",
    "    def resultado(self, a, b):\n",
    "        return a * b\n",
    "\n",
    "# Demostración de polimorfismo\n",
    "operaciones = [Suma(), Multiplicacion()]  # Lista de operaciones\n",
    "\n",
    "for operacion in operaciones:\n",
    "    print(f\"Resultado: {operacion.resultado(10, 5)}\")"
   ]
  },
  {
   "cell_type": "markdown",
   "metadata": {},
   "source": [
    "➡️Link a actividad de Encapsulamiento: https://github.com/MilagrosPozzo/Programacion-1/blob/main/Ejercicios_resueltos_Programaci%C3%B3n_Semipresencial_1er_a%C3%B1o/4_13_Encapsulamiento.ipynb\n",
    "\n",
    "➡️Link a actividad de Herencia: https://github.com/MilagrosPozzo/Programacion-1/blob/main/Ejercicios_resueltos_Programaci%C3%B3n_Semipresencial_1er_a%C3%B1o/4_13_Herencia.ipynb\n",
    "\n",
    "➡️Link a actividad de Clases y Objetos: https://github.com/MilagrosPozzo/Programacion-1/blob/main/Ejercicios_resueltos_Programaci%C3%B3n_Semipresencial_1er_a%C3%B1o/4_12_Clases_y_objetos.ipynb"
   ]
  }
 ],
 "metadata": {
  "kernelspec": {
   "display_name": "Python 3",
   "language": "python",
   "name": "python3"
  },
  "language_info": {
   "codemirror_mode": {
    "name": "ipython",
    "version": 3
   },
   "file_extension": ".py",
   "mimetype": "text/x-python",
   "name": "python",
   "nbconvert_exporter": "python",
   "pygments_lexer": "ipython3",
   "version": "3.12.2"
  },
  "orig_nbformat": 4
 },
 "nbformat": 4,
 "nbformat_minor": 2
}
