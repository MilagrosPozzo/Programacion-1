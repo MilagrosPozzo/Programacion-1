{
 "cells": [
  {
   "cell_type": "markdown",
   "metadata": {},
   "source": [
    "# 9. Recursividad\n",
    "\n",
    "_¿En qué trabajas? Estoy intentando arreglar los problemas que creé cuando intentaba arreglar los problemas que creé cuando intentaba arreglar los problemas que creé. Y así nació la recursividad._\n",
    "\n",
    "## Función Recursiva para Calcular la Potencia de un Número\n",
    "\n",
    "En este ejercicio, vamos a crear una función recursiva que nos permita calcular la potencia de un número. La idea es que si tenemos un número \\(a\\) y queremos elevarlo a la potencia \\(b\\), la operación se representa como:\n",
    "\n",
    "$$a^b = a \\times a \\times \\dots \\times a$$\n",
    "\n",
    "Donde \\(a\\) se multiplica por sí mismo \\(b\\) veces.\n",
    "\n",
    "Para implementar esto de manera recursiva, consideraremos algunos casos base:\n",
    "\n",
    "1. Si \\(b = 0\\), cualquier número elevado a la potencia de 0 es 1.\n",
    "2. Si la base \\(a = 0\\), el resultado es 0 sin importar el exponente.\n",
    "3. Si \\(b = 1\\), el resultado es simplemente \\(a\\).\n",
    "\n",
    "Con estos casos base en mente, podemos proceder a implementar la función.\n"
   ]
  },
  {
   "cell_type": "code",
   "execution_count": null,
   "id": "4f165876",
   "metadata": {},
   "outputs": [],
   "source": [
    "def potencia(a, b):\n",
    "    # Caso base: cualquier número elevado a 0 es 1\n",
    "    if b == 0:\n",
    "        return 1\n",
    "    # Caso base: 0 elevado a cualquier número es 0\n",
    "    elif a == 0:\n",
    "        return 0\n",
    "    # Caso base: cualquier número elevado a 1 es él mismo\n",
    "    elif b == 1:\n",
    "        return a\n",
    "    # Caso recursivo\n",
    "    else:\n",
    "        return a * potencia(a, b-1)\n",
    "\n",
    "# Pruebas\n",
    "print(potencia(2, 4))  # 16\n",
    "print(potencia(4, 3))  # 64\n",
    "print(potencia(3, 4))  # 81\n"
   ]
  },
  {
   "cell_type": "markdown",
   "metadata": {},
   "source": []
  },
  {
   "cell_type": "markdown",
   "metadata": {},
   "source": [
    "## Ejemplos y Aplicaciones\n",
    "\n",
    "A menudo, cuando se busca sobre recursividad, se encuentra el ejemplo clásico de la secuencia de Fibonacci. Sin embargo, en este cuaderno, optaremos por no utilizar ese ejemplo. Queda a cargo del lector pensar en cómo resolver la secuencia de Fibonacci de manera recursiva y explorar otros ejemplos más allá de los típicos.\n",
    "\n",
    "En lugar de Fibonacci, vamos a explorar cómo la recursividad puede ser útil en el procesamiento de texto, utilizando el siguiente ejemplo novedoso.\n",
    "\n",
    "### Procesamiento de Texto Recursivo\n",
    "\n",
    "Imaginemos que tenemos un texto con varias palabras, y queremos contar cuántas veces aparece una palabra específica de manera recursiva. Vamos a implementar una función recursiva que realice esta tarea. Para hacerlo más interesante, supongamos que estamos analizando una receta de cocina y queremos contar cuántas veces aparece la palabra \"ingrediente\" en la lista de instrucciones.\n",
    "\n",
    "La idea es que vamos a analizar la receta como una lista de palabras, y recorreremos recursivamente la lista para contar cuántas veces aparece nuestra palabra objetivo.\n"
   ]
  },
  {
   "cell_type": "code",
   "execution_count": 2,
   "metadata": {},
   "outputs": [
    {
     "name": "stdout",
     "output_type": "stream",
     "text": [
      "4\n"
     ]
    }
   ],
   "source": [
    "def contar_palabra(texto, palabra, indice=0):\n",
    "    palabras = texto.split()  # Divide el texto en palabras\n",
    "    if indice >= len(palabras):\n",
    "        return 0  # Caso base: hemos terminado de revisar el texto\n",
    "    # Caso recursivo: suma 1 si la palabra coincide, de lo contrario sigue buscando\n",
    "    return (1 if palabras[indice] == palabra else 0) + contar_palabra(texto, palabra, indice + 1)\n",
    "\n",
    "# Prueba de la función\n",
    "texto_receta = \"ingrediente harina ingrediente agua ingrediente sal ingrediente levadura\"\n",
    "print(contar_palabra(texto_receta, \"ingrediente\"))  # Debería devolver 4\n"
   ]
  },
  {
   "cell_type": "markdown",
   "id": "cffbbc7d",
   "metadata": {},
   "source": [
    "## Desafíos\n",
    "\n",
    "**Desafío 1:**\n",
    "\n",
    "Crea una función recursiva que calcule el máximo común divisor (MCD) de dos números. El MCD de dos números es el número más grande que puede dividir ambos números sin dejar un residuo. Por ejemplo, el MCD de 8 y 12 es 4.\n",
    "\n",
    "Pista: Puedes usar el algoritmo de Euclides, que establece que el MCD de dos números también divide al residuo de su división. Por lo tanto, el MCD de a y b (donde a > b) es el mismo que el MCD de b y a % b.\n",
    "\n",
    "**Desafío 2:**\n",
    "\n",
    "Utiliza el modulo creado _procesador_texto_ para resaltar recursivamente todas las ocurrencias de una palabra clave en un texto largo.\n",
    "\n",
    "**Desafío 3:**\n",
    "\n",
    "Crea una función recursiva que invierta las palabras en una oración sin utilizar funciones incorporadas de Python para invertir cadenas o listas.\n",
    "\n",
    "**Desafío 4: El Mono que cuenta Plátanos**\n",
    "\n",
    "Imagina que tenemos un mono que intenta contar plátanos. Sin embargo, nuestro mono es un poco distraído y olvida cuántos plátanos ha contado cada vez que empieza a contar de nuevo. Cada vez que termina una secuencia de conteo, se olvida de los plátanos contados antes y vuelve a empezar, sumando todos desde el principio. Implementa una función recursiva que simule cómo el mono cuenta plátanos.\n",
    "\n",
    "Reglas:\n",
    "- El mono puede contar un plátano a la vez.\n",
    "- Cada vez que el mono termina de contar una pila de plátanos, tiene que volver a contar desde cero, pero sigue acumulando el total.\n",
    "\n",
    "Por ejemplo:\n",
    "- Si el mono tiene 5 plátanos en la pila, contará uno por uno, luego olvida y vuelve a empezar, acumulando la suma."
   ]
  },
  {
   "cell_type": "markdown",
   "metadata": {},
   "source": [
    "---\n",
    "\n",
    "Para más detalles y ejemplos sobre recursividad, puedes consultar la [referencia proporcionada](https://www.tutorialesprogramacionya.com/pythonya/detalleconcepto.php?punto=90&codigo=91&inicio=75#:~:text=En%20Python%20las%20funciones%20o,nuevas%20variables%20locales%20y%20par%C3%A1metros.)."
   ]
  },
  {
   "cell_type": "markdown",
   "id": "d68ecd76",
   "metadata": {},
   "source": [
    "## Desafío 1: Función recursiva para calcular el Máximo Común Divisor (MCD) utilizando el Algoritmo de Euclides"
   ]
  },
  {
   "cell_type": "code",
   "execution_count": 1,
   "id": "c1b87c78",
   "metadata": {},
   "outputs": [
    {
     "name": "stdout",
     "output_type": "stream",
     "text": [
      "El MCD de 56 y 98 es: 14\n"
     ]
    }
   ],
   "source": [
    "# Función recursiva para calcular el MCD utilizando el Algoritmo de Euclides.\n",
    "def mcd(a, b):\n",
    "    # Caso base: si b es 0, el MCD es a.\n",
    "    if b == 0:\n",
    "        return a\n",
    "    # Llamada recursiva: el MCD de a y b es el mismo que el MCD de b y a % b.\n",
    "    return mcd(b, a % b)\n",
    "\n",
    "# Prueba de la función con dos números de ejemplo.\n",
    "numero1 = 56\n",
    "numero2 = 98\n",
    "print(f\"El MCD de {numero1} y {numero2} es: {mcd(numero1, numero2)}\")"
   ]
  },
  {
   "cell_type": "markdown",
   "id": "be6ae866",
   "metadata": {},
   "source": [
    "Explicación\n",
    "\n",
    "    Caso Base: Si b es 0, retornamos a, ya que cualquier número dividido por sí mismo da el MCD.\n",
    "    Caso Recursivo: Usamos el Algoritmo de Euclides: el MCD de a y b es el mismo que el MCD de b y a % b."
   ]
  },
  {
   "cell_type": "markdown",
   "id": "a520ab4e",
   "metadata": {},
   "source": [
    "## Desafío 2: Resaltar recursivamente todas las ocurrencias de una palabra clave en un texto"
   ]
  },
  {
   "cell_type": "markdown",
   "id": "a26c173f",
   "metadata": {},
   "source": [
    "Para este desafío, se asume que el módulo procesador_texto.py incluye una función resaltar_palabra que rodea una palabra clave con asteriscos (*) para resaltarla.\n",
    "Paso 1: Crear procesador_texto.py con la función resaltar_palabra"
   ]
  },
  {
   "cell_type": "code",
   "execution_count": null,
   "id": "bc8332b4",
   "metadata": {},
   "outputs": [],
   "source": [
    "# Archivo: procesador_texto.py\n",
    "\n",
    "# Función para resaltar una palabra específica rodeándola con asteriscos.\n",
    "def resaltar_palabra(texto, palabra):\n",
    "    return texto.replace(palabra, f\"*{palabra}*\")"
   ]
  },
  {
   "cell_type": "markdown",
   "id": "7c2b4327",
   "metadata": {},
   "source": [
    "Paso 2: Programa principal que utiliza resaltar_palabra recursivamente"
   ]
  },
  {
   "cell_type": "code",
   "execution_count": null,
   "id": "5ccbd8f0",
   "metadata": {},
   "outputs": [],
   "source": [
    "# Importamos la función del módulo `procesador_texto`.\n",
    "from procesador_texto import resaltar_palabra\n",
    "\n",
    "# Función recursiva para resaltar todas las ocurrencias de una palabra clave en un texto.\n",
    "def resaltar_recursivo(texto, palabra, inicio=0):\n",
    "    # Buscamos la palabra clave en el texto desde la posición 'inicio'.\n",
    "    posicion = texto.find(palabra, inicio)\n",
    "\n",
    "    # Caso base: Si no se encuentra la palabra, terminamos la recursión y retornamos el texto.\n",
    "    if posicion == -1:\n",
    "        return texto\n",
    "\n",
    "    # Caso recursivo: Insertamos los asteriscos alrededor de la palabra encontrada.\n",
    "    texto = texto[:posicion] + f\"*{palabra}*\" + texto[posicion + len(palabra):]\n",
    "\n",
    "    # Llamada recursiva, continuando después de la palabra resaltada.\n",
    "    return resaltar_recursivo(texto, palabra, posicion + len(f\"*{palabra}*\"))\n",
    "\n",
    "# Ejemplo de uso\n",
    "texto_ejemplo = \"Esta es una palabra clave y otra palabra clave.\"\n",
    "palabra_clave = \"palabra\"\n",
    "texto_resaltado = resaltar_recursivo(texto_ejemplo, palabra_clave)\n",
    "print(texto_resaltado)"
   ]
  },
  {
   "cell_type": "markdown",
   "id": "3632ee07",
   "metadata": {},
   "source": [
    "Explicación\n",
    "\n",
    "    Caso Base: Si find devuelve -1, la palabra ya no está en el texto, por lo que terminamos.\n",
    "    Caso Recursivo: Añadimos los asteriscos y continuamos la búsqueda en el texto modificado."
   ]
  },
  {
   "cell_type": "markdown",
   "id": "573b95a7",
   "metadata": {},
   "source": [
    "## Desafío 3: Invertir las palabras en una oración sin funciones de inversión integradas"
   ]
  },
  {
   "cell_type": "code",
   "execution_count": null,
   "id": "979a9e5a",
   "metadata": {},
   "outputs": [],
   "source": [
    "# Función recursiva para invertir las palabras de una oración.\n",
    "def invertir_palabras(oracion):\n",
    "    # Caso base: Si la oración está vacía o tiene una sola palabra, la devolvemos como está.\n",
    "    if \" \" not in oracion:\n",
    "        return oracion\n",
    "    \n",
    "    # Caso recursivo: Dividimos en la primera palabra y el resto de la oración.\n",
    "    primer_palabra = oracion.split(\" \", 1)[0]\n",
    "    resto_oracion = oracion[len(primer_palabra) + 1:]\n",
    "\n",
    "    # Llamada recursiva invirtiendo el resto de la oración y añadiendo la primera palabra al final.\n",
    "    return invertir_palabras(resto_oracion) + \" \" + primer_palabra\n",
    "\n",
    "# Ejemplo de uso\n",
    "oracion = \"Recursividad en Python es poderosa\"\n",
    "print(invertir_palabras(oracion))"
   ]
  },
  {
   "cell_type": "markdown",
   "id": "c023ced3",
   "metadata": {},
   "source": [
    "Explicación\n",
    "\n",
    "    Caso Base: Si no hay espacios, significa que hay una sola palabra.\n",
    "    Caso Recursivo: Separamos la primera palabra y llamamos recursivamente a la función con el resto de la oración, construyendo la inversión palabra por palabra."
   ]
  },
  {
   "cell_type": "markdown",
   "id": "2ef6e7dc",
   "metadata": {},
   "source": [
    "## Desafío 4: El Mono que cuenta Plátanos"
   ]
  },
  {
   "cell_type": "code",
   "execution_count": null,
   "id": "332f4bfe",
   "metadata": {},
   "outputs": [],
   "source": [
    "# Función recursiva para simular cómo el mono cuenta plátanos.\n",
    "def contar_platanos(total_platanos, contador=0, acumulado=0):\n",
    "    # Caso base: Si el contador alcanza el total de plátanos, regresamos el acumulado.\n",
    "    if contador == total_platanos:\n",
    "        return acumulado\n",
    "\n",
    "    # Caso recursivo: Incrementamos el contador y acumulado, simulando que el mono olvida y empieza de nuevo.\n",
    "    return contar_platanos(total_platanos, contador + 1, acumulado + contador + 1)\n",
    "\n",
    "# Ejemplo de uso\n",
    "platanos = 5\n",
    "print(f\"El mono contó {contar_platanos(platanos)} plátanos en total.\")"
   ]
  },
  {
   "cell_type": "markdown",
   "id": "c85e354c",
   "metadata": {},
   "source": [
    "Explicación\n",
    "\n",
    "    Caso Base: Cuando el contador alcanza el total de plátanos, retornamos el acumulado.\n",
    "    Caso Recursivo: Incrementamos contador y acumulado, simulando que el mono olvida cada vez que cuenta y empieza de nuevo."
   ]
  }
 ],
 "metadata": {
  "kernelspec": {
   "display_name": "Python 3",
   "language": "python",
   "name": "python3"
  },
  "language_info": {
   "codemirror_mode": {
    "name": "ipython",
    "version": 3
   },
   "file_extension": ".py",
   "mimetype": "text/x-python",
   "name": "python",
   "nbconvert_exporter": "python",
   "pygments_lexer": "ipython3",
   "version": "3.12.2"
  }
 },
 "nbformat": 4,
 "nbformat_minor": 5
}
