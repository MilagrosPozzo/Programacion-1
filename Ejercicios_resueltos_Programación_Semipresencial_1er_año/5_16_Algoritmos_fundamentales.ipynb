{
 "cells": [
  {
   "cell_type": "markdown",
   "metadata": {},
   "source": [
    "# Algoritmos fundamentales\n",
    "\n",
    "En este cuaderno, imaginaremos que estamos desarrollando un sistema para gestionar el inventario de un supermercado. Cada producto en el supermercado tiene un código único y se almacena en una estructura de datos. Nuestro objetivo será desarrollar algoritmos que nos ayuden a:\n",
    "\n",
    "* Recorrer el inventario para hacer un seguimiento de los productos.\n",
    "* Buscar productos en el inventario de manera eficiente.\n",
    "* Ordenar los productos según diferentes criterios para facilitar la gestión.\n",
    "\n",
    "Comencemos con los algoritmos de recorrido.\n"
   ]
  },
  {
   "cell_type": "markdown",
   "metadata": {},
   "source": [
    "## Algoritmos de Recorrido\n",
    "El recorrido es una operación fundamental que implica visitar todos los elementos de una estructura de datos, como una lista, matriz o árbol, en un orden particular. En el contexto de la gestión de inventarios, el recorrido nos permite procesar todos los productos para llevar a cabo tareas como actualizar cantidades o verificar la disponibilidad.\n",
    "\n",
    "### Recorrido de una Lista\n",
    "Un supermercado tiene una lista de códigos de productos. Nuestro objetivo es recorrer la lista y mostrar los códigos uno por uno."
   ]
  },
  {
   "cell_type": "code",
   "execution_count": null,
   "metadata": {},
   "outputs": [],
   "source": [
    "# Lista de códigos de productos\n",
    "inventario = [101, 102, 103, 104, 105]\n",
    "\n",
    "# Recorrer y mostrar cada código de producto\n",
    "def recorrer_inventario(inventario):\n",
    "    for codigo in inventario:\n",
    "        print(f\"Código de producto: {codigo}\")\n",
    "\n",
    "# Llamada a la función\n",
    "recorrer_inventario(inventario)\n"
   ]
  },
  {
   "cell_type": "markdown",
   "metadata": {},
   "source": [
    "## Recorrido de una Matriz (Inventario por Sección)\n",
    "El supermercado tiene diferentes secciones y cada sección tiene una lista de productos. Podemos modelar este inventario como una matriz donde cada fila representa una sección."
   ]
  },
  {
   "cell_type": "code",
   "execution_count": null,
   "metadata": {},
   "outputs": [],
   "source": [
    "# Matriz que representa el inventario por secciones\n",
    "secciones = [\n",
    "    [101, 102, 103],  # Sección 1\n",
    "    [201, 202, 203],  # Sección 2\n",
    "    [301, 302, 303]   # Sección 3\n",
    "]\n",
    "\n",
    "# Recorrer y mostrar los códigos de producto por secciones\n",
    "def recorrer_inventario_por_secciones(secciones):\n",
    "    for i, seccion in enumerate(secciones):\n",
    "        print(f\"Sección {i + 1}:\")\n",
    "        for producto in seccion:\n",
    "            print(f\"Código de producto: {producto}\")\n",
    "\n",
    "# Llamada a la función\n",
    "recorrer_inventario_por_secciones(secciones)\n"
   ]
  },
  {
   "cell_type": "markdown",
   "metadata": {},
   "source": [
    "## Recorrido de un Árbol (Categorías de Productos)\n",
    "Algunos productos están organizados jerárquicamente, por ejemplo, en categorías como alimentos, bebidas, etc. Podemos utilizar un árbol para representar esta jerarquía y aplicar un recorrido en preorden para procesar todos los productos."
   ]
  },
  {
   "cell_type": "code",
   "execution_count": null,
   "metadata": {},
   "outputs": [],
   "source": [
    "class Nodo:\n",
    "    def __init__(self, valor):\n",
    "        self.izq = None\n",
    "        self.der = None\n",
    "        self.valor = valor\n",
    "\n",
    "# Crear un árbol simple de categorías de productos\n",
    "raiz = Nodo(\"Alimentos\")\n",
    "raiz.izq = Nodo(\"Frutas\")\n",
    "raiz.der = Nodo(\"Carnes\")\n",
    "raiz.izq.izq = Nodo(\"Manzanas\")\n",
    "raiz.izq.der = Nodo(\"Bananas\")\n",
    "raiz.der.izq = Nodo(\"Pollo\")\n",
    "raiz.der.der = Nodo(\"Cerdo\")\n",
    "\n",
    "# Recorrido en preorden\n",
    "def preorden(raiz):\n",
    "    if raiz:\n",
    "        print(raiz.valor)\n",
    "        preorden(raiz.izq)\n",
    "        preorden(raiz.der)\n",
    "\n",
    "# Llamada al recorrido preorden\n",
    "preorden(raiz)\n"
   ]
  },
  {
   "cell_type": "markdown",
   "metadata": {},
   "source": [
    "## Algoritmos de Búsqueda\n",
    "Los algoritmos de búsqueda nos permiten encontrar un elemento en una estructura de datos de manera eficiente. En la gestión de inventarios, a menudo necesitamos buscar un producto específico por su código.\n",
    "\n",
    "### Búsqueda Lineal\n",
    "La búsqueda lineal recorre la lista desde el primer elemento hasta el último, comparando cada elemento con el valor buscado."
   ]
  },
  {
   "cell_type": "code",
   "execution_count": null,
   "metadata": {},
   "outputs": [],
   "source": [
    "# Lista de códigos de productos\n",
    "inventario = [101, 102, 103, 104, 105]\n",
    "\n",
    "# Búsqueda lineal de un producto por su código\n",
    "def busqueda_lineal(inventario, codigo_buscar):\n",
    "    for i, codigo in enumerate(inventario):\n",
    "        if codigo == codigo_buscar:\n",
    "            return i  # Retorna el índice del producto\n",
    "    return -1  # Producto no encontrado\n",
    "\n",
    "# Buscar el producto con código 104\n",
    "resultado = busqueda_lineal(inventario, 104)\n",
    "print(f\"Producto encontrado en la posición: {resultado}\")\n"
   ]
  },
  {
   "cell_type": "markdown",
   "metadata": {},
   "source": [
    "## Búsqueda Binaria\n",
    "La búsqueda binaria es mucho más eficiente que la búsqueda lineal, pero solo se puede aplicar si los elementos están ordenados. Divide la lista en dos mitades y descarta la mitad que no puede contener el valor buscado."
   ]
  },
  {
   "cell_type": "code",
   "execution_count": null,
   "metadata": {},
   "outputs": [],
   "source": [
    "# Lista ordenada de códigos de productos\n",
    "inventario = [101, 102, 103, 104, 105]\n",
    "\n",
    "# Búsqueda binaria de un producto por su código\n",
    "def busqueda_binaria(inventario, codigo_buscar):\n",
    "    bajo = 0\n",
    "    alto = len(inventario) - 1\n",
    "\n",
    "    while bajo <= alto:\n",
    "        medio = (bajo + alto) // 2\n",
    "        if inventario[medio] == codigo_buscar:\n",
    "            return medio  # Producto encontrado\n",
    "        elif inventario[medio] < codigo_buscar:\n",
    "            bajo = medio + 1\n",
    "        else:\n",
    "            alto = medio - 1\n",
    "\n",
    "    return -1  # Producto no encontrado\n",
    "\n",
    "# Buscar el producto con código 104\n",
    "resultado = busqueda_binaria(inventario, 104)\n",
    "print(f\"Producto encontrado en la posición: {resultado}\")\n"
   ]
  },
  {
   "cell_type": "markdown",
   "metadata": {},
   "source": [
    "## Algoritmos de Ordenamiento\n",
    "Los algoritmos de ordenamiento son esenciales para organizar datos de manera que las búsquedas y otros algoritmos sean más eficientes.\n",
    "\n",
    "### Ordenamiento Burbuja\n",
    "El algoritmo de burbuja compara elementos adyacentes y los intercambia si están en el orden incorrecto. Este proceso se repite hasta que la lista esté completamente ordenada."
   ]
  },
  {
   "cell_type": "code",
   "execution_count": null,
   "metadata": {},
   "outputs": [],
   "source": [
    "# Lista de códigos de productos\n",
    "inventario = [105, 103, 101, 104, 102]\n",
    "\n",
    "# Ordenamiento burbuja\n",
    "def ordenamiento_burbuja(inventario):\n",
    "    n = len(inventario)\n",
    "    for i in range(n):\n",
    "        for j in range(0, n - i - 1):\n",
    "            if inventario[j] > inventario[j + 1]:\n",
    "                # Intercambiar los elementos\n",
    "                inventario[j], inventario[j + 1] = inventario[j + 1], inventario[j]\n",
    "\n",
    "# Ordenar la lista de productos\n",
    "ordenamiento_burbuja(inventario)\n",
    "print(f\"Inventario ordenado: {inventario}\")\n"
   ]
  },
  {
   "cell_type": "markdown",
   "metadata": {},
   "source": [
    "### Ordenamiento por Inserción\n",
    "El algoritmo de inserción toma un elemento de la lista y lo inserta en su posición correcta con respecto a los elementos ya ordenados."
   ]
  },
  {
   "cell_type": "code",
   "execution_count": null,
   "metadata": {},
   "outputs": [],
   "source": [
    "# Lista de códigos de productos\n",
    "inventario = [105, 103, 101, 104, 102]\n",
    "\n",
    "# Ordenamiento por inserción\n",
    "def ordenamiento_insercion(inventario):\n",
    "    for i in range(1, len(inventario)):\n",
    "        clave = inventario[i]\n",
    "        j = i - 1\n",
    "        while j >= 0 and clave < inventario[j]:\n",
    "            inventario[j + 1] = inventario[j]\n",
    "            j -= 1\n",
    "        inventario[j + 1] = clave\n",
    "\n",
    "# Ordenar la lista de productos\n",
    "ordenamiento_insercion(inventario)\n",
    "print(f\"Inventario ordenado: {inventario}\")\n"
   ]
  },
  {
   "cell_type": "markdown",
   "metadata": {},
   "source": [
    "### Ordenamiento por Selección\n",
    "El algoritmo de selección busca el elemento más pequeño (o más grande) en la lista y lo coloca en su posición correcta, intercambiando con el primer elemento no ordenado."
   ]
  },
  {
   "cell_type": "code",
   "execution_count": null,
   "metadata": {},
   "outputs": [],
   "source": [
    "# Lista de códigos de productos\n",
    "inventario = [105, 103, 101, 104, 102]\n",
    "\n",
    "# Ordenamiento por selección\n",
    "def ordenamiento_seleccion(inventario):\n",
    "    for i in range(len(inventario)):\n",
    "        min_idx = i\n",
    "        for j in range(i + 1, len(inventario)):\n",
    "            if inventario[j] < inventario[min_idx]:\n",
    "                min_idx = j\n",
    "        # Intercambiar el elemento más pequeño con el primer elemento no ordenado\n",
    "        inventario[i], inventario[min_idx] = inventario[min_idx], inventario[i]\n",
    "\n",
    "# Ordenar la lista de productos\n",
    "ordenamiento_seleccion(inventario)\n",
    "print(f\"Inventario ordenado: {inventario}\")\n"
   ]
  },
  {
   "cell_type": "markdown",
   "metadata": {},
   "source": [
    "## Desafíos\n",
    "### Desafío 1: Recorrido de estudiantes por niveles\n",
    "Dado un árbol que representa los grupos de estudiantes en una escuela, implementa un recorrido por niveles para mostrar los estudiantes de cada grupo, comenzando por el nivel más alto (ej. grado 12) y descendiendo hasta el nivel más bajo (ej. grado 1). Cada nodo del árbol representa un grado y sus estudiantes.\n",
    "\n",
    "### Desafío 2: Implementar búsqueda secuencial en una tabla de calificaciones\n",
    "Tienes una tabla de calificaciones representada como una matriz, donde cada fila contiene las calificaciones de un estudiante en distintas materias. Implementa una función que busque una calificación específica en toda la matriz y devuelva el estudiante y la materia en la que se encuentra.\n",
    "\n",
    "### Desafío 3: Optimizar la búsqueda en una lista ordenada de estudiantes\n",
    "Tienes una lista ordenada alfabéticamente con los nombres de los estudiantes de una clase. Implementa una función que realice una búsqueda binaria para encontrar un estudiante específico en la lista. Si el estudiante no está, la función debe mostrar un mensaje adecuado.\n",
    "\n",
    "### Desafío 4: Ordenar estudiantes por promedio de calificaciones\n",
    "Tienes una lista de estudiantes y su promedio de calificaciones. Implementa un algoritmo que ordene a los estudiantes de acuerdo con su promedio utilizando el algoritmo de ordenamiento por selección. Al final, el estudiante con el promedio más alto debe estar en primer lugar.\n",
    "\n",
    "### Desafío 5: Crear un árbol de clasificación de estudiantes por rendimiento\n",
    "Dado un conjunto de estudiantes y sus promedios, implementa una función que cree un árbol binario de búsqueda en el que los nodos representan los promedios de los estudiantes. Luego, implementa una función que recorra el árbol en inorden para mostrar los estudiantes en orden ascendente de rendimiento académico."
   ]
  },
  {
   "cell_type": "markdown",
   "metadata": {},
   "source": [
    "## Desafío 1: Recorrido de estudiantes por niveles"
   ]
  },
  {
   "cell_type": "markdown",
   "metadata": {},
   "source": [
    "Implementar un recorrido por niveles en un árbol, donde cada nivel representa un grado en una escuela. El recorrido por niveles (o \"breadth-first traversal\") visita los nodos del árbol nivel por nivel, lo que significa que procesará cada nivel completamente antes de pasar al siguiente."
   ]
  },
  {
   "cell_type": "code",
   "execution_count": 1,
   "metadata": {},
   "outputs": [
    {
     "name": "stdout",
     "output_type": "stream",
     "text": [
      "Algoritmos fundamentales en Python-Tema12-5des1:\n",
      "\n",
      "Estudiante o Grado: Grado 12\n",
      "Estudiante o Grado: Estudiante A\n"
     ]
    }
   ],
   "source": [
    "# DESAFÍO 1\n",
    "print(\"Algoritmos fundamentales en Python-Tema12-5des1:\\n\") #Nombre de la actividad, tema(12), bloque(5), desafío(1)\n",
    "# Clase Nodo para representar cada grado en el árbol de estudiantes\n",
    "class Nodo:\n",
    "    def __init__(self, valor):\n",
    "        # Inicializamos el valor (nombre o grado) del nodo\n",
    "        self.valor = valor\n",
    "        # Cada nodo puede tener múltiples hijos (estudiantes en grados)\n",
    "        self.hijos = []\n",
    "\n",
    "# Función para agregar un hijo al nodo actual\n",
    "def agregar_hijo(nodo_padre, nodo_hijo):\n",
    "    nodo_padre.hijos.append(nodo_hijo)\n",
    "\n",
    "# Implementación del recorrido por niveles usando una cola\n",
    "from collections import deque\n",
    "\n",
    "def recorrido_por_niveles(raiz):\n",
    "    # Inicializamos una cola con el nodo raíz (nivel más alto)\n",
    "    cola = deque([raiz])\n",
    "\n",
    "    # Mientras la cola no esté vacía, continuamos con el recorrido\n",
    "    while cola:\n",
    "        # Extraemos el primer nodo de la cola\n",
    "        nodo_actual = cola.popleft()\n",
    "        # Imprimimos el valor del nodo actual\n",
    "        print(f\"Estudiante o Grado: {nodo_actual.valor}\")\n",
    "        \n",
    "        # Agregamos los hijos del nodo actual a la cola\n",
    "        for hijo in nodo_actual.hijos:\n",
    "            cola.append(hijo)\n",
    "\n",
    "# Ejemplo de uso\n",
    "grado_12 = Nodo(\"Grado 12\")\n",
    "grado_11 = Nodo(\"Grado 11\")\n",
    "grado_10 = Nodo(\"Grado 10\")\n",
    "\n",
    "# Agregamos estudiantes o grados como nodos hijos\n",
    "agregar_hijo(grado_12, Nodo(\"Estudiante A\"))\n",
    "agregar_hijo(grado_11, Nodo(\"Estudiante B\"))\n",
    "agregar_hijo(grado_10, Nodo(\"Estudiante C\"))\n",
    "\n",
    "# Llamada a la función de recorrido por niveles\n",
    "recorrido_por_niveles(grado_12)"
   ]
  },
  {
   "cell_type": "markdown",
   "metadata": {},
   "source": [
    "➡️ Puedes ver la solución al desafío 1 en el link: http://tpcg.io/DJTSDY"
   ]
  },
  {
   "cell_type": "markdown",
   "metadata": {},
   "source": [
    "## Desafío 2: Implementar búsqueda secuencial en una tabla de calificaciones "
   ]
  },
  {
   "cell_type": "markdown",
   "metadata": {},
   "source": [
    "Para este desafío, hay que crear una función que busca una calificación específica en una matriz que representa las calificaciones de los estudiantes. Esta función recorrerá cada fila y columna para encontrar la calificación y devolverá su posición."
   ]
  },
  {
   "cell_type": "code",
   "execution_count": 2,
   "metadata": {},
   "outputs": [
    {
     "name": "stdout",
     "output_type": "stream",
     "text": [
      "Algoritmos fundamentales en Python-Tema12-5des2:\n",
      "\n",
      "Calificación 85 encontrada en estudiante 1, materia 1\n"
     ]
    }
   ],
   "source": [
    "# DESAFÍO 2\n",
    "print(\"Algoritmos fundamentales en Python-Tema12-5des2:\\n\") #Nombre de la actividad, tema(12), bloque(5), desafío(2)\n",
    "# Matriz de calificaciones, donde cada fila representa a un estudiante\n",
    "# y cada columna representa una materia\n",
    "calificaciones = [\n",
    "    [85, 90, 78],\n",
    "    [88, 92, 80],\n",
    "    [76, 85, 89]\n",
    "]\n",
    "\n",
    "# Búsqueda secuencial de una calificación específica en la matriz\n",
    "def buscar_calificacion(matriz, calificacion_objetivo):\n",
    "    # Recorremos cada fila (estudiante)\n",
    "    for i, fila in enumerate(matriz):\n",
    "        # Recorremos cada columna (materia)\n",
    "        for j, calificacion in enumerate(fila):\n",
    "            if calificacion == calificacion_objetivo:\n",
    "                # Devolvemos el índice del estudiante y de la materia\n",
    "                return f\"Calificación {calificacion_objetivo} encontrada en estudiante {i + 1}, materia {j + 1}\"\n",
    "    return \"Calificación no encontrada\"\n",
    "\n",
    "# Ejemplo de búsqueda\n",
    "resultado = buscar_calificacion(calificaciones, 85)\n",
    "print(resultado)"
   ]
  },
  {
   "cell_type": "markdown",
   "metadata": {},
   "source": [
    "➡️ Puedes ver la solución al desafío 2 en el link: http://tpcg.io/DSFI7A"
   ]
  },
  {
   "cell_type": "markdown",
   "metadata": {},
   "source": [
    "## Desafío 3: Optimizar la búsqueda en una lista ordenada de estudiantes"
   ]
  },
  {
   "cell_type": "markdown",
   "metadata": {},
   "source": [
    "Para optimizar la búsqueda en una lista ordenada, se utiliza una búsqueda binaria. Este método divide la lista en dos partes en cada paso, lo que permite encontrar el elemento en menos tiempo comparado con una búsqueda lineal."
   ]
  },
  {
   "cell_type": "code",
   "execution_count": 3,
   "metadata": {},
   "outputs": [
    {
     "name": "stdout",
     "output_type": "stream",
     "text": [
      "Algoritmos fundamentales en Python-Tema12-5des3:\n",
      "\n",
      "Estudiante Luis encontrado en la posición 4\n"
     ]
    }
   ],
   "source": [
    "# DESAFÍO 3\n",
    "print(\"Algoritmos fundamentales en Python-Tema12-5des3:\\n\") #Nombre de la actividad, tema(12), bloque(5), desafío(3)\n",
    "# Lista ordenada alfabéticamente de estudiantes\n",
    "estudiantes = [\"Ana\", \"Carlos\", \"Juan\", \"Luis\", \"Pedro\"]\n",
    "\n",
    "# Búsqueda binaria en una lista ordenada\n",
    "def busqueda_binaria_estudiantes(lista, estudiante_objetivo):\n",
    "    # Definimos los límites inferior y superior\n",
    "    bajo, alto = 0, len(lista) - 1\n",
    "\n",
    "    # Mientras el rango de búsqueda sea válido\n",
    "    while bajo <= alto:\n",
    "        medio = (bajo + alto) // 2\n",
    "        if lista[medio] == estudiante_objetivo:\n",
    "            # Estudiante encontrado en la posición medio\n",
    "            return f\"Estudiante {estudiante_objetivo} encontrado en la posición {medio + 1}\"\n",
    "        elif lista[medio] < estudiante_objetivo:\n",
    "            bajo = medio + 1\n",
    "        else:\n",
    "            alto = medio - 1\n",
    "\n",
    "    return \"Estudiante no encontrado\"\n",
    "\n",
    "# Ejemplo de búsqueda binaria\n",
    "resultado = busqueda_binaria_estudiantes(estudiantes, \"Luis\")\n",
    "print(resultado)"
   ]
  },
  {
   "cell_type": "markdown",
   "metadata": {},
   "source": [
    "➡️ Puedes ver la solución al desafío 2 en el link: http://tpcg.io/2H2F8C"
   ]
  },
  {
   "cell_type": "markdown",
   "metadata": {},
   "source": [
    "## Desafío 4: Ordenar estudiantes por promedio de calificaciones"
   ]
  },
  {
   "cell_type": "markdown",
   "metadata": {},
   "source": [
    "Implementar el algoritmo de ordenamiento por selección para ordenar a los estudiantes por su promedio de calificaciones de mayor a menor."
   ]
  },
  {
   "cell_type": "code",
   "execution_count": 4,
   "metadata": {},
   "outputs": [
    {
     "name": "stdout",
     "output_type": "stream",
     "text": [
      "Algoritmos fundamentales en Python-Tema12-5des4:\n",
      "\n",
      "Estudiantes ordenados por promedio de mayor a menor: [('Carlos', 92), ('Luis', 88), ('Ana', 85), ('Pedro', 80), ('Juan', 78)]\n"
     ]
    }
   ],
   "source": [
    "# DESAFÍO 4\n",
    "print(\"Algoritmos fundamentales en Python-Tema12-5des4:\\n\") #Nombre de la actividad, tema(12), bloque(5), desafío(4)\n",
    "# Lista de estudiantes y sus promedios\n",
    "estudiantes_promedios = [(\"Ana\", 85), (\"Carlos\", 92), (\"Juan\", 78), (\"Luis\", 88), (\"Pedro\", 80)]\n",
    "\n",
    "# Ordenamiento por selección en base al promedio\n",
    "def ordenar_por_promedio(lista):\n",
    "    # Recorremos cada elemento de la lista\n",
    "    for i in range(len(lista)):\n",
    "        # Suponemos que el elemento actual es el mayor\n",
    "        max_idx = i\n",
    "        for j in range(i + 1, len(lista)):\n",
    "            if lista[j][1] > lista[max_idx][1]:  # Comparamos los promedios\n",
    "                max_idx = j\n",
    "        # Intercambiamos el estudiante con el promedio más alto al inicio\n",
    "        lista[i], lista[max_idx] = lista[max_idx], lista[i]\n",
    "\n",
    "# Ordenar estudiantes por promedio\n",
    "ordenar_por_promedio(estudiantes_promedios)\n",
    "print(\"Estudiantes ordenados por promedio de mayor a menor:\", estudiantes_promedios)"
   ]
  },
  {
   "cell_type": "markdown",
   "metadata": {},
   "source": [
    "➡️ Puedes ver la solución al desafío 4 en el link: http://tpcg.io/J0NLX3"
   ]
  },
  {
   "cell_type": "markdown",
   "metadata": {},
   "source": [
    "## Desafío 5: Crear un árbol de clasificación de estudiantes por rendimiento"
   ]
  },
  {
   "cell_type": "markdown",
   "metadata": {},
   "source": [
    "Construir un árbol binario de búsqueda basado en los promedios de los estudiantes. Luego implementar un recorrido en inorden para mostrar los estudiantes en orden ascendente de rendimiento."
   ]
  },
  {
   "cell_type": "code",
   "execution_count": 2,
   "metadata": {},
   "outputs": [
    {
     "name": "stdout",
     "output_type": "stream",
     "text": [
      "Algoritmos fundamentales en Python-Tema12-5des5:\n",
      "\n",
      "Estudiantes en orden ascendente de rendimiento:\n",
      "Estudiante: Pedro, Promedio: 6\n",
      "Estudiante: Luis, Promedio: 7\n",
      "Estudiante: Juan, Promedio: 8\n",
      "Estudiante: Carlos, Promedio: 9\n",
      "Estudiante: Ana, Promedio: 10\n"
     ]
    }
   ],
   "source": [
    "# DESAFÍO 5\n",
    "print(\"Algoritmos fundamentales en Python-Tema12-5des5:\\n\") #Nombre de la actividad, tema(12), bloque(5), desafío(5)\n",
    "# Clase Nodo para el árbol binario de búsqueda\n",
    "class Nodo:\n",
    "    def __init__(self, nombre, promedio):\n",
    "        self.nombre = nombre\n",
    "        self.promedio = promedio\n",
    "        self.izq = None\n",
    "        self.der = None\n",
    "\n",
    "# Función para insertar un nodo en el árbol\n",
    "def insertar_nodo(raiz, nombre, promedio):\n",
    "    if raiz is None:\n",
    "        return Nodo(nombre, promedio)\n",
    "    elif promedio < raiz.promedio:\n",
    "        raiz.izq = insertar_nodo(raiz.izq, nombre, promedio)\n",
    "    else:\n",
    "        raiz.der = insertar_nodo(raiz.der, nombre, promedio)\n",
    "    return raiz\n",
    "\n",
    "# Función de recorrido inorden para mostrar estudiantes en orden ascendente\n",
    "def recorrido_inorden(raiz):\n",
    "    if raiz is not None:\n",
    "        recorrido_inorden(raiz.izq)\n",
    "        print(f\"Estudiante: {raiz.nombre}, Promedio: {raiz.promedio}\")\n",
    "        recorrido_inorden(raiz.der)\n",
    "\n",
    "# Ejemplo de uso\n",
    "raiz = None\n",
    "datos_estudiantes = [(\"Ana\", 10), (\"Carlos\", 9), (\"Juan\", 8), (\"Luis\", 7), (\"Pedro\", 6)]\n",
    "\n",
    "# Insertar cada estudiante en el árbol\n",
    "for nombre, promedio in datos_estudiantes:\n",
    "    raiz = insertar_nodo(raiz, nombre, promedio)\n",
    "\n",
    "# Recorrido inorden para mostrar estudiantes ordenados por rendimiento\n",
    "print(\"Estudiantes en orden ascendente de rendimiento:\")\n",
    "recorrido_inorden(raiz)"
   ]
  },
  {
   "cell_type": "markdown",
   "metadata": {},
   "source": [
    "➡️ Puedes ver la solución al desafío 5 en el link:http://tpcg.io/Z680NW"
   ]
  }
 ],
 "metadata": {
  "kernelspec": {
   "display_name": "Python 3",
   "language": "python",
   "name": "python3"
  },
  "language_info": {
   "codemirror_mode": {
    "name": "ipython",
    "version": 3
   },
   "file_extension": ".py",
   "mimetype": "text/x-python",
   "name": "python",
   "nbconvert_exporter": "python",
   "pygments_lexer": "ipython3",
   "version": "3.12.2"
  }
 },
 "nbformat": 4,
 "nbformat_minor": 2
}
