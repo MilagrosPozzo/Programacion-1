{
 "cells": [
  {
   "cell_type": "markdown",
   "metadata": {},
   "source": [
    "# Árboles en Python\n",
    "\n",
    "Los árboles son una estructura de datos fundamental en ciencias de la computación y programación. Un árbol consiste en un conjunto de nodos conectados por bordes, con un nodo raíz desde el cual se derivan los demás nodos. Cada nodo puede tener cero o más nodos hijos.\n",
    "\n",
    "En esta guía, exploraremos cómo implementar y trabajar con árboles en Python.\n",
    "\n",
    "<div style=\"text-align: center;\">\n",
    "    <img src=\"arboles1.jpg\" alt=\"Árbol\" style=\"width: 60%;\">\n",
    "</div>\n",
    "\n"
   ]
  },
  {
   "cell_type": "markdown",
   "metadata": {},
   "source": [
    "## Definición de un Nodo\n",
    "\n",
    "Primero, definiremos la clase `Nodo` que representará cada nodo en nuestro árbol.\n"
   ]
  },
  {
   "cell_type": "code",
   "execution_count": 3,
   "metadata": {},
   "outputs": [],
   "source": [
    "class Nodo:\n",
    "    def __init__(self, key):\n",
    "        self.izq = None\n",
    "        self.der = None\n",
    "        self.val = key\n"
   ]
  },
  {
   "cell_type": "markdown",
   "metadata": {},
   "source": [
    "## Creación de un Árbol\n",
    "\n",
    "A continuación, crearemos un árbol simple para ilustrar cómo se pueden conectar los nodos.\n"
   ]
  },
  {
   "cell_type": "code",
   "execution_count": 4,
   "metadata": {},
   "outputs": [],
   "source": [
    "# Crear el nodo raíz\n",
    "raiz = Nodo(1)\n",
    "\n",
    "# Añadir nodos hijos\n",
    "raiz.izq = Nodo(2)\n",
    "raiz.der = Nodo(3)\n",
    "\n",
    "# Añadir nodos hijos al nodo izquierdo del raíz\n",
    "raiz.izq.izq = Nodo(4)\n",
    "raiz.izq.der = Nodo(5)\n",
    "\n",
    "# Añadir nodos hijos al nodo derecho del raíz\n",
    "raiz.der.izq = Nodo(6)\n",
    "raiz.der.der = Nodo(7)\n",
    "\n",
    "# Añadir nodos hijos al nodo hijo derecho del hijo izquierdo del raíz\n",
    "raiz.izq.der.izq = Nodo(8)\n",
    "raiz.izq.der.der = Nodo(9)\n",
    "\n",
    "# Añadir nodos hijos al nodo hijo derecho del hijo derecho del raíz\n",
    "raiz.der.der.izq = Nodo(10)\n",
    "raiz.der.der.der = Nodo(11)"
   ]
  },
  {
   "cell_type": "markdown",
   "metadata": {},
   "source": [
    "En el codigo anterior se creo el árbol de ejemplo inicial, en principio cargandolo por _niveles_. Veremos mas adelante otras formas de recorrer un árbol.\n",
    "\n",
    "<div style=\"text-align: center;\">\n",
    "    <img src=\"arboles2.jpg\" alt=\"Árbol\" style=\"width: 60%;\">\n",
    "</div>"
   ]
  },
  {
   "cell_type": "markdown",
   "metadata": {},
   "source": [
    "## Travesía de un Árbol\n",
    "\n",
    "Existen diferentes maneras de recorrer un árbol. Aquí mostraremos tres métodos comunes: preorden, inorden y postorden.\n"
   ]
  },
  {
   "cell_type": "markdown",
   "metadata": {},
   "source": [
    "### Travesía en Preorden\n",
    "\n",
    "En la travesía en preorden, visitamos primero la raíz, luego el subárbol izquierdo, y finalmente el subárbol derecho.\n"
   ]
  },
  {
   "cell_type": "code",
   "execution_count": 5,
   "metadata": {},
   "outputs": [
    {
     "name": "stdout",
     "output_type": "stream",
     "text": [
      "1 2 4 5 8 9 3 6 7 10 11 "
     ]
    }
   ],
   "source": [
    "def print_preorder(raiz):\n",
    "    if raiz:\n",
    "        print(raiz.val, end=\" \")\n",
    "        print_preorder(raiz.izq)\n",
    "        print_preorder(raiz.der)\n",
    "        \n",
    "print_preorder(raiz)  # Salida esperada: 1 2 4 5 8 9 3 6 7 10 11 \n"
   ]
  },
  {
   "cell_type": "markdown",
   "metadata": {},
   "source": [
    "### Travesía en Inorden\n",
    "\n",
    "En la travesía en inorden, visitamos primero el subárbol izquierdo, luego la raíz, y finalmente el subárbol derecho.\n"
   ]
  },
  {
   "cell_type": "code",
   "execution_count": 7,
   "metadata": {},
   "outputs": [
    {
     "name": "stdout",
     "output_type": "stream",
     "text": [
      "4 2 8 5 9 1 6 3 10 7 11 "
     ]
    }
   ],
   "source": [
    "def print_inorder(raiz):\n",
    "    if raiz:\n",
    "        print_inorder(raiz.izq)\n",
    "        print(raiz.val, end=\" \")\n",
    "        print_inorder(raiz.der)\n",
    "        \n",
    "print_inorder(raiz)  # Salida esperada: 4 2 8 5 9 1 6 3 10 7 11\n"
   ]
  },
  {
   "cell_type": "markdown",
   "metadata": {},
   "source": [
    "### Travesía en Postorden\n",
    "\n",
    "En la travesía en postorden, visitamos primero el subárbol izquierdo, luego el subárbol derecho, y finalmente la raíz.\n"
   ]
  },
  {
   "cell_type": "code",
   "execution_count": 8,
   "metadata": {},
   "outputs": [
    {
     "name": "stdout",
     "output_type": "stream",
     "text": [
      "4 8 9 5 2 6 10 11 7 3 1 "
     ]
    }
   ],
   "source": [
    "def print_postorder(raiz):\n",
    "    if raiz:\n",
    "        print_postorder(raiz.izq)\n",
    "        print_postorder(raiz.der)\n",
    "        print(raiz.val, end=\" \")\n",
    "        \n",
    "print_postorder(raiz)  # Salida esperada: 4 8 9 5 2 6 10 11 7 3 1 \n"
   ]
  },
  {
   "cell_type": "markdown",
   "metadata": {},
   "source": [
    "## Conclusión\n",
    "\n",
    "Los árboles son una estructura de datos versátil y eficiente, y son fundamentales para muchos algoritmos y aplicaciones en informática. Entender cómo funcionan y cómo se pueden recorrer es esencial para cualquier programador o científico de la computación.\n",
    "\n",
    "¡Practica creando tus propios árboles y recorriéndolos para fortalecer tu comprensión de esta estructura de datos!\n"
   ]
  },
  {
   "cell_type": "markdown",
   "metadata": {},
   "source": [
    "## Desafíos\n",
    "### Desafío 1: \n",
    "Construye un árbol binario simple con al menos 3 niveles de profundidad. Cada nodo debe contener un número entero como valor. Una vez construido el árbol, implementa una función que imprima los valores de los nodos siguiendo un recorrido en preorden.\n",
    "\n",
    "### Desafío 2: \n",
    "Dado un árbol binario con números enteros en cada nodo, implementa una función que recorra el árbol en inorden y calcule la suma de todos los valores almacenados en los nodos. El programa debe devolver el resultado final de la suma.\n",
    "\n",
    "### Desafío 3: \n",
    "Construye un árbol binario en el que cada nodo contiene un número entero. Implementa una función que recorra el árbol en postorden y devuelva el valor máximo encontrado entre todos los nodos del árbol.\n",
    "\n",
    "### Desafío 4: \n",
    "Dado un conjunto de números enteros únicos, construye un árbol de búsqueda binaria (ABB) que inserte los valores de manera que el subárbol izquierdo de cada nodo contenga solo nodos con valores menores, y el subárbol derecho solo nodos con valores mayores. Una vez construido el árbol, implementa una función para buscar un número dado y devuelva si ese número existe en el árbol o no.\n",
    "\n",
    "### Desafío 5: Evaluación de Expresiones Matemáticas con Árboles\n",
    "\n",
    "Los árboles de expresiones son una herramienta poderosa en ciencias de la computación y se utilizan comúnmente para evaluar expresiones matemáticas. En este desafío, te propongo construir y evaluar un árbol de expresiones para una expresión matemática dada.\n",
    "\n",
    "**Tu tarea es escribir un programa en Python que haga lo siguiente:**\n",
    "\n",
    "* Construir el Árbol de Expresiones: Dada una expresión matemática en forma de cadena, construir el árbol de expresiones correspondiente. Puedes asumir que la expresión está bien formada y solo contiene números enteros, y los operadores +, -, *, /.\n",
    "\n",
    "* Evaluar el Árbol de Expresiones: Una vez construido el árbol, evaluarlo y devolver el resultado de la expresión.\n",
    "\n",
    "* Prueba tu Programa: Utiliza la expresión \"5 + 3 * 4\" para probar tu programa. El resultado debería ser 17.\n",
    "\n",
    "## Consejos\n",
    "Puedes crear una clase Nodo para representar los nodos en tu árbol de expresiones. Cada nodo debería tener un valor y dos hijos (izquierdo y derecho).\n",
    "Puedes crear funciones auxiliares para ayudarte a construir y evaluar el árbol de expresiones.\n",
    "Recuerda seguir las reglas de precedencia de operadores al construir el árbol."
   ]
  },
  {
   "cell_type": "markdown",
   "metadata": {},
   "source": [
    "## Desafío 1: Crear un árbol binario y recorrerlo en preorden"
   ]
  },
  {
   "cell_type": "markdown",
   "metadata": {},
   "source": [
    "Explicación Línea por Línea:\n",
    "\n",
    "    class Nodo: Define la estructura de cada nodo.\n",
    "    __init__(self, valor): El constructor inicializa valor y establece izq y der en None.\n",
    "    raiz = Nodo(1): Crea el nodo raíz con valor 1. 4-7. Agregamos nodos para formar un árbol de tres niveles.\n",
    "    def recorrido_preorden(...): Define el recorrido preorden. 9-10. Comprueba si nodo es None y muestra su valor, luego recorre sus hijos."
   ]
  },
  {
   "cell_type": "code",
   "execution_count": 1,
   "metadata": {},
   "outputs": [
    {
     "name": "stdout",
     "output_type": "stream",
     "text": [
      "Árboles en Python-Tema5-5des1:\n",
      "\n",
      "1 2 4 5 3 6 7 "
     ]
    }
   ],
   "source": [
    "# DESAFÍO 1\n",
    "print(\"Árboles en Python-Tema5-5des1:\\n\") #Nombre de la actividad, tema(5), bloque(5), desafío(1)\n",
    "# Creamos la clase Nodo que representa cada nodo del árbol.\n",
    "class Nodo:\n",
    "    def __init__(self, valor):\n",
    "        # Cada nodo tiene un valor y dos posibles hijos (izquierdo y derecho), que iniciamos en None.\n",
    "        self.izq = None\n",
    "        self.der = None\n",
    "        self.valor = valor\n",
    "\n",
    "# Creamos la raíz del árbol, que será el primer nodo con el valor 1.\n",
    "raiz = Nodo(1)\n",
    "\n",
    "# Agregamos nodos al árbol, formando tres niveles de profundidad.\n",
    "raiz.izq = Nodo(2)\n",
    "raiz.der = Nodo(3)\n",
    "raiz.izq.izq = Nodo(4)\n",
    "raiz.izq.der = Nodo(5)\n",
    "raiz.der.izq = Nodo(6)\n",
    "raiz.der.der = Nodo(7)\n",
    "\n",
    "# Definimos una función para recorrer el árbol en preorden.\n",
    "def recorrido_preorden(nodo):\n",
    "    # Si el nodo no es None, mostramos su valor y llamamos recursivamente a sus hijos.\n",
    "    if nodo:\n",
    "        print(nodo.valor, end=\" \")  # Mostramos el valor del nodo actual.\n",
    "        recorrido_preorden(nodo.izq)  # Recorremos el subárbol izquierdo.\n",
    "        recorrido_preorden(nodo.der)  # Recorremos el subárbol derecho.\n",
    "\n",
    "# Llamamos a la función con la raíz del árbol para realizar el recorrido en preorden.\n",
    "recorrido_preorden(raiz)"
   ]
  },
  {
   "cell_type": "markdown",
   "metadata": {},
   "source": [
    "➡️Puedes ver la solución al desafío 1 en el link http://tpcg.io/0KTLS3"
   ]
  },
  {
   "cell_type": "markdown",
   "metadata": {},
   "source": [
    "## Desafío 2: Sumar los valores de los nodos en un recorrido inorden"
   ]
  },
  {
   "cell_type": "markdown",
   "metadata": {},
   "source": [
    "Explicación Línea por Línea:\n",
    "\n",
    "    def suma_inorden(...): Define la función para calcular la suma.\n",
    "    if nodo is None: Devuelve 0 si no hay nodo (caso base de la recursión).\n",
    "    Realiza la suma en orden: primero el subárbol izquierdo, luego el valor actual, y luego el subárbol derecho."
   ]
  },
  {
   "cell_type": "code",
   "execution_count": 2,
   "metadata": {},
   "outputs": [
    {
     "name": "stdout",
     "output_type": "stream",
     "text": [
      "Árboles en Python-Tema5-5des2:\n",
      "\n",
      "La suma de todos los valores del árbol es: 28\n"
     ]
    }
   ],
   "source": [
    "# DESAFÍO 2\n",
    "print(\"Árboles en Python-Tema5-5des2:\\n\") #Nombre de la actividad, tema(5), bloque(5), desafío(2)\n",
    "def suma_inorden(nodo):\n",
    "    # Si el nodo es None, retornamos 0.\n",
    "    if nodo is None:\n",
    "        return 0\n",
    "    \n",
    "    # Sumamos los valores del subárbol izquierdo, el nodo actual, y el subárbol derecho.\n",
    "    return suma_inorden(nodo.izq) + nodo.valor + suma_inorden(nodo.der)\n",
    "\n",
    "# Mostramos la suma total llamando a la función con la raíz del árbol.\n",
    "print(\"La suma de todos los valores del árbol es:\", suma_inorden(raiz))"
   ]
  },
  {
   "cell_type": "markdown",
   "metadata": {},
   "source": [
    "➡️Puedes ver la solución al desafío 2 en el link http://tpcg.io/STM0G8"
   ]
  },
  {
   "cell_type": "markdown",
   "metadata": {},
   "source": [
    "## Desafío 3: Encontrar el valor máximo en un recorrido postorden"
   ]
  },
  {
   "cell_type": "markdown",
   "metadata": {},
   "source": [
    "Explicación Línea por Línea:\n",
    "\n",
    "    def maximo_postorden(...): Define la función para obtener el valor máximo.\n",
    "    if nodo is None: Devuelve -inf si el nodo no existe. 3-5. Calcula el valor máximo de cada hijo y del nodo actual."
   ]
  },
  {
   "cell_type": "code",
   "execution_count": 6,
   "metadata": {},
   "outputs": [
    {
     "name": "stdout",
     "output_type": "stream",
     "text": [
      "Árboles en Python-Tema5-5des3:\n",
      "\n",
      "El valor máximo en el árbol es: 7\n"
     ]
    }
   ],
   "source": [
    "# DESAFÍO 3\n",
    "print(\"Árboles en Python-Tema5-5des3:\\n\") #Nombre de la actividad, tema(5), bloque(5), desafío(3)\n",
    "def maximo_postorden(nodo):\n",
    "    # Si el nodo es None, devolvemos un valor muy bajo para no afectar el resultado.\n",
    "    if nodo is None:\n",
    "        return float('-inf')\n",
    "    \n",
    "    # Llamamos recursivamente al subárbol izquierdo y derecho.\n",
    "    max_izq = maximo_postorden(nodo.izq)\n",
    "    max_der = maximo_postorden(nodo.der)\n",
    "    \n",
    "    # Retornamos el mayor valor entre los hijos y el valor del nodo actual.\n",
    "    return max(nodo.valor, max_izq, max_der)\n",
    "\n",
    "# Mostramos el valor máximo encontrado.\n",
    "print(\"El valor máximo en el árbol es:\", maximo_postorden(raiz))"
   ]
  },
  {
   "cell_type": "markdown",
   "metadata": {},
   "source": [
    "➡️Puedes ver la solución al desafío 3 en el link http://tpcg.io/FT26SI"
   ]
  },
  {
   "cell_type": "markdown",
   "metadata": {},
   "source": [
    "## Desafío 4: Construir y buscar en un Árbol de Búsqueda Binaria (ABB)"
   ]
  },
  {
   "cell_type": "markdown",
   "metadata": {},
   "source": [
    "Explicación Línea por Línea:\n",
    "\n",
    "    def insertar(...): Define la función de inserción para un ABB.\n",
    "    if nodo is None: Si no hay nodo, crea uno nuevo. 3-4. Decide si insertar a la izquierda (menor) o derecha (mayor).\n",
    "    def buscar(...): Define la función para buscar un valor.\n",
    "    if nodo is None or nodo.valor == valor: Retorna nodo si el valor está en él. 7-8. Decide en cuál subárbol buscar (izquierda o derecha) en función del valor."
   ]
  },
  {
   "cell_type": "code",
   "execution_count": 7,
   "metadata": {},
   "outputs": [
    {
     "name": "stdout",
     "output_type": "stream",
     "text": [
      "Árboles en Python-Tema5-5des4:\n",
      "\n",
      "El valor 7 se encuentra en el árbol.\n"
     ]
    }
   ],
   "source": [
    "# DESAFÍO 4\n",
    "print(\"Árboles en Python-Tema5-5des4:\\n\") #Nombre de la actividad, tema(5), bloque(5), desafío(4)\n",
    "# Función para insertar un valor en un ABB.\n",
    "def insertar(nodo, valor):\n",
    "    # Si el nodo es None, insertamos el valor aquí.\n",
    "    if nodo is None:\n",
    "        return Nodo(valor)\n",
    "    \n",
    "    # Decidimos la ubicación según el valor: izquierda para menores, derecha para mayores.\n",
    "    if valor < nodo.valor:\n",
    "        nodo.izq = insertar(nodo.izq, valor)\n",
    "    else:\n",
    "        nodo.der = insertar(nodo.der, valor)\n",
    "    \n",
    "    # Retornamos el nodo después de insertar el valor.\n",
    "    return nodo\n",
    "\n",
    "# Función para buscar un valor en el ABB.\n",
    "def buscar(nodo, valor):\n",
    "    # Si no hay nodo o el nodo actual tiene el valor buscado, retornamos el nodo.\n",
    "    if nodo is None or nodo.valor == valor:\n",
    "        return nodo\n",
    "    \n",
    "    # Si el valor es menor, buscamos en el subárbol izquierdo.\n",
    "    if valor < nodo.valor:\n",
    "        return buscar(nodo.izq, valor)\n",
    "    \n",
    "    # Si el valor es mayor, buscamos en el subárbol derecho.\n",
    "    return buscar(nodo.der, valor)\n",
    "\n",
    "# Construimos el árbol insertando valores de forma ordenada.\n",
    "valores = [10, 5, 15, 3, 7, 13, 18]\n",
    "abb = None  # Inicializamos el árbol en None.\n",
    "for v in valores:\n",
    "    abb = insertar(abb, v)\n",
    "\n",
    "# Buscamos un valor específico en el ABB.\n",
    "valor_a_buscar = 7\n",
    "resultado = buscar(abb, valor_a_buscar)\n",
    "if resultado:\n",
    "    print(f\"El valor {valor_a_buscar} se encuentra en el árbol.\")\n",
    "else:\n",
    "    print(f\"El valor {valor_a_buscar} no está en el árbol.\")"
   ]
  },
  {
   "cell_type": "markdown",
   "metadata": {},
   "source": [
    "➡️Puedes ver la solución al desafío 4 en el link http://tpcg.io/K38GZP"
   ]
  },
  {
   "cell_type": "markdown",
   "metadata": {},
   "source": [
    "Desafío 5: Evaluación de Expresiones Matemáticas con Árboles"
   ]
  },
  {
   "cell_type": "markdown",
   "metadata": {},
   "source": [
    "Explicación Línea por Línea:\n",
    "\n",
    "    class Nodo: Define la clase para cada nodo.\n",
    "    def evaluar(...): Define la función para evaluar el árbol. 3-4. Devuelve el valor del nodo si es un número (caso base). 5-10. Realiza la operación en el nodo actual si es un operador."
   ]
  },
  {
   "cell_type": "code",
   "execution_count": 8,
   "metadata": {},
   "outputs": [
    {
     "name": "stdout",
     "output_type": "stream",
     "text": [
      "Árboles en Python-Tema5-5des5:\n",
      "\n",
      "El resultado de la expresión es: 17\n"
     ]
    }
   ],
   "source": [
    "# DESAFÍO 5\n",
    "print(\"Árboles en Python-Tema5-5des5:\\n\") #Nombre de la actividad, tema(5), bloque(5), desafío(5)\n",
    "# Definimos la clase Nodo para construir el árbol de expresiones.\n",
    "class Nodo:\n",
    "    def __init__(self, valor):\n",
    "        self.izq = None\n",
    "        self.der = None\n",
    "        self.valor = valor\n",
    "\n",
    "# Función para evaluar el árbol de expresiones.\n",
    "def evaluar(nodo):\n",
    "    # Si el nodo es un número, lo devolvemos como resultado.\n",
    "    if isinstance(nodo.valor, int):\n",
    "        return nodo.valor\n",
    "    \n",
    "    # Si es un operador, evaluamos los hijos.\n",
    "    izq = evaluar(nodo.izq)\n",
    "    der = evaluar(nodo.der)\n",
    "    \n",
    "    # Realizamos la operación correspondiente.\n",
    "    if nodo.valor == '+':\n",
    "        return izq + der\n",
    "    elif nodo.valor == '-':\n",
    "        return izq - der\n",
    "    elif nodo.valor == '*':\n",
    "        return izq * der\n",
    "    elif nodo.valor == '/':\n",
    "        return izq / der\n",
    "\n",
    "# Construimos el árbol para la expresión \"5 + 3 * 4\".\n",
    "raiz = Nodo('+')\n",
    "raiz.izq = Nodo(5)\n",
    "raiz.der = Nodo('*')\n",
    "raiz.der.izq = Nodo(3)\n",
    "raiz.der.der = Nodo(4)\n",
    "\n",
    "# Evaluamos y mostramos el resultado de la expresión.\n",
    "print(\"El resultado de la expresión es:\", evaluar(raiz))"
   ]
  },
  {
   "cell_type": "markdown",
   "metadata": {},
   "source": [
    "➡️Puedes ver la solución al desafío 5 en el link http://tpcg.io/5X91AG"
   ]
  }
 ],
 "metadata": {
  "kernelspec": {
   "display_name": "Python 3",
   "language": "python",
   "name": "python3"
  },
  "language_info": {
   "codemirror_mode": {
    "name": "ipython",
    "version": 3
   },
   "file_extension": ".py",
   "mimetype": "text/x-python",
   "name": "python",
   "nbconvert_exporter": "python",
   "pygments_lexer": "ipython3",
   "version": "3.12.2"
  }
 },
 "nbformat": 4,
 "nbformat_minor": 2
}
