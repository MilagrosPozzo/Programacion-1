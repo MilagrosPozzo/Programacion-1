{
 "cells": [
  {
   "cell_type": "markdown",
   "metadata": {},
   "source": [
    "# Árboles en Python\n",
    "\n",
    "Los árboles son una estructura de datos fundamental en ciencias de la computación y programación. Un árbol consiste en un conjunto de nodos conectados por bordes, con un nodo raíz desde el cual se derivan los demás nodos. Cada nodo puede tener cero o más nodos hijos.\n",
    "\n",
    "En esta guía, exploraremos cómo implementar y trabajar con árboles en Python.\n",
    "\n",
    "<div style=\"text-align: center;\">\n",
    "    <img src=\"arboles1.jpg\" alt=\"Árbol\" style=\"width: 60%;\">\n",
    "</div>\n",
    "\n"
   ]
  },
  {
   "cell_type": "markdown",
   "metadata": {},
   "source": [
    "## Definición de un Nodo\n",
    "\n",
    "Primero, definiremos la clase `Nodo` que representará cada nodo en nuestro árbol.\n"
   ]
  },
  {
   "cell_type": "code",
   "execution_count": 3,
   "metadata": {},
   "outputs": [],
   "source": [
    "class Nodo:\n",
    "    def __init__(self, key):\n",
    "        self.izq = None\n",
    "        self.der = None\n",
    "        self.val = key\n"
   ]
  },
  {
   "cell_type": "markdown",
   "metadata": {},
   "source": [
    "## Creación de un Árbol\n",
    "\n",
    "A continuación, crearemos un árbol simple para ilustrar cómo se pueden conectar los nodos.\n"
   ]
  },
  {
   "cell_type": "code",
   "execution_count": 4,
   "metadata": {},
   "outputs": [],
   "source": [
    "# Crear el nodo raíz\n",
    "raiz = Nodo(1)\n",
    "\n",
    "# Añadir nodos hijos\n",
    "raiz.izq = Nodo(2)\n",
    "raiz.der = Nodo(3)\n",
    "\n",
    "# Añadir nodos hijos al nodo izquierdo del raíz\n",
    "raiz.izq.izq = Nodo(4)\n",
    "raiz.izq.der = Nodo(5)\n",
    "\n",
    "# Añadir nodos hijos al nodo derecho del raíz\n",
    "raiz.der.izq = Nodo(6)\n",
    "raiz.der.der = Nodo(7)\n",
    "\n",
    "# Añadir nodos hijos al nodo hijo derecho del hijo izquierdo del raíz\n",
    "raiz.izq.der.izq = Nodo(8)\n",
    "raiz.izq.der.der = Nodo(9)\n",
    "\n",
    "# Añadir nodos hijos al nodo hijo derecho del hijo derecho del raíz\n",
    "raiz.der.der.izq = Nodo(10)\n",
    "raiz.der.der.der = Nodo(11)"
   ]
  },
  {
   "cell_type": "markdown",
   "metadata": {},
   "source": [
    "En el codigo anterior se creo el árbol de ejemplo inicial, en principio cargandolo por _niveles_. Veremos mas adelante otras formas de recorrer un árbol.\n",
    "\n",
    "<div style=\"text-align: center;\">\n",
    "    <img src=\"arboles2.jpg\" alt=\"Árbol\" style=\"width: 60%;\">\n",
    "</div>"
   ]
  },
  {
   "cell_type": "markdown",
   "metadata": {},
   "source": [
    "## Travesía de un Árbol\n",
    "\n",
    "Existen diferentes maneras de recorrer un árbol. Aquí mostraremos tres métodos comunes: preorden, inorden y postorden.\n"
   ]
  },
  {
   "cell_type": "markdown",
   "metadata": {},
   "source": [
    "### Travesía en Preorden\n",
    "\n",
    "En la travesía en preorden, visitamos primero la raíz, luego el subárbol izquierdo, y finalmente el subárbol derecho.\n"
   ]
  },
  {
   "cell_type": "code",
   "execution_count": 5,
   "metadata": {},
   "outputs": [
    {
     "name": "stdout",
     "output_type": "stream",
     "text": [
      "1 2 4 5 8 9 3 6 7 10 11 "
     ]
    }
   ],
   "source": [
    "def print_preorder(raiz):\n",
    "    if raiz:\n",
    "        print(raiz.val, end=\" \")\n",
    "        print_preorder(raiz.izq)\n",
    "        print_preorder(raiz.der)\n",
    "        \n",
    "print_preorder(raiz)  # Salida esperada: 1 2 4 5 8 9 3 6 7 10 11 \n"
   ]
  },
  {
   "cell_type": "markdown",
   "metadata": {},
   "source": [
    "### Travesía en Inorden\n",
    "\n",
    "En la travesía en inorden, visitamos primero el subárbol izquierdo, luego la raíz, y finalmente el subárbol derecho.\n"
   ]
  },
  {
   "cell_type": "code",
   "execution_count": 7,
   "metadata": {},
   "outputs": [
    {
     "name": "stdout",
     "output_type": "stream",
     "text": [
      "4 2 8 5 9 1 6 3 10 7 11 "
     ]
    }
   ],
   "source": [
    "def print_inorder(raiz):\n",
    "    if raiz:\n",
    "        print_inorder(raiz.izq)\n",
    "        print(raiz.val, end=\" \")\n",
    "        print_inorder(raiz.der)\n",
    "        \n",
    "print_inorder(raiz)  # Salida esperada: 4 2 8 5 9 1 6 3 10 7 11\n"
   ]
  },
  {
   "cell_type": "markdown",
   "metadata": {},
   "source": [
    "### Travesía en Postorden\n",
    "\n",
    "En la travesía en postorden, visitamos primero el subárbol izquierdo, luego el subárbol derecho, y finalmente la raíz.\n"
   ]
  },
  {
   "cell_type": "code",
   "execution_count": 8,
   "metadata": {},
   "outputs": [
    {
     "name": "stdout",
     "output_type": "stream",
     "text": [
      "4 8 9 5 2 6 10 11 7 3 1 "
     ]
    }
   ],
   "source": [
    "def print_postorder(raiz):\n",
    "    if raiz:\n",
    "        print_postorder(raiz.izq)\n",
    "        print_postorder(raiz.der)\n",
    "        print(raiz.val, end=\" \")\n",
    "        \n",
    "print_postorder(raiz)  # Salida esperada: 4 8 9 5 2 6 10 11 7 3 1 \n"
   ]
  },
  {
   "cell_type": "markdown",
   "metadata": {},
   "source": [
    "## Conclusión\n",
    "\n",
    "Los árboles son una estructura de datos versátil y eficiente, y son fundamentales para muchos algoritmos y aplicaciones en informática. Entender cómo funcionan y cómo se pueden recorrer es esencial para cualquier programador o científico de la computación.\n",
    "\n",
    "¡Practica creando tus propios árboles y recorriéndolos para fortalecer tu comprensión de esta estructura de datos!\n"
   ]
  },
  {
   "cell_type": "markdown",
   "metadata": {},
   "source": [
    "## Desafíos\n",
    "### Desafío 1: \n",
    "Construye un árbol binario simple con al menos 3 niveles de profundidad. Cada nodo debe contener un número entero como valor. Una vez construido el árbol, implementa una función que imprima los valores de los nodos siguiendo un recorrido en preorden.\n",
    "\n",
    "### Desafío 2: \n",
    "Dado un árbol binario con números enteros en cada nodo, implementa una función que recorra el árbol en inorden y calcule la suma de todos los valores almacenados en los nodos. El programa debe devolver el resultado final de la suma.\n",
    "\n",
    "### Desafío 3: \n",
    "Construye un árbol binario en el que cada nodo contiene un número entero. Implementa una función que recorra el árbol en postorden y devuelva el valor máximo encontrado entre todos los nodos del árbol.\n",
    "\n",
    "### Desafío 4: \n",
    "Dado un conjunto de números enteros únicos, construye un árbol de búsqueda binaria (ABB) que inserte los valores de manera que el subárbol izquierdo de cada nodo contenga solo nodos con valores menores, y el subárbol derecho solo nodos con valores mayores. Una vez construido el árbol, implementa una función para buscar un número dado y devuelva si ese número existe en el árbol o no.\n",
    "\n",
    "### Desafío 5: Evaluación de Expresiones Matemáticas con Árboles\n",
    "\n",
    "Los árboles de expresiones son una herramienta poderosa en ciencias de la computación y se utilizan comúnmente para evaluar expresiones matemáticas. En este desafío, te propongo construir y evaluar un árbol de expresiones para una expresión matemática dada.\n",
    "\n",
    "**Tu tarea es escribir un programa en Python que haga lo siguiente:**\n",
    "\n",
    "* Construir el Árbol de Expresiones: Dada una expresión matemática en forma de cadena, construir el árbol de expresiones correspondiente. Puedes asumir que la expresión está bien formada y solo contiene números enteros, y los operadores +, -, *, /.\n",
    "\n",
    "* Evaluar el Árbol de Expresiones: Una vez construido el árbol, evaluarlo y devolver el resultado de la expresión.\n",
    "\n",
    "* Prueba tu Programa: Utiliza la expresión \"5 + 3 * 4\" para probar tu programa. El resultado debería ser 17.\n",
    "\n",
    "## Consejos\n",
    "Puedes crear una clase Nodo para representar los nodos en tu árbol de expresiones. Cada nodo debería tener un valor y dos hijos (izquierdo y derecho).\n",
    "Puedes crear funciones auxiliares para ayudarte a construir y evaluar el árbol de expresiones.\n",
    "Recuerda seguir las reglas de precedencia de operadores al construir el árbol."
   ]
  },
  {
   "cell_type": "markdown",
   "metadata": {},
   "source": [
    "## Desafío 1: Construir un árbol binario de 3 niveles de profundidad y recorrerlo en preorden"
   ]
  },
  {
   "cell_type": "markdown",
   "metadata": {},
   "source": [
    "Este desafío crea un árbol binario de al menos tres niveles y luego implementa un recorrido en preorden, que visita primero la raíz, luego el subárbol izquierdo y, finalmente, el subárbol derecho."
   ]
  },
  {
   "cell_type": "markdown",
   "metadata": {},
   "source": [
    "Explicación Línea por Línea:\n",
    "\n",
    "    La clase Nodo permite crear nodos con un valor y dos hijos.\n",
    "    __init__(self, valor): El constructor inicializa valor y establece izq y der en None.\n",
    "    raiz = Nodo(1): Crea el nodo raíz con valor 1. 4-7. Agregamos nodos para formar un árbol de tres niveles.\n",
    "    def recorrido_preorden(...): Define el recorrido preorden. Comprueba si nodo es None y muestra su valor, luego recorre sus hijos, imprime el valor de cada nodo en preorden: primero el nodo actual, luego el hijo izquierdo y, finalmente, el hijo derecho."
   ]
  },
  {
   "cell_type": "code",
   "execution_count": 1,
   "metadata": {},
   "outputs": [
    {
     "name": "stdout",
     "output_type": "stream",
     "text": [
      "Árboles en Python-Tema5-5des1:\n",
      "\n",
      "Recorrido en Preorden:\n",
      "1 2 4 5 3 6 7 "
     ]
    }
   ],
   "source": [
    "# DESAFÍO 1\n",
    "print(\"Árboles en Python-Tema5-5des1:\\n\") #Nombre de la actividad, tema(5), bloque(5), desafío(1)\n",
    "# Creamos la clase Nodo que representa cada nodo del árbol.\n",
    "class Nodo:\n",
    "    def __init__(self, valor):\n",
    "        # Cada nodo tiene un valor y dos posibles hijos (izquierdo y derecho), que iniciamos en None.\n",
    "        self.izq = None\n",
    "        self.der = None\n",
    "        self.valor = valor\n",
    "\n",
    "# Creamos la raíz del árbol, que será el primer nodo con el valor 1.\n",
    "raiz = Nodo(1) # Nivel 1\n",
    "\n",
    "# Agregamos nodos al árbol, formando tres niveles de profundidad.\n",
    "raiz.izq = Nodo(2)  # Nivel 2\n",
    "raiz.der = Nodo(3)\n",
    "raiz.izq.izq = Nodo(4)# Nivel 3\n",
    "raiz.izq.der = Nodo(5)\n",
    "raiz.der.izq = Nodo(6)\n",
    "raiz.der.der = Nodo(7)\n",
    "\n",
    "# Definimos una función para recorrer el árbol en preorden.\n",
    "def recorrido_preorden(nodo):\n",
    "    # Si el nodo no es None, mostramos su valor y llamamos recursivamente a sus hijos.\n",
    "    if nodo:\n",
    "        print(nodo.valor, end=\" \")  # Mostramos el valor del nodo actual.\n",
    "        recorrido_preorden(nodo.izq)  # Recorremos el subárbol izquierdo.\n",
    "        recorrido_preorden(nodo.der)  # Recorremos el subárbol derecho.\n",
    "\n",
    "# Llamamos a la función de recorrido preorden comenzando desde la raíz\n",
    "print(\"Recorrido en Preorden:\")\n",
    "recorrido_preorden(raiz)"
   ]
  },
  {
   "cell_type": "markdown",
   "metadata": {},
   "source": [
    "➡️Puedes ver la solución al desafío 1 en el link http://tpcg.io/0KTLS3"
   ]
  },
  {
   "cell_type": "markdown",
   "metadata": {},
   "source": [
    "## Desafío 2: Recorrer un árbol en inorden y sumar los valores de todos los nodos"
   ]
  },
  {
   "cell_type": "markdown",
   "metadata": {},
   "source": [
    "En este desafío, el recorrido en inorden visita primero el subárbol izquierdo, luego el nodo y, finalmente, el subárbol derecho. Mientras recorre el árbol, acumula la suma de los valores de cada nodo."
   ]
  },
  {
   "cell_type": "markdown",
   "metadata": {},
   "source": [
    "Explicación Línea por Línea:\n",
    "    Primero aparece la construcción del árbol y luego la función:\n",
    "    Clase Nodo: Crea nodos con un valor y dos posibles hijos, izquierdo y derecho.\n",
    "    Construcción del Árbol: Creamos manualmente un árbol de tres niveles, con valores en cada nodo.\n",
    "    Función suma_inorden:\n",
    "\n",
    "    Caso Base: Si el nodo es None, retorna 0.\n",
    "    Caso Recursivo: Calcula la suma en orden: subárbol izquierdo, nodo actual, y subárbol derecho.\n",
    "\n",
    "    Llamada a la función suma_inorden: Llama a la función usando raiz y muestra el resultado.\n",
    "    def suma_inorden(...): Define la función para calcular la suma, usa recursividad para recorrer el árbol en inorden.\n",
    "    Se suma el valor del subárbol izquierdo, luego el valor del nodo y, por último, el subárbol derecho.\n",
    "    if nodo is None: Devuelve 0 si no hay nodo (caso base de la recursión).\n",
    "    Realiza la suma en orden: primero el subárbol izquierdo, luego el valor actual, y luego el subárbol derecho."
   ]
  },
  {
   "cell_type": "code",
   "execution_count": 6,
   "metadata": {},
   "outputs": [
    {
     "name": "stdout",
     "output_type": "stream",
     "text": [
      "Árboles en Python-Tema5-5des2:\n",
      "\n",
      "Suma de todos los valores del árbol: 28\n"
     ]
    }
   ],
   "source": [
    "# DESAFÍO 2\n",
    "print(\"Árboles en Python-Tema5-5des2:\\n\") #Nombre de la actividad, tema(5), bloque(5), desafío(2)\n",
    "# Definimos la clase Nodo para representar cada nodo del árbol\n",
    "class Nodo:\n",
    "    def __init__(self, valor):\n",
    "        # Cada nodo tiene un valor y dos posibles hijos (izquierdo y derecho)\n",
    "        self.izq = None\n",
    "        self.der = None\n",
    "        self.valor = valor\n",
    "\n",
    "# Creamos el árbol binario\n",
    "raiz = Nodo(1)             # Nivel 1\n",
    "raiz.izq = Nodo(2)         # Nivel 2\n",
    "raiz.der = Nodo(3)\n",
    "raiz.izq.izq = Nodo(4)     # Nivel 3\n",
    "raiz.izq.der = Nodo(5)\n",
    "raiz.der.izq = Nodo(6)\n",
    "raiz.der.der = Nodo(7)\n",
    "\n",
    "# Función para recorrer el árbol en inorden y calcular la suma de valores\n",
    "def suma_inorden(nodo):\n",
    "    if nodo is None:\n",
    "        return 0  # Caso base: si el nodo es None, retornamos 0\n",
    "    # Sumamos el valor del nodo izquierdo, el nodo actual, y el derecho\n",
    "    return suma_inorden(nodo.izq) + nodo.valor + suma_inorden(nodo.der)\n",
    "\n",
    "# Llamamos a la función y mostramos la suma de los valores del árbol\n",
    "print(\"Suma de todos los valores del árbol:\", suma_inorden(raiz))"
   ]
  },
  {
   "cell_type": "markdown",
   "metadata": {},
   "source": [
    "➡️Puedes ver la solución al desafío 2 en el link http://tpcg.io/STM0G8"
   ]
  },
  {
   "cell_type": "markdown",
   "metadata": {},
   "source": [
    "## Desafío 3: Recorrer un árbol en postorden y encontrar el valor máximo entre todos los nodos"
   ]
  },
  {
   "cell_type": "markdown",
   "metadata": {},
   "source": [
    "Este desafío implementa un recorrido en postorden que visita primero el subárbol izquierdo, luego el derecho y, finalmente, el nodo actual. Se utiliza la función max para encontrar el valor máximo entre todos los nodos."
   ]
  },
  {
   "cell_type": "markdown",
   "metadata": {},
   "source": [
    "Explicación Línea por Línea:\n",
    "    Clase Nodo: Define cada nodo del árbol con un valor y dos posibles hijos, izq y der.\n",
    "    Construcción del Árbol:\n",
    "\n",
    "    Se crea un árbol binario de tres niveles, cada nodo tiene un valor entero.\n",
    "\n",
    "    Función maximo_postorden:\n",
    "\n",
    "    Caso Base: Si el nodo es None, devuelve un valor muy bajo (-inf), lo cual asegura que no se considere en la búsqueda del máximo.\n",
    "    Caso Recursivo: La función recursivamente encuentra el valor máximo entre el nodo actual y los valores máximos de sus subárboles izquierdo y derecho.\n",
    "\n",
    "    Llamada a maximo_postorden:\n",
    "\n",
    "    Llama a la función usando raiz y muestra el valor máximo del árbol.\n",
    "\n",
    "    def maximo_postorden(...): Define la función para obtener el valor máximo.\n",
    "    if nodo is None: Devuelve -inf si el nodo no existe. 3-5. Calcula el valor máximo de cada hijo y del nodo actual."
   ]
  },
  {
   "cell_type": "code",
   "execution_count": 8,
   "metadata": {},
   "outputs": [
    {
     "name": "stdout",
     "output_type": "stream",
     "text": [
      "Árboles en Python-Tema5-5des3:\n",
      "\n",
      "El valor máximo en el árbol es: 7\n"
     ]
    }
   ],
   "source": [
    "# DESAFÍO 3\n",
    "print(\"Árboles en Python-Tema5-5des3:\\n\") #Nombre de la actividad, tema(5), bloque(5), desafío(3)\n",
    "# Definimos la clase Nodo para representar cada nodo del árbol\n",
    "class Nodo:\n",
    "    def __init__(self, valor):\n",
    "        # Cada nodo tiene un valor y dos posibles hijos (izquierdo y derecho)\n",
    "        self.izq = None\n",
    "        self.der = None\n",
    "        self.valor = valor\n",
    "\n",
    "# Creamos el árbol binario con al menos tres niveles\n",
    "raiz = Nodo(1)             # Nivel 1\n",
    "raiz.izq = Nodo(2)         # Nivel 2\n",
    "raiz.der = Nodo(3)\n",
    "raiz.izq.izq = Nodo(4)     # Nivel 3\n",
    "raiz.izq.der = Nodo(5)\n",
    "raiz.der.izq = Nodo(6)\n",
    "raiz.der.der = Nodo(7)\n",
    "\n",
    "# Función para recorrer el árbol en postorden y encontrar el valor máximo\n",
    "def maximo_postorden(nodo):\n",
    "    # Caso base: si el nodo es None, retornamos el valor mínimo posible\n",
    "    if nodo is None:\n",
    "        return float('-inf')\n",
    "    \n",
    "    # Encontramos el máximo en el subárbol izquierdo y en el derecho\n",
    "    max_izq = maximo_postorden(nodo.izq)\n",
    "    max_der = maximo_postorden(nodo.der)\n",
    "    \n",
    "    # Retornamos el valor máximo entre el nodo actual, el izquierdo y el derecho\n",
    "    return max(nodo.valor, max_izq, max_der)\n",
    "\n",
    "# Llamamos a la función para obtener el valor máximo en el árbol\n",
    "print(\"El valor máximo en el árbol es:\", maximo_postorden(raiz))"
   ]
  },
  {
   "cell_type": "markdown",
   "metadata": {},
   "source": [
    "➡️Puedes ver la solución al desafío 3 en el link http://tpcg.io/FT26SI"
   ]
  },
  {
   "cell_type": "markdown",
   "metadata": {},
   "source": [
    "## Desafío 4: Construir un Árbol de Búsqueda Binaria (ABB) y buscar un número en él"
   ]
  },
  {
   "cell_type": "markdown",
   "metadata": {},
   "source": [
    "Construir un Árbol de Búsqueda Binaria (ABB) en el que cada nodo tiene un valor único. Implementamos funciones para insertar valores y para buscar un número específico en el árbol."
   ]
  },
  {
   "cell_type": "markdown",
   "metadata": {},
   "source": [
    "Explicación Línea por Línea:\n",
    "\n",
    "    def insertar(...): Define la función de inserción para un ABB.\n",
    "    if nodo is None: Si no hay nodo, crea uno nuevo. Decide si insertar a la izquierda (menor) o derecha (mayor).\n",
    "    return Nodo(valor)\n",
    "    def buscar(...): Define la función para buscar un valor.\n",
    "    if nodo is None or nodo.valor == valor: Retorna nodo si el valor está en él. Decide en cuál subárbol buscar (izquierda o derecha) en función del valor.\n",
    "\n",
    "    La función insertar permite agregar valores en un Árbol de Búsqueda Binaria (ABB). Primero, verifica si el nodo actual es None y, si es así, crea un nuevo nodo. Si no, decide en cuál subárbol insertar: llama recursivamente al subárbol izquierdo si el valor es menor, o al derecho si es mayor o igual. Finalmente, retorna el nodo actualizado.\n",
    "\n",
    "    La función buscar se usa para localizar un valor en el ABB. Si el nodo es None o coincide con el valor buscado, devuelve True o False según corresponda. Si no, continúa la búsqueda recursiva en el subárbol izquierdo si el valor es menor o en el derecho si es mayor."
   ]
  },
  {
   "cell_type": "code",
   "execution_count": 10,
   "metadata": {},
   "outputs": [
    {
     "name": "stdout",
     "output_type": "stream",
     "text": [
      "Árboles en Python-Tema5-5des4:\n",
      "\n",
      "El valor 7 se encuentra en el árbol.\n"
     ]
    }
   ],
   "source": [
    "# DESAFÍO 4\n",
    "print(\"Árboles en Python-Tema5-5des4:\\n\") #Nombre de la actividad, tema(5), bloque(5), desafío(4)\n",
    "# Clase Nodo para representar cada nodo del ABB\n",
    "class Nodo:\n",
    "    def __init__(self, valor):\n",
    "        # Cada nodo tiene un valor y dos hijos posibles: izquierdo y derecho\n",
    "        self.valor = valor\n",
    "        self.izq = None\n",
    "        self.der = None\n",
    "\n",
    "# Función para insertar un valor en el ABB\n",
    "def insertar(nodo, valor):\n",
    "    # Si el nodo actual es None, creamos un nuevo nodo con el valor dado\n",
    "    if nodo is None:\n",
    "        return Nodo(valor)\n",
    "    # Si el valor es menor, lo insertamos en el subárbol izquierdo\n",
    "    if valor < nodo.valor:\n",
    "        nodo.izq = insertar(nodo.izq, valor)\n",
    "    else:\n",
    "        # Si el valor es mayor o igual, lo insertamos en el subárbol derecho\n",
    "        nodo.der = insertar(nodo.der, valor)\n",
    "    return nodo  # Retornamos el nodo actual\n",
    "\n",
    "# Función para buscar un valor en el ABB\n",
    "def buscar(nodo, valor):\n",
    "    # Caso base: si el nodo es None o el nodo actual tiene el valor buscado\n",
    "    if nodo is None or nodo.valor == valor:\n",
    "        return nodo is not None  # Retorna True si encontró el valor, False si no\n",
    "    # Si el valor es menor, buscamos en el subárbol izquierdo\n",
    "    if valor < nodo.valor:\n",
    "        return buscar(nodo.izq, valor)\n",
    "    # Si el valor es mayor, buscamos en el subárbol derecho\n",
    "    return buscar(nodo.der, valor)\n",
    "\n",
    "# Construcción del ABB con un conjunto de valores únicos\n",
    "valores = [8, 3, 10, 1, 6, 14, 4, 7, 13]\n",
    "abb = None  # Empezamos con un árbol vacío\n",
    "for v in valores:\n",
    "    abb = insertar(abb, v)  # Insertamos cada valor en el árbol\n",
    "\n",
    "# Buscamos un valor específico en el ABB.\n",
    "valor_a_buscar = 7\n",
    "resultado = buscar(abb, valor_a_buscar)\n",
    "if resultado:\n",
    "    print(f\"El valor {valor_a_buscar} se encuentra en el árbol.\")\n",
    "else:\n",
    "    print(f\"El valor {valor_a_buscar} no está en el árbol.\")"
   ]
  },
  {
   "cell_type": "markdown",
   "metadata": {},
   "source": [
    "Otra opcion de salida:"
   ]
  },
  {
   "cell_type": "markdown",
   "metadata": {},
   "source": [
    "➡️Puedes ver la solución al desafío 4 en el link http://tpcg.io/K38GZP"
   ]
  },
  {
   "cell_type": "markdown",
   "metadata": {},
   "source": [
    "Desafío 5: Evaluar una expresión matemática con un árbol de expresiones"
   ]
  },
  {
   "cell_type": "markdown",
   "metadata": {},
   "source": [
    "Para este desafío, el árbol de expresiones permite evaluar operaciones matemáticas (como suma, resta, multiplicación, y división) respetando la precedencia de operadores."
   ]
  },
  {
   "cell_type": "markdown",
   "metadata": {},
   "source": [
    "Explicación Línea por Línea:\n",
    "    La clase NodoExpresion permite crear nodos con valores que pueden ser números o operadores.\n",
    "    evaluar utiliza recursividad para calcular el resultado del árbol de expresiones, evaluando los subárboles izquierdo y derecho y aplicando la operación del nodo actual.\n",
    "    class Nodo: Define la clase para cada nodo.\n",
    "    def evaluar(...): Define la función para evaluar el árbol.  Devuelve el valor del nodo si es un número (caso base).  Realiza la operación en el nodo actual si es un operador."
   ]
  },
  {
   "cell_type": "code",
   "execution_count": 13,
   "metadata": {},
   "outputs": [
    {
     "name": "stdout",
     "output_type": "stream",
     "text": [
      "Árboles en Python-Tema5-5des5:\n",
      "\n",
      "Resultado de la expresión: 17\n"
     ]
    }
   ],
   "source": [
    "# DESAFÍO 5\n",
    "print(\"Árboles en Python-Tema5-5des5:\\n\") #Nombre de la actividad, tema(5), bloque(5), desafío(5)\n",
    "# Clase Nodo para un árbol de expresiones\n",
    "class NodoExpresion:\n",
    "    def __init__(self, valor):\n",
    "        self.valor = valor  # Valor del nodo, puede ser un operador o un número\n",
    "        self.izq = None  # Hijo izquierdo\n",
    "        self.der = None  # Hijo derecho\n",
    "\n",
    "# Función para evaluar un árbol de expresiones\n",
    "def evaluar(nodo):\n",
    "    # Caso base: si el nodo es un número, devolvemos su valor\n",
    "    if isinstance(nodo.valor, int):\n",
    "        return nodo.valor\n",
    "    # Evaluamos los subárboles izquierdo y derecho recursivamente\n",
    "    izq = evaluar(nodo.izq)\n",
    "    der = evaluar(nodo.der)\n",
    "    # Realizamos la operación correspondiente en el nodo actual\n",
    "    if nodo.valor == '+':\n",
    "        return izq + der\n",
    "    elif nodo.valor == '-':\n",
    "        return izq - der\n",
    "    elif nodo.valor == '*':\n",
    "        return izq * der\n",
    "    elif nodo.valor == '/':\n",
    "        return izq / der\n",
    "\n",
    "# Construcción de un árbol de expresión para la expresión \"5 + 3 * 4\"\n",
    "raiz = NodoExpresion('+')\n",
    "raiz.izq = NodoExpresion(5)\n",
    "raiz.der = NodoExpresion('*')\n",
    "raiz.der.izq = NodoExpresion(3)\n",
    "raiz.der.der = NodoExpresion(4)\n",
    "\n",
    "# Evaluamos el árbol y mostramos el resultado\n",
    "print(\"Resultado de la expresión:\", evaluar(raiz))"
   ]
  },
  {
   "cell_type": "markdown",
   "metadata": {},
   "source": [
    "➡️Puedes ver la solución al desafío 5 en el link http://tpcg.io/5X91AG"
   ]
  }
 ],
 "metadata": {
  "kernelspec": {
   "display_name": "Python 3",
   "language": "python",
   "name": "python3"
  },
  "language_info": {
   "codemirror_mode": {
    "name": "ipython",
    "version": 3
   },
   "file_extension": ".py",
   "mimetype": "text/x-python",
   "name": "python",
   "nbconvert_exporter": "python",
   "pygments_lexer": "ipython3",
   "version": "3.12.2"
  }
 },
 "nbformat": 4,
 "nbformat_minor": 2
}
