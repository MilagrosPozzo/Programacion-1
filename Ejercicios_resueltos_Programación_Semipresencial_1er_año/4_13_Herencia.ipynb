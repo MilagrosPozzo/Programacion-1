{
 "cells": [
  {
   "cell_type": "markdown",
   "metadata": {},
   "source": [
    "# Introducción a la Herencia\n",
    "\n",
    "En nuestro viaje por el mundo de la Programación Orientada a Objetos (POO), hemos creado clases que representan entidades en una biblioteca, como `Autor` y `Libro`. Pero, ¿qué pasa si queremos crear nuevas clases que compartan características con las ya existentes, pero con algunas diferencias o adicionales? ¡Aquí es donde entra en juego la herencia!\n",
    "\n",
    "### Pregunta problema: \n",
    "¿Cómo podemos extender nuestras clases existentes para representar diferentes tipos de autores o libros, sin tener que reescribir todo el código?\n",
    "\n"
   ]
  },
  {
   "cell_type": "code",
   "execution_count": 3,
   "metadata": {},
   "outputs": [],
   "source": [
    "# Definimos la clase base Autor\n",
    "class Autor:\n",
    "    def __init__(self, nombre):\n",
    "        self.nombre = nombre"
   ]
  },
  {
   "cell_type": "markdown",
   "metadata": {},
   "source": [
    "## Conceptos clave de la herencia\n",
    "\n",
    "La **herencia** permite que una clase (llamada subclase o clase hija) herede atributos y métodos de otra clase (llamada superclase o clase base). La herencia facilita la reutilización y extensión del código.\n",
    "\n",
    "- **Herencia simple:** Una clase deriva de una única clase base.\n",
    "- **Herencia múltiple:** Una clase puede derivar de varias clases base.\n",
    "- **super():** Función que permite llamar a métodos de la clase base desde la clase derivada."
   ]
  },
  {
   "cell_type": "code",
   "execution_count": 4,
   "metadata": {},
   "outputs": [],
   "source": [
    "# Creamos una subclase Escritor que hereda de Autor\n",
    "class Escritor(Autor):\n",
    "    def __init__(self, nombre, genero):\n",
    "        super().__init__(nombre)\n",
    "        self.genero = genero"
   ]
  },
  {
   "cell_type": "markdown",
   "metadata": {},
   "source": [
    "## Ejemplos prácticos de Herencia\n",
    "\n",
    "Vamos a extender nuestra clase `Autor` para crear una nueva clase `Escritor` que tenga un atributo adicional: el género literario principal en el que escribe.\n"
   ]
  },
  {
   "cell_type": "code",
   "execution_count": 5,
   "metadata": {},
   "outputs": [
    {
     "name": "stdout",
     "output_type": "stream",
     "text": [
      "Mario Benedetti Realismo Social\n"
     ]
    }
   ],
   "source": [
    "# Instanciamos un objeto de la clase Escritor\n",
    "escritor = Escritor(\"Mario Benedetti\", \"Realismo Social\")\n",
    "print(escritor.nombre, escritor.genero)"
   ]
  },
  {
   "cell_type": "markdown",
   "metadata": {},
   "source": [
    "## Herencia Múltiple\n",
    "\n",
    "En Python, una clase puede heredar de varias clases base, lo que se conoce como herencia múltiple. Aunque puede ser útil, también puede llevar a complicaciones si varias clases base tienen atributos o métodos con el mismo nombre.\n"
   ]
  },
  {
   "cell_type": "code",
   "execution_count": 6,
   "metadata": {},
   "outputs": [],
   "source": [
    "# Definimos una segunda clase base\n",
    "class Academico:\n",
    "    def __init__(self, universidad):\n",
    "        self.universidad = universidad\n",
    "\n",
    "# Creamos una clase que hereda de Escritor y Academico\n",
    "class EscritorAcademico(Escritor, Academico):\n",
    "    def __init__(self, nombre, genero, universidad):\n",
    "        Escritor.__init__(self, nombre, genero)\n",
    "        Academico.__init__(self, universidad)"
   ]
  },
  {
   "cell_type": "markdown",
   "metadata": {},
   "source": [
    "## Desafíos\n",
    "\n",
    "### Desafío 1: \n",
    "Implementa una clase Poeta que herede de Autor y tenga un atributo para el tipo de poesía que escribe.\n",
    "\n",
    "### Desafío 2:\n",
    "Crea una clase Bibliotecario que herede de Usuario y tenga atributos específicos como sección y años_experiencia.\n",
    "\n",
    "### Desafío 3:\n",
    "Diseña una clase LibroDigital que herede de Libro y añada atributos como formato (e.g., PDF, EPUB) y tamaño_archivo. Además, implementa una subclase EBook que sobrescriba un método para mostrar información específica, como enlaces de descarga.\n",
    "\n",
    "### Desafío 4:\n",
    "Implementa una clase EscritorAcademico que herede de Escritor y Academico, e incluya un método adicional para publicar artículos académicos. Asegúrate de utilizar correctamente la función super() para inicializar las clases base.\n",
    "\n",
    "### Desafío 5:\n",
    "Crea una jerarquía de clases para representar diferentes tipos de empleados en una biblioteca, utilizando herencia múltiple y composición. Por ejemplo, implementa clases como Empleado, Gerente, Tecnico, y Voluntario, donde Gerente y Tecnico hereden de Empleado, y algunos puedan tener roles adicionales mediante composición con otras clases como Administrador o Mantenimiento.\n",
    "\n"
   ]
  },
  {
   "cell_type": "markdown",
   "metadata": {},
   "source": [
    "## Referencias\n",
    "\n",
    "- [Documentación oficial de Python sobre herencia](https://docs.python.org/3/tutorial/classes.html#inheritance)\n",
    "- [Real Python: Inheritance and Composition](https://realpython.com/inheritance-composition-python/)\n",
    "- [Python Course: Inheritance](https://www.python-course.eu/python3_inheritance.php)\n"
   ]
  },
  {
   "cell_type": "code",
   "execution_count": 1,
   "metadata": {},
   "outputs": [
    {
     "name": "stdout",
     "output_type": "stream",
     "text": [
      "Nombre: Gabriel García Márquez\n",
      "Nacionalidad: Colombiano\n",
      "Libros:\n",
      "- El amor en los tiempos del cólera\n",
      "- Crónica de una muerte anunciada\n"
     ]
    }
   ],
   "source": [
    "#DESAFIO 1\n",
    "# Definición de la clase Autor\n",
    "class Autor:\n",
    "    def __init__(self, nombre):\n",
    "        self.nombre = nombre\n",
    "\n",
    "# Definición de la clase Poeta que hereda de Autor\n",
    "class Poeta(Autor):\n",
    "    def __init__(self, nombre, tipo_poesia):\n",
    "        super().__init__(nombre)  # Llamada al constructor de Autor\n",
    "        self.tipo_poesia = tipo_poesia  # Nuevo atributo de la clase Poeta\n",
    "\n",
    "# Ejemplo de uso\n",
    "poeta = Poeta(\"Pablo Neruda\", \"Lírica\")\n",
    "print(poeta.nombre)  # Imprime: Pablo Neruda\n",
    "print(poeta.tipo_poesia)  # Imprime: Lírica"
   ]
  },
  {
   "cell_type": "code",
   "execution_count": 6,
   "metadata": {},
   "outputs": [
    {
     "name": "stdout",
     "output_type": "stream",
     "text": [
      "Ana\n",
      "Literatura\n",
      "10\n"
     ]
    }
   ],
   "source": [
    "#DESAFIO 2\n",
    "# Definición de la clase Usuario\n",
    "class Usuario:\n",
    "    def __init__(self, nombre, id_usuario):\n",
    "        self.nombre = nombre\n",
    "        self.id_usuario = id_usuario\n",
    "\n",
    "# Definición de la clase Bibliotecario que hereda de Usuario\n",
    "class Bibliotecario(Usuario):\n",
    "    def __init__(self, nombre, id_usuario, seccion, años_experiencia):\n",
    "        super().__init__(nombre, id_usuario)  # Llamada al constructor de Usuario\n",
    "        self.seccion = seccion  # Nuevo atributo de la clase Bibliotecario\n",
    "        self.años_experiencia = años_experiencia  # Nuevo atributo de la clase Bibliotecario\n",
    "\n",
    "# Ejemplo de uso\n",
    "bibliotecario = Bibliotecario(\"Ana\", 12345, \"Literatura\", 10)\n",
    "print(bibliotecario.nombre)  # Imprime: Ana\n",
    "print(bibliotecario.seccion)  # Imprime: Literatura\n",
    "print(bibliotecario.años_experiencia)  # Imprime: 10"
   ]
  },
  {
   "cell_type": "code",
   "execution_count": 5,
   "metadata": {},
   "outputs": [
    {
     "name": "stdout",
     "output_type": "stream",
     "text": [
      "EBook: Cien Años de Soledad, Autor: Gabriel García Márquez, Formato: PDF, Tamaño: 5 MB, Enlace: www.descargaebook.com\n"
     ]
    }
   ],
   "source": [
    "#DESAFIO 3\n",
    "# Definición de la clase Libro\n",
    "class Libro:\n",
    "    def __init__(self, titulo, autor):\n",
    "        self.titulo = titulo\n",
    "        self.autor = autor\n",
    "\n",
    "# Definición de la clase LibroDigital que hereda de Libro\n",
    "class LibroDigital(Libro):\n",
    "    def __init__(self, titulo, autor, formato, tamaño_archivo):\n",
    "        super().__init__(titulo, autor)  # Llamada al constructor de Libro\n",
    "        self.formato = formato  # Nuevo atributo de la clase LibroDigital\n",
    "        self.tamaño_archivo = tamaño_archivo  # Nuevo atributo de la clase LibroDigital\n",
    "\n",
    "# Definición de la subclase EBook que hereda de LibroDigital\n",
    "class EBook(LibroDigital):\n",
    "    def __init__(self, titulo, autor, formato, tamaño_archivo, enlace_descarga):\n",
    "        super().__init__(titulo, autor, formato, tamaño_archivo)  # Llamada al constructor de LibroDigital\n",
    "        self.enlace_descarga = enlace_descarga  # Nuevo atributo de la clase EBook\n",
    "\n",
    "    def mostrar_informacion(self):\n",
    "        return f\"EBook: {self.titulo}, Autor: {self.autor}, Formato: {self.formato}, Tamaño: {self.tamaño_archivo} MB, Enlace: {self.enlace_descarga}\"\n",
    "\n",
    "# Ejemplo de uso\n",
    "ebook = EBook(\"Cien Años de Soledad\", \"Gabriel García Márquez\", \"PDF\", 5, \"www.descargaebook.com\")\n",
    "print(ebook.mostrar_informacion())  # Muestra la información completa del EBook"
   ]
  },
  {
   "cell_type": "code",
   "execution_count": 4,
   "metadata": {},
   "outputs": [
    {
     "name": "stdout",
     "output_type": "stream",
     "text": [
      "El escritor académico Julio Cortázar ha publicado el artículo 'La influencia del surrealismo en la literatura' en la universidad Universidad de Buenos Aires\n"
     ]
    }
   ],
   "source": [
    "#DESAFIO 4\n",
    "# Definición de la clase Academico\n",
    "class Academico:\n",
    "    def __init__(self, universidad):\n",
    "        self.universidad = universidad\n",
    "\n",
    "# Clase Escritor ya definida anteriormente\n",
    "class Escritor(Autor):\n",
    "    def __init__(self, nombre, genero):\n",
    "        super().__init__(nombre)\n",
    "        self.genero = genero\n",
    "\n",
    "# Definición de la clase EscritorAcademico que hereda de Escritor y Academico\n",
    "class EscritorAcademico(Escritor, Academico):\n",
    "    def __init__(self, nombre, genero, universidad):\n",
    "        Escritor.__init__(self, nombre, genero)  # Inicialización de Escritor\n",
    "        Academico.__init__(self, universidad)  # Inicialización de Academico\n",
    "\n",
    "    def publicar_articulo(self, titulo):\n",
    "        return f\"El escritor académico {self.nombre} ha publicado el artículo '{titulo}' en la universidad {self.universidad}\"\n",
    "\n",
    "# Ejemplo de uso\n",
    "escritor_academico = EscritorAcademico(\"Julio Cortázar\", \"Realismo Mágico\", \"Universidad de Buenos Aires\")\n",
    "print(escritor_academico.publicar_articulo(\"La influencia del surrealismo en la literatura\"))"
   ]
  },
  {
   "cell_type": "code",
   "execution_count": 3,
   "metadata": {},
   "outputs": [
    {
     "name": "stdout",
     "output_type": "stream",
     "text": [
      "Laura Permisos completos\n",
      "Carlos Reparación de equipos\n",
      "María 0\n"
     ]
    }
   ],
   "source": [
    "#DESAFIO 5\n",
    "# Definición de la clase Empleado\n",
    "class Empleado:\n",
    "    def __init__(self, nombre, salario):\n",
    "        self.nombre = nombre\n",
    "        self.salario = salario\n",
    "\n",
    "# Clases adicionales para composición\n",
    "class Administrador:\n",
    "    def __init__(self, permisos):\n",
    "        self.permisos = permisos\n",
    "\n",
    "class Mantenimiento:\n",
    "    def __init__(self, habilidades):\n",
    "        self.habilidades = habilidades\n",
    "\n",
    "# Definición de la clase Gerente que hereda de Empleado\n",
    "class Gerente(Empleado, Administrador):\n",
    "    def __init__(self, nombre, salario, permisos):\n",
    "        Empleado.__init__(self, nombre, salario)\n",
    "        Administrador.__init__(self, permisos)\n",
    "\n",
    "# Definición de la clase Técnico que hereda de Empleado y usa composición\n",
    "class Tecnico(Empleado):\n",
    "    def __init__(self, nombre, salario, habilidades):\n",
    "        super().__init__(nombre, salario)\n",
    "        self.mantenimiento = Mantenimiento(habilidades)\n",
    "\n",
    "# Definición de la clase Voluntario que hereda de Empleado\n",
    "class Voluntario(Empleado):\n",
    "    def __init__(self, nombre):\n",
    "        super().__init__(nombre, salario=0)  # Voluntario sin salario\n",
    "\n",
    "# Ejemplo de uso\n",
    "gerente = Gerente(\"Laura\", 50000, \"Permisos completos\")\n",
    "tecnico = Tecnico(\"Carlos\", 30000, \"Reparación de equipos\")\n",
    "voluntario = Voluntario(\"María\")\n",
    "\n",
    "print(gerente.nombre, gerente.permisos)  # Muestra: Laura Permisos completos\n",
    "print(tecnico.nombre, tecnico.mantenimiento.habilidades)  # Muestra: Carlos Reparación de equipos\n",
    "print(voluntario.nombre, voluntario.salario)  # Muestra: María 0"
   ]
  }
 ],
 "metadata": {
  "kernelspec": {
   "display_name": "Python 3",
   "language": "python",
   "name": "python3"
  },
  "language_info": {
   "codemirror_mode": {
    "name": "ipython",
    "version": 3
   },
   "file_extension": ".py",
   "mimetype": "text/x-python",
   "name": "python",
   "nbconvert_exporter": "python",
   "pygments_lexer": "ipython3",
   "version": "3.12.2"
  },
  "orig_nbformat": 4
 },
 "nbformat": 4,
 "nbformat_minor": 2
}
