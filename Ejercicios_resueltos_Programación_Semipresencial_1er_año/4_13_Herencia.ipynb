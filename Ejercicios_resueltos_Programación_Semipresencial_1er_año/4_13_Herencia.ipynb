{
 "cells": [
  {
   "cell_type": "markdown",
   "metadata": {},
   "source": [
    "# Introducción a la Herencia\n",
    "\n",
    "En nuestro viaje por el mundo de la Programación Orientada a Objetos (POO), hemos creado clases que representan entidades en una biblioteca, como `Autor` y `Libro`. Pero, ¿qué pasa si queremos crear nuevas clases que compartan características con las ya existentes, pero con algunas diferencias o adicionales? ¡Aquí es donde entra en juego la herencia!\n",
    "\n",
    "### Pregunta problema: \n",
    "¿Cómo podemos extender nuestras clases existentes para representar diferentes tipos de autores o libros, sin tener que reescribir todo el código?\n",
    "\n"
   ]
  },
  {
   "cell_type": "code",
   "execution_count": 3,
   "metadata": {},
   "outputs": [],
   "source": [
    "# Definimos la clase base Autor\n",
    "class Autor:\n",
    "    def __init__(self, nombre):\n",
    "        self.nombre = nombre"
   ]
  },
  {
   "cell_type": "markdown",
   "metadata": {},
   "source": [
    "## Conceptos clave de la herencia\n",
    "\n",
    "La **herencia** permite que una clase (llamada subclase o clase hija) herede atributos y métodos de otra clase (llamada superclase o clase base). La herencia facilita la reutilización y extensión del código.\n",
    "\n",
    "- **Herencia simple:** Una clase deriva de una única clase base.\n",
    "- **Herencia múltiple:** Una clase puede derivar de varias clases base.\n",
    "- **super():** Función que permite llamar a métodos de la clase base desde la clase derivada."
   ]
  },
  {
   "cell_type": "code",
   "execution_count": 4,
   "metadata": {},
   "outputs": [],
   "source": [
    "# Creamos una subclase Escritor que hereda de Autor\n",
    "class Escritor(Autor):\n",
    "    def __init__(self, nombre, genero):\n",
    "        super().__init__(nombre)\n",
    "        self.genero = genero"
   ]
  },
  {
   "cell_type": "markdown",
   "metadata": {},
   "source": [
    "## Ejemplos prácticos de Herencia\n",
    "\n",
    "Vamos a extender nuestra clase `Autor` para crear una nueva clase `Escritor` que tenga un atributo adicional: el género literario principal en el que escribe.\n"
   ]
  },
  {
   "cell_type": "code",
   "execution_count": 5,
   "metadata": {},
   "outputs": [
    {
     "name": "stdout",
     "output_type": "stream",
     "text": [
      "Mario Benedetti Realismo Social\n"
     ]
    }
   ],
   "source": [
    "# Instanciamos un objeto de la clase Escritor\n",
    "escritor = Escritor(\"Mario Benedetti\", \"Realismo Social\")\n",
    "print(escritor.nombre, escritor.genero)"
   ]
  },
  {
   "cell_type": "markdown",
   "metadata": {},
   "source": [
    "## Herencia Múltiple\n",
    "\n",
    "En Python, una clase puede heredar de varias clases base, lo que se conoce como herencia múltiple. Aunque puede ser útil, también puede llevar a complicaciones si varias clases base tienen atributos o métodos con el mismo nombre.\n"
   ]
  },
  {
   "cell_type": "code",
   "execution_count": 6,
   "metadata": {},
   "outputs": [],
   "source": [
    "# Definimos una segunda clase base\n",
    "class Academico:\n",
    "    def __init__(self, universidad):\n",
    "        self.universidad = universidad\n",
    "\n",
    "# Creamos una clase que hereda de Escritor y Academico\n",
    "class EscritorAcademico(Escritor, Academico):\n",
    "    def __init__(self, nombre, genero, universidad):\n",
    "        Escritor.__init__(self, nombre, genero)\n",
    "        Academico.__init__(self, universidad)"
   ]
  },
  {
   "cell_type": "markdown",
   "metadata": {},
   "source": [
    "## Desafíos\n",
    "\n",
    "### Desafío 1: \n",
    "Implementa una clase Poeta que herede de Autor y tenga un atributo para el tipo de poesía que escribe.\n",
    "\n",
    "### Desafío 2:\n",
    "Crea una clase Bibliotecario que herede de Usuario y tenga atributos específicos como sección y años_experiencia.\n",
    "\n",
    "### Desafío 3:\n",
    "Diseña una clase LibroDigital que herede de Libro y añada atributos como formato (e.g., PDF, EPUB) y tamaño_archivo. Además, implementa una subclase EBook que sobrescriba un método para mostrar información específica, como enlaces de descarga.\n",
    "\n",
    "### Desafío 4:\n",
    "Implementa una clase EscritorAcademico que herede de Escritor y Academico, e incluya un método adicional para publicar artículos académicos. Asegúrate de utilizar correctamente la función super() para inicializar las clases base.\n",
    "\n",
    "### Desafío 5:\n",
    "Crea una jerarquía de clases para representar diferentes tipos de empleados en una biblioteca, utilizando herencia múltiple y composición. Por ejemplo, implementa clases como Empleado, Gerente, Tecnico, y Voluntario, donde Gerente y Tecnico hereden de Empleado, y algunos puedan tener roles adicionales mediante composición con otras clases como Administrador o Mantenimiento.\n",
    "\n"
   ]
  },
  {
   "cell_type": "markdown",
   "metadata": {},
   "source": [
    "## Referencias\n",
    "\n",
    "- [Documentación oficial de Python sobre herencia](https://docs.python.org/3/tutorial/classes.html#inheritance)\n",
    "- [Real Python: Inheritance and Composition](https://realpython.com/inheritance-composition-python/)\n",
    "- [Python Course: Inheritance](https://www.python-course.eu/python3_inheritance.php)\n"
   ]
  },
  {
   "cell_type": "code",
   "execution_count": 1,
   "metadata": {},
   "outputs": [
    {
     "name": "stdout",
     "output_type": "stream",
     "text": [
      "Nombre: Gabriel García Márquez\n",
      "Nacionalidad: Colombiano\n",
      "Libros:\n",
      "- El amor en los tiempos del cólera\n",
      "- Crónica de una muerte anunciada\n"
     ]
    }
   ],
   "source": [
    "#DESAFIO 1\n",
    "# Definimos la clase Autor con una lista de libros\n",
    "class Autor:\n",
    "    # Método constructor (__init__) que inicializa los atributos nombre, nacionalidad y libros.\n",
    "    def __init__(self, nombre=\"\", nacionalidad=\"\"):\n",
    "        self.nombre = nombre  # Atributo para almacenar el nombre del autor\n",
    "        self.nacionalidad = nacionalidad  # Atributo para almacenar la nacionalidad\n",
    "        self.libros = []  # Inicializamos una lista vacía para almacenar los libros del autor\n",
    "\n",
    "    # Método para agregar un libro a la lista de libros del autor\n",
    "    def agregar_libro(self, libro=\"\"):\n",
    "        self.libros.append(libro)  # Añadimos el libro a la lista de libros\n",
    "\n",
    "    # Método para eliminar un libro de la lista\n",
    "    def eliminar_libro(self, libro=\"\"):\n",
    "        # Verificamos si el libro está en la lista de libros antes de intentar eliminarlo\n",
    "        if libro in self.libros:\n",
    "            self.libros.remove(libro)  # Eliminamos el libro de la lista\n",
    "        else:\n",
    "            # Imprimimos un mensaje si el libro no se encuentra en la lista\n",
    "            print(f'El libro \"{libro}\" no se encuentra en la lista.')\n",
    "\n",
    "    # Método para mostrar la información del autor y los libros que ha escrito\n",
    "    def mostrar_autor(self):\n",
    "        print(f\"Nombre: {self.nombre}\")\n",
    "        print(f\"Nacionalidad: {self.nacionalidad}\")\n",
    "        print(\"Libros:\")\n",
    "        # Verificamos si la lista de libros tiene elementos\n",
    "        if self.libros:\n",
    "            # Iteramos sobre la lista de libros e imprimimos cada uno\n",
    "            for libro in self.libros:\n",
    "                print(f\"- {libro}\")\n",
    "        else:\n",
    "            # Si no hay libros, mostramos un mensaje\n",
    "            print(\"No tiene libros en la lista.\")\n",
    "\n",
    "\n",
    "# Creación de un objeto de la clase Autor\n",
    "autor1 = Autor(\"Gabriel García Márquez\", \"Colombiano\")\n",
    "\n",
    "# Agregar libros a la lista\n",
    "autor1.agregar_libro(\"Cien años de soledad\")\n",
    "autor1.agregar_libro(\"El amor en los tiempos del cólera\")\n",
    "autor1.agregar_libro(\"Crónica de una muerte anunciada\")\n",
    "\n",
    "# Eliminar un libro de la lista\n",
    "autor1.eliminar_libro(\"Cien años de soledad\")\n",
    "\n",
    "# Mostrar la información del autor y sus libros\n",
    "autor1.mostrar_autor()"
   ]
  },
  {
   "cell_type": "code",
   "execution_count": 2,
   "metadata": {},
   "outputs": [
    {
     "name": "stdout",
     "output_type": "stream",
     "text": [
      "Título: Cien años de soledad\n",
      "Género: Realismo mágico\n",
      "ISBN: 978-84-376-0494-7\n",
      "Nombre: Gabriel García Márquez\n",
      "Nacionalidad: Colombiano\n"
     ]
    }
   ],
   "source": [
    "#DESAFIO 2\n",
    "# Definimos la clase Autor\n",
    "class Autor:\n",
    "    # Método constructor para inicializar nombre y nacionalidad\n",
    "    def __init__(self, nombre=\"\", nacionalidad=\"\"):\n",
    "        self.nombre = nombre\n",
    "        self.nacionalidad = nacionalidad\n",
    "\n",
    "    # Método para mostrar la información del autor\n",
    "    def mostrar_autor(self):\n",
    "        print(f\"Nombre: {self.nombre}\")\n",
    "        print(f\"Nacionalidad: {self.nacionalidad}\")\n",
    "\n",
    "# Definimos la clase Libro\n",
    "class Libro:\n",
    "    # Método constructor para inicializar los atributos del libro\n",
    "    def __init__(self, titulo, genero, ISBN, autor):\n",
    "        self.titulo = titulo  # Título del libro\n",
    "        self.genero = genero  # Género del libro\n",
    "        self.ISBN = ISBN  # Número de ISBN\n",
    "        self.autor = autor  # Relación con el autor (un objeto de la clase Autor)\n",
    "\n",
    "    # Método para mostrar la información del libro\n",
    "    def mostrar_libro(self):\n",
    "        print(f\"Título: {self.titulo}\")\n",
    "        print(f\"Género: {self.genero}\")\n",
    "        print(f\"ISBN: {self.ISBN}\")\n",
    "        # Llamamos al método mostrar_autor del objeto autor para mostrar los detalles del autor\n",
    "        self.autor.mostrar_autor()\n",
    "\n",
    "# Creamos un objeto de la clase Autor\n",
    "autor1 = Autor(\"Gabriel García Márquez\", \"Colombiano\")\n",
    "\n",
    "# Creamos un objeto de la clase Libro y le pasamos el objeto autor1 como autor\n",
    "libro1 = Libro(\"Cien años de soledad\", \"Realismo mágico\", \"978-84-376-0494-7\", autor1)\n",
    "\n",
    "# Mostramos la información del libro junto con los detalles del autor\n",
    "libro1.mostrar_libro()"
   ]
  },
  {
   "cell_type": "code",
   "execution_count": null,
   "metadata": {},
   "outputs": [],
   "source": [
    "#DESAFIO 3\n",
    "# Definimos la clase Biblioteca\n",
    "class Biblioteca:\n",
    "    # Inicializamos la biblioteca con listas vacías para autores y libros\n",
    "    def __init__(self):\n",
    "        self.autores = []  # Lista de autores\n",
    "        self.libros = []  # Lista de libros\n",
    "\n",
    "    # Método para agregar un autor\n",
    "    def agregar_autor(self, autor):\n",
    "        self.autores.append(autor)  # Agregamos el autor a la lista de autores\n",
    "\n",
    "    # Método para agregar un libro\n",
    "    def agregar_libro(self, libro):\n",
    "        self.libros.append(libro)  # Agregamos el libro a la lista de libros\n",
    "\n",
    "    # Método para mostrar los autores en la biblioteca\n",
    "    def mostrar_autores(self):\n",
    "        print(\"Autores en la biblioteca:\")\n",
    "        for autor in self.autores:\n",
    "            autor.mostrar_autor()\n",
    "\n",
    "    # Método para mostrar los libros en la biblioteca\n",
    "    def mostrar_libros(self):\n",
    "        print(\"Libros en la biblioteca:\")\n",
    "        for libro in self.libros:\n",
    "            libro.mostrar_libro()\n",
    "\n",
    "# Creamos una biblioteca\n",
    "biblioteca = Biblioteca()\n",
    "\n",
    "# Creamos algunos autores\n",
    "autor1 = Autor(\"Gabriel García Márquez\", \"Colombiano\")\n",
    "autor2 = Autor(\"Mario Vargas Llosa\", \"Peruano\")\n",
    "\n",
    "# Creamos algunos libros\n",
    "libro1 = Libro(\"Cien años de soledad\", \"Realismo mágico\", \"978-84-376-0494-7\", autor1)\n",
    "libro2 = Libro(\"La ciudad y los perros\", \"Novela\", \"978-84-339-2873-7\", autor2)\n",
    "\n",
    "# Agregamos los autores y libros a la biblioteca\n",
    "biblioteca.agregar_autor(autor1)\n",
    "biblioteca.agregar_autor(autor2)\n",
    "biblioteca.agregar_libro(libro1)\n",
    "biblioteca.agregar_libro(libro2)\n",
    "\n",
    "# Mostramos los autores y libros en la biblioteca\n",
    "biblioteca.mostrar_autores()\n",
    "biblioteca.mostrar_libros()"
   ]
  },
  {
   "cell_type": "code",
   "execution_count": null,
   "metadata": {},
   "outputs": [],
   "source": [
    "#DESAFIO 4\n"
   ]
  }
 ],
 "metadata": {
  "kernelspec": {
   "display_name": "Python 3",
   "language": "python",
   "name": "python3"
  },
  "language_info": {
   "codemirror_mode": {
    "name": "ipython",
    "version": 3
   },
   "file_extension": ".py",
   "mimetype": "text/x-python",
   "name": "python",
   "nbconvert_exporter": "python",
   "pygments_lexer": "ipython3",
   "version": "3.12.2"
  },
  "orig_nbformat": 4
 },
 "nbformat": 4,
 "nbformat_minor": 2
}
