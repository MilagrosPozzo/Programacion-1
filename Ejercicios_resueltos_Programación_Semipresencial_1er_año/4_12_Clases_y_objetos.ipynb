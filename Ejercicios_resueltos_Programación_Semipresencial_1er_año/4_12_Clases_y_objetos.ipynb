{
  "cells": [
    {
      "cell_type": "markdown",
      "metadata": {},
      "source": [
        "# Clases y Objetos en Python: Convirtiéndonos en Autores de Nuestro Conocimiento\n",
        "\n",
        "¡Bienvenido a este espacio de aprendizaje! Aquí, no solo aprenderemos sobre programación, sino que también nos convertiremos en los \"Autores\" de nuestro propio conocimiento. Al igual que un autor da vida a personajes y tramas en sus libros, nosotros daremos vida a entidades y lógicas en nuestro código.\n",
        "\n",
        "En este cuaderno, nos embarcaremos en una aventura literaria y de programación. Exploraremos el mundo de la Programación Orientada a Objetos (POO) en Python, donde cada concepto y entidad se convierte en un personaje en nuestra historia. Y, ¿cuál es el primer personaje que vamos a crear? ¡Un \"Autor\"!\n",
        "\n",
        "Pero no solo nos limitaremos a escribir sobre autores. En este viaje, cada uno de nosotros se convertirá en un autor en nuestra propia \"Clase\" o aula. A través de la POO, aprenderemos a organizar y estructurar nuestro código, creando clases y objetos que representen entidades del mundo real.\n",
        "\n",
        "Así que, ¿estás listo para tomar el lápiz (o mejor dicho, el teclado) y comenzar a escribir tu historia en el mundo de la programación? ¡Continuemos!\n"
      ]
    },
    {
      "cell_type": "markdown",
      "metadata": {},
      "source": [
        "### ¿Qué es una clase?\n",
        "\n",
        "Una clase es como un plano o plantilla que define las características (atributos) y comportamientos (métodos) que tendrá un objeto. Es una definición abstracta que provee una forma de empaquetar datos y funcionalidad juntos. Al crear una nueva clase en Python, se establece un nuevo tipo de objeto, permitiendo generar nuevas instancias de ese tipo. Cada instancia puede tener atributos para mantener su estado y métodos para modificarlo. \n",
        "\n",
        "> \"Las clases proveen una forma de empaquetar datos y funcionalidad juntos. Al crear una nueva clase, se crea un nuevo tipo de objeto, permitiendo crear nuevas instancias de ese tipo. Cada instancia de clase puede tener atributos adjuntos para mantener su estado. Las instancias de clase también pueden tener métodos (definidos por su clase) para modificar su estado.\" - [Fuente: python.org](https://docs.python.org/es/3/tutorial/classes.html)\n",
        "."
      ]
    },
    {
      "cell_type": "markdown",
      "metadata": {},
      "source": [
        "### ¿Qué es un objeto?\n",
        "\n",
        "Un objeto es una instancia de una clase. Es una representación concreta de la clase con valores reales para los atributos definidos en la clase. En el contexto de la programación en Python, según la [documentación oficial de Python](https://docs.python.org/es/3/tutorial/classes.html), un objeto es una colección de datos (variables) y métodos (funciones) que actúan sobre los datos. Es una unidad básica de la Programación Orientada a Objetos (POO).\n"
      ]
    },
    {
      "cell_type": "markdown",
      "metadata": {},
      "source": [
        "## Creando nuestra primera clase: Autor\n",
        "\n",
        "Vamos a crear una clase llamada `Autor`. Pero antes de sumergirnos en el código, reflexionemos sobre lo que queremos lograr."
      ]
    },
    {
      "cell_type": "markdown",
      "metadata": {},
      "source": [
        "### Reflexión inicial\n",
        "\n",
        "Si tuvieras que definir un autor, ¿qué características o atributos considerarías importantes? ¿Qué comportamientos o acciones asociarías con un autor?"
      ]
    },
    {
      "cell_type": "markdown",
      "metadata": {},
      "source": [
        "Probablemente hayas pensado en atributos como el nombre y la nacionalidad del autor. Estos serán los atributos que incluiremos en nuestra clase `Autor`."
      ]
    },
    {
      "cell_type": "markdown",
      "metadata": {},
      "source": [
        "### Definiendo la clase Autor\n",
        "\n",
        "Comencemos definiendo la clase `Autor` con los atributos `nombre` y `nacionalidad`."
      ]
    },
    {
      "cell_type": "code",
      "execution_count": 1,
      "metadata": {},
      "outputs": [],
      "source": [
        "class Autor:\n",
        "    def __init__(self, nombre=\"\", nacionalidad=\"\"):\n",
        "        self.nombre = nombre\n",
        "        self.nacionalidad = nacionalidad"
      ]
    },
    {
      "cell_type": "markdown",
      "metadata": {},
      "source": [
        "### Entendiendo la Clase Autor\n",
        "La clase Autor es una representación simplificada de un autor en el mundo de la programación. Vamos a desglosar su estructura y entender cada parte.\n",
        "\n",
        "### La declaración de la clase\n",
        "<span style=\"color:blue\">class</span> Autor:\n",
        "\n",
        "Con class, declaramos que estamos definiendo una nueva clase. Autor es el nombre de la clase, y en Python, por convención, los nombres de las clases suelen comenzar con una letra mayúscula."
      ]
    },
    {
      "cell_type": "markdown",
      "id": "27349e1f",
      "metadata": {},
      "source": [
        "### El método \\_\\_init__\n",
        "\n",
        "def \\_\\_init__(self, nombre=\"\", nacionalidad=\"\"):\n",
        "\n",
        "El método __init__ es un método especial en Python. Se le llama constructor y se ejecuta automáticamente cuando creamos una nueva instancia de la clase. Es decir, cuando creamos un nuevo objeto Autor, este método se invoca automáticamente.\n",
        "\n",
        "self: Es el primer parámetro que todos los métodos en una clase deben aceptar. Representa la instancia actual del objeto y permite acceder a los atributos y métodos de la clase. En otros lenguajes de programación, es equivalente a palabras como this.\n",
        "\n",
        "nombre y nacionalidad: Son parámetros con valores predeterminados de cadenas vacías. Estos representan los atributos del autor que queremos establecer cuando creamos una nueva instancia."
      ]
    },
    {
      "cell_type": "markdown",
      "id": "8d1b5760",
      "metadata": {},
      "source": [
        "### Atributos de la clase\n",
        "\n",
        "self.nombre = nombre \n",
        "\n",
        "self.nacionalidad = nacionalidad\n",
        "\n",
        "Los atributos son variables que pertenecen a la clase y representan características del objeto. En este caso, nombre y nacionalidad son atributos de la clase Autor.\n",
        "\n",
        "self.nombre y self.nacionalidad: Aquí estamos asignando los valores pasados al constructor a los atributos del objeto. El uso de self indica que estos son atributos del objeto y no simples variables locales del constructor.\n"
      ]
    },
    {
      "cell_type": "markdown",
      "metadata": {},
      "source": [
        "### Métodos --funciones--\n",
        "\n",
        "Dentro de las clases en Python, podemos definir funciones que se conocen como \"métodos\". Estos métodos operan sobre los atributos de la clase y pueden realizar diversas operaciones, desde modificar el estado del objeto hasta mostrar información sobre él.\n",
        "\n",
        "En nuestra clase Autor, hemos definido un método llamado mostrar_autor:\n"
      ]
    },
    {
      "cell_type": "code",
      "execution_count": 2,
      "metadata": {},
      "outputs": [],
      "source": [
        "class Autor:\n",
        "    # Constructor de la clase\n",
        "    def __init__(self, nombre=\"\", nacionalidad=\"\"):\n",
        "        self.nombre = nombre\n",
        "        self.nacionalidad = nacionalidad\n",
        "\n",
        "    # Método para mostrar los detalles del autor\n",
        "    def mostrar_autor(self):\n",
        "        print(f\"Nombre: {self.nombre}\")\n",
        "        print(f\"Nacionalidad: {self.nacionalidad}\")"
      ]
    },
    {
      "cell_type": "markdown",
      "metadata": {},
      "source": [
        "### Instanciando objetos\n",
        "\n",
        "Ahora que tenemos nuestra clase `Autor` definida, podemos crear objetos o instancias de esta clase."
      ]
    },
    {
      "cell_type": "code",
      "execution_count": 4,
      "metadata": {},
      "outputs": [
        {
          "name": "stdout",
          "output_type": "stream",
          "text": [
            "Mario Benedetti\n",
            "Uruguayo\n"
          ]
        }
      ],
      "source": [
        "autor1 = Autor(\"Mario Benedetti\", \"Uruguayo\")\n",
        "print(autor1.nombre)\n",
        "print(autor1.nacionalidad)"
      ]
    },
    {
      "cell_type": "markdown",
      "metadata": {},
      "source": [
        "## Desafíos\n",
        "\n",
        "### Desafío 1\n",
        "\n",
        "Amplía la clase `Autor` para incluir una lista de libros escritos por el autor. Implementa métodos para agregar y eliminar libros de esta lista.\n",
        "\n",
        "### Desafío 2\n",
        "\n",
        "Crea una clase `Libro` con atributos como título, género e ISBN. ¿Cómo podrías relacionar esta clase con la clase `Autor`?\n",
        "\n",
        "### Desafío 3\n",
        "\n",
        "Considera cómo podrías implementar una biblioteca que almacene múltiples autores y libros. ¿Qué estructuras de datos usarías?\n",
        "\n",
        "### Desafío 4\n",
        "\n",
        "Piensa en otros atributos y métodos que podrías agregar a la clase `Autor` para hacerla más completa.\n",
        "\n",
        "### Desafío 5\n",
        "\n",
        "Reflexiona sobre cómo podrías implementar una función de búsqueda para encontrar un libro específico o autor en una biblioteca."
      ]
    },
    {
      "cell_type": "markdown",
      "metadata": {},
      "source": [
        "## Referencias\n",
        "\n",
        "- [Documentación oficial de Python sobre clases](https://docs.python.org/es/3/tutorial/classes.html)\n",
        "- [Tutorial de Recursos Python sobre clases](https://tutorial.recursospython.com/clases/)\n",
        "- [Mejorando tu programación con Python: Las clases](https://atareao.es/pyldora/mejorando-tu-programacion-con-python-las-clases/)\n",
        "- [Clases y métodos en Python - Python desde cero](https://pythones.net/clases-y-metodos-python-oop/)\n",
        "- [Curso Python: 14. POO (Clases y objetos) - YouTube](https://www.youtube.com/watch?v=G6I3od7qwRU&ab_channel=C%C3%B3digosdeProgramaci%C3%B3n-MR)\n",
        "- [Tutorial Python 13: Clases y Objetos - YouTube](https://www.youtube.com/watch?v=VYXdpjCZojA&ab_channel=codigofacilito)"
      ]
    },
    {
      "cell_type": "code",
      "execution_count": 1,
      "id": "6d94ed79",
      "metadata": {},
      "outputs": [
        {
          "name": "stdout",
          "output_type": "stream",
          "text": [
            "Nombre: Gabriel García Márquez\n",
            "Nacionalidad: Colombiano\n",
            "Libros:\n",
            "- Cien años de soledad\n",
            "- El amor en los tiempos del cólera\n",
            "Nombre: Gabriel García Márquez\n",
            "Nacionalidad: Colombiano\n",
            "Libros:\n",
            "- El amor en los tiempos del cólera\n"
          ]
        }
      ],
      "source": [
        "#DESAFIO 1\n",
        "# Definimos la clase Autor\n",
        "class Autor:\n",
        "    # Constructor que inicializa los atributos del autor, incluyendo una lista de libros\n",
        "    def __init__(self, nombre=\"\", nacionalidad=\"\"):\n",
        "        self.nombre = nombre  # Atributo para almacenar el nombre del autor\n",
        "        self.nacionalidad = nacionalidad  # Atributo para almacenar la nacionalidad del autor\n",
        "        self.libros = []  # Lista vacía que contendrá los libros escritos por el autor\n",
        "\n",
        "    # Método para agregar un libro a la lista de libros\n",
        "    def agregar_libro(self, libro):\n",
        "        self.libros.append(libro)  # Añadimos el libro a la lista\n",
        "\n",
        "    # Método para eliminar un libro de la lista de libros\n",
        "    def eliminar_libro(self, libro):\n",
        "        # Comprobamos si el libro está en la lista de libros antes de intentar eliminarlo\n",
        "        if libro in self.libros:\n",
        "            self.libros.remove(libro)  # Si está, lo eliminamos\n",
        "        else:\n",
        "            print(f'El libro \"{libro}\" no se encuentra en la lista.')  # Mensaje si no está en la lista\n",
        "\n",
        "    # Método para mostrar los detalles del autor y los libros que ha escrito\n",
        "    def mostrar_autor(self):\n",
        "        print(f\"Nombre: {self.nombre}\")\n",
        "        print(f\"Nacionalidad: {self.nacionalidad}\")\n",
        "        print(\"Libros:\")\n",
        "        # Comprobamos si el autor tiene libros en la lista\n",
        "        if self.libros:\n",
        "            for libro in self.libros:\n",
        "                print(f\"- {libro}\")  # Mostramos cada libro\n",
        "        else:\n",
        "            print(\"Este autor no tiene libros en la lista.\")  # Mensaje si no tiene libros\n",
        "\n",
        "# Ejemplo de uso de la clase Autor:\n",
        "autor1 = Autor(\"Gabriel García Márquez\", \"Colombiano\")\n",
        "\n",
        "# Agregamos libros a la lista de libros del autor\n",
        "autor1.agregar_libro(\"Cien años de soledad\")\n",
        "autor1.agregar_libro(\"El amor en los tiempos del cólera\")\n",
        "\n",
        "# Mostramos los detalles del autor y sus libros\n",
        "autor1.mostrar_autor()\n",
        "\n",
        "# Eliminamos un libro de la lista\n",
        "autor1.eliminar_libro(\"Cien años de soledad\")\n",
        "\n",
        "# Mostramos de nuevo los detalles del autor y la lista actualizada de libros\n",
        "autor1.mostrar_autor()"
      ]
    },
    {
      "cell_type": "code",
      "execution_count": 2,
      "id": "7ecb4e47",
      "metadata": {},
      "outputs": [
        {
          "name": "stdout",
          "output_type": "stream",
          "text": [
            "Título: Cien años de soledad\n",
            "Género: Realismo mágico\n",
            "ISBN: 978-84-376-0494-7\n",
            "Autor:\n",
            "Nombre: Gabriel García Márquez\n",
            "Nacionalidad: Colombiano\n",
            "Libros:\n",
            "Este autor no tiene libros en la lista.\n"
          ]
        }
      ],
      "source": [
        "#DESAFIO 2\n",
        "# Definimos la clase Libro con atributos como título, género e ISBN\n",
        "class Libro:\n",
        "    # Constructor que inicializa los atributos del libro\n",
        "    def __init__(self, titulo, genero, ISBN, autor):\n",
        "        self.titulo = titulo  # Título del libro\n",
        "        self.genero = genero  # Género del libro\n",
        "        self.ISBN = ISBN  # ISBN del libro\n",
        "        self.autor = autor  # Relación con el autor, que es un objeto de la clase Autor\n",
        "\n",
        "    # Método para mostrar los detalles del libro, incluyendo la información del autor\n",
        "    def mostrar_libro(self):\n",
        "        print(f\"Título: {self.titulo}\")\n",
        "        print(f\"Género: {self.genero}\")\n",
        "        print(f\"ISBN: {self.ISBN}\")\n",
        "        print(\"Autor:\")\n",
        "        self.autor.mostrar_autor()  # Llamamos al método mostrar_autor del objeto autor\n",
        "\n",
        "# Ejemplo de uso de la clase Libro:\n",
        "autor1 = Autor(\"Gabriel García Márquez\", \"Colombiano\")\n",
        "libro1 = Libro(\"Cien años de soledad\", \"Realismo mágico\", \"978-84-376-0494-7\", autor1)\n",
        "\n",
        "# Mostramos los detalles del libro y del autor\n",
        "libro1.mostrar_libro()"
      ]
    },
    {
      "cell_type": "code",
      "execution_count": 3,
      "id": "2a7238c9",
      "metadata": {},
      "outputs": [
        {
          "name": "stdout",
          "output_type": "stream",
          "text": [
            "Autores en la biblioteca:\n",
            "Nombre: Gabriel García Márquez\n",
            "Nacionalidad: Colombiano\n",
            "Libros:\n",
            "Este autor no tiene libros en la lista.\n",
            "Nombre: Mario Vargas Llosa\n",
            "Nacionalidad: Peruano\n",
            "Libros:\n",
            "Este autor no tiene libros en la lista.\n",
            "Libros en la biblioteca:\n",
            "Título: Cien años de soledad\n",
            "Género: Realismo mágico\n",
            "ISBN: 978-84-376-0494-7\n",
            "Autor:\n",
            "Nombre: Gabriel García Márquez\n",
            "Nacionalidad: Colombiano\n",
            "Libros:\n",
            "Este autor no tiene libros en la lista.\n",
            "Título: La ciudad y los perros\n",
            "Género: Novela\n",
            "ISBN: 978-84-339-2873-7\n",
            "Autor:\n",
            "Nombre: Mario Vargas Llosa\n",
            "Nacionalidad: Peruano\n",
            "Libros:\n",
            "Este autor no tiene libros en la lista.\n"
          ]
        }
      ],
      "source": [
        "#DESAFIO 3\n",
        "# Definimos la clase Biblioteca\n",
        "class Biblioteca:\n",
        "    # Constructor que inicializa las listas de autores y libros\n",
        "    def __init__(self):\n",
        "        self.autores = []  # Lista de autores\n",
        "        self.libros = []  # Lista de libros\n",
        "\n",
        "    # Método para agregar un autor a la biblioteca\n",
        "    def agregar_autor(self, autor):\n",
        "        self.autores.append(autor)  # Añadimos el autor a la lista\n",
        "\n",
        "    # Método para agregar un libro a la biblioteca\n",
        "    def agregar_libro(self, libro):\n",
        "        self.libros.append(libro)  # Añadimos el libro a la lista\n",
        "\n",
        "    # Método para mostrar todos los autores de la biblioteca\n",
        "    def mostrar_autores(self):\n",
        "        print(\"Autores en la biblioteca:\")\n",
        "        for autor in self.autores:\n",
        "            autor.mostrar_autor()  # Mostramos cada autor\n",
        "\n",
        "    # Método para mostrar todos los libros de la biblioteca\n",
        "    def mostrar_libros(self):\n",
        "        print(\"Libros en la biblioteca:\")\n",
        "        for libro in self.libros:\n",
        "            libro.mostrar_libro()  # Mostramos cada libro\n",
        "\n",
        "# Ejemplo de uso de la clase Biblioteca:\n",
        "biblioteca = Biblioteca()\n",
        "\n",
        "# Creamos algunos autores y libros\n",
        "autor1 = Autor(\"Gabriel García Márquez\", \"Colombiano\")\n",
        "libro1 = Libro(\"Cien años de soledad\", \"Realismo mágico\", \"978-84-376-0494-7\", autor1)\n",
        "\n",
        "autor2 = Autor(\"Mario Vargas Llosa\", \"Peruano\")\n",
        "libro2 = Libro(\"La ciudad y los perros\", \"Novela\", \"978-84-339-2873-7\", autor2)\n",
        "\n",
        "# Agregamos los autores y libros a la biblioteca\n",
        "biblioteca.agregar_autor(autor1)\n",
        "biblioteca.agregar_autor(autor2)\n",
        "biblioteca.agregar_libro(libro1)\n",
        "biblioteca.agregar_libro(libro2)\n",
        "\n",
        "# Mostramos los autores y libros en la biblioteca\n",
        "biblioteca.mostrar_autores()\n",
        "biblioteca.mostrar_libros()"
      ]
    },
    {
      "cell_type": "code",
      "execution_count": 8,
      "id": "c928c61b",
      "metadata": {},
      "outputs": [],
      "source": [
        "#DESAFIO 4\n",
        "# Ampliamos la clase Autor con más atributos y un nuevo método\n",
        "class Autor:\n",
        "    # Constructor que inicializa más atributos, como la fecha de nacimiento y la biografía\n",
        "    def __init__(self, nombre=\"\", nacionalidad=\"\", fecha_nacimiento=\"\", biografia=\"\"):\n",
        "        self.nombre = nombre\n",
        "        self.nacionalidad = nacionalidad\n",
        "        self.fecha_nacimiento = fecha_nacimiento  # Nuevo atributo para la fecha de nacimiento\n",
        "        self.biografia = biografia  # Nuevo atributo para la biografía\n",
        "        self.libros = []  # Lista de libros escrita por el autor\n",
        "\n",
        "    # Método para agregar un libro\n",
        "    def agregar_libro(self, libro):\n",
        "        self.libros.append(libro)\n",
        "\n",
        "    # Método para eliminar un libro\n",
        "    def eliminar_libro(self, libro):\n",
        "        if libro in self.libros:\n",
        "            self.libros.remove(libro)\n",
        "        else:\n",
        "            print(f'El libro \"{libro}\" no se encuentra en la lista.')\n",
        "\n",
        "    # Método para actualizar la biografía del autor\n",
        "    def actualizar_biografia(self, nueva_biografia):\n",
        "        self.biografia = nueva_biografia  # Actualizamos la biografía del autor\n",
        "\n",
        "    # Método para mostrar los detalles del autor, incluyendo la biografía y la fecha de nacimiento\n",
        "    def mostrar_autor(self):\n",
        "        print(f\"Nombre: {self.nombre}\")\n",
        "        print(f\"Nacionalidad: {self.nacionalidad}\")\n",
        "        print(f\"Fecha de nacimiento: {self.fecha_nacimiento}\")\n",
        "        print(f\"Biografía: {self.biografia}\")\n",
        "        print(\"Libros:\")\n",
        "        if self.libros:\n",
        "            for libro in self.libros:\n",
        "                print(f\"- {libro}\")\n",
        "        else:\n",
        "            print(\"Este autor no tiene libros en la lista.\")"
      ]
    },
    {
      "cell_type": "code",
      "execution_count": 6,
      "id": "bc7a24bb",
      "metadata": {},
      "outputs": [
        {
          "name": "stdout",
          "output_type": "stream",
          "text": [
            "\n",
            "Autor encontrado:\n",
            "Nombre: Mario Vargas Llosa\n",
            "Nacionalidad: Peruano\n",
            "Libros:\n",
            "No tiene libros en la lista.\n",
            "\n",
            "Libro encontrado:\n",
            "Título: Cien años de soledad\n",
            "Género: Realismo mágico\n",
            "ISBN: 978-84-376-0494-7\n",
            "Autor:\n",
            "Nombre: Gabriel García Márquez\n",
            "Nacionalidad: Colombiano\n",
            "Libros:\n",
            "No tiene libros en la lista.\n"
          ]
        }
      ],
      "source": [
        "#DESAFIO 5\n",
        "# Definimos la clase Biblioteca, que contendrá autores y libros, e incluirá métodos de búsqueda\n",
        "class Biblioteca:\n",
        "    def __init__(self):\n",
        "        self.autores = []  # Lista de autores en la biblioteca\n",
        "        self.libros = []   # Lista de libros en la biblioteca\n",
        "\n",
        "    # Método para agregar un autor a la biblioteca\n",
        "    def agregar_autor(self, autor):\n",
        "        self.autores.append(autor)  # Añadimos el autor a la lista\n",
        "\n",
        "    # Método para agregar un libro a la biblioteca\n",
        "    def agregar_libro(self, libro):\n",
        "        self.libros.append(libro)  # Añadimos el libro a la lista\n",
        "\n",
        "    # Método para buscar un autor por nombre\n",
        "    def buscar_autor(self, nombre):\n",
        "        # Recorremos la lista de autores buscando el nombre coincidente\n",
        "        for autor in self.autores:\n",
        "            if autor.nombre.lower() == nombre.lower():  # Convertimos a minúsculas para evitar problemas con mayúsculas\n",
        "                return autor  # Retornamos el autor encontrado\n",
        "        return None  # Retornamos None si no se encuentra el autor\n",
        "\n",
        "    # Método para buscar un libro por título\n",
        "    def buscar_libro(self, titulo):\n",
        "        # Recorremos la lista de libros buscando el título coincidente\n",
        "        for libro in self.libros:\n",
        "            if libro.titulo.lower() == titulo.lower():  # Convertimos a minúsculas para evitar problemas con mayúsculas\n",
        "                return libro  # Retornamos el libro encontrado\n",
        "        return None  # Retornamos None si no se encuentra el libro\n",
        "\n",
        "    # Método para mostrar todos los autores en la biblioteca\n",
        "    def mostrar_autores(self):\n",
        "        print(\"Autores en la biblioteca:\")\n",
        "        for autor in self.autores:\n",
        "            autor.mostrar_autor()  # Llamamos al método mostrar_autor de la clase Autor\n",
        "\n",
        "    # Método para mostrar todos los libros en la biblioteca\n",
        "    def mostrar_libros(self):\n",
        "        print(\"Libros en la biblioteca:\")\n",
        "        for libro in self.libros:\n",
        "            libro.mostrar_libro()  # Llamamos al método mostrar_libro de la clase Libro\n",
        "\n",
        "# Definimos la clase Autor\n",
        "class Autor:\n",
        "    def __init__(self, nombre=\"\", nacionalidad=\"\"):\n",
        "        self.nombre = nombre\n",
        "        self.nacionalidad = nacionalidad\n",
        "        self.libros = []  # Lista de libros escritos por el autor\n",
        "\n",
        "    # Método para agregar un libro a la lista de libros del autor\n",
        "    def agregar_libro(self, libro):\n",
        "        self.libros.append(libro)\n",
        "\n",
        "    # Método para mostrar los detalles del autor\n",
        "    def mostrar_autor(self):\n",
        "        print(f\"Nombre: {self.nombre}\")\n",
        "        print(f\"Nacionalidad: {self.nacionalidad}\")\n",
        "        print(\"Libros:\")\n",
        "        if self.libros:\n",
        "            for libro in self.libros:\n",
        "                print(f\"- {libro}\")\n",
        "        else:\n",
        "            print(\"No tiene libros en la lista.\")\n",
        "\n",
        "# Definimos la clase Libro\n",
        "class Libro:\n",
        "    def __init__(self, titulo, genero, ISBN, autor):\n",
        "        self.titulo = titulo\n",
        "        self.genero = genero\n",
        "        self.ISBN = ISBN\n",
        "        self.autor = autor\n",
        "\n",
        "    # Método para mostrar los detalles del libro, incluyendo su autor\n",
        "    def mostrar_libro(self):\n",
        "        print(f\"Título: {self.titulo}\")\n",
        "        print(f\"Género: {self.genero}\")\n",
        "        print(f\"ISBN: {self.ISBN}\")\n",
        "        print(\"Autor:\")\n",
        "        self.autor.mostrar_autor()\n",
        "\n",
        "# Ejemplo de uso del Desafío 5:\n",
        "\n",
        "# Creamos una biblioteca\n",
        "biblioteca = Biblioteca()\n",
        "\n",
        "# Creamos autores\n",
        "autor1 = Autor(\"Gabriel García Márquez\", \"Colombiano\")\n",
        "autor2 = Autor(\"Mario Vargas Llosa\", \"Peruano\")\n",
        "\n",
        "# Creamos libros\n",
        "libro1 = Libro(\"Cien años de soledad\", \"Realismo mágico\", \"978-84-376-0494-7\", autor1)\n",
        "libro2 = Libro(\"La ciudad y los perros\", \"Novela\", \"978-84-339-2873-7\", autor2)\n",
        "\n",
        "# Agregamos autores y libros a la biblioteca\n",
        "biblioteca.agregar_autor(autor1)\n",
        "biblioteca.agregar_autor(autor2)\n",
        "biblioteca.agregar_libro(libro1)\n",
        "biblioteca.agregar_libro(libro2)\n",
        "\n",
        "# Búsqueda de un autor por nombre\n",
        "autor_buscado = biblioteca.buscar_autor(\"Mario Vargas Llosa\")\n",
        "if autor_buscado:\n",
        "    print(\"\\nAutor encontrado:\")\n",
        "    autor_buscado.mostrar_autor()\n",
        "else:\n",
        "    print(\"\\nAutor no encontrado.\")\n",
        "\n",
        "# Búsqueda de un libro por título\n",
        "libro_buscado = biblioteca.buscar_libro(\"Cien años de soledad\")\n",
        "if libro_buscado:\n",
        "    print(\"\\nLibro encontrado:\")\n",
        "    libro_buscado.mostrar_libro()\n",
        "else:\n",
        "    print(\"\\nLibro no encontrado.\")"
      ]
    }
  ],
  "metadata": {
    "kernelspec": {
      "display_name": "Python 3",
      "language": "python",
      "name": "python3"
    },
    "language_info": {
      "codemirror_mode": {
        "name": "ipython",
        "version": 3
      },
      "file_extension": ".py",
      "mimetype": "text/x-python",
      "name": "python",
      "nbconvert_exporter": "python",
      "pygments_lexer": "ipython3",
      "version": "3.12.2"
    }
  },
  "nbformat": 4,
  "nbformat_minor": 5
}
