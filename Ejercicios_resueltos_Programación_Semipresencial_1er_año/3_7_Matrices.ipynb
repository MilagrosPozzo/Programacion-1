{
 "cells": [
  {
   "cell_type": "markdown",
   "metadata": {
    "colab_type": "text",
    "id": "view-in-github"
   },
   "source": [
    "<a href=\"https://colab.research.google.com/github/MilagrosPozzo/Programacion-1/blob/main/3_7_Matrices.ipynb\" target=\"_parent\"><img src=\"https://colab.research.google.com/assets/colab-badge.svg\" alt=\"Open In Colab\"/></a>"
   ]
  },
  {
   "cell_type": "markdown",
   "metadata": {
    "id": "iDybK60sElR1"
   },
   "source": [
    "# Introducción a las matrices en NumPy\n",
    "\n",
    "Hasta ahora, hemos trabajado con lo que podríamos llamar \"arreglos\" en Python usando listas, una funcionalidad nativa del lenguaje. Pero hemos mencionado también que Python, en su forma estándar, no tiene un verdadero soporte para \"arreglos\" como lo conocemos en otros lenguajes de programación. Y sí, eso es cierto.\n",
    "\n",
    "Pero aquí es donde NumPy entra en juego. NumPy es una biblioteca de Python que nos proporciona una estructura de datos tipo arreglo, el `ndarray`, optimizada para cálculos numéricos eficientes. En este módulo, vamos a aprender cómo trabajar con estos \"arreglos\" utilizando NumPy. Esta habilidad es esencial para muchas áreas en ciencia de datos, aprendizaje automático y computación científica, ya que nos permitirá manejar y realizar operaciones con conjuntos de datos numéricos de manera eficiente."
   ]
  },
  {
   "cell_type": "markdown",
   "metadata": {
    "id": "UfMLtKbKEsWt"
   },
   "source": [
    "# Creación de matrices en NumPy\n",
    "\n",
    "Podemos crear matrices en NumPy de varias formas. Aquí hay algunos ejemplos:"
   ]
  },
  {
   "cell_type": "code",
   "execution_count": 1,
   "metadata": {
    "id": "qWnqpDkjEu5a"
   },
   "outputs": [
    {
     "name": "stdout",
     "output_type": "stream",
     "text": [
      "A =\n",
      " [[1 2 3]\n",
      " [4 5 6]\n",
      " [7 8 9]]\n",
      "\n",
      "B =\n",
      " [[0. 0. 0.]\n",
      " [0. 0. 0.]\n",
      " [0. 0. 0.]]\n",
      "\n",
      "C =\n",
      " [[1. 1. 1.]\n",
      " [1. 1. 1.]\n",
      " [1. 1. 1.]]\n",
      "\n",
      "D =\n",
      " [[0.28551293 0.40943069 0.99360407]\n",
      " [0.65074772 0.62694518 0.9082299 ]\n",
      " [0.46113091 0.43278335 0.05179635]]\n"
     ]
    }
   ],
   "source": [
    "import numpy as np\n",
    "\n",
    "# Crear una matriz a partir de una lista de listas\n",
    "A = np.array([[1, 2, 3], [4, 5, 6], [7, 8, 9]])\n",
    "print(\"A =\\n\", A)\n",
    "\n",
    "# Crear una matriz de ceros\n",
    "B = np.zeros((3, 3))\n",
    "print(\"\\nB =\\n\", B)\n",
    "\n",
    "# Crear una matriz de unos\n",
    "C = np.ones((3, 3))\n",
    "print(\"\\nC =\\n\", C)\n",
    "\n",
    "# Crear una matriz con valores aleatorios\n",
    "D = np.random.rand(3, 3)\n",
    "print(\"\\nD =\\n\", D)"
   ]
  },
  {
   "cell_type": "markdown",
   "metadata": {
    "id": "9gZFoSDSGjD1"
   },
   "source": [
    "Seguramente habrás notado en algún desafío anterior el uso de as en líneas de código como import libreria as lib. as en Python se utiliza para crear un alias durante la importación de un módulo. En este caso, estamos importando el módulo numpy y asignándole el alias np. Esto se hace por conveniencia para hacer el código más legible y conciso.\n",
    "\n",
    "Después de esto, puedes usar el prefijo np. en lugar de numpy. para llamar a las funciones y métodos del módulo numpy. Esto es especialmente útil para módulos con nombres largos o que se utilizan con frecuencia.\n",
    "\n",
    "El alias np para numpy es una convención ampliamente adoptada por la comunidad de Python, especialmente entre los científicos de datos, ingenieros y desarrolladores que utilizan numpy para el cálculo numérico. Utilizar estas convenciones ayuda a mantener el código coherente y fácil de leer entre diferentes proyectos y equipos. Sin embargo, podrías elegir cualquier nombre que desees para el alias. Por ejemplo, import numpy as nump también sería válido, pero no es comúnmente utilizado."
   ]
  },
  {
   "cell_type": "markdown",
   "metadata": {
    "id": "2JfPVxBrlz4J"
   },
   "source": [
    "_Nota_: Puede ocurrir que Python no tenga NumPy en tu instalacion, lo resuelves con pip install numpy o similar según tu sistema."
   ]
  },
  {
   "cell_type": "markdown",
   "metadata": {
    "id": "5Kq0wYFBEyi4"
   },
   "source": [
    "# Acceso y modificación de elementos de la matriz\n",
    "\n",
    "Podemos acceder y modificar elementos de la matriz utilizando índices. Veamos algunos ejemplos:"
   ]
  },
  {
   "cell_type": "code",
   "execution_count": 2,
   "metadata": {
    "id": "_eKklfzkHpQo"
   },
   "outputs": [
    {
     "name": "stdout",
     "output_type": "stream",
     "text": [
      "A[0, 0] = 1\n",
      "\n",
      "A =\n",
      " [[10  2  3]\n",
      " [ 4  5  6]\n",
      " [ 7  8  9]]\n"
     ]
    }
   ],
   "source": [
    "# Acceder a un elemento\n",
    "print(\"A[0, 0] =\", A[0, 0])\n",
    "\n",
    "# Modificar un elemento\n",
    "A[0, 0] = 10\n",
    "print(\"\\nA =\\n\", A)"
   ]
  },
  {
   "cell_type": "markdown",
   "metadata": {
    "id": "KMkaLgXRE1ww"
   },
   "source": [
    "# Operaciones básicas con matrices\n",
    "\n",
    "NumPy nos permite realizar varias operaciones con matrices, como suma, resta, producto escalar, producto de matrices y división. Veamos cómo hacerlo:"
   ]
  },
  {
   "cell_type": "code",
   "execution_count": 3,
   "metadata": {
    "id": "MfxDLUW_E3vg"
   },
   "outputs": [
    {
     "name": "stdout",
     "output_type": "stream",
     "text": [
      "A + B =\n",
      " [[ 6  8]\n",
      " [10 12]]\n",
      "\n",
      "A - B =\n",
      " [[-4 -4]\n",
      " [-4 -4]]\n",
      "\n",
      "2 * A =\n",
      " [[2 4]\n",
      " [6 8]]\n",
      "\n",
      "A @ B =\n",
      " [[19 22]\n",
      " [43 50]]\n",
      "\n",
      "A / B =\n",
      " [[0.2        0.33333333]\n",
      " [0.42857143 0.5       ]]\n"
     ]
    }
   ],
   "source": [
    "# Crear dos matrices para las operaciones\n",
    "A = np.array([[1, 2], [3, 4]])\n",
    "B = np.array([[5, 6], [7, 8]])\n",
    "\n",
    "# Suma de matrices\n",
    "print(\"A + B =\\n\", A + B)\n",
    "\n",
    "# Resta de matrices\n",
    "print(\"\\nA - B =\\n\", A - B)\n",
    "\n",
    "# Producto escalar\n",
    "print(\"\\n2 * A =\\n\", 2 * A)\n",
    "\n",
    "# Producto de matrices\n",
    "print(\"\\nA @ B =\\n\", A @ B)\n",
    "\n",
    "# División de matrices\n",
    "print(\"\\nA / B =\\n\", A / B)"
   ]
  },
  {
   "cell_type": "markdown",
   "metadata": {
    "id": "IjqACVw6E7im"
   },
   "source": [
    "# Algunas operaciones especiales con matrices\n",
    "\n",
    "Además de las operaciones básicas, NumPy también nos permite realizar algunas operaciones especiales con matrices, como transposición, determinante, inversa, traza y rango. Veamos cómo hacerlo:"
   ]
  },
  {
   "cell_type": "code",
   "execution_count": null,
   "metadata": {
    "id": "nqVGSxq0E-eI"
   },
   "outputs": [],
   "source": [
    "# Transposición de una matriz\n",
    "print(\"A.T =\\n\", A.T)\n",
    "\n",
    "# Determinante de una matriz\n",
    "print(\"\\nnp.linalg.det(A) =\", np.linalg.det(A))\n",
    "\n",
    "# Inversa de una matriz\n",
    "print(\"\\nnp.linalg.inv(A) =\\n\", np.linalg.inv(A))\n",
    "\n",
    "# Traza de una matriz\n",
    "print(\"\\nnp.trace(A) =\", np.trace(A))\n",
    "\n",
    "# Rango de una matriz\n",
    "print(\"\\nnp.linalg.matrix_rank(A) =\", np.linalg.matrix_rank(A))"
   ]
  },
  {
   "cell_type": "markdown",
   "metadata": {
    "id": "dMte1nstFAV1"
   },
   "source": [
    "# Desafío 1\n",
    "\n",
    "Considere las matrices $ A $ y $ B $ definidas como:\n",
    "\n",
    "$ A = \\begin{bmatrix} 1 & 2 \\\\ 3 & 4 \\end{bmatrix} $     y     $ B = \\begin{bmatrix} 5 & 6 \\\\ 7 & 8 \\end{bmatrix} $\n",
    "\n",
    "Tu tarea es calcular la matriz resultante de la operación $ (2A + B^T) $. Recuerda que $ B^T $ denota la transposición de la matriz $ B $."
   ]
  },
  {
   "cell_type": "markdown",
   "metadata": {},
   "source": [
    "Paso 1: Importar la librería numpy\n",
    "\n",
    "Antes de hacer cualquier cosa, necesitamos importar una librería en Python que nos ayuda a trabajar con matrices de manera más sencilla.\n",
    "\n",
    "Paso 2: Definir las matrices A y B\n",
    "\n",
    "np.array() toma una lista de listas (donde cada lista interna representa una fila de la matriz) y las convierte en una matriz o arreglo bidimensional de numpy.\n",
    "\n",
    "Paso 3: Realización de la operación 2A+B^T\n",
    "\n",
    "En esta línea se realizan varias operaciones se multiplica la matriz A por 2 y se suma a la transposición de la matriz .\n",
    "\n",
    "Paso 4: Se muestra el resultado\n",
    "\n",
    "array es parte de la representación textual del objeto en numpy, que te indica que el resultado es un numpy array y no una lista normal de Python o cualquier otra estructura de datos.\n",
    "\n",
    "El término array aparece en el resultado para dejar claro que estás trabajando con un numpy array, lo que implica que puedes aprovechar todas las funcionalidades y operaciones que numpy ofrece para este tipo de estructura de datos.\n"
   ]
  },
  {
   "cell_type": "code",
   "execution_count": 1,
   "metadata": {},
   "outputs": [
    {
     "name": "stdout",
     "output_type": "stream",
     "text": [
      "Resultado de la operación 2A + B^T:\n",
      " [[ 7 11]\n",
      " [12 16]]\n"
     ]
    }
   ],
   "source": [
    "# Paso 1: Importar la librería numpy\n",
    "# NumPy es necesaria para trabajar con matrices y realizar cálculos de álgebra lineal.\n",
    "import numpy as np\n",
    "\n",
    "# Paso 2: Definir las matrices A y B\n",
    "# np.array permite crear matrices a partir de listas. Cada lista interna representa una fila.\n",
    "A = np.array([[1, 2], [3, 4]])\n",
    "B = np.array([[5, 6], [7, 8]])\n",
    "\n",
    "# Paso 3: Realizar la operación 2A + B^T\n",
    "# Multiplicamos A por 2 y sumamos la transposición de B (B.T).\n",
    "# A * 2 realiza una multiplicación escalar, y B.T calcula la transposición de B.\n",
    "result = 2 * A + B.T\n",
    "\n",
    "# Paso 4: Mostrar el resultado\n",
    "# Imprimimos el resultado final de la operación.\n",
    "print(\"Resultado de la operación 2A + B^T:\\n\", result)"
   ]
  },
  {
   "cell_type": "markdown",
   "metadata": {
    "id": "RzLTx9UmFtGF"
   },
   "source": [
    "# Desafío 2\n",
    "\n",
    "Dada la matriz $ A = \\begin{bmatrix} 1 & 0 & 1 \\\\ 4 & -1 & 4 \\\\ 5 & 6 & 7 \\end{bmatrix} $, encuentra la traza de la matriz inversa de $ A $."
   ]
  },
  {
   "cell_type": "markdown",
   "metadata": {},
   "source": [
    "[¿Qué es la traza de una matriz?](https://youtu.be/11pg99dfj10?si=vg7x8VCHdbIb5I3u)\n",
    "\n",
    "La traza de una matriz cuadrada (matriz con igual número de filas y columnas) es la suma de los elementos en su diagonal principal.\n",
    "\n",
    "​\n",
    "[Inversa de una matriz de 3x3 método de Gauss Jordans](https://youtu.be/MRWPhA5RQyA?si=L6q1P-AtkLYqVJR-)\n",
    "- Escribe tu matriz 3x3 original.\n",
    "- Al lado, escribe una matriz identidad 3x3 (unos en la diagonal principal, ceros en el resto).\n",
    "- Ahora, usa operaciones con filas para convertir tu matriz original en la identidad matriz. Cada operación que hace en las matriz original, hazla también en la matriz identidad.\n",
    "- Cuando terminas, la matriz original se ha convertido en la identidad, y la era de la identidad se ha convertido en la inversa que buscabas.\n"
   ]
  },
  {
   "cell_type": "markdown",
   "metadata": {},
   "source": [
    "Para resolver este problema, seguimos los siguientes pasos en el código:\n",
    "\n",
    "- Definir la matriz A: Utilizamos numpy para crear la matriz. Esta línea crea una matriz A de 3x3 usando np.array(). Las filas de la matriz se pasan como listas dentro de una lista mayor.\n",
    "\n",
    "- Calcular la matriz inversa de A: numpy tiene una función np.linalg.inv() que calcula la inversa de una matriz.\n",
    "\n",
    "np.linalg.inv(A) calcula la inversa de la matriz AA. La función linalg (abreviatura de \"lógica lineal\") pertenece a la sublibrería de numpy dedicada a operaciones de álgebra lineal.\n",
    "\n",
    "- Calcular la traza de la matriz inversa: Usamos np.trace() para sumar los elementos de la diagonal principal de la matriz inversa. np.trace() toma como entrada la matriz inversa calculada y suma los elementos de su diagonal principal. Este valor es la traza de la matriz inversa.\n",
    "\n",
    "- Finalmente, el valor de la traza de la matriz inversa se guarda en la variable traza_inv_A y se muestra como salida."
   ]
  },
  {
   "cell_type": "code",
   "execution_count": 2,
   "metadata": {},
   "outputs": [
    {
     "name": "stdout",
     "output_type": "stream",
     "text": [
      "La traza de la matriz inversa de A es: 15.00000000000002\n"
     ]
    }
   ],
   "source": [
    "import numpy as np  # Importamos la librería numpy para trabajar con matrices\n",
    "\n",
    "# Definir la matriz A \n",
    "# Crear la matriz 3x3 especificada en el desafío.\n",
    "A = np.array([[1, 0, 1],  # Primer fila de la matriz A\n",
    "              [4, -1, 4], # Segunda fila de la matriz A\n",
    "              [5, 6, 7]]) # Tercera fila de la matriz A\n",
    "\n",
    "# Calcular la traza de la matriz inversa de A\n",
    "traza_inv_A = np.trace(np.linalg.inv(A)) # np.linalg.inv calcula la inversa de una matriz si esta es invertible.\n",
    "\n",
    "# Paso 5: Mostrar el resultado\n",
    "# Mostramos el valor de la traza de la matriz inversa.\n",
    "print(\"La traza de la matriz inversa de A es:\", traza_inv_A)\n"
   ]
  },
  {
   "cell_type": "markdown",
   "metadata": {
    "id": "XQ3bqWOpF6ZV"
   },
   "source": [
    "# Desafío 3\n",
    "\n",
    "Dada la matriz $ A = \\begin{bmatrix} 1 & 2 & 3 \\\\ 4 & 5 & 6 \\\\ 7 & 8 & 9 \\end{bmatrix} $, encuentra el rango de la matriz resultante de $ (A + A^T) $."
   ]
  },
  {
   "cell_type": "markdown",
   "metadata": {},
   "source": [
    "## ¿Qué es el rango de una matriz?\n",
    "\n",
    "El rango de una matriz es el número máximo de columnas (o filas) linealmente independientes en la matriz. En otras palabras, el rango nos indica cuánta información contiene la matriz en términos de independencia lineal de sus filas o columnas. Un rango completo (igual al número de filas o columnas) significa que las filas/columnas no son lineales, mientras que un rango menor implica dependencia entre ellas."
   ]
  },
  {
   "cell_type": "markdown",
   "metadata": {},
   "source": [
    "Para resolver este desafío, primero vamos a calcular la matriz $ (A + A^T) $ y luego obtener su rango utilizando la función **np.linalg.matrix_rank()** de NumPy, que devuelve el rango de una matriz."
   ]
  },
  {
   "cell_type": "code",
   "execution_count": 3,
   "metadata": {},
   "outputs": [
    {
     "name": "stdout",
     "output_type": "stream",
     "text": [
      "Matriz A + A^T:\n",
      " [[ 2  6 10]\n",
      " [ 6 10 14]\n",
      " [10 14 18]]\n",
      "Rango de la matriz A + A^T: 2\n"
     ]
    }
   ],
   "source": [
    "# Paso 1: Importar numpy para trabajar con matrices\n",
    "import numpy as np\n",
    "\n",
    "# Paso 2: Definir la matriz A\n",
    "# Creamos la matriz 3x3 especificada en el desafío.\n",
    "A = np.array([[1, 2, 3], [4, 5, 6], [7, 8, 9]])\n",
    "\n",
    "# Paso 3: Calcular A + A^T\n",
    "# La transposición de la matriz A se obtiene con A.T, y luego sumamos A con A^T.\n",
    "A_transpuesta = A.T\n",
    "resultado = A + A_transpuesta\n",
    "\n",
    "# Paso 4: Calcular el rango de la matriz resultante\n",
    "# np.linalg.matrix_rank() nos da el rango de la matriz.\n",
    "rango_resultante = np.linalg.matrix_rank(resultado)\n",
    "\n",
    "# Paso 5: Mostrar el resultado\n",
    "print(\"Matriz A + A^T:\\n\", resultado)\n",
    "print(\"Rango de la matriz A + A^T:\", rango_resultante)"
   ]
  },
  {
   "cell_type": "markdown",
   "metadata": {},
   "source": [
    "Explicación paso a paso del código:\n",
    "\n",
    "Paso 1: Importamos **numpy** como **np**, que es la librería estándar para trabajar con matrices en Python.\n",
    "\n",
    "Paso 2: Definimos la matriz A, que es la que se va a utilizar para calcular $ (A + A^T) $.\n",
    "\n",
    "Paso 3: Calculamos $  A^T $ (la transposición de A) usando el atributo **.T** de **numpy**. Luego sumamos AA con su transposición.\n",
    "\n",
    "Paso 4: Usamos la función **np.linalg.matrix_rank()** para calcular el rango de la matriz resultante. Esta función devuelve el número de columnas linealmente independientes de la matriz.\n",
    "\n",
    "Paso 5: Imprimimos la matriz $ (A + A^T) $ y su rango para verificar el resultado."
   ]
  },
  {
   "cell_type": "markdown",
   "metadata": {
    "id": "peAqBspDMYt1"
   },
   "source": [
    "# Desafío 4: Batalla Naval\n",
    "\n",
    "Para este desafío, tendrás que implementar un juego sencillo de \"Batalla Naval\". El tablero de juego será una matriz de 5x5 donde el agua será representada por ceros (0) y los barcos por unos (1).\n",
    "\n",
    "Primero, crea un tablero de juego utilizando NumPy, que será una matriz de ceros de 5x5.\n",
    "\n",
    "Luego, coloca tres barcos en el tablero de juego. Cada barco es un 1 y debes colocarlo en una posición aleatoria en el tablero. No te preocupes por el tamaño de los barcos; cada barco ocupará solo una celda.\n",
    "\n",
    "Finalmente, crea una función que acepte dos argumentos (las coordenadas x, y), y que verifique si en esa posición hay un barco (1) o agua (0). La función debe imprimir un mensaje indicando si se golpeó un barco o si el disparo cayó al agua."
   ]
  },
  {
   "cell_type": "markdown",
   "metadata": {},
   "source": [
    "Link a la Batalla Naval: https://replit.com/@milagrospozzofa/G2-Tarea-37b"
   ]
  },
  {
   "cell_type": "markdown",
   "metadata": {
    "id": "t7ImqtNflz4P"
   },
   "source": [
    "# Desafío 5: Crear una simulación de \"vida artificial\" en un tablero de juego (matriz)\n",
    "En este desafío, implementarás una simulación del famoso Juego de la vida de Conway. Se trata de un autómata celular desarrollado por el matemático británico John Horton Conway en 1970. Es un juego de cero jugadores, lo que significa que su evolución se determina por su estado inicial, sin necesidad de más entradas humanas.\n",
    "\n",
    "### Objetivos del Desafío\n",
    "Crear el Tablero de Juego:\n",
    "\n",
    "Implementa una función para crear un tablero de juego de dimensiones n x m, donde cada celda puede estar viva (1) o muerta (0). Inicializa el tablero con un patrón inicial.\n",
    "\n",
    "### Definir las Reglas del Juego:\n",
    "\n",
    "Cada celda en el tablero tiene 8 vecinos. Las reglas para la evolución del estado de las celdas son:\n",
    "Una celda viva con menos de dos celdas vecinas vivas muere por subpoblación.\n",
    "Una celda viva con dos o tres celdas vecinas vivas sigue viva en la siguiente generación.\n",
    "Una celda viva con más de tres celdas vecinas vivas muere por sobrepoblación.\n",
    "Una celda muerta con exactamente tres celdas vecinas vivas se convierte en una celda viva por reproducción.\n",
    "\n",
    "### Simular la Evolución:\n",
    "\n",
    "Implementa una función para actualizar el tablero siguiendo las reglas del juego. Esta función debería generar la nueva configuración del tablero después de un número específico de iteraciones.\n",
    "\n",
    "### Visualizar la Simulación:\n",
    "\n",
    "Utiliza Matplotlib para visualizar la evolución del tablero a lo largo de las iteraciones. Muestra cada estado del tablero como una imagen en una animación."
   ]
  },
  {
   "cell_type": "markdown",
   "metadata": {},
   "source": [
    "➡️Implementar una simulación del Juego de la Vida de Conway, un autómata celular donde las celdas pueden estar vivas o muertas. La evolución del sistema se basa en un conjunto de reglas simples aplicadas a cada celda en una matriz, que representan si una célula sobrevive, muere o se reproduce en función del estado de sus celdas vecinas.\n",
    "\n",
    "Aquí están los pasos principales y el código en Python para implementar esta simulación:\n",
    "Reglas del Juego de la Vida de Conway:\n",
    "\n",
    "    Subpoblación: Una celda viva con menos de 2 vecinos vivos muere.\n",
    "    Supervivencia: Una celda viva con 2 o 3 vecinos vivos continúa viva.\n",
    "    Sobrepoblación: Una celda viva con más de 3 vecinos vivos muere.\n",
    "    Reproducción: Una celda muerta con exactamente 3 vecinos vivos se convierte en una celda viva."
   ]
  },
  {
   "cell_type": "code",
   "execution_count": null,
   "metadata": {},
   "outputs": [],
   "source": [
    "# Importamos las librerías necesarias\n",
    "import numpy as np  # NumPy para manejar matrices y operaciones eficientes\n",
    "import matplotlib.pyplot as plt  # Matplotlib para visualizar la simulación\n",
    "import matplotlib.animation as animation  # Para animar la simulación\n",
    "\n",
    "# Paso 1: Crear el tablero de juego con celdas vivas y muertas\n",
    "def crear_tablero(filas, columnas):\n",
    "    # Generamos un tablero de tamaño filas x columnas con valores aleatorios de 0 y 1\n",
    "    # 0 representa una celda muerta y 1 representa una celda viva\n",
    "    tablero = np.random.choice([0, 1], size=(filas, columnas))\n",
    "    return tablero  # Retornamos el tablero generado\n",
    "\n",
    "# Paso 2: Definir una función para contar vecinos vivos de una celda\n",
    "def contar_vecinos(tablero, x, y):\n",
    "    # Calculamos la cantidad de vecinos vivos alrededor de la celda en posición (x, y)\n",
    "    # La matriz es toroidal, por lo que los bordes están conectados\n",
    "    vecinos_vivos = (\n",
    "        tablero[(x-1) % tablero.shape[0], (y-1) % tablero.shape[1]] +  # vecino superior-izquierda\n",
    "        tablero[(x-1) % tablero.shape[0], y % tablero.shape[1]] +        # vecino superior\n",
    "        tablero[(x-1) % tablero.shape[0], (y+1) % tablero.shape[1]] +    # vecino superior-derecha\n",
    "        tablero[x % tablero.shape[0], (y-1) % tablero.shape[1]] +        # vecino izquierda\n",
    "        tablero[x % tablero.shape[0], (y+1) % tablero.shape[1]] +        # vecino derecha\n",
    "        tablero[(x+1) % tablero.shape[0], (y-1) % tablero.shape[1]] +    # vecino inferior-izquierda\n",
    "        tablero[(x+1) % tablero.shape[0], y % tablero.shape[1]] +        # vecino inferior\n",
    "        tablero[(x+1) % tablero.shape[0], (y+1) % tablero.shape[1]]      # vecino inferior-derecha\n",
    "    )\n",
    "    return vecinos_vivos  # Retornamos la cantidad de vecinos vivos\n",
    "\n",
    "# Paso 3: Actualizar el tablero aplicando las reglas del Juego de la Vida\n",
    "def actualizar_tablero(tablero):\n",
    "    # Creamos una copia del tablero para almacenar el siguiente estado\n",
    "    nuevo_tablero = np.copy(tablero)\n",
    "    # Iteramos sobre cada celda del tablero\n",
    "    for x in range(tablero.shape[0]):\n",
    "        for y in range(tablero.shape[1]):\n",
    "            # Contamos los vecinos vivos de la celda actual\n",
    "            vecinos_vivos = contar_vecinos(tablero, x, y)\n",
    "            # Reglas del juego:\n",
    "            if tablero[x, y] == 1:  # Si la celda está viva\n",
    "                # Muere por subpoblación o sobrepoblación\n",
    "                if vecinos_vivos < 2 or vecinos_vivos > 3:\n",
    "                    nuevo_tablero[x, y] = 0  # La celda muere\n",
    "            else:  # Si la celda está muerta\n",
    "                # Nace una nueva celda si tiene exactamente 3 vecinos vivos\n",
    "                if vecinos_vivos == 3:\n",
    "                    nuevo_tablero[x, y] = 1  # La celda cobra vida\n",
    "    return nuevo_tablero  # Retornamos el nuevo estado del tablero\n",
    "\n",
    "# Paso 4: Configurar la animación para visualizar el juego\n",
    "def animar_juego(filas, columnas, iteraciones):\n",
    "    # Inicializamos el tablero de juego con tamaño filas x columnas\n",
    "    tablero = crear_tablero(filas, columnas)\n",
    "    # Creamos una figura y ejes para la animación\n",
    "    fig, ax = plt.subplots()\n",
    "    \n",
    "    # Función de actualización que se llama en cada frame de la animación\n",
    "    def actualizar_cuadro(i):\n",
    "        # Limpiamos los ejes para mostrar el nuevo estado del tablero\n",
    "        ax.clear()\n",
    "        # Mostramos el tablero actual como una imagen en escala de grises (0 y 1)\n",
    "        ax.imshow(tablero, cmap='binary')  # `binary` muestra las celdas vivas en negro y muertas en blanco\n",
    "        ax.set_title(f\"Generación {i+1}\")  # Título con la generación actual\n",
    "        ax.axis('off')  # Desactivamos los ejes para una mejor visualización\n",
    "        nonlocal tablero  # Declaramos que modificaremos la variable `tablero` de fuera del ámbito\n",
    "        tablero = actualizar_tablero(tablero)  # Actualizamos el tablero para la siguiente generación\n",
    "    \n",
    "    # Creamos la animación llamando a `actualizar_cuadro` en cada frame\n",
    "    animacion = animation.FuncAnimation(fig, actualizar_cuadro, frames=iteraciones, interval=200)\n",
    "    plt.show()  # Mostramos la animación en pantalla\n",
    "\n",
    "# Ejecutar la simulación con un tablero de 20x20 y 100 iteraciones\n",
    "animar_juego(20, 20, 100)  # Tamaño del tablero: 20x20, iteraciones: 100"
   ]
  },
  {
   "cell_type": "markdown",
   "metadata": {},
   "source": [
    "Explicación detallada:\n",
    "\n",
    "    Librerías:\n",
    "        numpy: Se usa para crear y manipular el tablero de celdas vivas y muertas.\n",
    "        matplotlib.pyplot: Nos permite graficar y visualizar la simulación.\n",
    "        matplotlib.animation: Nos permite animar la simulación mostrando la evolución del tablero en cada generación.\n",
    "\n",
    "    Función crear_tablero:\n",
    "        Esta función genera un tablero inicial de tamaño especificado por filas y columnas.\n",
    "        Cada celda tiene un valor aleatorio de 0 (muerto) o 1 (vivo).\n",
    "\n",
    "    Función contar_vecinos:\n",
    "        Esta función calcula cuántos vecinos vivos (1) rodean una celda específica en el tablero.\n",
    "        Utilizamos el operador % para que la matriz sea toroidal (los bordes están conectados, como si el tablero envolviera en ambos lados).\n",
    "\n",
    "    Función actualizar_tablero:\n",
    "        Itera sobre cada celda en el tablero, aplica las reglas del Juego de la Vida y genera un nuevo estado para el tablero.\n",
    "        Si la celda está viva (1):\n",
    "            Muere por subpoblación si tiene menos de 2 vecinos vivos.\n",
    "            Muere por sobrepoblación si tiene más de 3 vecinos vivos.\n",
    "            Sobrevive si tiene 2 o 3 vecinos vivos.\n",
    "        Si la celda está muerta (0):\n",
    "            Cobra vida si tiene exactamente 3 vecinos vivos (por reproducción).\n",
    "\n",
    "    Función animar_juego:\n",
    "        Configura la animación de la simulación y muestra el tablero evolucionando con cada generación.\n",
    "        actualizar_cuadro: Función que se llama en cada frame de la animación:\n",
    "            Limpia el tablero anterior y muestra el nuevo estado del tablero.\n",
    "            Actualiza el tablero aplicando las reglas para la siguiente generación.\n",
    "        FuncAnimation: Crea la animación llamando a actualizar_cuadro en cada iteración para mostrar la simulación.\n",
    "\n",
    "    Llamada final a animar_juego(20, 20, 100):\n",
    "        Inicia la simulación en un tablero de 20x20 celdas con un total de 100 generaciones para observar la evolución de la simulación.\n",
    "\n",
    "Este código crea una animación de la evolución de \"vida\" en un tablero de celdas aplicando las reglas de Conway en cada generación. Cada celda puede \"nacer\", \"morir\" o \"sobrevivir\" según el número de vecinos vivos."
   ]
  }
 ],
 "metadata": {
  "colab": {
   "include_colab_link": true,
   "provenance": []
  },
  "kernelspec": {
   "display_name": "Python 3",
   "name": "python3"
  },
  "language_info": {
   "codemirror_mode": {
    "name": "ipython",
    "version": 3
   },
   "file_extension": ".py",
   "mimetype": "text/x-python",
   "name": "python",
   "nbconvert_exporter": "python",
   "pygments_lexer": "ipython3",
   "version": "3.12.2"
  }
 },
 "nbformat": 4,
 "nbformat_minor": 0
}
