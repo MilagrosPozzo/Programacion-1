{
 "cells": [
  {
   "cell_type": "markdown",
   "metadata": {},
   "source": [
    "# Introducción a los Tipos Abstractos de Datos (TAD)"
   ]
  },
  {
   "cell_type": "markdown",
   "metadata": {},
   "source": [
    "## Concepto de TAD\n",
    "\n",
    "Un Tipo Abstracto de Datos (TAD) es una especificación de un conjunto de datos y las operaciones que se pueden realizar con esos datos. El TAD se centra en qué operaciones existen y no en cómo se implementan. Es una herramienta conceptual que nos permite abstraernos de los detalles y pensar en términos de operaciones y datos.\n",
    "\n",
    "### Ejemplo de TAD: Lista\n"
   ]
  },
  {
   "cell_type": "code",
   "execution_count": 1,
   "metadata": {},
   "outputs": [],
   "source": [
    "lista = []\n",
    "\n",
    "def agregar(elemento):\n",
    "    lista.append(elemento)\n",
    "\n",
    "def eliminar(elemento):\n",
    "    if elemento in lista:\n",
    "        lista.remove(elemento)\n",
    "\n",
    "def buscar(elemento):\n",
    "    return elemento in lista"
   ]
  },
  {
   "cell_type": "markdown",
   "metadata": {},
   "source": [
    "## Desventajas de este enfoque\n",
    "\n",
    "1. **Falta de encapsulamiento**: En el ejemplo proporcionado, tanto las operaciones como los datos están expuestos y pueden ser modificados directamente desde fuera del TAD. Esto viola el principio de encapsulamiento, que es fundamental para el diseño de software robusto y mantenible.\n",
    "\n",
    "2. **Dificultad en reutilización**: Con el diseño actual, si quisieras tener múltiples listas y aplicar operaciones sobre ellas, tendrías que crear funciones separadas o modificar las existentes, lo que no es práctico.\n",
    "\n",
    "3. **Problemas de extensibilidad**: Cambiar la implementación interna (por ejemplo, cambiar de una lista a un árbol binario para mejorar la eficiencia) requeriría modificar todas las funciones que interactúan con la estructura de datos. Esto hace que el código sea difícil de mantener y de extender con nuevas funcionalidades.\n",
    "\n",
    "4. **Falta de abstracción**: Aunque el TAD debería ayudarnos a abstraernos de los detalles de implementación, el enfoque actual no lo hace de manera efectiva. Esto podría llevar a errores si no se comprenden completamente las implementaciones subyacentes.\n"
   ]
  },
  {
   "cell_type": "markdown",
   "id": "ddfe7a1b",
   "metadata": {},
   "source": [
    "## Desafíos\n",
    "\n",
    "### Desafío 1: Sistemas con Múltiples Entidades Interconectadas\n",
    "Imagina un sistema de gestión de biblioteca que maneja libros, usuarios, préstamos y multas. Usar TADs separados para cada uno de estos elementos podría complicar la interacción y gestión de relaciones entre ellos.\n",
    "\n",
    "### Desafío 2: Cambio Frecuente en Requisitos\n",
    "Supón que estás desarrollando un juego de video con distintos tipos de personajes y armas. Los requerimientos cambian con frecuencia, añadiendo nuevos personajes y habilidades. Mantener y actualizar TADs en este escenario podría ser una tarea titánica.\n",
    "\n",
    "### Desafío 3: Estructuras de Datos Anidadas\n",
    "Considera un sistema de manejo de inventario para una cadena de tiendas minoristas. Tienes que tratar con datos de productos, tiendas, empleados, y transacciones, donde cada tienda podría tener múltiples productos y empleados. Gestionar estas relaciones con TADs podría ser ineficiente y propenso a errores.\n"
   ]
  },
  {
   "cell_type": "markdown",
   "id": "a8ca05c8",
   "metadata": {},
   "source": [
    "Desafío 1: Sistemas con Múltiples Entidades Interconectadas\n",
    "\n",
    "El primer código crea un simple sistema de biblioteca con libros y usuarios, donde podemos gestionar préstamos de libros."
   ]
  },
  {
   "cell_type": "code",
   "execution_count": 1,
   "id": "3981c5de",
   "metadata": {},
   "outputs": [
    {
     "name": "stdout",
     "output_type": "stream",
     "text": [
      "El libro 'El Principito' ha sido prestado a Ana.\n"
     ]
    }
   ],
   "source": [
    "# Clase para representar el sistema de gestión de la biblioteca\n",
    "class Biblioteca:\n",
    "    def __init__(self):\n",
    "        # Inicializamos listas vacías para almacenar libros y usuarios\n",
    "        self.libros = []  # Lista de libros en la biblioteca\n",
    "        self.usuarios = []  # Lista de usuarios registrados\n",
    "\n",
    "    # Método para agregar un libro a la biblioteca\n",
    "    def agregar_libro(self, titulo):\n",
    "        self.libros.append(titulo)  # Agregamos el título del libro a la lista de libros\n",
    "        # Comentario: Usamos una lista simple para almacenar títulos de libros\n",
    "\n",
    "    # Método para registrar un usuario\n",
    "    def registrar_usuario(self, nombre):\n",
    "        self.usuarios.append(nombre)  # Agregamos el nombre del usuario a la lista de usuarios\n",
    "        # Comentario: Usamos una lista simple para almacenar nombres de usuarios\n",
    "\n",
    "    # Método para prestar un libro a un usuario\n",
    "    def prestar_libro(self, titulo, nombre_usuario):\n",
    "        # Comprobamos si el libro y el usuario existen en sus respectivas listas\n",
    "        if titulo in self.libros and nombre_usuario in self.usuarios:\n",
    "            return f\"El libro '{titulo}' ha sido prestado a {nombre_usuario}.\"\n",
    "            # Comentario: Si ambos existen, devolvemos un mensaje confirmando el préstamo\n",
    "        else:\n",
    "            return \"Libro o usuario no encontrado. Verifique los datos.\"\n",
    "            # Comentario: Si no se encuentran, devolvemos un mensaje de error\n",
    "\n",
    "# Ejemplo de uso\n",
    "biblioteca = Biblioteca()  # Creamos una instancia de la clase Biblioteca\n",
    "biblioteca.agregar_libro(\"El Principito\")  # Agregamos un libro\n",
    "biblioteca.registrar_usuario(\"Ana\")  # Registramos un usuario\n",
    "print(biblioteca.prestar_libro(\"El Principito\", \"Ana\"))  # Prestamos un libro y mostramos el mensaje"
   ]
  },
  {
   "cell_type": "markdown",
   "id": "eab37fb1",
   "metadata": {},
   "source": [
    "Desafío 2: Cambios Frecuentes en Requisitos\n",
    "\n",
    "Aquí implementaremos un sistema de personajes y habilidades para un juego. Este sistema es sencillo y se puede ampliar fácilmente."
   ]
  },
  {
   "cell_type": "code",
   "execution_count": 2,
   "id": "9dd96b7d",
   "metadata": {},
   "outputs": [
    {
     "name": "stdout",
     "output_type": "stream",
     "text": [
      "['Espada', 'Escudo']\n"
     ]
    }
   ],
   "source": [
    "# Clase para manejar personajes en un juego\n",
    "class Juego:\n",
    "    def __init__(self):\n",
    "        # Inicializamos un diccionario vacío para almacenar personajes y sus habilidades\n",
    "        self.personajes = {}\n",
    "\n",
    "    # Método para agregar un nuevo personaje con habilidades\n",
    "    def agregar_personaje(self, nombre, habilidad):\n",
    "        if nombre not in self.personajes:\n",
    "            self.personajes[nombre] = []  # Creamos una lista vacía para habilidades si el personaje no existe\n",
    "        self.personajes[nombre].append(habilidad)  # Agregamos la habilidad a la lista de habilidades\n",
    "        # Comentario: Esto permite agregar múltiples habilidades al mismo personaje\n",
    "\n",
    "    # Método para mostrar las habilidades de un personaje\n",
    "    def mostrar_habilidades(self, nombre):\n",
    "        if nombre in self.personajes:\n",
    "            return self.personajes[nombre]  # Devolvemos la lista de habilidades del personaje\n",
    "            # Comentario: Si el personaje existe, mostramos sus habilidades\n",
    "        else:\n",
    "            return \"Personaje no encontrado.\"  # Si no existe, devolvemos un mensaje de error\n",
    "\n",
    "# Ejemplo de uso\n",
    "juego = Juego()  # Creamos una instancia de la clase Juego\n",
    "juego.agregar_personaje(\"Caballero\", \"Espada\")  # Agregamos un personaje con una habilidad\n",
    "juego.agregar_personaje(\"Caballero\", \"Escudo\")  # Agregamos otra habilidad al mismo personaje\n",
    "print(juego.mostrar_habilidades(\"Caballero\"))  # Mostramos las habilidades del Caballero"
   ]
  },
  {
   "cell_type": "markdown",
   "id": "ea92b78f",
   "metadata": {},
   "source": [
    "Desafío 3: Estructuras de Datos Anidadas\n",
    "\n",
    "Este ejemplo se centra en un sistema de inventario que gestiona productos y empleados en varias tiendas."
   ]
  },
  {
   "cell_type": "code",
   "execution_count": 3,
   "id": "5d828adb",
   "metadata": {},
   "outputs": [
    {
     "name": "stdout",
     "output_type": "stream",
     "text": [
      "{'productos': ['Laptop'], 'empleados': ['Carlos']}\n"
     ]
    }
   ],
   "source": [
    "# Clase para manejar el inventario de una cadena de tiendas\n",
    "class Inventario:\n",
    "    def __init__(self):\n",
    "        # Inicializamos un diccionario vacío para almacenar las tiendas y sus detalles\n",
    "        self.tiendas = {}\n",
    "\n",
    "    # Método para agregar una tienda al inventario\n",
    "    def agregar_tienda(self, nombre_tienda):\n",
    "        if nombre_tienda not in self.tiendas:\n",
    "            self.tiendas[nombre_tienda] = {\"productos\": [], \"empleados\": []}\n",
    "            # Comentario: Creamos listas vacías para productos y empleados si la tienda no existe\n",
    "\n",
    "    # Método para agregar un producto a una tienda\n",
    "    def agregar_producto(self, nombre_tienda, producto):\n",
    "        if nombre_tienda in self.tiendas:\n",
    "            self.tiendas[nombre_tienda][\"productos\"].append(producto)\n",
    "            # Comentario: Agregamos el producto a la lista de productos de la tienda\n",
    "\n",
    "    # Método para agregar un empleado a una tienda\n",
    "    def agregar_empleado(self, nombre_tienda, empleado):\n",
    "        if nombre_tienda in self.tiendas:\n",
    "            self.tiendas[nombre_tienda][\"empleados\"].append(empleado)\n",
    "            # Comentario: Agregamos el empleado a la lista de empleados de la tienda\n",
    "\n",
    "    # Método para mostrar los detalles de una tienda\n",
    "    def mostrar_tienda(self, nombre_tienda):\n",
    "        if nombre_tienda in self.tiendas:\n",
    "            return self.tiendas[nombre_tienda]  # Devolvemos los detalles de la tienda\n",
    "            # Comentario: Si la tienda existe, mostramos sus productos y empleados\n",
    "        else:\n",
    "            return \"Tienda no encontrada.\"  # Si no existe, devolvemos un mensaje de error\n",
    "\n",
    "# Ejemplo de uso\n",
    "inventario = Inventario()  # Creamos una instancia de la clase Inventario\n",
    "inventario.agregar_tienda(\"Tienda Central\")  # Agregamos una tienda\n",
    "inventario.agregar_producto(\"Tienda Central\", \"Laptop\")  # Agregamos un producto\n",
    "inventario.agregar_empleado(\"Tienda Central\", \"Carlos\")  # Agregamos un empleado\n",
    "print(inventario.mostrar_tienda(\"Tienda Central\"))  # Mostramos los detalles de la tienda"
   ]
  }
 ],
 "metadata": {
  "kernelspec": {
   "display_name": "Python 3",
   "language": "python",
   "name": "python3"
  },
  "language_info": {
   "codemirror_mode": {
    "name": "ipython",
    "version": 3
   },
   "file_extension": ".py",
   "mimetype": "text/x-python",
   "name": "python",
   "nbconvert_exporter": "python",
   "pygments_lexer": "ipython3",
   "version": "3.12.2"
  }
 },
 "nbformat": 4,
 "nbformat_minor": 5
}
