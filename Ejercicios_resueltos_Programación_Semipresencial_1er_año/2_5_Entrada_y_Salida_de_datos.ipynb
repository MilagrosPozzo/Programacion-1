{
  "cells": [
    {
      "cell_type": "markdown",
      "metadata": {
        "colab_type": "text",
        "id": "view-in-github"
      },
      "source": [
        "<a href=\"https://colab.research.google.com/github/MilagrosPozzo/Curso_Python/blob/main/2_5_Entrada_y_Salida_de_datos.ipynb\" target=\"_parent\"><img src=\"https://colab.research.google.com/assets/colab-badge.svg\" alt=\"Open In Colab\"/></a>"
      ]
    },
    {
      "cell_type": "markdown",
      "metadata": {
        "id": "bSIoESZvUGyu"
      },
      "source": [
        "# El arte de la manipulación de datos en Python"
      ]
    },
    {
      "cell_type": "markdown",
      "metadata": {
        "id": "JdvPun-h2PQB"
      },
      "source": [
        "En este cuaderno, nos adentraremos en el fascinante mundo de la entrada y salida de datos en Python, descifrando los misterios de cómo este lenguaje versátil maneja el flujo de información. Nuestro viaje nos llevará desde los pasajes más simples y cotidianos, el intercambio constante de datos a través del teclado con funciones aparentemente sencillas como input y print, hasta terrenos más desconocidos y desafiantes.\n",
        "\n",
        "A lo largo de nuestra exploración, enfrentaremos dilemas y obstáculos con los que todo programador se cruza eventualmente. ¿Cómo podemos leer y escribir datos de manera efectiva? ¿Cómo formateamos la salida de los datos para que se ajuste a nuestras necesidades y expectativas? ¿Qué pasa cuando los datos que manejamos superan la capacidad de la entrada estándar y la salida estándar y debemos recurrir a archivos externos?\n",
        "\n",
        "Estas son algunas de las preguntas que buscaremos responder. Y no sólo buscamos responderlas, sino hacerlo de tal manera que nos equipemos con herramientas que nos permitan enfrentar futuros retos con confianza y competencia.\n",
        "\n",
        "Entonces, ¿estás listo para embarcarte en este viaje de descubrimiento y aprendizaje? Adelante, pasemos la primera página y sumerjámonos en el universo de la entrada y salida de datos en Python."
      ]
    },
    {
      "cell_type": "markdown",
      "metadata": {
        "id": "mZ1xYcXl2Zs1"
      },
      "source": [
        "## a. Lectura y escritura de datos\n",
        "La lectura y escritura de datos es un componente esencial de la programación. Python nos proporciona varias funciones integradas para esto.\n",
        "\n",
        "\n",
        "\n"
      ]
    },
    {
      "cell_type": "markdown",
      "metadata": {
        "id": "kmRwY-SeEEGL"
      },
      "source": [
        "### La puerta de entrada: input()"
      ]
    },
    {
      "cell_type": "markdown",
      "metadata": {
        "id": "2hs8blHnSPZR"
      },
      "source": [
        "Comenzaremos nuestro viaje en un territorio familiar: la función input(). Como algunos recordarán, esta función es nuestra línea de comunicación con el usuario, permitiéndonos recibir datos directamente de sus manos. Sin embargo, como con cualquier herramienta de comunicación, es importante entender sus reglas y peculiaridades.\n",
        "\n",
        "Por ejemplo, puede sorprender a algunos que input(), a pesar de su aparente receptividad, en realidad devuelve siempre los datos ingresados como una cadena de texto. Esto puede tener implicaciones importantes para cómo tratamos los datos más adelante en nuestro código.\n",
        "\n",
        "Consideremos el siguiente ejemplo:"
      ]
    },
    {
      "cell_type": "code",
      "execution_count": 1,
      "metadata": {
        "id": "RGosNmotEJyR"
      },
      "outputs": [
        {
          "name": "stdout",
          "output_type": "stream",
          "text": [
            "Hola, Milagros\n"
          ]
        }
      ],
      "source": [
        "nombre = input(\"Por favor ingrese su nombre: \")\n",
        "print(\"Hola,\", nombre)"
      ]
    },
    {
      "cell_type": "markdown",
      "metadata": {
        "id": "CakBPUgxEMTf"
      },
      "source": [
        "En este fragmento, Python solicita al usuario que ingrese su nombre. Después, toma esa entrada y la incorpora en un saludo amigable. Pero, ¿qué pasaría si necesitamos trabajar con números o con otros tipos de datos? Aquí es donde la función input() puede volverse más desafiante. Pero no te preocupes, también exploraremos formas de superar este obstáculo."
      ]
    },
    {
      "cell_type": "markdown",
      "metadata": {
        "id": "g0RDm-6LSd8r"
      },
      "source": [
        "### Cruzando la brecha de tipos con input()"
      ]
    },
    {
      "cell_type": "markdown",
      "metadata": {
        "id": "-THE0fYaSgym"
      },
      "source": [
        "El desafío que presenta input() radica en su naturaleza de devolver siempre una cadena de texto, incluso cuando ingresamos un número. Esto significa que si queremos hacer operaciones numéricas con la entrada del usuario, necesitaremos encontrar una manera de convertir esa entrada en un número.\n",
        "\n",
        "Por suerte, Python ofrece una solución sencilla a este problema: las funciones de conversión de tipos, como int() y float(). Estas funciones toman una cadena de texto como argumento y tratan de convertirla en un número entero o decimal, respectivamente.\n",
        "\n",
        "Vamos a probar esto con un ejemplo. Imagina que estás creando un programa para calcular el área de un círculo. El usuario proporcionará el radio, y tu programa calculará el área utilizando la fórmula matemática."
      ]
    },
    {
      "cell_type": "code",
      "execution_count": null,
      "metadata": {
        "id": "V0iyQhakSmsX"
      },
      "outputs": [],
      "source": [
        "import math\n",
        "\n",
        "radio = input(\"Por favor ingrese el radio del círculo: \")\n",
        "radio = float(radio)  # Convertimos la cadena de texto a un número decimal\n",
        "area = math.pi * (math.pow(radio, 2))\n",
        "\n",
        "\n",
        "print(\"El área del círculo es:\", area)"
      ]
    },
    {
      "cell_type": "markdown",
      "metadata": {
        "id": "2nv9RIdNSurB"
      },
      "source": [
        "Este código primero solicita al usuario que ingrese el radio del círculo. Luego, convierte esa entrada en un número decimal para poder usarla en cálculos matemáticos. Finalmente, calcula el área del círculo utilizando el radio proporcionado y muestra el resultado.\n",
        "\n",
        "Así, con la ayuda de las funciones de conversión de tipos, podemos superar la limitación de input() y trabajar con una variedad más amplia de datos."
      ]
    },
    {
      "cell_type": "markdown",
      "metadata": {
        "id": "ARW-4gG3EPaG"
      },
      "source": [
        "### De vuelta al exterior: print()"
      ]
    },
    {
      "cell_type": "markdown",
      "metadata": {
        "id": "4p_XOBNsTFQw"
      },
      "source": [
        "Habiendo ya explorado cómo recibimos datos del usuario con input(), volvamos nuestra atención a cómo comunicamos datos al usuario. En esta etapa de nuestro viaje, nos encontramos con una vieja amiga: la función print().\n",
        "\n",
        "La función print() es nuestra ventana hacia el exterior, el portal a través del cual nuestros datos y resultados llegan al usuario. Al igual que con input(), el manejo efectivo de print() puede marcar una diferencia importante en cómo se percibe y utiliza nuestro programa.\n",
        "\n",
        "Tomemos un sencillo ejemplo:"
      ]
    },
    {
      "cell_type": "code",
      "execution_count": null,
      "metadata": {
        "id": "l2jQYDhDETKN"
      },
      "outputs": [],
      "source": [
        "nombre = \"Juan\"\n",
        "print(\"Hola,\", nombre)"
      ]
    },
    {
      "cell_type": "markdown",
      "metadata": {
        "id": "YB7g0LDpEW4-"
      },
      "source": [
        "En este escenario, Python toma la cadena de texto \"Juan\" almacenada en la variable nombre y la combina con un saludo amigable, que luego se imprime en la consola, resultando en el mensaje \"Hola, Juan\". Pero, ¿qué sucede si queremos dar formato a la salida de nuestros datos de manera más sofisticada? Ahí es donde print() revela otra de sus habilidades. Continuemos para descubrir más acerca de esta versátil función.\n",
        "\n"
      ]
    },
    {
      "cell_type": "markdown",
      "metadata": {
        "id": "LohaSkPr2e2k"
      },
      "source": [
        "## b. Formateo de salida"
      ]
    },
    {
      "cell_type": "markdown",
      "metadata": {
        "id": "PHXEo4y4TjT1"
      },
      "source": [
        "Mientras continuamos nuestro viaje, nos encontramos con una habilidad esencial que todo programador debería dominar: el formateo de salida. Después de todo, los datos sin un formato adecuado pueden resultar en mensajes confusos o difíciles de leer. Un buen formateo de salida puede mejorar drásticamente la legibilidad y la interpretación de nuestros datos, lo cual es esencial para una comunicación efectiva con el usuario.\n",
        "\n",
        "Python nos ofrece varias herramientas poderosas para formatear la salida de los datos. Dos de las más notables son la función format() y las f-strings. Ambas nos permiten incrustar variables dentro de las cadenas de texto, de forma que se puedan crear mensajes dinámicos.\n",
        "\n",
        "Explorémoslo con un par de ejemplos.\n",
        "\n",
        "Usando la función format():"
      ]
    },
    {
      "cell_type": "code",
      "execution_count": null,
      "metadata": {
        "id": "0iuWjpkQTkNH"
      },
      "outputs": [],
      "source": [
        "nombre = \"Juan\"\n",
        "edad = 30\n",
        "print(\"Mi nombre es {} y tengo {} años.\".format(nombre, edad))"
      ]
    },
    {
      "cell_type": "markdown",
      "metadata": {
        "id": "27iEEN-PTmwE"
      },
      "source": [
        "En este ejemplo, las llaves {} actúan como marcadores de posición para las variables que se pasan a la función format(). Python las reemplaza con las variables nombre y edad en el orden en que se proporcionan.\n",
        "\n",
        "Ahora, veamos las f-strings:"
      ]
    },
    {
      "cell_type": "code",
      "execution_count": null,
      "metadata": {
        "id": "iswKuEiaTn3E"
      },
      "outputs": [],
      "source": [
        "nombre = \"Juan\"\n",
        "edad = 30\n",
        "print(f\"Mi nombre es {nombre} y tengo {edad} años.\")"
      ]
    },
    {
      "cell_type": "markdown",
      "metadata": {
        "id": "X8-pYtCjTq5v"
      },
      "source": [
        "Las f-strings funcionan de manera similar a format(), pero permiten insertar las variables directamente dentro de las llaves {}. Esto puede hacer que el código sea más legible cuando se trabaja con muchas variables.\n",
        "\n",
        "Ambos ejemplos producirán la misma salida: \"Mi nombre es Juan y tengo 30 años\". Sin embargo, cada método tiene sus propias ventajas y desventajas, por lo que vale la pena explorar ambos para encontrar el que mejor se adapte a tus necesidades."
      ]
    },
    {
      "cell_type": "markdown",
      "metadata": {
        "id": "CcXI6qRtE4Br"
      },
      "source": [
        "# Desafíos"
      ]
    },
    {
      "cell_type": "markdown",
      "metadata": {
        "id": "7xE9id7qEoSm"
      },
      "source": [
        "## Desafío 1: Saludo Personalizado\n",
        "Escriba un programa que pida al usuario su nombre y su ciudad de origen, luego imprima un saludo personalizado con esa información."
      ]
    },
    {
      "cell_type": "markdown",
      "metadata": {},
      "source": [
        "### ¿Cómo recibir información del usuario en Python?\n",
        "En Python, puedes recibir información de un usuario usando la función [input()](https://www.mclibre.org/consultar/python/lecciones/python-entrada-teclado.html). La función input() espera a que el usuario ingrese algunos datos desde el teclado y presione la tecla Intro. Luego, la función input() lee los datos ingresados ​​como una cadena y los devuelve a su programa.\n",
        "\n",
        "Y la función [print()](https://www.mclibre.org/consultar/python/lecciones/python-salida-pantalla.html) se utiliza para mostrar los datos en la salida. En este caso, se usa para imprimir un saludo personalizado.\n",
        "\n",
        "💡*Ejemplo con la función input() para preguntarle al usuario su nombre y ciudad de origen, y luego imprimir un mensaje personalizado:*"
      ]
    },
    {
      "cell_type": "code",
      "execution_count": null,
      "metadata": {},
      "outputs": [],
      "source": [
        "nombre = input(\"Cuál es tu nombre? \")\n",
        "ciudad_de_origen = input(\"Cuál es tu ciudad de origen? \")\n",
        "print(\"Hola, \" + nombre + \"! Bienvenido/a desde \" + ciudad_de_origen + \" a Programación 1 - Semipresencial.\")"
      ]
    },
    {
      "cell_type": "markdown",
      "metadata": {},
      "source": [
        "En este ejemplo, la función input() se usa dos veces para obtener el nombre y la ciudad de origen del usuario por separado. A cada variable se le asigna el valor de la llamada a la función input() correspondiente.\n",
        "\n",
        "Es importante tener en cuenta que la función input() siempre devuelve una cadena, incluso si el usuario ingresa un número. Si desea utilizar la entrada del usuario como un número, deberá convertirla usando funciones como int() o float().\n",
        "\n",
        "### ¿Cómo tomar múltiples entradas en Python?\n",
        "En Python, puedes recibir múltiples entradas del usuario usando la función input() y el método split(). \n",
        "\n",
        "La función input() toma un argumento de cadena única que es el mensaje que se muestra al usuario. \n",
        "\n",
        "El método split() se utiliza para dividir la cadena de entrada en valores separados según un separador específico, como un espacio o una coma.\n",
        "\n",
        "A continuación se muestra un programa de ejemplo que utiliza múltiples entradas para obtener el nombre y la ciudad de origen del usuario:"
      ]
    },
    {
      "cell_type": "markdown",
      "metadata": {},
      "source": [
        "💡*Usando el método split*"
      ]
    },
    {
      "cell_type": "code",
      "execution_count": 1,
      "metadata": {},
      "outputs": [],
      "source": [
        "nombre_ciudad = input(\"Ingresa tu nombre y ciudad de origen (separados por comas): \")\n",
        "nombre, ciudad_de_origen = nombre_ciudad.split(\",\")\n",
        "print(\"Hola, \" + nombre + \"! Bienvenido/a desde \" + ciudad_de_origen + \" a Programación 1 - Semipresencial.\")"
      ]
    },
    {
      "cell_type": "markdown",
      "metadata": {},
      "source": [
        "En el segundo ejemplo,la función input() se usa para obtener la entrada del usuario como una sola cadena, que luego se divide en variables separadas usando el método split(). A las variables nombre, ciudad de origen se les asignan los valores de la cadena dividida.\n",
        "\n",
        "Ambos métodos se pueden utilizar para recibir múltiples entradas del usuario en Python."
      ]
    },
    {
      "cell_type": "markdown",
      "metadata": {},
      "source": [
        "Ver soluciones con input () y split () en el siguiente link: https://replit.com/@milagrospozzofa/Preguntar-nombre-y-ciudad-de-origen?v=1#main.py"
      ]
    },
    {
      "cell_type": "markdown",
      "metadata": {
        "id": "eGrCFh-QE8s3"
      },
      "source": [
        "## Desafío 2: Calculadora Simple\n",
        "Escriba un programa que pida al usuario que ingrese dos números y luego imprima la suma, la resta, la multiplicación y la división de esos números."
      ]
    },
    {
      "cell_type": "markdown",
      "metadata": {},
      "source": [
        "<img src= 'Calculadora.png' >"
      ]
    },
    {
      "cell_type": "markdown",
      "metadata": {},
      "source": [
        "## Explicación del código:\n",
        "\n",
        "1. Pedir al usuario que ingrese dos números utilizando la función input()y los convertimos a flotantes con float()para poder realizar operaciones con números decimales.\n",
        "2. Realizar las operaciones de suma, resta, multiplicación y división con los dos números ingresados.\n",
        "3. Imprimir los resultados utilizando la función print(). Concatenamos cadenas de texto con los números y los resultados de las operaciones.\n",
        "\n",
        "Al ejecutar este programa, se le pedirá al usuario que ingrese dos números. Luego, se imprimirán los resultados de la suma, la resta, la multiplicación y la división de esos números."
      ]
    },
    {
      "cell_type": "code",
      "execution_count": null,
      "metadata": {},
      "outputs": [],
      "source": [
        "# Pedimos al usuario que ingrese los dos números\n",
        "num1 = float(input(\"Ingrese el primer número: \"))\n",
        "num2 = float(input(\"Ingrese el segundo número: \"))\n",
        "\n",
        "# Realizamos las operaciones\n",
        "suma = num1 + num2\n",
        "resta = num1 - num2\n",
        "multiplicacion = num1 * num2\n",
        "division = num1 / num2\n",
        "\n",
        "# Imprimimos los resultados\n",
        "print(\"La suma de\", num1, \"y\", num2, \"es:\", suma)\n",
        "print(\"La resta de\", num1, \"y\", num2, \"es:\", resta)\n",
        "print(\"La multiplicación de\", num1, \"y\", num2, \"es:\", multiplicacion)\n",
        "print(\"La división de\", num1, \"y\", num2, \"es:\", division)"
      ]
    },
    {
      "cell_type": "markdown",
      "metadata": {},
      "source": [
        "*Nota:* Si el segundo número ingresado es cero, la división arrojará un error de ZeroDivisionError. Puedes agregar una validación para evitar este error."
      ]
    },
    {
      "cell_type": "code",
      "execution_count": null,
      "metadata": {},
      "outputs": [],
      "source": [
        "if num2 != 0:\n",
        "    división = num1 / num2\n",
        "else:\n",
        "    división = \"Error: no se puede dividir entre cero\""
      ]
    },
    {
      "cell_type": "markdown",
      "metadata": {},
      "source": [
        "### Explicación del código:\n",
        "\n",
        "- Se utiliza la función input() para solicitar al usuario que ingrese dos números. Los valores ingresados se convierten a números de punto flotante (float) y se almacenan en las variables num1 y num2, respectivamente.\n",
        "- Se realizan las operaciones aritméticas de suma, resta y multiplicación con los números ingresados y se almacenan los resultados en las variables suma, resta y multiplicacion.\n",
        "- Para la división, se verifica si el segundo número (num2) es diferente de cero usando una declaración if. Si num2 es diferente de cero, se realiza la división normalmente y se almacena el resultado en la variable division. En caso contrario, se asigna la cadena de texto \"Error: no se puede dividir entre cero\" a la variable division.\n",
        "\n",
        "Se utiliza una estructura if-else para manejar el caso de la división entre cero.\n",
        "\n",
        "Si num2 es diferente de cero (!= es el operador de desigualdad), se realiza la división de num1 por num2 utilizando el operador /.\n",
        "\n",
        "Si num2 es igual a cero, no se realiza la división y, en su lugar, se asigna el mensaje de error \"Error: no se puede dividir entre cero\" a la variable division.\n",
        "\n",
        "- Finalmente, se utiliza la función print() para imprimir los resultados de las operaciones aritméticas, junto con etiquetas descriptivas para cada operación.\n",
        "- Cuando se ejecuta este programa, se le pedirá al usuario que ingrese dos números. Luego, se realizarán las operaciones aritméticas de suma, resta, multiplicación y división con los números ingresados, y los resultados se mostrarán en la consola.\n",
        "- Si el usuario intenta dividir entre cero, el programa manejará ese caso especial y mostrará el mensaje \"No se puede dividir entre cero\" en lugar del resultado de la división.\n",
        "- Este programa demuestra el uso de entrada (input()) y salida (print()) de datos en Python, así como el manejo de casos especiales (división por cero) y la realización de operaciones aritméticas básicas."
      ]
    },
    {
      "cell_type": "code",
      "execution_count": null,
      "metadata": {},
      "outputs": [],
      "source": [
        "# Solicitar al usuario que ingrese dos números\n",
        "num1 = float(input(\"Ingrese el primer número: \"))\n",
        "num2 = float(input(\"Ingrese el segundo número: \"))\n",
        "\n",
        "# Realizar las operaciones\n",
        "suma = num1 + num2\n",
        "resta = num1 - num2\n",
        "multiplicacion = num1 * num2\n",
        "\n",
        "# Manejar la división por cero\n",
        "if num2 != 0:\n",
        "    division = num1 / num2\n",
        "else:\n",
        "    division = \"Error: no se puede dividir entre cero\"\n",
        "\n",
        "# Imprimir los resultados\n",
        "print(\"Suma:\", suma)\n",
        "print(\"Resta:\", resta)\n",
        "print(\"Multiplicación:\", multiplicacion)\n",
        "print(\"División:\", division)"
      ]
    },
    {
      "cell_type": "markdown",
      "metadata": {},
      "source": [
        "Ver solución a este problema en el link: https://replit.com/@milagrospozzofa/calculadora-simple#main.py"
      ]
    },
    {
      "cell_type": "markdown",
      "metadata": {},
      "source": [
        "💡 *Otra opción para imprimir el resultado es utilizando f-strings*\n",
        "\n",
        "La f-string f\"...\" se utiliza para formatear cadenas de texto e incluir los valores de las variables dentro de las cadenas. Necesitamos poner como prefijo de una cadena la letra *f* con esto también indicamos que estamos formateando la salida de \"algo\" en este caso un print(). \n",
        "\n",
        "Las llaves {} se utilizan dentro de la f-string para insertar el valor de una variable o expresión.\n",
        "\n",
        "Este programa asume que el usuario ingresa dos números válidos. Si se ingresa un valor no numérico, el programa arrojará un error."
      ]
    },
    {
      "cell_type": "code",
      "execution_count": 2,
      "metadata": {},
      "outputs": [],
      "source": [
        "# Solicitar los números al usuario\n",
        "n1 = float(input(\"Ingrese el primer número: \"))\n",
        "n2 = float(input(\"Ingrese el segundo número: \"))\n",
        "\n",
        "# Realizar las operaciones\n",
        "suma = n1 + n2\n",
        "resta = n1 - n2\n",
        "multiplicacion = n1 * n2\n",
        "\n",
        "# Manejar la división por cero\n",
        "if num2 != 0:\n",
        "    division = n1 / n2\n",
        "else:\n",
        "    division = \"Error: no se puede dividir entre cero\"\n",
        "\n",
        "# Imprimir los resultados\n",
        "print(f\"La suma de {n1} + {n2} es: {suma}\")\n",
        "print(f\"La resta de {n1} - {n2} es: {resta}\")\n",
        "print(f\"La multiplicación de {n1} * {n2} es: {multiplicacion}\")\n",
        "print(f\"La división de {n1} / {n2} es: {division}\")"
      ]
    },
    {
      "cell_type": "markdown",
      "metadata": {},
      "source": [
        "Ver solución a este problema en el link:: https://replit.com/@milagrospozzofa/calculadora-simple"
      ]
    },
    {
      "cell_type": "markdown",
      "metadata": {},
      "source": [
        "💡*Otra solución utilizando las funciones input() y format ()*\n",
        "\n",
        "Primero se solicita al usuario que ingrese dos números utilizando la función input(). \n",
        "\n",
        "Luego, realiza las operaciones aritméticas básicas (suma, resta, multiplicación y división) con esos números.\n",
        "\n",
        "Para imprimir los cálculos y los resultados, se utiliza la función format() para insertar los valores de las variables en una cadena de texto, y la función print() para mostrar la salida."
      ]
    },
    {
      "cell_type": "code",
      "execution_count": 2,
      "metadata": {},
      "outputs": [],
      "source": [
        "# Programar la calculadora en Python utilizando las funciones input() y format()\n",
        "\n",
        "# Solicitar al usuario que ingrese dos números\n",
        "n1 = float(input(\"Ingrese el primer número: \"))\n",
        "n2 = float(input(\"Ingrese el segundo número: \"))\n",
        "\n",
        "# Suma\n",
        "print(\"{} + {} = {}\".format(n1, n2, n1 + n2))\n",
        "\n",
        "# Resta\n",
        "print(\"{} - {} = {}\".format(n1, n2, n1 - n2))\n",
        "\n",
        "# Multiplicación\n",
        "print(\"{} * {} = {}\".format(n1, n2, n1 * n2))\n",
        "\n",
        "# División\n",
        "# Comprobamos si el segundo número es cero para evitar división por cero\n",
        "if n2 != 0:\n",
        "    print(\"{} / {} = {}\".format(n1, n2, n1 / n2))\n",
        "else:\n",
        "    print(\"No se puede dividir {} por 0\".format(n1))"
      ]
    },
    {
      "cell_type": "markdown",
      "metadata": {},
      "source": [
        "💡 *Para que la resta no de resultado negativo y la división solo de dos decimales corregir*  \n",
        "En este ejemplo, si el primer número es menor que el segundo número, la resta num1 - num2 sería negativa, pero al aplicar [abs()](https://www.corecode.school/blog/aprende-funciones-python), el resultado se convierte en positivo. Si el primer número es mayor que el segundo número, el resultado ya es positivo y abs() no cambia el valor.\n",
        "\n",
        "La función **abs()** es una forma sencilla y directa de asegurar que la resta no muestre un resultado negativo."
      ]
    },
    {
      "cell_type": "code",
      "execution_count": null,
      "metadata": {},
      "outputs": [],
      "source": [
        "# Resta\n",
        "print(\"{} - {} = {}\".format(n1, n2, abs(n1 - n2)))"
      ]
    },
    {
      "cell_type": "markdown",
      "metadata": {},
      "source": [
        "Para mostrar el resultado de la división con solo dos decimales, puedes utilizar el método format() o la función round(). \n",
        "\n",
        "*Método format()*"
      ]
    },
    {
      "cell_type": "code",
      "execution_count": null,
      "metadata": {},
      "outputs": [],
      "source": [
        "# División\n",
        "print(\"{} / {} = {:.2f}\".format(n1, n2, n1 / n2))"
      ]
    },
    {
      "cell_type": "markdown",
      "metadata": {},
      "source": [
        "*Método round()*"
      ]
    },
    {
      "cell_type": "code",
      "execution_count": null,
      "metadata": {},
      "outputs": [],
      "source": [
        "# División\n",
        "print(\"{} / {} = \".format(n1, n2))\n",
        "print(round(n1 / n2, 2))"
      ]
    },
    {
      "cell_type": "markdown",
      "metadata": {
        "id": "bbZkRBdNE-WD"
      },
      "source": [
        "## Desafío 3: Formateo de Factura\n",
        "Escriba un programa que pueda tomar los detalles de los productos (nombre, cantidad, precio) y produzca una factura bien formateada."
      ]
    },
    {
      "cell_type": "markdown",
      "metadata": {
        "id": "9aHzmEWGFjd1"
      },
      "source": [
        "## Problema 1: Conversor de Unidades de Temperatura\n",
        "Supongamos que se quiere convertir una temperatura dada en grados Fahrenheit a grados Celsius. Sabemos que los grados Fahrenheit pueden ser convertidos a grados Celsius usando la fórmula:\n",
        "\n",
        "(°F - 32) * 5/9 = °C.\n",
        "\n",
        "Podemos solicitar al usuario que ingrese una temperatura en grados Fahrenheit y luego convertirla a grados Celsius."
      ]
    },
    {
      "cell_type": "code",
      "execution_count": null,
      "metadata": {
        "id": "9s64CLTGFpKN"
      },
      "outputs": [],
      "source": [
        "# Pedimos al usuario que ingrese la temperatura en grados Fahrenheit\n",
        "fahrenheit = float(input(\"Ingrese la temperatura en grados Fahrenheit: \"))\n",
        "\n",
        "# Convertimos la temperatura a grados Celsius\n",
        "celsius = (fahrenheit - 32) * 5/9\n",
        "\n",
        "# Imprimimos el resultado\n",
        "print(f\"{fahrenheit} grados Fahrenheit son equivalentes a {celsius:.2f} grados Celsius.\")"
      ]
    },
    {
      "cell_type": "markdown",
      "metadata": {
        "id": "wwJ8wQ1JFohi"
      },
      "source": [
        "## Problema 2: Calculadora de Indice de Masa Corporal (IMC)\n",
        "Se desea crear una herramienta que calcule el IMC de una persona. Sabemos que el IMC se calcula dividiendo el peso de la persona (en kilogramos) por el cuadrado de su altura (en metros).\n",
        "\n",
        "Podemos solicitar al usuario que ingrese su peso y su altura y luego usar esa información para calcular su IMC."
      ]
    },
    {
      "cell_type": "code",
      "execution_count": null,
      "metadata": {
        "id": "EgYNXWsXFvRG"
      },
      "outputs": [],
      "source": [
        "# Pedimos al usuario que ingrese su peso\n",
        "peso = input(\"Ingrese su peso en kilogramos: \")\n",
        "peso = float(peso)\n",
        "\n",
        "# Pedimos al usuario que ingrese su altura\n",
        "altura = input(\"Ingrese su altura en metros: \")\n",
        "altura = float(altura)\n",
        "\n",
        "# Calculamos el IMC\n",
        "imc = peso / altura**2\n",
        "\n",
        "# Imprimimos el resultado\n",
        "print(f\"Su Indice de Masa Corporal es {imc:.2f}.\")"
      ]
    },
    {
      "cell_type": "markdown",
      "metadata": {
        "id": "y_DjOlVxFuta"
      },
      "source": [
        "## Problema 3: Solicitar Información Personal\n",
        "Queremos solicitar a un usuario que ingrese su nombre, su apellido y su año de nacimiento y luego queremos imprimir esa información en un formato específico."
      ]
    },
    {
      "cell_type": "code",
      "execution_count": null,
      "metadata": {
        "id": "ziHzFGPVF4RP"
      },
      "outputs": [],
      "source": [
        "# Pedimos al usuario que ingrese su nombre\n",
        "nombre = input(\"Ingrese su nombre: \")\n",
        "\n",
        "# Pedimos al usuario que ingrese su apellido\n",
        "apellido = input(\"Ingrese su apellido: \")\n",
        "\n",
        "# Pedimos al usuario que ingrese su año de nacimiento\n",
        "anio_nacimiento = input(\"Ingrese su año de nacimiento: \")\n",
        "anio_nacimiento = int(anio_nacimiento)\n",
        "\n",
        "# Pedimos al usuario que ingrese el año actual\n",
        "anio_actual = input(\"Ingrese el año actual: \")\n",
        "anio_actual = int(anio_actual)\n",
        "\n",
        "# Calculamos la edad aproximada del usuario\n",
        "edad = anio_actual - anio_nacimiento\n",
        "\n",
        "# Imprimimos la información en un formato específico\n",
        "print(f\"Nombre: {nombre}\\nApellido: {apellido}\\nEdad aproximada: {edad} años.\")"
      ]
    },
    {
      "cell_type": "markdown",
      "metadata": {
        "id": "kYsKYdMnGG1R"
      },
      "source": [
        "## Problema 4: Lectura y Escritura en Archivos\n",
        "Supongamos que somos profesores y necesitamos procesar las calificaciones de nuestros alumnos. Los datos se almacenan en un archivo CSV, y nuestro trabajo es leer ese archivo, calcular el promedio de las calificaciones y luego escribir ese promedio en un nuevo archivo.\n",
        "\n",
        "input() y print() no son adecuados aquí porque estamos trabajando con archivos y no con entradas de usuario o impresiones en la consola."
      ]
    },
    {
      "cell_type": "code",
      "execution_count": null,
      "metadata": {
        "id": "xh-tc10NGLiV"
      },
      "outputs": [],
      "source": [
        "import csv\n",
        "\n",
        "# Leemos el archivo CSV\n",
        "with open('calificaciones.csv', 'r') as archivo_calificaciones:\n",
        "    lector = csv.reader(archivo_calificaciones)\n",
        "    next(lector)  # Saltamos la cabecera del archivo\n",
        "\n",
        "    suma_total = 0\n",
        "    contador = 0\n",
        "    for fila in lector:\n",
        "        suma_total += float(fila[1])  # Asumimos que la calificación está en la segunda columna\n",
        "        contador += 1\n",
        "\n",
        "# Calculamos el promedio\n",
        "promedio = suma_total / contador if contador else 0\n",
        "print(\"El promedio es: \",promedio)\n",
        "\n",
        "# Escribimos el promedio de calificaciones en un nuevo archivo\n",
        "with open('promedio_calificaciones.txt', 'w') as archivo_promedio:\n",
        "    archivo_promedio.write(f\"El promedio de las calificaciones es: {promedio}\\n\")"
      ]
    },
    {
      "cell_type": "markdown",
      "metadata": {
        "id": "pw4LBMZoFk5R"
      },
      "source": [
        "Puedes ver la solución a este problema en el link https://replit.com/@DomingoPerez/tema25prob4"
      ]
    },
    {
      "cell_type": "markdown",
      "metadata": {
        "id": "A22wvR8YFk5R"
      },
      "source": [
        "## Problema 5: Lectura y Escritura en Archivos\n",
        "Supongamos que ahora las calificaciones de los alumnos se almacenan en un archivo JSON en lugar de un CSV. El archivo JSON contiene una lista de diccionarios, donde cada diccionario representa a un estudiante y sus calificaciones. Nuestra tarea será leer este archivo, calcular el promedio de las calificaciones y luego escribir ese promedio en un nuevo archivo JSON."
      ]
    },
    {
      "cell_type": "code",
      "execution_count": null,
      "metadata": {
        "id": "Bzavs3nsFk5S"
      },
      "outputs": [],
      "source": [
        "import json\n",
        "\n",
        "# Leemos el archivo JSON\n",
        "with open('calificaciones.json', 'r') as archivo_calificaciones:\n",
        "    estudiantes = json.load(archivo_calificaciones)\n",
        "\n",
        "    suma_total = 0\n",
        "    contador = 0\n",
        "    for estudiante in estudiantes:\n",
        "        suma_total += estudiante['calificacion']\n",
        "        contador += 1\n",
        "\n",
        "# Calculamos el promedio\n",
        "promedio = suma_total / contador if contador > 0 else 0\n",
        "\n",
        "# Escribimos el promedio de calificaciones en un nuevo archivo JSON\n",
        "with open('promedio_calificaciones.json', 'w') as archivo_promedio:\n",
        "    json.dump({\"promedio_calificaciones\": promedio}, archivo_promedio)\n",
        "\n",
        "print(\"El promedio es: \", promedio)\n"
      ]
    },
    {
      "cell_type": "markdown",
      "metadata": {
        "id": "Cg9TTbEvFk5S"
      },
      "source": [
        "Puedes ver la solución a este problema en el link https://replit.com/@DomingoPerez/tema25prob5"
      ]
    },
    {
      "cell_type": "markdown",
      "metadata": {
        "id": "ozLyGdk-GQBC"
      },
      "source": [
        "## Problema 6: Interactuando con una API web\n",
        "Imagina que estás escribiendo un programa que necesita interactuar con una API web para obtener datos en tiempo real, como el precio actual de una criptomoneda.\n",
        "\n",
        "input() y print() no son suficientes aquí porque necesitamos enviar una solicitud HTTP a una API web y procesar la respuesta JSON que recibimos."
      ]
    },
    {
      "cell_type": "code",
      "execution_count": null,
      "metadata": {
        "id": "WaWHwzPDGWn2"
      },
      "outputs": [],
      "source": [
        "import requests\n",
        "import json\n",
        "\n",
        "# Hacemos una solicitud GET a la API de CoinDesk para obtener el precio actual de Bitcoin\n",
        "respuesta = requests.get(\"https://api.coindesk.com/v1/bpi/currentprice/BTC.json\")\n",
        "\n",
        "# Convertimos la respuesta a JSON\n",
        "datos = respuesta.json()\n",
        "\n",
        "# Obtenemos el precio actual de Bitcoin en USD\n",
        "precio_bitcoin = datos['bpi']['USD']['rate']\n",
        "\n",
        "# Imprimimos el precio actual\n",
        "print(f\"El precio actual de Bitcoin es: {precio_bitcoin} USD\")\n"
      ]
    },
    {
      "cell_type": "markdown",
      "metadata": {
        "id": "CMUrr3KZFk5T"
      },
      "source": [
        "Puedes ver la solución a este problema en el link https://replit.com/@DomingoPerez/tema25prob6"
      ]
    },
    {
      "cell_type": "markdown",
      "metadata": {
        "id": "5Y88lS6zK8Up"
      },
      "source": [
        "## Problema 7:Lectura, Análisis y Visualización de Calificaciones\n",
        "omo profesor, ahora tienes los datos de calificaciones de tus estudiantes en un archivo CSV y necesitas hacer un análisis más detallado. Tu tarea es leer el archivo, calcular el promedio de las calificaciones, y además, visualizar la distribución de las calificaciones a través de un gráfico. La visualización te permitirá tener una imagen más clara de cómo se distribuyen las calificaciones de los estudiantes."
      ]
    },
    {
      "cell_type": "markdown",
      "metadata": {
        "id": "CkrKCOOALGwI"
      },
      "source": [
        "Primero, necesitarás importar las bibliotecas pandas y matplotlib.pyplot:"
      ]
    },
    {
      "cell_type": "code",
      "execution_count": null,
      "metadata": {
        "id": "FVWSd73fLJ8Z"
      },
      "outputs": [],
      "source": [
        "import pandas as pd\n",
        "import matplotlib.pyplot as plt"
      ]
    },
    {
      "cell_type": "markdown",
      "metadata": {
        "id": "FAgqJ1RmLMie"
      },
      "source": [
        "Luego, lee el archivo CSV y calcula el promedio:"
      ]
    },
    {
      "cell_type": "code",
      "execution_count": null,
      "metadata": {
        "id": "2htie40aLQZE"
      },
      "outputs": [],
      "source": [
        "# Leemos el archivo CSV\n",
        "df = pd.read_csv('calificaciones.csv')\n",
        "\n",
        "# Calculamos el promedio\n",
        "promedio = df['Calificacion'].mean() #mean() calcula la media aritmetica\n",
        "print(f\"El promedio de las calificaciones es: {promedio}\")\n"
      ]
    },
    {
      "cell_type": "markdown",
      "metadata": {
        "id": "vHhNV-72LQ8e"
      },
      "source": [
        "Finalmente, utiliza matplotlib para crear un histograma de las calificaciones:\n",
        "\n"
      ]
    },
    {
      "cell_type": "code",
      "execution_count": null,
      "metadata": {
        "id": "aN1gJfefLT6n"
      },
      "outputs": [],
      "source": [
        "# Definimos los bordes de los contenedores para que estén centrados en los números enteros\n",
        "bins = [i - 0.5 for i in range(2, 12)]  # Los contenedores estarán centrados en números de 1 a 10\n",
        "\n",
        "# Creamos un histograma de las calificaciones\n",
        "plt.hist(df['Calificacion'], bins=bins, edgecolor='black')\n",
        "plt.title('Distribución de las Calificaciones')\n",
        "plt.xlabel('Calificaciones')\n",
        "plt.ylabel('Cantidad de Estudiantes')\n",
        "plt.xticks(range(1, 11))  # Para que los números enteros aparezcan en el eje x\n",
        "plt.show()\n"
      ]
    },
    {
      "cell_type": "markdown",
      "metadata": {
        "id": "td-r0UDPLWtQ"
      },
      "source": [
        "Este código creará un histograma que muestra la distribución de las calificaciones de los estudiantes, permitiéndote ver cuántos estudiantes obtuvieron cada calificación. Esto puede darte una idea más clara de cómo se distribuyen las calificaciones en general."
      ]
    },
    {
      "cell_type": "markdown",
      "metadata": {
        "id": "9hPyNldoLWno"
      },
      "source": [
        "---\n",
        "Además de un histograma, hay varias otras visualizaciones que podrías considerar. Aquí hay algunas ideas:\n",
        "\n",
        "*Gráfico de barras:* Podrías crear un gráfico de barras donde cada barra representa a un estudiante y la altura de la barra representa su calificación."
      ]
    },
    {
      "cell_type": "code",
      "execution_count": null,
      "metadata": {
        "id": "kBILdrh0Mb19"
      },
      "outputs": [],
      "source": [
        "plt.figure(figsize=(10, 6))\n",
        "plt.bar(df['Nombre'], df['Calificacion'], color='skyblue')\n",
        "plt.title('Calificaciones de los Estudiantes')\n",
        "plt.xlabel('Estudiantes')\n",
        "plt.ylabel('Calificaciones')\n",
        "plt.xticks(rotation=45)  # Esto rotará los nombres de los estudiantes para una mejor lectura\n",
        "plt.show()\n"
      ]
    },
    {
      "cell_type": "markdown",
      "metadata": {
        "id": "jqwboIdMFk5W"
      },
      "source": [
        "Puedes ver la solución a este problema en el link https://replit.com/@DomingoPerez/tema25prob7"
      ]
    },
    {
      "cell_type": "markdown",
      "metadata": {
        "id": "kA5RHUjePEmu"
      },
      "source": [
        "## Problema 8: ¿Qué pasó con las calificaciones de Carlos?\n",
        "Te encuentras analizando las calificaciones de tus estudiantes y decides visualizar los datos en un gráfico de barras para tener una visión más clara. Sin embargo, te das cuenta de que algo no cuadra. Carlos, uno de tus estudiantes, aparece con una sola calificación de 8 en el gráfico, pero tú recuerdas claramente que él tiene dos calificaciones registradas, una de 8 y otra de 6.\n",
        "\n",
        "Te preguntas, ¿qué está pasando? ¿Cómo puedes asegurarte de que todas las calificaciones de Carlos (y de cualquier otro estudiante que pueda tener más de una calificación) sean tenidas en cuenta en tu gráfico?"
      ]
    },
    {
      "cell_type": "markdown",
      "metadata": {
        "id": "BKNV8AVNPKI0"
      },
      "source": [
        "---\n",
        "\n",
        "*Solución*El gráfico de barras que generaste originalmente toma cada calificación como una entrada individual. Si hay más de una entrada con el mismo nombre, sólo se considera una de ellas. Por tanto, necesitas una forma de agrupar todas las calificaciones de cada estudiante y luego graficar la calificación promedio de cada uno.\n",
        "\n",
        "Aquí es donde entra en juego la función groupby de Pandas. Esta función te permite agrupar tus datos según algún criterio. En este caso, quieres agrupar los datos por el nombre del estudiante. Luego puedes calcular el promedio de las calificaciones para cada estudiante y finalmente visualizar estos datos.\n",
        "\n",
        "Aquí está el código revisado que resuelve tu problema:\n"
      ]
    },
    {
      "cell_type": "code",
      "execution_count": null,
      "metadata": {
        "id": "q01IReXaPQ52"
      },
      "outputs": [],
      "source": [
        "# Agrupamos por nombre y calculamos el promedio de las calificaciones\n",
        "df_agrupado = df.groupby('Nombre')['Calificacion'].mean().reset_index()\n",
        "\n",
        "# Ordenamos el DataFrame por la columna 'Calificacion'\n",
        "#df_agrupado = df_agrupado.sort_values('Calificacion', ascending=False)\n",
        "# Descomenta lo anterior luego de probar la solución como se plantea\n",
        "\n",
        "# Creamos el gráfico de barras con los datos agrupados\n",
        "plt.figure(figsize=(10, 6))\n",
        "plt.bar(df_agrupado['Nombre'], df_agrupado['Calificacion'], color='skyblue')\n",
        "plt.title('Promedio de Calificaciones por Estudiante')\n",
        "plt.xlabel('Estudiantes')\n",
        "plt.ylabel('Promedio de Calificaciones')\n",
        "plt.xticks(rotation=45)\n",
        "plt.show()\n"
      ]
    },
    {
      "cell_type": "markdown",
      "metadata": {
        "id": "oHi5UHgWQNIx"
      },
      "source": [
        "# Mensaje final\n",
        "¡Enhorabuena! Ahora tienes un mejor manejo de las técnicas de entrada y salida de datos en Python, desde el uso básico de input() y print(), hasta la lectura y escritura de archivos con el módulo csv y pandas. Hemos visto cómo pandas facilita el análisis de datos y la generación de gráficos de manera eficiente.\n",
        "\n",
        "Ten en cuenta que solo hemos arañado la superficie de lo que pandas puede hacer. Hay muchos otros métodos útiles disponibles. A continuación, te proporciono una tabla de referencia rápida de algunos de los métodos más importantes que podrías explorar a continuación.\n",
        "\n",
        "| Método        | Ejemplo                   | Descripción                      |\n",
        "|---------------|---------------------------------------------|-------------------------------------------------------------|\n",
        "| `read_excel()`   | `df = pd.read_excel('file.xlsx')` | Lee un archivo de Excel.                                    |\n",
        "| `to_excel()`     | `df.to_excel('new_file.xlsx')`               | Escribe un DataFrame a un archivo de Excel.                 |\n",
        "| `head()`         | `df.head()`                                  | Muestra las primeras 5 filas del DataFrame.                 |\n",
        "| `tail()`         | `df.tail()`                                  | Muestra las últimas 5 filas del DataFrame.                  |\n",
        "| `describe()`     | `df.describe()`                              | Genera estadísticas descriptivas.                           |\n",
        "| `drop()`         | `df.drop('column', axis=1)`                  | Elimina una columna o fila.                                 |\n",
        "| `merge()`        | `df = df1.merge(df2, on='key')`              | Combina dos DataFrames basados en una clave común.          |\n",
        "| `concat()`       | `df = pd.concat([df1, df2])`                 | Combina dos DataFrames a lo largo de un eje.                |\n",
        "| `pivot_table()`  | `df.pivot_table(values='D', index=['A', 'B'], columns=['C'])` | Crea una tabla dinámica. |\n",
        "| `isnull()`       | `df.isnull()`                                | Detecta valores perdidos.                                   |\n"
      ]
    },
    {
      "cell_type": "markdown",
      "metadata": {
        "id": "yrJFeESOQnBh"
      },
      "source": [
        "*Recuerda, la práctica hace al maestro. Continúa explorando, aprendiendo y aplicando lo que aprendes en tus propios proyectos. ¡Feliz codificación!*"
      ]
    }
  ],
  "metadata": {
    "colab": {
      "include_colab_link": true,
      "provenance": [],
      "toc_visible": true
    },
    "kernelspec": {
      "display_name": "Python 3",
      "name": "python3"
    },
    "language_info": {
      "codemirror_mode": {
        "name": "ipython",
        "version": 3
      },
      "file_extension": ".py",
      "mimetype": "text/x-python",
      "name": "python",
      "nbconvert_exporter": "python",
      "pygments_lexer": "ipython3",
      "version": "3.12.2"
    }
  },
  "nbformat": 4,
  "nbformat_minor": 0
}
