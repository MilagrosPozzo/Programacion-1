{
 "cells": [
  {
   "cell_type": "markdown",
   "metadata": {},
   "source": [
    "## Introducción al Encapsulamiento y acceso a miembros\n",
    "\n",
    "El encapsulamiento es uno de los cuatro pilares fundamentales de la Programación Orientada a Objetos (POO). Se refiere a la restricción del acceso a ciertos componentes de un objeto, asegurando que solo se pueda acceder a ciertos atributos y métodos de un objeto desde fuera de la clase de la manera deseada.\n",
    "\n",
    "### Pregunta problema: \n",
    "Imagina que estás diseñando una clase Autor para una biblioteca. ¿Cómo puedes garantizar que ciertos atributos, como el nombre, la nacionalidad o la fecha de nacimiento, no sean modificados accidentalmente o accedidos de manera inapropiada?"
   ]
  },
  {
   "cell_type": "markdown",
   "metadata": {},
   "source": [
    "## Conceptos clave\n",
    "\n",
    "_Encapsulamiento:_ Es la técnica de hacer que los campos de una clase sean privados o protegidos y proporcionar acceso a través de métodos públicos.\n",
    "\n",
    "Diferencias entre \"_\" y \"__\" en Python:\n",
    "\n",
    "_: Se utiliza para indicar que un atributo o método es protegido. Aunque técnicamente aún es accesible desde fuera de la clase, por convención se entiende que no debe ser accedido directamente. Sin embargo, esta protección es solo una convención y no impide realmente el acceso.\n",
    "\n",
    "__: Se utiliza para indicar que un atributo o método es privado. Esto modifica el nombre del atributo/método de manera que es más difícil de acceder desde fuera de la clase, proporcionando una capa adicional de seguridad."
   ]
  },
  {
   "cell_type": "markdown",
   "metadata": {},
   "source": [
    "## Ejemplos prácticos"
   ]
  },
  {
   "cell_type": "markdown",
   "metadata": {},
   "source": [
    "### Clase Autor con atributos públicos:"
   ]
  },
  {
   "cell_type": "code",
   "execution_count": null,
   "metadata": {},
   "outputs": [],
   "source": [
    "class Autor:\n",
    "    def __init__(self, nombre, nacionalidad):\n",
    "        self.nombre = nombre\n",
    "        self.nacionalidad = nacionalidad\n",
    "\n",
    "    def mostrar_autor(self):\n",
    "        print(f\"Nombre: {self.nombre}\")\n",
    "        print(f\"Nacionalidad: {self.nacionalidad}\")\n"
   ]
  },
  {
   "cell_type": "markdown",
   "metadata": {},
   "source": [
    "Este diseño, aunque funcional, no protege los atributos nombre y nacionalidad de modificaciones no deseadas.\n",
    "\n",
    "### Clase Autor con atributos protegidos:"
   ]
  },
  {
   "cell_type": "code",
   "execution_count": null,
   "metadata": {},
   "outputs": [],
   "source": [
    "class Autor:\n",
    "    def __init__(self, nombre, nacionalidad):\n",
    "        self._nombre = nombre\n",
    "        self._nacionalidad = nacionalidad\n"
   ]
  },
  {
   "cell_type": "markdown",
   "metadata": {},
   "source": [
    "Aquí, hemos marcado los atributos como protegidos usando un solo guion bajo. Esto indica que no deben ser accedidos directamente, pero aún es posible hacerlo.\n",
    "\n",
    "### Clase Autor con atributos privados y métodos getter y setter:"
   ]
  },
  {
   "cell_type": "code",
   "execution_count": null,
   "metadata": {},
   "outputs": [],
   "source": [
    "class Autor:\n",
    "    def __init__(self, nombre, nacionalidad):\n",
    "        self.__nombre = nombre\n",
    "        self.__nacionalidad = nacionalidad\n",
    "\n",
    "    def get_nombre(self):\n",
    "        return self.__nombre\n",
    "\n",
    "    def set_nombre(self, nombre):\n",
    "        self.__nombre = nombre\n",
    "\n",
    "    def get_nacionalidad(self):\n",
    "        return self.__nacionalidad\n",
    "\n",
    "    def set_nacionalidad(self, nacionalidad):\n",
    "        self.__nacionalidad = nacionalidad\n"
   ]
  },
  {
   "cell_type": "markdown",
   "metadata": {},
   "source": [
    "Con los atributos marcados como privados, ahora es mucho más difícil acceder a ellos desde fuera de la clase. Los métodos getter y setter nos permiten controlar cómo se accede y modifica la información."
   ]
  },
  {
   "cell_type": "markdown",
   "metadata": {},
   "source": [
    "## Encapsulamiento de métodos\n",
    "\n",
    "El encapsulamiento no se limita solo a los atributos; también podemos encapsular métodos. Esto será explorado en profundidad en el tema de polimorfismo."
   ]
  },
  {
   "cell_type": "markdown",
   "metadata": {},
   "source": [
    "## Desafíos"
   ]
  },
  {
   "cell_type": "markdown",
   "metadata": {},
   "source": [
    "### Desafío 1: \n",
    "Crea una clase Libro que tenga atributos privados para el título, autor y ISBN. Proporciona métodos getter y setter para cada atributo.\n",
    "\n",
    "### Desafío 2:\n",
    "Modifica la clase Autor para que pueda tener una lista de libros escritos por el autor. Proporciona un método para agregar libros a esta lista.\n",
    "\n",
    "### Desafío 3:\n",
    "Implementa la clase Autor con métodos getter y setter utilizando decoradores @property para manejar los atributos privados nombre y nacionalidad.\n",
    "\n",
    "### Desafío 4:\n",
    "Crea una función que tome un objeto Autor y devuelva una lista de todos los títulos de libros escritos por el autor. Asegúrate de que la lista de libros sea accesible solo a través de métodos de la clase Autor.\n",
    "\n",
    "### Desafío 5:\n",
    "Desarrolla una función que reciba una lista de objetos Autor y devuelva el autor que ha escrito el mayor número de libros. Utiliza el encapsulamiento para acceder a la información necesaria de cada objeto Autor."
   ]
  },
  {
   "cell_type": "markdown",
   "metadata": {},
   "source": [
    "## Referencias"
   ]
  },
  {
   "cell_type": "markdown",
   "metadata": {},
   "source": [
    "- [Enlace a Recurso 1](#)\n",
    "- [Enlace a Recurso 2](#)"
   ]
  },
  {
   "cell_type": "code",
   "execution_count": 2,
   "metadata": {},
   "outputs": [
    {
     "name": "stdout",
     "output_type": "stream",
     "text": [
      "1984\n",
      "Animal Farm\n"
     ]
    }
   ],
   "source": [
    "# Definimos la clase Libro para representar un libro con atributos encapsulados\n",
    "class Libro:\n",
    "    def __init__(self, titulo, autor, isbn):\n",
    "        # Inicializamos los atributos privados con doble guión bajo\n",
    "        self.__titulo = titulo      # Título del libro\n",
    "        self.__autor = autor        # Autor del libro\n",
    "        self.__isbn = isbn          # ISBN del libro, único para cada libro\n",
    "\n",
    "    # Método getter para obtener el título del libro\n",
    "    def get_titulo(self):\n",
    "        return self.__titulo\n",
    "    \n",
    "    # Método setter para modificar el título del libro\n",
    "    def set_titulo(self, titulo):\n",
    "        self.__titulo = titulo\n",
    "\n",
    "    # Método getter para obtener el autor del libro\n",
    "    def get_autor(self):\n",
    "        return self.__autor\n",
    "    \n",
    "    # Método setter para modificar el autor del libro\n",
    "    def set_autor(self, autor):\n",
    "        self.__autor = autor\n",
    "\n",
    "    # Método getter para obtener el ISBN del libro\n",
    "    def get_isbn(self):\n",
    "        return self.__isbn\n",
    "    \n",
    "    # Método setter para modificar el ISBN del libro\n",
    "    def set_isbn(self, isbn):\n",
    "        self.__isbn = isbn\n",
    "\n",
    "# Creamos una instancia de la clase Libro y utilizamos sus métodos\n",
    "libro = Libro(\"1984\", \"George Orwell\", \"1234567890\")\n",
    "print(libro.get_titulo())  # Obtenemos y mostramos el título del libro\n",
    "libro.set_titulo(\"Animal Farm\")  # Modificamos el título del libro\n",
    "print(libro.get_titulo())  # Mostramos el título modificado"
   ]
  },
  {
   "cell_type": "code",
   "execution_count": 3,
   "metadata": {},
   "outputs": [
    {
     "name": "stdout",
     "output_type": "stream",
     "text": [
      "['Cien años de soledad', 'El amor en los tiempos del cólera']\n"
     ]
    }
   ],
   "source": [
    "# DESAFIO 2\n",
    "# Definimos la clase Autor que contiene una lista de libros escritos por el autor\n",
    "class Autor:\n",
    "    def __init__(self, nombre, nacionalidad):\n",
    "        self.__nombre = nombre           # Nombre del autor\n",
    "        self.__nacionalidad = nacionalidad  # Nacionalidad del autor\n",
    "        self.__libros = []               # Lista privada para almacenar los libros escritos por el autor\n",
    "\n",
    "    # Método para agregar un libro a la lista de libros del autor\n",
    "    def agregar_libro(self, libro):\n",
    "        self.__libros.append(libro)  # Añadimos el libro a la lista de libros\n",
    "    \n",
    "    # Método para obtener la lista de libros escritos por el autor\n",
    "    def obtener_libros(self):\n",
    "        return self.__libros\n",
    "\n",
    "# Ejemplo de uso de la clase Autor\n",
    "autor = Autor(\"Gabriel García Márquez\", \"Colombiana\")\n",
    "autor.agregar_libro(\"Cien años de soledad\")\n",
    "autor.agregar_libro(\"El amor en los tiempos del cólera\")\n",
    "print(autor.obtener_libros())  # Mostramos la lista de libros del autor"
   ]
  },
  {
   "cell_type": "code",
   "execution_count": 4,
   "metadata": {},
   "outputs": [
    {
     "name": "stdout",
     "output_type": "stream",
     "text": [
      "Isabel Allende\n",
      "Pablo Neruda\n"
     ]
    }
   ],
   "source": [
    "#DESAFIO 3\n",
    "# Definimos la clase Autor con decoradores para los métodos getter y setter\n",
    "class Autor:\n",
    "    def __init__(self, nombre, nacionalidad):\n",
    "        self.__nombre = nombre            # Atributo privado para el nombre\n",
    "        self.__nacionalidad = nacionalidad  # Atributo privado para la nacionalidad\n",
    "\n",
    "    # Decorador @property para obtener el nombre\n",
    "    @property\n",
    "    def nombre(self):\n",
    "        return self.__nombre\n",
    "    \n",
    "    # Setter para modificar el nombre\n",
    "    @nombre.setter\n",
    "    def nombre(self, nombre):\n",
    "        self.__nombre = nombre\n",
    "\n",
    "    # Decorador @property para obtener la nacionalidad\n",
    "    @property\n",
    "    def nacionalidad(self):\n",
    "        return self.__nacionalidad\n",
    "    \n",
    "    # Setter para modificar la nacionalidad\n",
    "    @nacionalidad.setter\n",
    "    def nacionalidad(self, nacionalidad):\n",
    "        self.__nacionalidad = nacionalidad\n",
    "\n",
    "# Ejemplo de uso de la clase Autor con decoradores\n",
    "autor = Autor(\"Isabel Allende\", \"Chilena\")\n",
    "print(autor.nombre)  # Mostramos el nombre del autor\n",
    "autor.nombre = \"Pablo Neruda\"  # Modificamos el nombre del autor\n",
    "print(autor.nombre)  # Mostramos el nombre modificado"
   ]
  },
  {
   "cell_type": "code",
   "execution_count": null,
   "metadata": {},
   "outputs": [],
   "source": [
    "#DESAFIO 4\n",
    "# Definimos la función que devuelve los títulos de los libros escritos por un autor\n",
    "def obtener_titulos(autor):\n",
    "    # Obtenemos la lista de libros del autor utilizando el método obtener_libros\n",
    "    return autor.obtener_libros()\n",
    "\n",
    "# Ejemplo de uso\n",
    "autor = Autor(\"Julio Cortázar\", \"Argentina\")\n",
    "autor.agregar_libro(\"Rayuela\")\n",
    "autor.agregar_libro(\"Final del juego\")\n",
    "print(obtener_titulos(autor))  # Mostramos los títulos de los libros"
   ]
  },
  {
   "cell_type": "code",
   "execution_count": 8,
   "metadata": {},
   "outputs": [
    {
     "name": "stdout",
     "output_type": "stream",
     "text": [
      "El autor con más libros es: Gabriel García Márquez\n"
     ]
    }
   ],
   "source": [
    "# Definimos la clase Autor para representar a un autor y sus libros\n",
    "class Autor:\n",
    "    def __init__(self, nombre, nacionalidad):\n",
    "        # Inicializamos los atributos privados\n",
    "        self.__nombre = nombre             # Atributo privado para almacenar el nombre del autor\n",
    "        self.__nacionalidad = nacionalidad # Atributo privado para almacenar la nacionalidad del autor\n",
    "        self.__libros = []                 # Lista privada para almacenar los títulos de los libros del autor\n",
    "\n",
    "    # Método para agregar un libro a la lista de libros del autor\n",
    "    def agregar_libro(self, titulo_libro):\n",
    "        self.__libros.append(titulo_libro)  # Añadimos el título del libro a la lista de libros\n",
    "\n",
    "    # Método getter para obtener el nombre del autor\n",
    "    def get_nombre(self):\n",
    "        return self.__nombre\n",
    "    \n",
    "    # Método getter para obtener la lista de libros del autor\n",
    "    def get_libros(self):\n",
    "        return self.__libros\n",
    "\n",
    "# Definimos la función para encontrar el autor con más libros\n",
    "def autor_con_mas_libros(lista_autores):\n",
    "    # Utilizamos la función max() para obtener el autor con la lista de libros más extensa\n",
    "    # La clave para la comparación es la longitud de la lista de libros de cada autor\n",
    "    return max(lista_autores, key=lambda autor: len(autor.get_libros()))\n",
    "\n",
    "# Ejemplo de uso de la clase y la función\n",
    "\n",
    "# Creamos instancias de la clase Autor\n",
    "autor1 = Autor(\"Gabriel García Márquez\", \"Colombiano\")\n",
    "autor2 = Autor(\"Mario Vargas Llosa\", \"Peruano\")\n",
    "\n",
    "# Agregamos libros a cada autor utilizando el método agregar_libro\n",
    "autor1.agregar_libro(\"Cien años de soledad\")\n",
    "autor1.agregar_libro(\"El amor en los tiempos del cólera\")\n",
    "autor2.agregar_libro(\"La ciudad y los perros\")\n",
    "\n",
    "# Creamos una lista de autores para pasársela a la función\n",
    "lista_autores = [autor1, autor2]\n",
    "\n",
    "# Llamamos a la función para encontrar el autor con más libros y almacenamos el resultado\n",
    "autor_mayor = autor_con_mas_libros(lista_autores)\n",
    "\n",
    "# Mostramos el nombre del autor con más libros usando el método get_nombre\n",
    "print(f\"El autor con más libros es: {autor_mayor.get_nombre()}\")"
   ]
  },
  {
   "cell_type": "markdown",
   "metadata": {},
   "source": [
    "Explicación del Código Línea por Línea\n",
    "\n",
    "    Definición de la Clase Autor:\n",
    "        class Autor: Define la clase Autor, que encapsula los datos y métodos asociados a un autor y sus libros.\n",
    "\n",
    "    Método __init__:\n",
    "        def __init__(self, nombre, nacionalidad): El constructor inicializa los atributos del autor:\n",
    "            self.__nombre: Almacena el nombre del autor como un atributo privado.\n",
    "            self.__nacionalidad: Almacena la nacionalidad del autor como un atributo privado.\n",
    "            self.__libros: Inicializa una lista vacía para almacenar los títulos de los libros, también como atributo privado.\n",
    "\n",
    "    Método agregar_libro:\n",
    "        def agregar_libro(self, titulo_libro): Método para agregar un título de libro a la lista de libros del autor.\n",
    "        self.__libros.append(titulo_libro): Añade el libro a la lista __libros.\n",
    "\n",
    "    Método get_nombre:\n",
    "        def get_nombre(self): Devuelve el nombre del autor accediendo a __nombre.\n",
    "\n",
    "    Método get_libros:\n",
    "        def get_libros(self): Devuelve la lista de libros del autor.\n",
    "\n",
    "    Función autor_con_mas_libros:\n",
    "        def autor_con_mas_libros(lista_autores): Esta función acepta una lista de objetos Autor y encuentra al autor con el mayor número de libros.\n",
    "        max(lista_autores, key=lambda autor: len(autor.get_libros())): Utiliza max() para encontrar el autor con más libros, donde key=lambda autor: len(autor.get_libros()) especifica que la longitud de la lista de libros es el criterio para la comparación.\n",
    "\n",
    "    Ejemplo de Uso:\n",
    "        Se crean dos instancias de Autor, autor1 y autor2, y se les agregan libros con el método agregar_libro.\n",
    "        lista_autores: Una lista de estos objetos Autor es creada para pasarla a autor_con_mas_libros.\n",
    "        autor_con_mas_libros(lista_autores): Llamada a la función para encontrar el autor con más libros.\n",
    "        print(f\"El autor con más libros es: {autor_mayor.get_nombre()}): Imprime el nombre del autor con más libros, accediendo al nombre mediante get_nombre."
   ]
  }
 ],
 "metadata": {
  "kernelspec": {
   "display_name": "Python 3",
   "language": "python",
   "name": "python3"
  },
  "language_info": {
   "codemirror_mode": {
    "name": "ipython",
    "version": 3
   },
   "file_extension": ".py",
   "mimetype": "text/x-python",
   "name": "python",
   "nbconvert_exporter": "python",
   "pygments_lexer": "ipython3",
   "version": "3.12.2"
  }
 },
 "nbformat": 4,
 "nbformat_minor": 4
}
