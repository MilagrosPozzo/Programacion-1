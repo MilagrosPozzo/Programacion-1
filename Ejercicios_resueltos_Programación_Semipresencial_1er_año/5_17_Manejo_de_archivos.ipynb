{
 "cells": [
  {
   "cell_type": "markdown",
   "metadata": {},
   "source": [
    "# Manejo de Archivos\n",
    "\n",
    "Imaginemos que estamos desarrollando un sistema de gestión de una biblioteca digital. En este sistema, almacenaremos información sobre libros, autores y préstamos en archivos de texto. Usaremos estos archivos para almacenar, leer y manipular la información, manteniendo la persistencia de los datos.\n",
    "\n",
    "## Apertura y Cierre de Archivos\n",
    "\n",
    "Para interactuar con un archivo, primero debemos **abrirlo** y, una vez que hayamos terminado con él, **cerrarlo**. Python ofrece la función integrada `open()` para abrir archivos y `close()` para cerrarlos. Existen diferentes modos para abrir un archivo:\n",
    "\n",
    "- `\"r\"`: Modo de lectura (read).\n",
    "- `\"w\"`: Modo de escritura (write).\n",
    "- `\"a\"`: Modo de agregar (append).\n",
    "- `\"r+\"`: Modo de lectura y escritura.\n",
    "\n",
    "### Ejemplo: Abrir y cerrar un archivo de texto\n",
    "\n",
    "En este ejemplo, abriremos un archivo llamado `libros.txt` que contiene una lista de libros en la biblioteca. Después de abrirlo, lo cerraremos.\n",
    "\n",
    "\n",
    "\n",
    "\n"
   ]
  },
  {
   "cell_type": "code",
   "execution_count": null,
   "metadata": {},
   "outputs": [],
   "source": [
    "# Apertura de un archivo en modo lectura\n",
    "archivo = open(\"libros.txt\", \"r\")\n",
    "\n",
    "# Leer el contenido del archivo\n",
    "contenido = archivo.read()\n",
    "\n",
    "# Cerrar el archivo\n",
    "archivo.close()\n",
    "\n",
    "# Mostrar el contenido leído\n",
    "print(contenido)"
   ]
  },
  {
   "cell_type": "markdown",
   "metadata": {},
   "source": [
    "## Uso de la declaración with\n",
    "Es una práctica común utilizar la declaración with al abrir archivos, ya que asegura que el archivo se cierre automáticamente, incluso si ocurre una excepción."
   ]
  },
  {
   "cell_type": "code",
   "execution_count": null,
   "metadata": {},
   "outputs": [],
   "source": [
    "# Apertura de archivo con 'with'\n",
    "with open(\"libros.txt\", \"r\") as archivo:\n",
    "    contenido = archivo.read()\n",
    "\n",
    "# No es necesario cerrar el archivo manualmente\n",
    "print(contenido)\n"
   ]
  },
  {
   "cell_type": "markdown",
   "metadata": {},
   "source": [
    "## Lectura y Escritura de Archivos\n",
    "Python nos permite leer y escribir archivos de varias formas. A continuación, veremos cómo leer todo el contenido de un archivo, cómo leer línea por línea, y cómo escribir en un archivo.\n",
    "\n",
    "### Lectura de un archivo completo\n",
    "Para leer todo el contenido de un archivo a la vez, usamos el método read()."
   ]
  },
  {
   "cell_type": "code",
   "execution_count": null,
   "metadata": {},
   "outputs": [],
   "source": [
    "with open(\"libros.txt\", \"r\") as archivo:\n",
    "    contenido = archivo.read()\n",
    "    print(contenido)"
   ]
  },
  {
   "cell_type": "markdown",
   "metadata": {},
   "source": [
    "### Lectura línea por línea\n",
    "Podemos leer un archivo línea por línea utilizando el método readline() o iterando sobre el archivo directamente."
   ]
  },
  {
   "cell_type": "code",
   "execution_count": 4,
   "metadata": {},
   "outputs": [],
   "source": [
    "# Leer línea por línea con readline()\n",
    "with open(\"libros.txt\", \"r\") as archivo:\n",
    "    linea = archivo.readline()\n",
    "    while linea:\n",
    "        print(linea.strip())  # Eliminamos los saltos de línea\n",
    "        linea = archivo.readline()"
   ]
  },
  {
   "cell_type": "markdown",
   "metadata": {},
   "source": [
    "## Escritura en archivos\n",
    "El modo \"w\" se utiliza para escribir en archivos. Ten en cuenta que si el archivo ya existe, se sobreescribirá. Si no existe, se creará uno nuevo."
   ]
  },
  {
   "cell_type": "code",
   "execution_count": 5,
   "metadata": {},
   "outputs": [],
   "source": [
    "# Escritura en un archivo\n",
    "with open(\"nuevos_libros.txt\", \"w\") as archivo:\n",
    "    archivo.write(\"El Señor de los Anillos\\n\")\n",
    "    archivo.write(\"1984\\n\")\n",
    "    archivo.write(\"Cien Años de Soledad\\n\")"
   ]
  },
  {
   "cell_type": "markdown",
   "metadata": {},
   "source": [
    "### Agregar contenido a un archivo\n",
    "Para agregar contenido a un archivo sin sobrescribir lo que ya existe, utilizamos el modo \"a\" (append)."
   ]
  },
  {
   "cell_type": "code",
   "execution_count": 6,
   "metadata": {},
   "outputs": [],
   "source": [
    "# Agregar nuevos libros al archivo\n",
    "with open(\"nuevos_libros.txt\", \"a\") as archivo:\n",
    "    archivo.write(\"Don Quijote de la Mancha\\n\")\n",
    "    archivo.write(\"La Divina Comedia\\n\")"
   ]
  },
  {
   "cell_type": "markdown",
   "metadata": {},
   "source": [
    "## Operaciones con Archivos\n",
    "Además de leer y escribir, podemos realizar otras operaciones útiles con archivos, como contar líneas, buscar palabras, o trabajar con archivos CSV que almacenan datos en forma tabular.\n",
    "\n",
    "### Contar el número de líneas en un archivo"
   ]
  },
  {
   "cell_type": "code",
   "execution_count": null,
   "metadata": {},
   "outputs": [],
   "source": [
    "def contar_lineas(nombre_archivo):\n",
    "    with open(nombre_archivo, \"r\") as archivo:\n",
    "        lineas = archivo.readlines()\n",
    "        return len(lineas)\n",
    "\n",
    "# Contar líneas en 'libros.txt'\n",
    "num_lineas = contar_lineas(\"libros.txt\")\n",
    "print(f\"El archivo tiene {num_lineas} líneas.\")\n"
   ]
  },
  {
   "cell_type": "markdown",
   "metadata": {},
   "source": [
    "### Buscar una palabra en un archivo\n",
    "Supongamos que queremos buscar si un libro en particular está disponible en la biblioteca. Podemos buscar una palabra específica dentro del archivo."
   ]
  },
  {
   "cell_type": "code",
   "execution_count": null,
   "metadata": {},
   "outputs": [],
   "source": [
    "def buscar_palabra(nombre_archivo, palabra):\n",
    "    with open(nombre_archivo, \"r\") as archivo:\n",
    "        for linea in archivo:\n",
    "            if palabra in linea:\n",
    "                print(f\"'{palabra}' encontrado en: {linea.strip()}\")\n",
    "                return True\n",
    "    print(f\"'{palabra}' no se encontró en el archivo.\")\n",
    "    return False\n",
    "\n",
    "# Buscar un libro en el archivo\n",
    "buscar_palabra(\"libros.txt\", \"1984\")\n"
   ]
  },
  {
   "cell_type": "markdown",
   "metadata": {},
   "source": [
    "### Leer y escribir archivos CSV\n",
    "Los archivos CSV son comunes para almacenar datos en formato tabular. Python ofrece el módulo csv para facilitar el trabajo con este tipo de archivos."
   ]
  },
  {
   "cell_type": "code",
   "execution_count": null,
   "metadata": {},
   "outputs": [],
   "source": [
    "import csv\n",
    "\n",
    "# Leer un archivo CSV de libros\n",
    "with open(\"libros.csv\", \"r\") as archivo_csv:\n",
    "    lector_csv = csv.reader(archivo_csv)\n",
    "    for fila in lector_csv:\n",
    "        print(fila)"
   ]
  },
  {
   "cell_type": "markdown",
   "metadata": {},
   "source": [
    "Podemos escribir en un archivo CSV de manera similar."
   ]
  },
  {
   "cell_type": "code",
   "execution_count": 13,
   "metadata": {},
   "outputs": [],
   "source": [
    "# Escribir en un archivo CSV\n",
    "with open(\"nuevos_libros.csv\", \"w\", newline=\"\") as archivo_csv:\n",
    "    escritor_csv = csv.writer(archivo_csv)\n",
    "    escritor_csv.writerow([\"Título\", \"Autor\", \"Año\"])\n",
    "    escritor_csv.writerow([\"El Hobbit\", \"J.R.R. Tolkien\", \"1937\"])\n",
    "    escritor_csv.writerow([\"Fahrenheit 451\", \"Ray Bradbury\", \"1953\"])"
   ]
  },
  {
   "cell_type": "markdown",
   "metadata": {},
   "source": [
    "### Copiar el contenido de un archivo a otro\n",
    "Podemos copiar el contenido de un archivo a otro utilizando la lectura y escritura."
   ]
  },
  {
   "cell_type": "code",
   "execution_count": 15,
   "metadata": {},
   "outputs": [],
   "source": [
    "def copiar_archivo(archivo_origen, archivo_destino):\n",
    "    with open(archivo_origen, \"r\") as origen:\n",
    "        contenido = origen.read()\n",
    "    \n",
    "    with open(archivo_destino, \"w\") as destino:\n",
    "        destino.write(contenido)\n",
    "\n",
    "# Copiar contenido de 'libros.txt' a 'copias_libros.txt'\n",
    "copiar_archivo(\"libros.txt\", \"copias_libros.txt\")\n"
   ]
  },
  {
   "cell_type": "markdown",
   "metadata": {},
   "source": [
    "## Desafíos\n",
    "### Desafío 1: Crear un archivo de préstamos de libros\n",
    "Desarrolla un programa que cree un archivo prestamos.txt y permita al usuario agregar el registro de un préstamo. El registro debe incluir el nombre del libro, el nombre del prestatario y la fecha del préstamo. Asegúrate de no sobrescribir el archivo cada vez que se agrega un nuevo préstamo.\n",
    "\n",
    "### Desafío 2: Buscar un libro por autor en un archivo de texto\n",
    "Dado un archivo libros.txt que contiene una lista de libros y sus autores, implementa una función que busque todos los libros escritos por un autor específico y los muestre. Si el autor no tiene libros en la lista, debe mostrar un mensaje indicando que no hay coincidencias.\n",
    "\n",
    "### Desafío 3: Actualizar la cantidad de libros disponibles en un archivo CSV\n",
    "Tienes un archivo inventario.csv que contiene una lista de libros y el número de copias disponibles. Escribe un programa que permita actualizar la cantidad de copias de un libro específico. El programa debe leer el archivo, modificar el número de copias y volver a escribir el archivo.\n",
    "\n",
    "### Desafío 4: Eliminar registros de un archivo de préstamos\n",
    "Escribe un programa que permita eliminar el registro de un préstamo de un archivo prestamos.txt. El programa debe mostrar los registros actuales, permitir al usuario seleccionar cuál eliminar, y luego actualizar el archivo sin el registro eliminado.\n",
    "\n",
    "### Desafío 5: Contar las palabras más comunes en un archivo de texto\n",
    "Desarrolla una función que lea un archivo de texto grande, como libros.txt, y cuente cuántas veces aparece cada palabra. Luego, muestra las 5 palabras más comunes y cuántas veces aparecen."
   ]
  },
  {
   "cell_type": "markdown",
   "metadata": {},
   "source": [
    "## Desafío 1: Crear un archivo de préstamos de libros"
   ]
  },
  {
   "cell_type": "markdown",
   "metadata": {},
   "source": [
    "Este desafío requiere crear un archivo *prestamos.txt* para registrar préstamos sin sobrescribir el contenido existente cada vez que se agrega un nuevo préstamo. Utilizar el modo de apertura *\"a\"* (append) para añadir datos al archivo."
   ]
  },
  {
   "cell_type": "code",
   "execution_count": 9,
   "metadata": {},
   "outputs": [
    {
     "name": "stdout",
     "output_type": "stream",
     "text": [
      "Manejo de archivos en Python-Tema5-5des1:\n",
      "\n",
      "Préstamo registrado: El Principito, Juan López, 2024-11-05\n"
     ]
    }
   ],
   "source": [
    "# DESAFÍO 1\n",
    "print(\"Manejo de archivos en Python-Tema5-5des1:\\n\") #Nombre de la actividad, tema(5), bloque(5), desafío(1)\n",
    "\n",
    "# Desarrollamos una función para registrar un nuevo préstamo en el archivo\n",
    "def registrar_prestamo(nombre_libro, nombre_prestatario, fecha_prestamo):\n",
    "    # Usamos un bloque try para manejar posibles errores durante la escritura del archivo\n",
    "    try:\n",
    "        # Usamos 'with' para abrir el archivo en modo 'append' (agregar) para no sobrescribir el archivo\n",
    "        # Abrimos el archivo en modo 'a' para agregar datos sin sobrescribir el contenido existente\n",
    "        with open(\"prestamos.txt\", \"a\") as archivo:\n",
    "            # Escribimos la información del préstamo en una línea\n",
    "            archivo.write(f\"{nombre_libro}, {nombre_prestatario}, {fecha_prestamo}\\n\")\n",
    "            # Mensaje de confirmación para informar al usuario que el préstamo fue registrado\n",
    "            print(f\"Préstamo registrado: {nombre_libro}, {nombre_prestatario}, {fecha_prestamo}\")\n",
    "    except Exception as e:\n",
    "        # En caso de error, mostramos el mensaje en la consola\n",
    "        print(f\"Error al registrar préstamo: {e}\")\n",
    "\n",
    "# Ejemplo de uso\n",
    "registrar_prestamo(\"El Principito\", \"Juan López\", \"2024-11-05\")"
   ]
  },
  {
   "cell_type": "markdown",
   "metadata": {},
   "source": [
    "➡️ Puedes ver la solución al desafío 1 en el link: http://tpcg.io/V0T0RX"
   ]
  },
  {
   "cell_type": "markdown",
   "metadata": {},
   "source": [
    "## Desafío 2: Buscar un libro por autor en un archivo de texto"
   ]
  },
  {
   "cell_type": "markdown",
   "metadata": {},
   "source": [
    "Leer un archivo *libros.txt* y buscar todos los libros escritos por un autor específico."
   ]
  },
  {
   "cell_type": "code",
   "execution_count": null,
   "metadata": {},
   "outputs": [],
   "source": [
    "# DESAFÍO 2: Buscar un libro por autor en un archivo de texto\n",
    "print(\"Manejo de archivos en Python-Tema5-5des2:\\n\") #Nombre de la actividad, tema(5), bloque(5), desafío(2)\n",
    "# Función para buscar libros por un autor específico en un archivo\n",
    "def buscar_libros_por_autor(autor_objetivo):\n",
    "    # Abrimos el archivo en modo lectura\n",
    "    with open(\"libros.txt\", \"r\") as archivo:\n",
    "        encontrado = False  # Bandera para verificar si se encontró el autor\n",
    "        # Iteramos por cada línea en el archivo\n",
    "        for linea in archivo:\n",
    "            # Comprobamos si el nombre del autor está en la línea\n",
    "            if autor_objetivo in linea:\n",
    "                print(f\"Libro encontrado: {linea.strip()}\")\n",
    "                encontrado = True\n",
    "        # Si el autor no se encontró, mostramos un mensaje\n",
    "        if not encontrado:\n",
    "            print(f\"No se encontraron libros de {autor_objetivo}\")\n",
    "\n",
    "# Ejemplo de uso\n",
    "buscar_libros_por_autor(\"Gabriel García Márquez\")"
   ]
  },
  {
   "cell_type": "markdown",
   "metadata": {},
   "source": [
    "➡️ Puedes ver la solución al desafío 2 en el link: http://tpcg.io/9N8YWA"
   ]
  },
  {
   "cell_type": "markdown",
   "metadata": {},
   "source": [
    "## Desafío 3: Actualizar la cantidad de libros disponibles en un archivo CSV"
   ]
  },
  {
   "cell_type": "markdown",
   "metadata": {},
   "source": [
    "Leer un archivo CSV que contiene inventario de libros y actualizar la cantidad de copias de un libro específico."
   ]
  },
  {
   "cell_type": "code",
   "execution_count": 16,
   "metadata": {},
   "outputs": [
    {
     "name": "stdout",
     "output_type": "stream",
     "text": [
      "Manejo de archivos en Python-Tema5-5des3:\n",
      "\n",
      "Error: El archivo inventario.csv no existe.\n"
     ]
    }
   ],
   "source": [
    "# DESAFÍO 3\n",
    "print(\"Manejo de archivos en Python-Tema5-5des3:\\n\") #Nombre de la actividad, tema(5), bloque(5), desafío(3)\n",
    "\n",
    "# Importamos el módulo csv para leer y escribir en archivos CSV\n",
    "import csv\n",
    "\n",
    "# Función para actualizar la cantidad de copias de un libro en el archivo inventario.csv\n",
    "def actualizar_cantidad_libros(titulo_objetivo, nueva_cantidad):\n",
    "    # Creamos una lista para almacenar el inventario actualizado\n",
    "    inventario_actualizado = []\n",
    "\n",
    "    # Bloque try para manejar posibles errores\n",
    "    try:\n",
    "        # Abrimos el archivo CSV en modo lectura para leer el inventario actual\n",
    "        with open(\"inventario.csv\", \"r\") as archivo:\n",
    "            lector = csv.reader(archivo)  # Creamos un lector CSV\n",
    "            for fila in lector:\n",
    "                # Si encontramos el título, actualizamos la cantidad de copias\n",
    "                if fila[0] == titulo_objetivo:\n",
    "                    fila[2] = str(nueva_cantidad)  # Actualizamos la columna de cantidad\n",
    "                # Agregamos la fila actual (modificada o no) a la lista\n",
    "                inventario_actualizado.append(fila)\n",
    "\n",
    "        # Abrimos el archivo CSV en modo escritura para guardar los cambios\n",
    "        with open(\"inventario.csv\", \"w\", newline=\"\") as archivo:\n",
    "            escritor = csv.writer(archivo)  # Creamos un escritor CSV\n",
    "            escritor.writerows(inventario_actualizado)  # Escribimos todas las filas actualizadas\n",
    "        # Mensaje de confirmación\n",
    "        print(f\"Cantidad de copias de '{titulo_objetivo}' actualizada a {nueva_cantidad}.\")\n",
    "    except FileNotFoundError:\n",
    "        # Mensaje si el archivo no existe\n",
    "        print(\"Error: El archivo inventario.csv no existe.\")\n",
    "    except Exception as e:\n",
    "        # Mensaje de error para otras excepciones\n",
    "        print(f\"Error al actualizar inventario: {e}\")\n",
    "\n",
    "# Ejemplo de uso\n",
    "actualizar_cantidad_libros(\"Cien Años de Soledad\", 5)"
   ]
  },
  {
   "cell_type": "markdown",
   "metadata": {},
   "source": [
    "➡️ Puedes ver la solución al desafío 3 en el link: http://tpcg.io/XXJAYP"
   ]
  },
  {
   "cell_type": "markdown",
   "metadata": {},
   "source": [
    "## Desafío 4: Eliminar registros de un archivo de préstamos"
   ]
  },
  {
   "cell_type": "markdown",
   "metadata": {},
   "source": [
    "Este desafío requiere mostrar todos los registros en *prestamos.txt*, permitir al usuario seleccionar cuál eliminar y luego actualizar el archivo sin ese registro."
   ]
  },
  {
   "cell_type": "code",
   "execution_count": 18,
   "metadata": {},
   "outputs": [
    {
     "name": "stdout",
     "output_type": "stream",
     "text": [
      "Manejo de archivos en Python-Tema5-5des4:\n",
      "\n",
      "1. El Principito, Juan López, 2024-11-05\n",
      "2. El Principito, Juan López, 2024-11-05\n",
      "3. El Principito, Juan López, 2024-11-05\n"
     ]
    }
   ],
   "source": [
    "# DESAFÍO 4\n",
    "print(\"Manejo de archivos en Python-Tema5-5des4:\\n\") #Nombre de la actividad, tema(5), bloque(5), desafío(4)\n",
    "# Función para mostrar los registros actuales de préstamos\n",
    "def mostrar_prestamos():\n",
    "    with open(\"prestamos.txt\", \"r\") as archivo:\n",
    "        prestamos = archivo.readlines()  # Leemos todas las líneas en una lista\n",
    "        for i, prestamo in enumerate(prestamos, 1):\n",
    "            print(f\"{i}. {prestamo.strip()}\")  # Mostramos cada línea con un índice\n",
    "\n",
    "# Función para eliminar un préstamo específico\n",
    "def eliminar_prestamo(indice_a_eliminar):\n",
    "    with open(\"prestamos.txt\", \"r\") as archivo:\n",
    "        prestamos = archivo.readlines()  # Obtenemos la lista de todos los préstamos\n",
    "    \n",
    "    # Eliminamos el préstamo en el índice especificado\n",
    "    if 1 <= indice_a_eliminar <= len(prestamos):\n",
    "        del prestamos[indice_a_eliminar - 1]  # Eliminamos la línea correspondiente\n",
    "\n",
    "        # Escribimos el contenido actualizado en el archivo\n",
    "        with open(\"prestamos.txt\", \"w\") as archivo:\n",
    "            archivo.writelines(prestamos)  # Sobrescribimos el archivo sin el préstamo eliminado\n",
    "    else:\n",
    "        print(\"Índice fuera de rango\")\n",
    "\n",
    "# Ejemplo de uso\n",
    "mostrar_prestamos()  # Mostramos los registros actuales para que el usuario seleccione\n",
    "eliminar_prestamo(1)  # Eliminamos el préstamo en la posición especificada"
   ]
  },
  {
   "cell_type": "markdown",
   "metadata": {},
   "source": [
    "➡️ Puedes ver la solución al desafío 1 en el link: http://tpcg.io/V0T0RX"
   ]
  },
  {
   "cell_type": "code",
   "execution_count": null,
   "metadata": {},
   "outputs": [],
   "source": [
    "# DESAFÍO 5\n",
    "print(\"Manejo de archivos en Python-Tema5-5des5:\\n\") #Nombre de la actividad, tema(5), bloque(5), desafío(5)"
   ]
  },
  {
   "cell_type": "markdown",
   "metadata": {},
   "source": [
    "➡️ Puedes ver la solución al desafío 1 en el link: http://tpcg.io/V0T0RX"
   ]
  }
 ],
 "metadata": {
  "kernelspec": {
   "display_name": "Python 3",
   "language": "python",
   "name": "python3"
  },
  "language_info": {
   "codemirror_mode": {
    "name": "ipython",
    "version": 3
   },
   "file_extension": ".py",
   "mimetype": "text/x-python",
   "name": "python",
   "nbconvert_exporter": "python",
   "pygments_lexer": "ipython3",
   "version": "3.12.2"
  }
 },
 "nbformat": 4,
 "nbformat_minor": 2
}
