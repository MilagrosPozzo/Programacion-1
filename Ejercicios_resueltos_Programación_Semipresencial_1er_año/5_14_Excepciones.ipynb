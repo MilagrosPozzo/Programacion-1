{
 "cells": [
  {
   "cell_type": "markdown",
   "metadata": {},
   "source": [
    "# Excepciones y errores"
   ]
  },
  {
   "cell_type": "markdown",
   "metadata": {},
   "source": [
    "## Excepciones\n",
    "\n",
    "\"El agua hierve a 100 grados bajo cero cuando hace calor.\"\n",
    "\n",
    "Aunque esta oración es correcta desde el punto de vista gramatical, su significado está lleno de contradicciones. Algo similar ocurre en la programación: incluso cuando el código tiene la sintaxis correcta, puede generar errores lógicos durante la ejecución. A estos errores se les conoce como excepciones, y son detectados cuando el programa se está ejecutando, generando mensajes de error que pueden, en muchos casos, ser controlados y gestionados.\n",
    "\n",
    "Ejecuta las siguientes líneas y observa que ocurre..."
   ]
  },
  {
   "cell_type": "code",
   "execution_count": null,
   "metadata": {},
   "outputs": [],
   "source": [
    "10 * (1/0)"
   ]
  },
  {
   "cell_type": "code",
   "execution_count": null,
   "metadata": {},
   "outputs": [],
   "source": [
    "4 + spam*3"
   ]
  },
  {
   "cell_type": "code",
   "execution_count": null,
   "metadata": {},
   "outputs": [],
   "source": [
    "'2' + 2"
   ]
  },
  {
   "cell_type": "markdown",
   "metadata": {},
   "source": [
    "La última línea del mensaje de error es crucial, ya que indica qué tipo de excepción ha ocurrido. Cada tipo de excepción tiene un propósito específico y se utiliza para señalar un tipo particular de error.\n",
    "\n",
    "Explicar las caracteristicas propias de los errores cometidos en los codigos anteriores."
   ]
  },
  {
   "cell_type": "markdown",
   "metadata": {},
   "source": [
    "# Como corregir esas excepciones"
   ]
  },
  {
   "cell_type": "code",
   "execution_count": null,
   "metadata": {},
   "outputs": [],
   "source": [
    "a = (int) (input(\"Ingrese el dividendo: \"))\n",
    "b = (int) (input(\"Ingrese el divisor: \"))\n",
    "\n",
    "print(a/b)"
   ]
  },
  {
   "cell_type": "markdown",
   "metadata": {},
   "source": [
    "Esto no funciona porque el usuario puede ingresar en b el valor 0.\n",
    "Mejoremos el codigo."
   ]
  },
  {
   "cell_type": "code",
   "execution_count": null,
   "metadata": {},
   "outputs": [],
   "source": [
    "# Solicitamos al usuario el dividendo y lo convertimos a entero\n",
    "a = float(input(\"Ingrese el dividendo: \"))\n",
    "\n",
    "# Solicitamos al usuario el divisor y lo convertimos a entero\n",
    "b = float(input(\"Ingrese el divisor: \"))\n",
    "\n",
    "# Intentamos realizar la división\n",
    "try:\n",
    "    resultado = a/b\n",
    "    print(resultado)\n",
    "except ZeroDivisionError:  # Si ocurre una división por cero\n",
    "    print(\"Error: División por cero no permitida.\")\n"
   ]
  },
  {
   "cell_type": "markdown",
   "metadata": {},
   "source": [
    "## Desafíos\n",
    "### Desafío 1: \n",
    "Solicita al usuario dos números enteros e implementa un try-except que maneje la división por cero y los valores no numéricos. Muestra mensajes de error apropiados en cada caso.\n",
    "\n",
    "### Desafío 2: \n",
    "Crea un programa que tome una lista de valores y realice operaciones matemáticas sobre ellos. Implementa el manejo de varias excepciones comunes como ZeroDivisionError, TypeError, y ValueError.\n",
    "\n",
    "### Desafío 3: \n",
    "Escribe una función que calcule el factorial de un número entero positivo. Maneja las excepciones si el número ingresado es negativo, no es entero, o es demasiado grande para ser procesado.\n",
    "\n",
    "### Desafío 4: \n",
    "Crea una excepción personalizada llamada NegativeNumberError que se dispare si el usuario intenta ingresar un número negativo en un programa de cálculo de raíces cuadradas. Implementa el manejo de esta excepción en el programa.\n",
    "\n",
    "### Desafío 5: \n",
    "Desarrolla un programa que abra un archivo de texto, lea su contenido y lo muestre. Implementa manejo de excepciones para archivos que no existan y usa finally para asegurarte de que el archivo se cierre adecuadamente en cualquier caso."
   ]
  },
  {
   "cell_type": "code",
   "execution_count": null,
   "metadata": {},
   "outputs": [],
   "source": [
    "# DESAFÍO 1\n",
    "print(\"Excepciones y errores-Tema9-5des1:\\n\") #Nombre de la actividad, tema(9), bloque(5), desafío(1)\n",
    "# Importamos la función `input` que nos permitirá pedir datos al usuario\n",
    "# El bloque `try` intentará ejecutar el código que puede fallar\n",
    "try:\n",
    "    # Solicitamos al usuario el primer número y lo convertimos a entero\n",
    "    numero1 = int(input(\"Ingrese el primer número entero: \"))\n",
    "    \n",
    "    # Solicitamos al usuario el segundo número y lo convertimos a entero\n",
    "    numero2 = int(input(\"Ingrese el segundo número entero: \"))\n",
    "    \n",
    "    # Intentamos realizar la división de ambos números\n",
    "    resultado = numero1 / numero2\n",
    "    \n",
    "    # Si la división fue exitosa, mostramos el resultado\n",
    "    print(f\"El resultado de la división es: {resultado}\")\n",
    "\n",
    "# Si se produce una división por cero, este bloque lo captura\n",
    "except ZeroDivisionError:\n",
    "    print(\"Error: No se puede dividir por cero.\")\n",
    "\n",
    "# Si el usuario ingresa un valor no numérico, este bloque lo captura\n",
    "except ValueError:\n",
    "    print(\"Error: Entrada no válida. Por favor, ingrese solo números enteros.\")"
   ]
  },
  {
   "cell_type": "markdown",
   "metadata": {},
   "source": [
    "➡️Puedes ver la solución al desafío 1 en el link http://tpcg.io/HUMLMG"
   ]
  },
  {
   "cell_type": "code",
   "execution_count": 1,
   "metadata": {},
   "outputs": [
    {
     "name": "stdout",
     "output_type": "stream",
     "text": [
      "Excepciones y errores-Tema9-5des2:\n",
      "\n",
      "100 dividido por 5 es 20.0\n",
      "Error: No se puede dividir por abc, no es un número.\n",
      "Error: No se puede dividir por 0, es cero.\n",
      "100 dividido por 10 es 10.0\n"
     ]
    }
   ],
   "source": [
    "# DESAFÍO 2\n",
    "print(\"Excepciones y errores-Tema9-5des2:\\n\") #Nombre de la actividad, tema(9), bloque(5), desafío(2)\n",
    "# Definimos una lista con varios valores\n",
    "lista = [5, 'abc', 0, 10]\n",
    "\n",
    "# Recorremos la lista e intentamos dividir 100 por cada valor\n",
    "for valor in lista:\n",
    "    try:\n",
    "        # Intentamos dividir 100 por el valor actual de la lista\n",
    "        resultado = 100 / valor\n",
    "        print(f\"100 dividido por {valor} es {resultado}\")\n",
    "\n",
    "    # Manejamos la excepción de división por cero\n",
    "    except ZeroDivisionError:\n",
    "        print(f\"Error: No se puede dividir por {valor}, es cero.\")\n",
    "    \n",
    "    # Manejamos la excepción cuando el tipo de dato no es numérico\n",
    "    except TypeError:\n",
    "        print(f\"Error: No se puede dividir por {valor}, no es un número.\")\n",
    "    \n",
    "    # Manejamos la excepción cuando el valor no es adecuado para la operación\n",
    "    except ValueError:\n",
    "        print(f\"Error: El valor {valor} no es válido.\")"
   ]
  },
  {
   "cell_type": "markdown",
   "metadata": {},
   "source": [
    "➡️Puedes ver la solución al desafío 2 en el link http://tpcg.io/N3S0FW"
   ]
  },
  {
   "cell_type": "code",
   "execution_count": null,
   "metadata": {},
   "outputs": [],
   "source": [
    "# DESAFÍO 3\n",
    "print(\"Excepciones y errores-Tema9-5des3:\\n\") #Nombre de la actividad, tema(9), bloque(5), desafío(3)\n",
    "import math  # Importamos la biblioteca para calcular el factorial\n",
    "\n",
    "# Solicitamos al usuario un número\n",
    "try:\n",
    "    numero = int(input(\"Ingrese un número entero positivo: \"))\n",
    "\n",
    "    # Verificamos si el número es negativo\n",
    "    if numero < 0:\n",
    "        raise ValueError(\"El número no puede ser negativo.\")  # Lanzamos una excepción personalizada\n",
    "\n",
    "    # Calculamos el factorial si es un número válido\n",
    "    resultado = math.factorial(numero)\n",
    "    print(f\"El factorial de {numero} es {resultado}\")\n",
    "\n",
    "# Manejamos la excepción de entrada no válida\n",
    "except ValueError as ve:\n",
    "    print(f\"Error: {ve}\")\n",
    "\n",
    "# Manejamos cualquier otro tipo de error inesperado\n",
    "except Exception as e:\n",
    "    print(f\"Error inesperado: {e}\")"
   ]
  },
  {
   "cell_type": "markdown",
   "metadata": {},
   "source": [
    "➡️Puedes ver la solución al desafío 3 en el link http://tpcg.io/38RBBR"
   ]
  },
  {
   "cell_type": "code",
   "execution_count": null,
   "metadata": {},
   "outputs": [],
   "source": [
    "# DESAFÍO 4\n",
    "print(\"Excepciones y errores-Tema9-5des4:\\n\") #Nombre de la actividad, tema(9), bloque(5), desafío(4)\n",
    "import math\n",
    "\n",
    "# Definimos una excepción personalizada\n",
    "class NegativeNumberError(Exception):\n",
    "    pass\n",
    "\n",
    "# Función para calcular la raíz cuadrada\n",
    "def calcular_raiz_cuadrada(numero):\n",
    "    if numero < 0:\n",
    "        # Si el número es negativo, lanzamos la excepción personalizada\n",
    "        raise NegativeNumberError(\"No se puede calcular la raíz cuadrada de un número negativo.\")\n",
    "    return math.sqrt(numero)\n",
    "\n",
    "# Solicitamos al usuario un número\n",
    "try:\n",
    "    numero = float(input(\"Ingrese un número: \"))\n",
    "    # Intentamos calcular la raíz cuadrada\n",
    "    resultado = calcular_raiz_cuadrada(numero)\n",
    "    print(f\"La raíz cuadrada de {numero} es {resultado}\")\n",
    "\n",
    "# Manejamos nuestra excepción personalizada\n",
    "except NegativeNumberError as nne:\n",
    "    print(f\"Error: {nne}\")\n",
    "\n",
    "# Manejamos la excepción si el usuario ingresa un valor no numérico\n",
    "except ValueError:\n",
    "    print(\"Error: Debe ingresar un número válido.\")"
   ]
  },
  {
   "cell_type": "markdown",
   "metadata": {},
   "source": [
    "➡️Puedes ver la solución al desafío 4 en el link http://tpcg.io/SC4612"
   ]
  },
  {
   "cell_type": "code",
   "execution_count": null,
   "metadata": {},
   "outputs": [],
   "source": [
    "# DESAFÍO 5\n",
    "print(\"Excepciones y errores-Tema9-5des5:\\n\") #Nombre de la actividad, tema(9), bloque(5), desafío(5)\n",
    "# Definición de la clase Empleado\n",
    "class Empleado:\n",
    "    def __init__(self, nombre, salario):\n",
    "        self.nombre = nombre\n",
    "        self.salario = salario\n",
    "\n",
    "# Clases adicionales para composición\n",
    "class Administrador:\n",
    "    def __init__(self, permisos):\n",
    "        self.permisos = permisos\n",
    "\n",
    "class Mantenimiento:\n",
    "    def __init__(self, habilidades):\n",
    "        self.habilidades = habilidades\n",
    "\n",
    "# Definición de la clase Gerente que hereda de Empleado\n",
    "class Gerente(Empleado, Administrador):\n",
    "    def __init__(self, nombre, salario, permisos):\n",
    "        Empleado.__init__(self, nombre, salario)\n",
    "        Administrador.__init__(self, permisos)\n",
    "\n",
    "# Definición de la clase Técnico que hereda de Empleado y usa composición\n",
    "class Tecnico(Empleado):\n",
    "    def __init__(self, nombre, salario, habilidades):\n",
    "        super().__init__(nombre, salario)\n",
    "        self.mantenimiento = Mantenimiento(habilidades)\n",
    "\n",
    "# Definición de la clase Voluntario que hereda de Empleado\n",
    "class Voluntario(Empleado):\n",
    "    def __init__(self, nombre):\n",
    "        super().__init__(nombre, salario=0)  # Voluntario sin salario\n",
    "\n",
    "# Ejemplo de uso\n",
    "gerente = Gerente(\"Laura\", 50000, \"Permisos completos\")\n",
    "tecnico = Tecnico(\"Carlos\", 30000, \"Reparación de equipos\")\n",
    "voluntario = Voluntario(\"María\")\n",
    "\n",
    "print(gerente.nombre, gerente.permisos)  # Muestra: Laura Permisos completos\n",
    "print(tecnico.nombre, tecnico.mantenimiento.habilidades)  # Muestra: Carlos Reparación de equipos\n",
    "print(voluntario.nombre, voluntario.salario)  # Muestra: María 0"
   ]
  },
  {
   "cell_type": "markdown",
   "metadata": {},
   "source": [
    "➡️Puedes ver la solución al desafío 4 en el link http://tpcg.io/FDX63N"
   ]
  }
 ],
 "metadata": {
  "kernelspec": {
   "display_name": "Python 3",
   "language": "python",
   "name": "python3"
  },
  "language_info": {
   "codemirror_mode": {
    "name": "ipython",
    "version": 3
   },
   "file_extension": ".py",
   "mimetype": "text/x-python",
   "name": "python",
   "nbconvert_exporter": "python",
   "pygments_lexer": "ipython3",
   "version": "3.12.2"
  },
  "orig_nbformat": 4
 },
 "nbformat": 4,
 "nbformat_minor": 2
}
