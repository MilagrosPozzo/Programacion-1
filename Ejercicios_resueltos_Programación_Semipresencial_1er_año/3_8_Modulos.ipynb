{
  "cells": [
    {
      "cell_type": "markdown",
      "id": "c6cc1c38",
      "metadata": {
        "colab_type": "text",
        "id": "view-in-github"
      },
      "source": [
        "<a href=\"https://colab.research.google.com/github/MilagrosPozzo/Programacion-1/blob/main/3_8_Modulos.ipynb\" target=\"_parent\"><img src=\"https://colab.research.google.com/assets/colab-badge.svg\" alt=\"Open In Colab\"/></a>"
      ]
    },
    {
      "cell_type": "markdown",
      "id": "5cf1685f",
      "metadata": {
        "id": "5cf1685f"
      },
      "source": [
        "# Módulos"
      ]
    },
    {
      "cell_type": "markdown",
      "id": "b3a1d3c7",
      "metadata": {
        "id": "b3a1d3c7"
      },
      "source": [
        "## Introducción a los módulos en Python:\n",
        "\n",
        "Al construir nuestro procesador de texto, nos damos cuenta de que algunas funciones y características que necesitamos ya existen y han sido implementadas por otros desarrolladores. En lugar de reinventar la rueda, podemos aprovechar estos conjuntos de funciones utilizando módulos en Python. Un módulo es simplemente un archivo que contiene definiciones, funciones y variables que podemos importar a nuestro código para reutilizar y simplificar nuestro trabajo.\n",
        "\n",
        "De hecho, probablemente ya hayas utilizado módulos sin darte cuenta, mediante la instrucción \"import\". Por ejemplo, si alguna vez has usado funciones matemáticas como \"sqrt\" o \"pi\", lo más probable es que hayas importado el módulo `math` para acceder a ellas, para ser más exacto:\n"
      ]
    },
    {
      "cell_type": "code",
      "execution_count": null,
      "id": "ecdfdd78",
      "metadata": {
        "id": "ecdfdd78"
      },
      "outputs": [],
      "source": [
        "import math\n",
        "\n",
        "# Usamos la función sqrt para calcular la raíz cuadrada\n",
        "resultado = math.sqrt(16)"
      ]
    },
    {
      "cell_type": "markdown",
      "id": "6251d15c",
      "metadata": {
        "id": "6251d15c"
      },
      "source": [
        "## ¿Por qué usar módulos?"
      ]
    },
    {
      "cell_type": "markdown",
      "id": "c8c0b883",
      "metadata": {
        "id": "c8c0b883"
      },
      "source": [
        "\n",
        "Utilizar módulos nos permite mantener nuestro código organizado, reutilizar código y compartir funcionalidades entre diferentes proyectos. Imagina que en nuestro procesador de texto quisiéramos añadir la capacidad de trabajar con fechas, como añadir fechas de creación o modificación a los documentos. En lugar de escribir todo el código desde cero para manejar fechas, podemos utilizar el módulo `datetime` de Python.\n",
        "\n",
        "Es importante mencionar que no todos los módulos están incluidos en la instalación base de Python. Algunos módulos de terceros deben ser instalados antes de poder usarlos. Estos suelen instalarse utilizando herramientas como `pip`, que es el gestor de paquetes de Python. Por ejemplo, si quisiéramos utilizar un módulo especializado para manejar archivos PDF, tendríamos que buscar un módulo de terceros, instalarlo con `pip`, y luego importarlo en nuestro código. Por ejemplo, para instalar el módulo pyPDF, podemos utilizar el siguiente comando:\n"
      ]
    },
    {
      "cell_type": "code",
      "execution_count": null,
      "id": "9edb08fb",
      "metadata": {
        "id": "9edb08fb"
      },
      "outputs": [],
      "source": [
        "pip install pypdf"
      ]
    },
    {
      "cell_type": "markdown",
      "id": "d2c20c1e",
      "metadata": {
        "id": "d2c20c1e"
      },
      "source": [
        "*Nota: Los módulos de terceros en Python que se pueden instalar mediante `pip` provienen de un repositorio central llamado PyPI (Python Package Index). Antes de que los paquetes se publiquen en PyPI, son revisados y validados para asegurar su <span style=\"color:skyblue\"> calidad y seguridad. </span> Además, la comunidad de Python está atenta para detectar y resolver posibles problemas de seguridad en los paquetes.*"
      ]
    },
    {
      "cell_type": "markdown",
      "id": "070311ef",
      "metadata": {
        "id": "070311ef"
      },
      "source": [
        "## Importando un módulo completo\n",
        "\n",
        "Para usar un módulo, primero debemos importarlo. A continuación, un ejemplo utilizando el módulo datetime."
      ]
    },
    {
      "cell_type": "code",
      "execution_count": null,
      "id": "6286a405",
      "metadata": {
        "id": "6286a405"
      },
      "outputs": [],
      "source": [
        "import datetime\n",
        "\n",
        "fecha_actual = datetime.datetime.now()\n",
        "print(f\"La fecha y hora actuales son: {fecha_actual}\")\n"
      ]
    },
    {
      "cell_type": "markdown",
      "id": "a7744ad2",
      "metadata": {
        "id": "a7744ad2"
      },
      "source": [
        "El módulo `datetime` viene en la instalación estándar de Python que proporciona funciones para manipular fechas y tiempos de manera sencilla y eficiente. Este módulo permite realizar operaciones como obtener la fecha y hora actuales, calcular diferencias entre fechas, o formatear fechas de diversas maneras.\n",
        "\n",
        "Lo interesante de `datetime` es que se basa en la configuración del reloj de tu computadora para obtener la fecha y la hora. Esto significa que al usar funciones como \"datetime.datetime.now()\", el valor retornado refleja la hora local configurada en el sistema en el que se está ejecutando el código."
      ]
    },
    {
      "cell_type": "markdown",
      "id": "26258a1e",
      "metadata": {
        "id": "26258a1e"
      },
      "source": [
        "## Importando solo partes de un módulo\n",
        "\n",
        "En ocasiones, solo necesitamos una función o clase específica de un módulo. En lugar de importar todo el módulo, lo cual puede ser innecesario y consumir más recursos, podemos optar por importar solo la parte que realmente necesitamos. Esto no solo hace que nuestro código sea más eficiente, sino que también lo vuelve más legible y fácil de mantener."
      ]
    },
    {
      "cell_type": "code",
      "execution_count": null,
      "id": "83781614",
      "metadata": {
        "id": "83781614"
      },
      "outputs": [],
      "source": [
        "from datetime import datetime\n",
        "\n",
        "fecha_actual = datetime.now()\n",
        "print(f\"La fecha y hora actuales son: {fecha_actual}\")\n"
      ]
    },
    {
      "cell_type": "markdown",
      "id": "9526f068",
      "metadata": {
        "id": "9526f068"
      },
      "source": [
        "## Renombrando módulos al importar\n",
        "\n",
        "A veces, por conveniencia o para evitar conflictos, podemos querer renombrar un módulo o parte de él al importarlo.\n",
        "¿Hay alguna manera de reducir \"datetime\" para no repetir todo el tiempo? Claro que si! el \"as\" permite abreviar el nombre del modulo que quieras importar."
      ]
    },
    {
      "cell_type": "code",
      "execution_count": null,
      "id": "eba94b52",
      "metadata": {
        "id": "eba94b52"
      },
      "outputs": [],
      "source": [
        "import datetime as dt\n",
        "\n",
        "fecha_actual = dt.datetime.now()\n",
        "print(f\"La fecha y hora actuales son: {fecha_actual}\")\n"
      ]
    },
    {
      "cell_type": "markdown",
      "id": "3efdc816",
      "metadata": {
        "id": "3efdc816"
      },
      "source": [
        "En este ejemplo, hemos renombrado el módulo `datetime` como `dt`, lo que nos permite utilizar un nombre más corto y cómodo sin sacrificar la funcionalidad. Esta práctica es especialmente útil cuando trabajamos con módulos cuyos nombres son largos o repetitivos, ya que reduce la cantidad de escritura y mejora la legibilidad del código, al igual que algunas abreviaturas se han vuelto casi universales para referirse a ciertos módulos."
      ]
    },
    {
      "cell_type": "markdown",
      "id": "3258fb88",
      "metadata": {
        "id": "3258fb88"
      },
      "source": [
        "## Módulos personalizados\n",
        "\n",
        "En Python, no solo podemos aprovechar los módulos estándar y de terceros, sino que también tenemos la libertad de crear nuestros propios módulos. Supongamos que, en el proceso de desarrollo de nuestro procesador de texto, hemos escrito varias funciones que nos ayudan a contar palabras, verificar la ortografía y ajustar márgenes. En lugar de escribir estas funciones una y otra vez en diferentes proyectos, podemos agruparlas y guardarlas en un archivo separado para reutilizarlas.\n",
        "\n",
        "Por ejemplo, imagina que hemos creado las siguientes funciones:"
      ]
    },
    {
      "cell_type": "code",
      "execution_count": null,
      "id": "caa6ac25",
      "metadata": {
        "id": "caa6ac25"
      },
      "outputs": [],
      "source": [
        "# procesador_texto.py\n",
        "\n",
        "def contar_palabras(texto):\n",
        "    return len(texto.split())\n",
        "\n",
        "def verificar_ortografia(texto):\n",
        "    # Simulamos una función que verifica la ortografía.\n",
        "    # En una aplicación real, esto podría ser más complejo.\n",
        "    return \"Ortografía verificada.\"\n",
        "\n",
        "def ajustar_margenes(texto, margen_izquierdo=10, margen_derecho=10):\n",
        "    return ' ' * margen_izquierdo + texto + ' ' * margen_derecho"
      ]
    },
    {
      "cell_type": "markdown",
      "id": "b8ffbdf6",
      "metadata": {
        "id": "b8ffbdf6"
      },
      "source": [
        "Una vez guardadas en el archivo procesador_texto.py, podemos importar este módulo personalizado en otros programas:"
      ]
    },
    {
      "cell_type": "code",
      "execution_count": null,
      "id": "02d0407f",
      "metadata": {
        "id": "02d0407f"
      },
      "outputs": [],
      "source": [
        "#from procesador_texto import contar_palabras, verificar_ortografia, ajustar_margenes\n",
        "\n",
        "texto = \"El procesamiento de texto en Python es poderoso.\"\n",
        "print(contar_palabras(texto))  # Imprime: 8\n",
        "print(verificar_ortografia(texto))  # Imprime: Ortografía verificada.\n",
        "print(ajustar_margenes(texto, 5, 5))  # Ajusta los márgenes del texto"
      ]
    },
    {
      "cell_type": "markdown",
      "id": "755e37df",
      "metadata": {
        "id": "755e37df"
      },
      "source": [
        "Al importar nuestro módulo personalizado, podemos acceder y utilizar las funciones que contiene, facilitando la reutilización de código y manteniendo nuestros programas principales más limpios y organizados."
      ]
    },
    {
      "cell_type": "markdown",
      "id": "805c5029",
      "metadata": {
        "id": "805c5029"
      },
      "source": [
        "\n",
        "## Desafíos\n"
      ]
    },
    {
      "cell_type": "markdown",
      "id": "7c9c2813",
      "metadata": {
        "id": "7c9c2813"
      },
      "source": [
        "**Desafio 0:**\n",
        "\n",
        "Utiliza el módulo `random` para crear un programa que genere un número aleatorio entre 1 y 100."
      ]
    },
    {
      "cell_type": "markdown",
      "id": "0aa6a287",
      "metadata": {},
      "source": [
        "El objetivo es generar un número aleatorio entre 1 y 100. La función random.randint(1, 100) es la elección ideal porque incluye tanto el valor mínimo como el máximo en su rango.\n",
        "Link con ejercicio resuelto: https://github.com/MilagrosPozzo/Programacion-1/blob/main/Bloque%203_%20Estructuras_de_datos_y_modularizaci%C3%B3n/3_8_ModDes0.ipynb"
      ]
    },
    {
      "cell_type": "markdown",
      "id": "f326e631",
      "metadata": {
        "id": "f326e631"
      },
      "source": [
        "**Desafío 1:**\n",
        "\n",
        "Investiga y utiliza al menos tres funciones del módulo `string` que puedan ser útiles para mejorar nuestro procesador de texto."
      ]
    },
    {
      "cell_type": "markdown",
      "id": "db488386",
      "metadata": {},
      "source": [
        "[string— Operaciones de cadenas comunes](https://docs.python.org/3/library/string.html)\n",
        "\n",
        "El módulo string en Python contiene diversas funciones y constantes que pueden ser útiles en un procesador de texto para manipular y procesar cadenas de caracteres. "
      ]
    },
    {
      "cell_type": "markdown",
      "id": "13638ba1",
      "metadata": {},
      "source": [
        "➡️string.capwords()\n",
        "\n",
        "Esta función toma una cadena de texto y convierte la primera letra de cada palabra en mayúscula, mientras convierte las demás letras en minúsculas. Esto es útil para dar formato a títulos, nombres, u otras frases donde cada palabra debería comenzar con una letra mayúscula."
      ]
    },
    {
      "cell_type": "code",
      "execution_count": null,
      "id": "daca3984",
      "metadata": {},
      "outputs": [],
      "source": [
        "import string\n",
        "\n",
        "texto = \"bienvenido al mundo de la programación en python\"\n",
        "texto_capitalizado = string.capwords(texto)\n",
        "print(texto_capitalizado)  # \"Bienvenido Al Mundo De La Programación En Python\""
      ]
    },
    {
      "cell_type": "markdown",
      "id": "713e85c9",
      "metadata": {},
      "source": [
        "➡️string.ascii_letters\n",
        "\n",
        "Esta constante devuelve una cadena que contiene todos los caracteres alfabéticos en minúsculas y mayúsculas (es decir, todas las letras desde a-z y A-Z). Es útil cuando necesitas verificar si un carácter es una letra o para generar claves o contraseñas aleatorias."
      ]
    },
    {
      "cell_type": "code",
      "execution_count": null,
      "id": "672f5179",
      "metadata": {},
      "outputs": [],
      "source": [
        "import string\n",
        "import random\n",
        "\n",
        "# Generar una cadena aleatoria de 8 caracteres que contenga solo letras\n",
        "clave = ''.join(random.choice(string.ascii_letters) for _ in range(8))\n",
        "print(clave)  # Ejemplo de salida: \"AbcDefGh\""
      ]
    },
    {
      "cell_type": "markdown",
      "id": "bc3b6068",
      "metadata": {},
      "source": [
        "➡️string.punctuation\n",
        "\n",
        "Esta constante contiene todos los signos de puntuación, lo cual es útil si deseas eliminar o validar la puntuación en un texto."
      ]
    },
    {
      "cell_type": "code",
      "execution_count": null,
      "id": "23d5cb62",
      "metadata": {},
      "outputs": [],
      "source": [
        "import string\n",
        "\n",
        "texto = \"¡Hola, mundo! ¿Cómo estás?\"\n",
        "texto_sin_puntuacion = texto.translate(str.maketrans('', '', string.punctuation))\n",
        "print(texto_sin_puntuacion)  # \"Hola mundo Cómo estás\""
      ]
    },
    {
      "cell_type": "markdown",
      "id": "51a97b5a",
      "metadata": {
        "id": "51a97b5a"
      },
      "source": [
        "**Desafío 2:**\n",
        "\n",
        "Utiliza el módulo `random` de Python para crear un programa que genere una contraseña aleatoria de 8 caracteres que incluya letras minúsculas, letras mayúsculas y números."
      ]
    },
    {
      "cell_type": "markdown",
      "id": "e5b7bb33",
      "metadata": {
        "id": "e5b7bb33"
      },
      "source": [
        "**Desafío 3:**\n",
        "\n",
        "Crea un módulo personalizado que contenga funciones para cambiar el formato del texto (por ejemplo, a negrita, itálica, etc.) e impórtalo en un nuevo programa."
      ]
    },
    {
      "cell_type": "markdown",
      "id": "16b79fce",
      "metadata": {},
      "source": []
    },
    {
      "cell_type": "markdown",
      "id": "41ccace2",
      "metadata": {
        "id": "41ccace2"
      },
      "source": [
        "**Desafío 4:**\n",
        "\n",
        "Utiliza el módulo `collections` para analizar un texto y generar estadísticas avanzadas,\n",
        "como las 10 palabras más comunes y su frecuencia.\n",
        "Extiende esto creando un gráfico de barras con matplotlib para visualizar la frecuencia de las palabras."
      ]
    },
    {
      "cell_type": "code",
      "execution_count": 1,
      "id": "6cc5a47a",
      "metadata": {},
      "outputs": [
        {
          "data": {
            "image/png": "[encoded data removed]",
            "text/plain": [
              "<Figure size 1000x600 with 1 Axes>"
            ]
          },
          "metadata": {},
          "output_type": "display_data"
        },
        {
          "name": "stdout",
          "output_type": "stream",
          "text": [
            "None\n"
          ]
        }
      ],
      "source": [
        "# main.py\n",
        "import collections as col\n",
        "import matplotlib.pyplot as plt\n",
        "\n",
        "def analizadorDeTexto(textoParaAnalizar):\n",
        "    if not textoParaAnalizar :\n",
        "        print(\"El texto no es válido\")\n",
        "    else:\n",
        "        #Counter es una subclase de dict que cuenta la frecuencia de los elementos. \n",
        "        #Almacena pares clave-valor donde la clave es el elemento de la colección \n",
        "        # y el valor es la cantidad de veces que ese elemento aparece\n",
        "        #El método most_common(n) de un objeto Counter devuelve una lista de los n elementos más comunes \n",
        "        # y sus frecuencias en orden descendente\n",
        "        \n",
        "        palabrasMasComunes = col.Counter(textoParaAnalizar).most_common(10)  \n",
        "        #llama a la función que genera la grafica y le pasa como parametro las palabras más usadas. \n",
        "        graficarDatos(palabrasMasComunes)\n",
        "    \n",
        "\n",
        "def graficarDatos(data):\n",
        "    \n",
        "    # Separa los datos en dos listas: palabras y frecuencias\n",
        "    words, frequencies = zip(*data)\n",
        "\n",
        "    # Crear la gráfica de barras con 10 pulgadas de ancho y 6 de alto \n",
        "    plt.figure(figsize=(10, 6))\n",
        "    \n",
        "    # words se utiliza para las etiquetas del eje X \n",
        "    # frequencies para la altura de las barras en el eje Y. \n",
        "    # El color de las barras se establece en 'skyblue'.\n",
        "    plt.bar(words, frequencies, color='skyblue')\n",
        "\n",
        "    # Añadir título y etiquetas\n",
        "    plt.title('Frecuencia de palabras')\n",
        "    plt.xlabel('Palabras')\n",
        "    plt.ylabel('Frecuencia')\n",
        "\n",
        "    # Mostrar la gráfica\n",
        "    plt.show()\n",
        "    \n",
        "    \n",
        "# Texto de ejemplo\n",
        "texto = \"Python es un lenguaje de alto nivel de programación interpretado cuya filosofía hace hincapié en la legibilidad de su código. Se trata de un lenguaje de programación multiparadigma, ya que soporta parcialmente la orientación a objetos, programación imperativa y, en menor medida, programación funcional.\"\n",
        "# llamo a la función que analiza el texto \n",
        "print(analizadorDeTexto(texto.split(\" \")))"
      ]
    },
    {
      "cell_type": "markdown",
      "id": "ad90daba",
      "metadata": {
        "id": "ad90daba"
      },
      "source": [
        "**Desafío 5:**\n",
        "\n",
        "Utiliza el módulo `os` para interactuar con el sistema operativo y añade características como guardar un archivo o leer un archivo existente en nuestro procesador de texto."
      ]
    },
    {
      "cell_type": "markdown",
      "id": "9b10274e",
      "metadata": {
        "id": "9b10274e"
      },
      "source": [
        "**Desafio 6:**\n",
        "\n",
        "Calculadora de Fechas\n",
        "Objetivo:\n",
        "Escribir un programa en Python que permita calcular la diferencia entre dos fechas, utilizando el módulo `datetime.`"
      ]
    }
  ],
  "metadata": {
    "colab": {
      "include_colab_link": true,
      "provenance": []
    },
    "kernelspec": {
      "display_name": "Python 3",
      "language": "python",
      "name": "python3"
    },
    "language_info": {
      "codemirror_mode": {
        "name": "ipython",
        "version": 3
      },
      "file_extension": ".py",
      "mimetype": "text/x-python",
      "name": "python",
      "nbconvert_exporter": "python",
      "pygments_lexer": "ipython3",
      "version": "3.12.2"
    }
  },
  "nbformat": 4,
  "nbformat_minor": 5
}
