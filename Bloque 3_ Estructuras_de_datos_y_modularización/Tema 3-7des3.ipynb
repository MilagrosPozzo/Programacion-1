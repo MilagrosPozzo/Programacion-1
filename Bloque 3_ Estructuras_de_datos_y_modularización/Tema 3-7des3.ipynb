{
  "cells": [
    {
      "cell_type": "markdown",
      "metadata": {
        "colab_type": "text",
        "id": "view-in-github"
      },
      "source": [
        "<a href=\"https://colab.research.google.com/github/MilagrosPozzo/Programacion-1/blob/main/3_7_Arreglos.ipynb\" target=\"_parent\"><img src=\"https://colab.research.google.com/assets/colab-badge.svg\" alt=\"Open In Colab\"/></a>"
      ]
    },
    {
      "cell_type": "markdown",
      "metadata": {
        "id": "zamEmCPpdu0g"
      },
      "source": [
        "\n",
        "# Desafío 3: Caracteres ASCII\n",
        "Eres un desarrollador creando una herramienta educativa que muestra los caracteres ASCII correspondientes a una lista de números. Se recomienda usar la función chr() para convertir los números en caracteres."
      ]
    },
    {
      "cell_type": "markdown",
      "metadata": {},
      "source": [
        "### ¿Qué es la tabla ASCII?\n",
        "\n",
        "¿Qué es la tabla ASCII?\n",
        "La tabla ASCII (American Standard Code for Information Interchange) es un conjunto de códigos de caracteres que asigna un número único a cada símbolo, letra, dígito o signo. Originalmente, ASCII utilizaba 7 bits para representar 128 caracteres, pero luego se extendió a 8 bits (256 caracteres) en la variante Windows-1252.\n",
        "\n",
        "Caracteres de control (códigos 0-31)\n",
        "Los primeros 32 caracteres de la tabla ASCII son códigos de control no imprimibles. Estos se utilizan para controlar periféricos como impresoras.\n",
        "\n",
        "Caracteres imprimibles (códigos 32-127)\n",
        "Los códigos 32-127 son comunes para todas las variantes de la tabla ASCII. Estos representan letras, dígitos, signos de puntuación y otros símbolos. \n",
        "\n",
        "Explicación: Conversión de Números a Caracteres ASCII (línea 4): Utilizar una comprensión de lista para generar números ASCII imprimibles (32-126). Esto demuestra una forma eficiente de crear listas en Python.\n",
        "Conversión de números a caracteres (línea 7): Implementar una comprensión de lista con la función chr()para convertir números a caracteres. \n",
        "Presentar resultados (líneas 10-11): Utilizar un bucle con enumeración para mostrar tanto el número como el carácter correspondiente, mejorando la legibilidad de la salida."
      ]
    },
    {
      "cell_type": "code",
      "execution_count": 2,
      "metadata": {},
      "outputs": [
        {
          "name": "stdout",
          "output_type": "stream",
          "text": [
            "El carácter ASCII para el número 65 es: A\n"
          ]
        }
      ],
      "source": [
        "numero = 65  # Representa la letra 'A'\n",
        "caracter = chr(numero)\n",
        "print(f\"El carácter ASCII para el número {numero} es: {caracter}\")"
      ]
    },
    {
      "cell_type": "markdown",
      "metadata": {},
      "source": [
        "💡 *Otra opción de resolución* Se presenta un código simple que toma una lista de números y convierte cada número en su correspondiente carácter ASCII:"
      ]
    },
    {
      "cell_type": "code",
      "execution_count": 1,
      "metadata": {},
      "outputs": [
        {
          "name": "stdout",
          "output_type": "stream",
          "text": [
            "Número: 65 => Carácter ASCII: A\n",
            "Número: 66 => Carácter ASCII: B\n",
            "Número: 67 => Carácter ASCII: C\n",
            "Número: 68 => Carácter ASCII: D\n",
            "Número: 69 => Carácter ASCII: E\n",
            "Número: 97 => Carácter ASCII: a\n",
            "Número: 98 => Carácter ASCII: b\n",
            "Número: 99 => Carácter ASCII: c\n",
            "Número: 100 => Carácter ASCII: d\n",
            "Número: 101 => Carácter ASCII: e\n"
          ]
        }
      ],
      "source": [
        "def mostrar_caracteres_ascii(numeros):\n",
        "        #Toma una lista de números y muestra los caracteres ASCII correspondientes.\n",
        "    for numero in numeros:\n",
        "        # Convertir el número a carácter ASCII utilizando chr()\n",
        "        caracter = chr(numero)\n",
        "        print(f\"Número: {numero} => Carácter ASCII: {caracter}\")\n",
        "\n",
        "# Ejemplo de uso\n",
        "numeros = [65, 66, 67, 68, 69, 97, 98, 99, 100, 101]\n",
        "mostrar_caracteres_ascii(numeros)"
      ]
    }
  ],
  "metadata": {
    "colab": {
      "include_colab_link": true,
      "provenance": [],
      "toc_visible": true
    },
    "kernelspec": {
      "display_name": "Python 3",
      "name": "python3"
    },
    "language_info": {
      "codemirror_mode": {
        "name": "ipython",
        "version": 3
      },
      "file_extension": ".py",
      "mimetype": "text/x-python",
      "name": "python",
      "nbconvert_exporter": "python",
      "pygments_lexer": "ipython3",
      "version": "3.12.2"
    }
  },
  "nbformat": 4,
  "nbformat_minor": 0
}
