{
  "cells": [
    {
      "cell_type": "markdown",
      "id": "c6cc1c38",
      "metadata": {
        "colab_type": "text",
        "id": "view-in-github"
      },
      "source": [
        "<a href=\"https://colab.research.google.com/github/MilagrosPozzo/Programacion-1/blob/main/3_8_Modulos.ipynb\" target=\"_parent\"><img src=\"https://colab.research.google.com/assets/colab-badge.svg\" alt=\"Open In Colab\"/></a>"
      ]
    },
    {
      "cell_type": "markdown",
      "id": "805c5029",
      "metadata": {
        "id": "805c5029"
      },
      "source": [
        "\n",
        "## Desafíos\n"
      ]
    },
    {
      "cell_type": "markdown",
      "id": "51a97b5a",
      "metadata": {
        "id": "51a97b5a"
      },
      "source": [
        "**Desafío 2:**\n",
        "\n",
        "Utiliza el módulo `random` de Python para crear un programa que genere una contraseña aleatoria de 8 caracteres que incluya letras minúsculas, letras mayúsculas y números."
      ]
    },
    {
      "cell_type": "markdown",
      "id": "e5b7bb33",
      "metadata": {
        "id": "e5b7bb33"
      },
      "source": [
        "**Desafío 3:**\n",
        "\n",
        "Crea un módulo personalizado que contenga funciones para cambiar el formato del texto (por ejemplo, a negrita, itálica, etc.) e impórtalo en un nuevo programa."
      ]
    },
    {
      "cell_type": "markdown",
      "id": "16b79fce",
      "metadata": {},
      "source": []
    },
    {
      "cell_type": "markdown",
      "id": "41ccace2",
      "metadata": {
        "id": "41ccace2"
      },
      "source": [
        "**Desafío 4:**\n",
        "\n",
        "Utiliza el módulo `collections` para analizar un texto y generar estadísticas avanzadas,\n",
        "como las 10 palabras más comunes y su frecuencia.\n",
        "Extiende esto creando un gráfico de barras con matplotlib para visualizar la frecuencia de las palabras."
      ]
    },
    {
      "cell_type": "markdown",
      "id": "ad90daba",
      "metadata": {
        "id": "ad90daba"
      },
      "source": [
        "**Desafío 5:**\n",
        "\n",
        "Utiliza el módulo `os` para interactuar con el sistema operativo y añade características como guardar un archivo o leer un archivo existente en nuestro procesador de texto."
      ]
    },
    {
      "cell_type": "markdown",
      "id": "9b10274e",
      "metadata": {
        "id": "9b10274e"
      },
      "source": [
        "**Desafio 6:**\n",
        "\n",
        "Calculadora de Fechas\n",
        "Objetivo:\n",
        "Escribir un programa en Python que permita calcular la diferencia entre dos fechas, utilizando el módulo `datetime.`"
      ]
    }
  ],
  "metadata": {
    "colab": {
      "include_colab_link": true,
      "provenance": []
    },
    "kernelspec": {
      "display_name": "Python 3",
      "language": "python",
      "name": "python3"
    },
    "language_info": {
      "codemirror_mode": {
        "name": "ipython",
        "version": 3
      },
      "file_extension": ".py",
      "mimetype": "text/x-python",
      "name": "python",
      "nbconvert_exporter": "python",
      "pygments_lexer": "ipython3",
      "version": "3.12.2"
    }
  },
  "nbformat": 4,
  "nbformat_minor": 5
}
