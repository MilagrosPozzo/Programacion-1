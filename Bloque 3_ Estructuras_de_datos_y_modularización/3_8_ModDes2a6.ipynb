{
  "cells": [
    {
      "cell_type": "markdown",
      "id": "c6cc1c38",
      "metadata": {
        "colab_type": "text",
        "id": "view-in-github"
      },
      "source": [
        "<a href=\"https://colab.research.google.com/github/MilagrosPozzo/Programacion-1/blob/main/3_8_Modulos.ipynb\" target=\"_parent\"><img src=\"https://colab.research.google.com/assets/colab-badge.svg\" alt=\"Open In Colab\"/></a>"
      ]
    },
    {
      "cell_type": "markdown",
      "id": "805c5029",
      "metadata": {
        "id": "805c5029"
      },
      "source": [
        "\n",
        "## Desafíos\n"
      ]
    },
    {
      "cell_type": "markdown",
      "id": "51a97b5a",
      "metadata": {
        "id": "51a97b5a"
      },
      "source": [
        "**Desafío 2:**\n",
        "\n",
        "Utiliza el módulo `random` de Python para crear un programa que genere una contraseña aleatoria de 8 caracteres que incluya letras minúsculas, letras mayúsculas y números."
      ]
    },
    {
      "cell_type": "markdown",
      "id": "da107b05",
      "metadata": {},
      "source": [
        "Paso 1: Importar los módulos necesarios\n",
        "\n",
        "Para comenzar, necesitamos usar dos módulos:\n",
        "\n",
        "    random: Este módulo nos permitirá seleccionar caracteres de manera aleatoria.\n",
        "    string: Este módulo nos ofrece acceso a las letras del abecedario (mayúsculas y minúsculas) y los números."
      ]
    },
    {
      "cell_type": "markdown",
      "id": "431b0f5a",
      "metadata": {},
      "source": [
        "Paso 2: Definir los caracteres que queremos usar\n",
        "\n",
        "    string.ascii_lowercase contiene todas las letras minúsculas ('abcdefghijklmnopqrstuvwxyz').\n",
        "    string.ascii_uppercase contiene todas las letras mayúsculas ('ABCDEFGHIJKLMNOPQRSTUVWXYZ').\n",
        "    string.digits contiene los números del 0 al 9 ('0123456789').\n",
        "\n",
        "En este paso, se definen tres conjuntos de caracteres (minúsculas, mayúsculas y números) que vamos a usar en la contraseña."
      ]
    },
    {
      "cell_type": "markdown",
      "id": "99514aca",
      "metadata": {},
      "source": [
        "Paso 3: Combinar todos los tipos de caracteres\n",
        "\n",
        "    todos_los_caracteres = letras_minusculas + letras_mayusculas + numeros\n",
        "\n",
        "Se unen los tres conjuntos de caracteres (minúsculas, mayúsculas y números) en una sola cadena llamada todos_los_caracteres. Esta cadena contiene todas las letras y números posibles para generar la contraseña."
      ]
    },
    {
      "cell_type": "markdown",
      "id": "92d84709",
      "metadata": {},
      "source": [
        "Paso 4: Generar una contraseña aleatoria de 8 caracteres\n",
        "\n",
        "    random.choice(todos_los_caracteres): Selecciona un carácter aleatorio de la lista combinada todos_los_caracteres.\n",
        "    for _ in range(8): Ejecuta el proceso 8 veces para generar una contraseña de exactamente 8 caracteres.\n",
        "    ''.join(...): Une los 8 caracteres seleccionados en una cadena (string) para formar la contraseña completa.\n",
        "\n",
        "Básicamente, se están eligiendo 8 caracteres al azar de la lista que contiene letras mayúsculas, minúsculas y números, y luego los unimos para formar la contraseña."
      ]
    },
    {
      "cell_type": "markdown",
      "id": "1e46b8f9",
      "metadata": {},
      "source": [
        "Paso 5: Mostrar la contraseña generada\n",
        "\n",
        "Se muestra la contraseña generada al usuario usando print()"
      ]
    },
    {
      "cell_type": "code",
      "execution_count": 1,
      "id": "0cb16390",
      "metadata": {},
      "outputs": [
        {
          "name": "stdout",
          "output_type": "stream",
          "text": [
            "Tu contraseña aleatoria es: DI84ucpK\n"
          ]
        }
      ],
      "source": [
        "# Paso 1: Importamos los módulos random y string\n",
        "import random  # Para generar caracteres aleatorios\n",
        "import string  # Para usar letras y números\n",
        "\n",
        "# Paso 2: Definimos los caracteres que queremos usar (letras mayúsculas, minúsculas y números)\n",
        "letras_minusculas = string.ascii_lowercase  # 'abcdefghijklmnopqrstuvwxyz'\n",
        "letras_mayusculas = string.ascii_uppercase  # 'ABCDEFGHIJKLMNOPQRSTUVWXYZ'\n",
        "numeros = string.digits                     # '0123456789'\n",
        "\n",
        "# Paso 3: Combinamos todos los tipos de caracteres en una sola lista\n",
        "todos_los_caracteres = letras_minusculas + letras_mayusculas + numeros\n",
        "\n",
        "# Paso 4: Generamos una contraseña aleatoria de 8 caracteres\n",
        "contraseña = ''.join(random.choice(todos_los_caracteres) for _ in range(8))\n",
        "\n",
        "# Paso 5: Mostramos la contraseña generada\n",
        "print(\"Tu contraseña aleatoria es:\", contraseña)"
      ]
    },
    {
      "cell_type": "markdown",
      "id": "e5b7bb33",
      "metadata": {
        "id": "e5b7bb33"
      },
      "source": [
        "**Desafío 3:**\n",
        "\n",
        "Crea un módulo personalizado que contenga funciones para cambiar el formato del texto (por ejemplo, a negrita, itálica, etc.) e impórtalo en un nuevo programa."
      ]
    },
    {
      "cell_type": "markdown",
      "id": "16b79fce",
      "metadata": {},
      "source": [
        "Explicación del Módulo:\n",
        "\n",
        "    Secuencias de escape ANSI: Estas son cadenas especiales que comienzan con \\033[ y aplican un formato específico al texto en la consola.\n",
        "        \\033[1m: Pone el texto en negrita.\n",
        "        \\033[3m: Aplica el formato cursiva.\n",
        "        \\033[4m: Subraya el texto.\n",
        "        \\033[31m: Cambia el color del texto a rojo.\n",
        "        \\033[0m: Restaura el formato a normal (es importante cerrar con esta secuencia para que el formato no continúe aplicándose a texto futuro)."
      ]
    },
    {
      "cell_type": "code",
      "execution_count": null,
      "id": "7f30eafd",
      "metadata": {},
      "outputs": [],
      "source": [
        "# Este módulo contiene funciones para cambiar el formato del texto\n",
        "\n",
        "# Función para poner texto en negrita\n",
        "def negrita(texto):\n",
        "    return f\"\\033[1m{texto}\\033[0m\"\n",
        "\n",
        "# Función para poner texto en cursiva\n",
        "def cursiva(texto):\n",
        "    return f\"\\033[3m{texto}\\033[0m\"\n",
        "\n",
        "# Función para subrayar texto\n",
        "def subrayado(texto):\n",
        "    return f\"\\033[4m{texto}\\033[0m\"\n",
        "\n",
        "# Función para poner texto en color rojo\n",
        "def rojo(texto):\n",
        "    return f\"\\033[31m{texto}\\033[0m\""
      ]
    },
    {
      "cell_type": "markdown",
      "id": "41ccace2",
      "metadata": {
        "id": "41ccace2"
      },
      "source": [
        "**Desafío 4:**\n",
        "\n",
        "Utiliza el módulo `collections` para analizar un texto y generar estadísticas avanzadas,\n",
        "como las 10 palabras más comunes y su frecuencia.\n",
        "Extiende esto creando un gráfico de barras con matplotlib para visualizar la frecuencia de las palabras."
      ]
    },
    {
      "cell_type": "markdown",
      "id": "ad90daba",
      "metadata": {
        "id": "ad90daba"
      },
      "source": [
        "**Desafío 5:**\n",
        "\n",
        "Utiliza el módulo `os` para interactuar con el sistema operativo y añade características como guardar un archivo o leer un archivo existente en nuestro procesador de texto."
      ]
    },
    {
      "cell_type": "markdown",
      "id": "9b10274e",
      "metadata": {
        "id": "9b10274e"
      },
      "source": [
        "**Desafio 6:**\n",
        "\n",
        "Calculadora de Fechas\n",
        "Objetivo:\n",
        "Escribir un programa en Python que permita calcular la diferencia entre dos fechas, utilizando el módulo `datetime.`"
      ]
    }
  ],
  "metadata": {
    "colab": {
      "include_colab_link": true,
      "provenance": []
    },
    "kernelspec": {
      "display_name": "Python 3",
      "language": "python",
      "name": "python3"
    },
    "language_info": {
      "codemirror_mode": {
        "name": "ipython",
        "version": 3
      },
      "file_extension": ".py",
      "mimetype": "text/x-python",
      "name": "python",
      "nbconvert_exporter": "python",
      "pygments_lexer": "ipython3",
      "version": "3.12.2"
    }
  },
  "nbformat": 4,
  "nbformat_minor": 5
}
