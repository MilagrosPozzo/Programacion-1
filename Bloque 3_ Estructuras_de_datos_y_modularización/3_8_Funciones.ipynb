{
  "cells": [
    {
      "cell_type": "markdown",
      "id": "f3d28692",
      "metadata": {
        "colab_type": "text",
        "id": "view-in-github"
      },
      "source": [
        "<a href=\"https://colab.research.google.com/github/MilagrosPozzo/Programacion-1/blob/main/3_8_Funciones.ipynb\" target=\"_parent\"><img src=\"https://colab.research.google.com/assets/colab-badge.svg\" alt=\"Open In Colab\"/></a>"
      ]
    },
    {
      "cell_type": "markdown",
      "id": "fe918077",
      "metadata": {
        "id": "fe918077"
      },
      "source": [
        "# Funciones\n"
      ]
    },
    {
      "cell_type": "markdown",
      "id": "d9a1caf1",
      "metadata": {
        "id": "d9a1caf1"
      },
      "source": [
        "### Introducción a las funciones:\n",
        "\n",
        "En el mundo de la programación, a menudo nos encontramos realizando las mismas tareas repetidamente. Las funciones son una manera de encapsular esas tareas en bloques de código reutilizables. Ya hemos tenido un primer contacto con ellas, particularmente en el desafío de la batalla naval, donde utilizamos funciones para estructurar la creación del tablero y los barcos. Este cuaderno se adentrará más en el poder y flexibilidad que ofrecen las funciones en Python.\n"
      ]
    },
    {
      "cell_type": "markdown",
      "id": "8138759e",
      "metadata": {
        "id": "8138759e"
      },
      "source": [
        "### ¿Qué es una función?\n",
        "\n",
        "Una función es, en esencia, una secuencia de instrucciones que realiza una tarea específica. Al encapsular estas instrucciones dentro de una función, obtenemos varios beneficios: modularidad, legibilidad y reusabilidad del código. Imagina las funciones como pequeñas máquinas: les das cierta entrada, realizan una operación y te devuelven un resultado.\n"
      ]
    },
    {
      "cell_type": "markdown",
      "id": "cc6007dc",
      "metadata": {
        "id": "cc6007dc"
      },
      "source": [
        "### Definición y llamada de funciones:\n",
        "\n",
        "Las funciones en Python se definen utilizando la palabra clave `def`, seguida de un nombre descriptivo y paréntesis. Este nombre es el que se usará posteriormente para 'invocar' o 'llamar' a la función y ejecutar el bloque de código que contiene. La sintaxis es esencial para garantizar que tu código funcione correctamente."
      ]
    },
    {
      "cell_type": "code",
      "execution_count": null,
      "id": "6fbc5265",
      "metadata": {
        "id": "6fbc5265",
        "outputId": "23ad2ec3-1c8c-402e-8f7a-f447a856cb57"
      },
      "outputs": [
        {
          "name": "stdout",
          "output_type": "stream",
          "text": [
            "¡Ciao!\n"
          ]
        }
      ],
      "source": [
        "def saludar():\n",
        "    print(\"¡Ciao!\")\n",
        "\n",
        "saludar()  # Output: ¡Ciao!"
      ]
    },
    {
      "cell_type": "markdown",
      "id": "e3d4e9fc",
      "metadata": {
        "id": "e3d4e9fc"
      },
      "source": [
        "### Funciones triviales y la palabra clave `pass`:\n",
        "\n",
        "En el ejemplo anterior, sabíamos cómo saludar, por lo que estábamos listos para escribir el contenido de nuestra función. Sin embargo, en muchas ocasiones, cuando estamos diseñando o esbozando nuestro código, sabemos que necesitamos una función, pero aún no estamos seguros de cómo resolveremos el problema o tarea que ella debe realizar. Es como tener una idea, pero no tener aún todas las herramientas para llevarla a cabo. En esos casos, Python nos proporciona la palabra clave 'pass', que actúa como un marcador de posición temporal, indicándonos que esa función estará completada en el futuro."
      ]
    },
    {
      "cell_type": "code",
      "execution_count": null,
      "id": "dac855aa",
      "metadata": {
        "id": "dac855aa"
      },
      "outputs": [],
      "source": [
        "def funcion_trivial():\n",
        "    pass # TODO: completar más tarde"
      ]
    },
    {
      "cell_type": "markdown",
      "id": "7959a318",
      "metadata": {
        "id": "7959a318"
      },
      "source": [
        "### Retorno de valores:\n",
        "\n",
        "Mientras que algunas funciones muestran resultados o modifican variables, otras devuelven valores que pueden ser utilizados o almacenados."
      ]
    },
    {
      "cell_type": "code",
      "execution_count": null,
      "id": "ee440c98",
      "metadata": {
        "id": "ee440c98",
        "outputId": "1c79fbad-71aa-41f0-9420-d673fc2697cd"
      },
      "outputs": [
        {
          "name": "stdout",
          "output_type": "stream",
          "text": [
            "78.53981633974483\n"
          ]
        }
      ],
      "source": [
        "def area_circulo(radio):\n",
        "    return 3.141592653589793 * (radio**2)\n",
        "\n",
        "area = area_circulo(5)\n",
        "print(area)  # Output: 78.53981633974483"
      ]
    },
    {
      "cell_type": "markdown",
      "id": "fe4ea28f",
      "metadata": {
        "id": "fe4ea28f"
      },
      "source": [
        "### Especificando el nombre de los parámetros:\n",
        "\n",
        "Las funciones pueden recibir datos específicos para trabajar, estos se definen como parámetros. Una característica poderosa de Python es que puedes especificar explícitamente el nombre del parámetro al invocar la función, permitiendo que los argumentos se pasen en cualquier orden."
      ]
    },
    {
      "cell_type": "code",
      "execution_count": null,
      "id": "afc538b7",
      "metadata": {
        "id": "afc538b7",
        "outputId": "2daa750f-ecc8-4a51-abcc-5062b26f79b6"
      },
      "outputs": [
        {
          "name": "stdout",
          "output_type": "stream",
          "text": [
            "Soy Ana y tengo 30 años.\n"
          ]
        }
      ],
      "source": [
        "def presentarse(nombre, edad):\n",
        "    print(f\"Soy {nombre} y tengo {edad} años.\")\n",
        "\n",
        "presentarse(edad=30, nombre=\"Ana\")  # Output: Soy Ana y tengo 30 años."
      ]
    },
    {
      "cell_type": "markdown",
      "id": "d677d7f4",
      "metadata": {
        "id": "d677d7f4"
      },
      "source": [
        "### Funciones que devuelven más de un resultado:\n",
        "\n",
        "Una función puede devolver múltiples resultados utilizando una tupla. Por ejemplo, si quieres obtener tanto el cociente como el resto de una división:"
      ]
    },
    {
      "cell_type": "code",
      "execution_count": null,
      "id": "3082654e",
      "metadata": {
        "id": "3082654e"
      },
      "outputs": [],
      "source": [
        "def dividir(a, b):\n",
        "    cociente = a // b\n",
        "    resto = a % b\n",
        "    return cociente, resto"
      ]
    },
    {
      "cell_type": "markdown",
      "id": "6431adc9",
      "metadata": {
        "id": "6431adc9"
      },
      "source": [
        "### Funciones como objetos y parámetros:\n",
        "\n",
        "En Python, todo es un objeto. Esto incluye números, cadenas, listas, y sí, incluso las funciones. Esta naturaleza de las funciones abre un mundo de posibilidades que no se encuentra en todos los lenguajes de programación. Vamos a desglosar este concepto:"
      ]
    },
    {
      "cell_type": "markdown",
      "id": "aa17d678",
      "metadata": {
        "id": "aa17d678"
      },
      "source": [
        "#### 1. Funciones asignadas a variables:\n",
        "\n",
        "Dado que las funciones son objetos, puedes asignarlas a variables, al igual que harías con cualquier otro tipo de dato."
      ]
    },
    {
      "cell_type": "code",
      "execution_count": null,
      "id": "c648c546",
      "metadata": {
        "id": "c648c546"
      },
      "outputs": [],
      "source": [
        "def saludar():\n",
        "    return \"¡Hola!\"\n",
        "\n",
        "mi_funcion = saludar\n",
        "print(mi_funcion())"
      ]
    },
    {
      "cell_type": "markdown",
      "id": "599c065a",
      "metadata": {
        "id": "599c065a"
      },
      "source": [
        "En el ejemplo anterior, mi_funcion es ahora una referencia a saludar, y cuando la invocas, imprime \"¡Hola!\"."
      ]
    },
    {
      "cell_type": "markdown",
      "id": "2fa0902d",
      "metadata": {
        "id": "2fa0902d"
      },
      "source": [
        "#### 2. Funciones pasadas como argumentos:\n",
        "\n",
        "En muchas ocasiones, nos encontramos con la necesidad de realizar operaciones repetitivas en listas, como filtrar elementos bajo ciertas condiciones. Imagina que tenemos una función llamada filtrar_pares que recibe una lista de números enteros y devuelve otra que contiene solo los números pares de la lista original."
      ]
    },
    {
      "cell_type": "code",
      "execution_count": null,
      "id": "8d9f78e6",
      "metadata": {
        "id": "8d9f78e6",
        "outputId": "acf57c6d-2ece-4e02-9b07-7b3c368718c9"
      },
      "outputs": [
        {
          "data": {
            "text/plain": [
              "[-4, -2, 0, 2, 4, 6]"
            ]
          },
          "execution_count": 21,
          "metadata": {},
          "output_type": "execute_result"
        }
      ],
      "source": [
        "def filtrar_pares(numeros):\n",
        "    resultado = []\n",
        "    for numero in numeros:\n",
        "        if numero % 2 == 0:\n",
        "            resultado.append(numero)\n",
        "    return resultado\n",
        "\n",
        "numeros = [-4,-3,-2,-1,0,1, 2, 3, 4, 5, 6]\n",
        "filtrar_pares(numeros)\n"
      ]
    },
    {
      "cell_type": "markdown",
      "id": "52676954",
      "metadata": {
        "id": "52676954"
      },
      "source": [
        "Esta función es útil, pero es muy específica. ¿Qué pasaría si quisiéramos filtrar números mayores que cero, o cualquier otra condición? ¿Crearíamos una nueva función para cada condición? Eso no sería muy eficiente.\n",
        "\n",
        "Una solución es crear una función más general, llamada filtro, que reciba dos argumentos: una lista de números y una función que determine la condición de filtrado."
      ]
    },
    {
      "cell_type": "code",
      "execution_count": null,
      "id": "cc16f475",
      "metadata": {
        "id": "cc16f475"
      },
      "outputs": [],
      "source": [
        "def filtro(condicion, numeros):\n",
        "    resultado = []\n",
        "    for numero in numeros:\n",
        "        if condicion(numero):\n",
        "            resultado.append(numero)\n",
        "    return resultado\n"
      ]
    },
    {
      "cell_type": "markdown",
      "id": "750a4c2f",
      "metadata": {
        "id": "750a4c2f"
      },
      "source": [
        "Con esta función, podemos definir cualquier condición de filtrado que deseemos, simplemente pasando una función como argumento. Por ejemplo, podemos definir una función es_par para filtrar números pares y una función es_positivo para filtrar números positivos."
      ]
    },
    {
      "cell_type": "code",
      "execution_count": null,
      "id": "41cde93b",
      "metadata": {
        "id": "41cde93b"
      },
      "outputs": [],
      "source": [
        "def es_par(numero):\n",
        "    return numero % 2 == 0\n",
        "\n",
        "def es_positivo(numero):\n",
        "    return numero > 0\n",
        "\n",
        "def es_negativo(numero):\n",
        "    return numero< 0"
      ]
    },
    {
      "cell_type": "markdown",
      "id": "c6cc20b7",
      "metadata": {
        "id": "c6cc20b7"
      },
      "source": [
        "Ahora, podemos usar la función filtro con cualquiera de estas condiciones, o cualquier otra que definamos en el futuro."
      ]
    },
    {
      "cell_type": "code",
      "execution_count": null,
      "id": "3cda3bc5",
      "metadata": {
        "id": "3cda3bc5",
        "outputId": "1554d489-928c-4fe8-f4bc-010c6ed73d78"
      },
      "outputs": [
        {
          "name": "stdout",
          "output_type": "stream",
          "text": [
            "[-4, -2, 0, 2, 4, 6]\n",
            "[1, 2, 3, 4, 5, 6]\n",
            "[-4, -3, -2, -1]\n"
          ]
        }
      ],
      "source": [
        "print(filtro(es_par, numeros))\n",
        "print(filtro(es_positivo, numeros))\n",
        "print(filtro(es_negativo, numeros))\n",
        "\n"
      ]
    },
    {
      "cell_type": "markdown",
      "id": "ef65cc89",
      "metadata": {
        "id": "ef65cc89"
      },
      "source": [
        "Este enfoque nos brinda una gran flexibilidad, ya que podemos combinar diferentes funciones y condiciones de filtrado sin tener que reescribir la lógica principal de filtrado.\n",
        "\n",
        "_Nota: Gracias, Commit That Line!_"
      ]
    },
    {
      "cell_type": "markdown",
      "id": "02ea448b",
      "metadata": {
        "id": "02ea448b"
      },
      "source": [
        "#### 3. Funciones que retornan funciones:\n",
        "\n",
        "Las funciones también pueden retornar otras funciones. Esto puede ser útil en situaciones donde necesitas crear una función \"sobre la marcha\" basada en ciertos parámetros."
      ]
    },
    {
      "cell_type": "code",
      "execution_count": null,
      "id": "a89aed25",
      "metadata": {
        "id": "a89aed25",
        "outputId": "1e139734-956f-4b1e-b487-1178d1e9329e"
      },
      "outputs": [
        {
          "name": "stdout",
          "output_type": "stream",
          "text": [
            "9\n"
          ]
        }
      ],
      "source": [
        "def potencia(n):\n",
        "    def elevar(x):\n",
        "        return x ** n\n",
        "    return elevar\n",
        "\n",
        "cuadrado = potencia(2)\n",
        "print(cuadrado(3))  # Imprimirá 9 porque 3 al cuadrado es 9\n"
      ]
    },
    {
      "cell_type": "markdown",
      "id": "1fd235de",
      "metadata": {
        "id": "1fd235de"
      },
      "source": [
        "En este caso, potencia es una función que genera y devuelve una nueva función (elevar) que elevará sus argumentos a la potencia n.\n",
        "\n",
        "Estas características de las funciones en Python permiten patrones de diseño y programación avanzados, como la programación funcional, y son una de las razones por las que Python es tan versátil y poderoso."
      ]
    },
    {
      "cell_type": "markdown",
      "id": "724cf11a",
      "metadata": {
        "id": "724cf11a"
      },
      "source": [
        "### Funciones anónimas (lambda):\n",
        "\n",
        "A veces, necesitamos crear funciones pequeñas para tareas específicas y temporales. Python nos permite hacer esto con funciones `lambda`."
      ]
    },
    {
      "cell_type": "code",
      "execution_count": null,
      "id": "b9806251",
      "metadata": {
        "id": "b9806251",
        "outputId": "e96e2e1a-0d01-46b7-e3c6-5fe08068f912"
      },
      "outputs": [
        {
          "data": {
            "text/plain": [
              "[-7, -5, -2, 3, 8]"
            ]
          },
          "execution_count": 27,
          "metadata": {},
          "output_type": "execute_result"
        }
      ],
      "source": [
        "numeros = [-5, 3, -2, 8, -7]\n",
        "ordenado_absoluto = sorted(numeros, key=lambda x: abs(x))\n",
        "ordenado_absoluto = sorted(numeros)\n",
        "ordenado_absoluto\n"
      ]
    },
    {
      "cell_type": "markdown",
      "id": "cf45b7eb",
      "metadata": {
        "id": "cf45b7eb"
      },
      "source": [
        "### Documentación de funciones:\n",
        "\n",
        "Es crucial documentar nuestras funciones. La documentación ayuda a otros (¡y a nosotros mismos!) a entender qué hace una función y cómo usarla."
      ]
    },
    {
      "cell_type": "code",
      "execution_count": null,
      "id": "be85e6e0",
      "metadata": {
        "id": "be85e6e0"
      },
      "outputs": [],
      "source": [
        "def suma(a, b):\n",
        "    \"\"\"\n",
        "    Suma dos números y devuelve el resultado.\n",
        "\n",
        "    Parámetros:\n",
        "    - a: Primer número.\n",
        "    - b: Segundo número.\n",
        "\n",
        "    Retorna:\n",
        "    Suma de a y b.\n",
        "    \"\"\"\n",
        "    return a + b"
      ]
    },
    {
      "cell_type": "markdown",
      "id": "01c568c2",
      "metadata": {
        "id": "01c568c2"
      },
      "source": [
        "### Variables locales y globales:\n",
        "\n",
        "Las variables que defines dentro de una función tienen un ámbito local, lo que significa que no puedes acceder a ellas fuera de esa función. Pero, hay algo llamado variables globales. Estas son variables que se definen fuera de cualquier función y están disponibles en todo el código, tanto dentro como fuera de las funciones. Aunque técnicamente es posible modificar una variable global desde dentro de una función, ¡se desaconseja hacerlo!"
      ]
    },
    {
      "cell_type": "code",
      "execution_count": 1,
      "id": "62cc9ca4",
      "metadata": {
        "id": "62cc9ca4"
      },
      "outputs": [],
      "source": [
        "variable_global = \"Soy global\"\n",
        "\n",
        "def modificar_global():\n",
        "    global variable_global\n",
        "    variable_global = \"He sido modificada\""
      ]
    },
    {
      "cell_type": "markdown",
      "id": "01dc0c54",
      "metadata": {
        "id": "01dc0c54"
      },
      "source": [
        "<span style=\"color: red;font-size: 20px;\">¡Durante este curso, queda terminantemente prohibido modificar variables globales dentro de una función!</span>"
      ]
    },
    {
      "cell_type": "markdown",
      "id": "c886705f",
      "metadata": {
        "id": "c886705f"
      },
      "source": [
        "### Desafío 1:\n",
        "\n",
        "Crea una función que tome una lista de números y devuelva la suma y el promedio de esos números."
      ]
    },
    {
      "cell_type": "markdown",
      "id": "29060772",
      "metadata": {},
      "source": [
        "Puedes ver la solución al desafío 1 en el link https://replit.com/@milagrospozzofa/Tema38ades1#main.py"
      ]
    },
    {
      "cell_type": "markdown",
      "id": "f5388aa0",
      "metadata": {
        "id": "f5388aa0"
      },
      "source": [
        "### Desafío 2:\n",
        "\n",
        "Diseña una función que tome una cadena y devuelva la misma cadena, pero con el primer carácter de cada palabra en mayúsculas."
      ]
    },
    {
      "cell_type": "markdown",
      "id": "2eda1b6e",
      "metadata": {},
      "source": [
        "💡 _Opción 1_ Utilizando el método title()\n",
        "El método title() de las cadenas en Python convierte el primer carácter de cada palabra en mayúscula automáticamente."
      ]
    },
    {
      "cell_type": "markdown",
      "id": "7ac6a09d",
      "metadata": {},
      "source": [
        "Puedes ver la solución al desafío 2 en el link https://replit.com/@milagrospozzofa/Tema38ades2#main.py"
      ]
    },
    {
      "cell_type": "markdown",
      "id": "30ef6503",
      "metadata": {
        "id": "30ef6503"
      },
      "source": [
        "### Desafío 3:\n",
        "\n",
        "Construye una función que tome dos listas y devuelva `True` si tienen al menos un elemento en común, de lo contrario, que devuelva `False`."
      ]
    },
    {
      "cell_type": "markdown",
      "id": "65a87244",
      "metadata": {},
      "source": [
        "Puedes ver la solución al desafío 3 en el link https://replit.com/@milagrospozzofa/Tema38ades3#main.py"
      ]
    },
    {
      "cell_type": "markdown",
      "id": "6a2414b9",
      "metadata": {
        "id": "6a2414b9"
      },
      "source": [
        "### Desafío 4: Algoritmo MCD\n",
        "\n",
        "El Máximo Común Divisor (MCD) es un concepto matemático que ha sido estudiado desde tiempos antiguos. Atribuido a Euclides, el algoritmo para determinarlo es elegante y eficiente. Tu tarea es implementar una función que calcule el MCD de dos números utilizando el algoritmo de Euclides."
      ]
    },
    {
      "cell_type": "markdown",
      "id": "5409680c",
      "metadata": {
        "id": "5409680c"
      },
      "source": [
        "### Desafío 5: Palíndromo\n",
        "\n",
        "Crea una función llamada es_palindromo que tome una una cadena y devuelva true si es palindromo o false si no lo es."
      ]
    },
    {
      "cell_type": "markdown",
      "id": "eedcec5a",
      "metadata": {
        "id": "eedcec5a"
      },
      "source": [
        "### Desafío 6: Verificación y Cálculo de Números Primos\n",
        "\n",
        "Crea dos funciones y un `main` que te permita trabajar con números primos, un concepto matemático fundamental. En este desafío, deberás:\n",
        "\n",
        "1. Crear una función que verifique si un número es primo.\n",
        "2. Crear otra función que cuente la cantidad de números primos dentro de una lista dada.\n",
        "3. Implementar un `main` que integre estas funciones y muestre los resultados.\n",
        "\n",
        "Asegúrate de que tu código esté bien documentado y que las funciones sean reutilizables."
      ]
    },
    {
      "cell_type": "code",
      "execution_count": 8,
      "id": "8fbc506a",
      "metadata": {},
      "outputs": [
        {
          "name": "stdout",
          "output_type": "stream",
          "text": [
            "La lista de números es: [2, 3, 4, 5, 6, 7, 8, 9, 10, 11, 13, 15, 17, 19, 23]\n",
            "Cantidad de números primos en la lista: 9\n"
          ]
        }
      ],
      "source": [
        "# Función para verificar si un número es primo\n",
        "def es_primo(n):\n",
        "    # Si el número es menor o igual a 1, no es primo, por lo tanto, se retorna False.\n",
        "    if n <= 1:\n",
        "        return False\n",
        "   \n",
        "    # Recorre los números desde 2 hasta n-1 para verificar si n es divisible por alguno\n",
        "    for i in range(2, n):\n",
        "        # Si n es divisible por i, entonces no es primo, se retorna False\n",
        "        if n % i == 0:\n",
        "            return False\n",
        "   \n",
        "    # Si no se encontró ningún divisor, n es primo, se retorna True\n",
        "    return True\n",
        "\n",
        "# Función para clasificar los números de una lista en primos y no primos\n",
        "def clasificar_numeros(lista):\n",
        "    primos = []\n",
        "    no_primos = []\n",
        "   \n",
        "    # Recorre cada número en la lista\n",
        "    for numero in lista:\n",
        "        # Utiliza la función es_primo para verificar si el número es primo\n",
        "        if es_primo(numero):\n",
        "            primos.append(numero)\n",
        "        else:\n",
        "            no_primos.append(numero)\n",
        "   \n",
        "    # Devuelve las listas de números primos y no primos\n",
        "    return primos, no_primos\n",
        "\n",
        "# Función principal que integra las funciones es_primo y clasificar_numeros.\n",
        "def main():\n",
        "    # Ejemplo de lista de números\n",
        "    lista_numeros = [2, 3, 4, 5, 6, 7, 8, 9, 10, 11, 13, 15, 17, 19, 23]\n",
        "   \n",
        "    # Clasifica los números de la lista en primos y no primos\n",
        "    numeros_primos, numeros_no_primos = clasificar_numeros(lista_numeros)\n",
        "   \n",
        "    # Muestra los resultados\n",
        "    print(f\"La lista de números es: {lista_numeros}\")\n",
        "    print(f\"Números primos en la lista: {numeros_primos}\")\n",
        "    print(f\"Números no primos en la lista: {numeros_no_primos}\")\n",
        "\n",
        "main()  # Esto ejecuta la función main y corre el código dentro de ella."
      ]
    },
    {
      "cell_type": "markdown",
      "id": "b1a3c9fa",
      "metadata": {},
      "source": [
        "Puedes ver la solución del desafío 6 en el link https://replit.com/@milagrospozzofa/Tema38ades6"
      ]
    }
  ],
  "metadata": {
    "colab": {
      "include_colab_link": true,
      "provenance": []
    },
    "kernelspec": {
      "display_name": "Python 3",
      "language": "python",
      "name": "python3"
    },
    "language_info": {
      "codemirror_mode": {
        "name": "ipython",
        "version": 3
      },
      "file_extension": ".py",
      "mimetype": "text/x-python",
      "name": "python",
      "nbconvert_exporter": "python",
      "pygments_lexer": "ipython3",
      "version": "3.12.2"
    }
  },
  "nbformat": 4,
  "nbformat_minor": 5
}
