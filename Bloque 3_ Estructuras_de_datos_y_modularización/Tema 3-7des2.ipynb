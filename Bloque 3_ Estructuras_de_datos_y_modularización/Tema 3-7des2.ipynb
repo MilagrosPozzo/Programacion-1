{
  "cells": [
    {
      "cell_type": "markdown",
      "metadata": {
        "colab_type": "text",
        "id": "view-in-github"
      },
      "source": [
        "<a href=\"https://colab.research.google.com/github/MilagrosPozzo/Programacion-1/blob/main/3_7_Arreglos.ipynb\" target=\"_parent\"><img src=\"https://colab.research.google.com/assets/colab-badge.svg\" alt=\"Open In Colab\"/></a>"
      ]
    },
    {
      "cell_type": "markdown",
      "metadata": {},
      "source": [
        "# Desafío 2: Ordenar el Inventario de Libros\n",
        "\n",
        "Como encargado de la biblioteca, necesitas organizar los libros de acuerdo con sus códigos de identificación en orden decreciente, sin modificar la lista original. Se recomienda usar la función sorted(). ¿Por qué es importante no modificar la lista original? ¿Por qué no puedo usar el método sort sobre la lista original?"
      ]
    },
    {
      "cell_type": "markdown",
      "metadata": {},
      "source": [
        "*1-¿Por qué es importante no modificar la lista original?*\n",
        "\n",
        "Preservación de datos: Mantener la lista original intacta permite conservar el orden original de ingreso o cualquier otro orden significativo que pudiera tener.\n",
        "Múltiples vistas: Permite tener diferentes ordenamientos o vistas de los mismos datos sin perder la referencia original.\n",
        "Reversibilidad: Facilita volver al estado original si es necesario, sin tener que reordenar o recargar los datos.\n",
        "Integridad de datos: En sistemas más complejos, modificar la lista original podría afectar a otras partes del programa que dependen de ese orden específico.\n",
        "\n",
        "\n",
        "*2-¿Por qué no puedo usar el método sort() sobre la lista original?*\n",
        "\n",
        "Modificación in-place: sort() modifica la lista original, lo cual va en contra del requerimiento de no alterar la lista inicial.\n",
        "Irreversibilidad: Una vez aplicado sort(), no es fácil volver al orden original sin guardar una copia previa.\n",
        "Efectos secundarios: En programas más grandes, modificar la lista original podría causar efectos no deseados en otras partes del código que use esa lista.\n",
        "\n",
        "\n",
        "\n",
        "La función sorted(), por otro lado:\n",
        "\n",
        "Crea una nueva lista ordenada, dejando la original intacta.\n",
        "Permite más flexibilidad, ya que podemos tener múltiples ordenamientos sin afectar los datos originales.\n",
        "Es más seguro en términos de preservación de datos y prevención de efectos secundarios no deseados.\n",
        "\n",
        "En este ejercicio, usamos sorted() con una función lambda como clave para extraer y comparar los códigos de los libros, y reverse=True para ordenar en orden decreciente. Esto nos permite obtener una nueva lista ordenada mientras mantenemos la lista original sin cambios, cumpliendo así con todos los requisitos del problema.\n",
        "### Resolver con lista predefinida"
      ]
    },
    {
      "cell_type": "code",
      "execution_count": 5,
      "metadata": {},
      "outputs": [
        {
          "name": "stdout",
          "output_type": "stream",
          "text": [
            "Inventario original:\n",
            "L001 - El principito\n",
            "L105 - Cien años de soledad\n",
            "L042 - El señor de los anillos\n",
            "L203 - Don Quijote de la Mancha\n",
            "L097 - Harry Potter y la piedra filosofal\n",
            "\n",
            "Inventario ordenado:\n",
            "L203 - Don Quijote de la Mancha\n",
            "L105 - Cien años de soledad\n",
            "L097 - Harry Potter y la piedra filosofal\n",
            "L042 - El señor de los anillos\n",
            "L001 - El principito\n",
            "\n",
            "Verificación de que el inventario original no fue modificado:\n",
            "L001 - El principito\n",
            "L105 - Cien años de soledad\n",
            "L042 - El señor de los anillos\n",
            "L203 - Don Quijote de la Mancha\n",
            "L097 - Harry Potter y la piedra filosofal\n"
          ]
        }
      ],
      "source": [
        "# Inventario original de libros\n",
        "libros = [\n",
        "    \"L001 - El principito\",\n",
        "    \"L105 - Cien años de soledad\",\n",
        "    \"L042 - El señor de los anillos\",\n",
        "    \"L203 - Don Quijote de la Mancha\",\n",
        "    \"L097 - Harry Potter y la piedra filosofal\"\n",
        "]\n",
        "\n",
        "# Crear una lista temporal con solo los códigos\n",
        "codigos = [libro.split()[0] for libro in libros]\n",
        "\n",
        "# Ordenar los códigos en orden decreciente\n",
        "codigos_ordenados = sorted(codigos, reverse=True)\n",
        "\n",
        "# Crear la lista ordenada de libros\n",
        "libros_ordenados = []\n",
        "for codigo in codigos_ordenados:\n",
        "    for libro in libros:\n",
        "        if libro.startswith(codigo):\n",
        "            libros_ordenados.append(libro)\n",
        "            break\n",
        "\n",
        "print(\"Inventario original:\")\n",
        "for libro in libros:\n",
        "    print(libro)\n",
        "\n",
        "print(\"\\nInventario ordenado:\")\n",
        "for libro in libros_ordenados:\n",
        "    print(libro)\n",
        "\n",
        "print(\"\\nVerificación de que el inventario original no fue modificado:\")\n",
        "for libro in libros:\n",
        "    print(libro)"
      ]
    }
  ],
  "metadata": {
    "colab": {
      "include_colab_link": true,
      "provenance": [],
      "toc_visible": true
    },
    "kernelspec": {
      "display_name": "Python 3",
      "name": "python3"
    },
    "language_info": {
      "codemirror_mode": {
        "name": "ipython",
        "version": 3
      },
      "file_extension": ".py",
      "mimetype": "text/x-python",
      "name": "python",
      "nbconvert_exporter": "python",
      "pygments_lexer": "ipython3",
      "version": "3.12.2"
    }
  },
  "nbformat": 4,
  "nbformat_minor": 0
}
