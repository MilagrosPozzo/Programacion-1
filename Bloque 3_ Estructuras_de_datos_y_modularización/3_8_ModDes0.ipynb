{
  "cells": [
    {
      "cell_type": "markdown",
      "id": "c6cc1c38",
      "metadata": {
        "colab_type": "text",
        "id": "view-in-github"
      },
      "source": [
        "<a href=\"https://colab.research.google.com/github/MilagrosPozzo/Programacion-1/blob/main/3_8_Modulos.ipynb\" target=\"_parent\"><img src=\"https://colab.research.google.com/assets/colab-badge.svg\" alt=\"Open In Colab\"/></a>"
      ]
    },
    {
      "cell_type": "markdown",
      "id": "805c5029",
      "metadata": {
        "id": "805c5029"
      },
      "source": [
        "\n",
        "## Desafíos\n"
      ]
    },
    {
      "cell_type": "markdown",
      "id": "7c9c2813",
      "metadata": {
        "id": "7c9c2813"
      },
      "source": [
        "**Desafio 0:**\n",
        "\n",
        "Utiliza el módulo `random` para crear un programa que genere un número aleatorio entre 1 y 100."
      ]
    },
    {
      "cell_type": "markdown",
      "id": "0aa6a287",
      "metadata": {},
      "source": [
        "[Documentación oficial del módulo Random](https://docs.python.org/es/3.8/library/random.html)\n",
        "\n",
        "La función [random.randint()](https://www.digitalocean.com/community/tutorials/randint-method-in-python) es parte del módulo random de Python, que proporciona una variedad de formas de generar números aleatorios. La función random.randint() genera un número entero aleatorio dentro de un rango especificado. Este rango incluye tanto el valor inicial como el valor final. En este caso entre 1 y 100.\n",
        "\n",
        "Línea de Código Relevante:\n",
        "\n",
        "En la primera línea, importamos el módulo random, que es una biblioteca estándar de Python. Este módulo incluye funciones que permiten trabajar con números aleatorios."
      ]
    },
    {
      "cell_type": "code",
      "execution_count": null,
      "id": "9bdb92b0",
      "metadata": {},
      "outputs": [],
      "source": [
        "import random"
      ]
    },
    {
      "cell_type": "markdown",
      "id": "0f2d6825",
      "metadata": {},
      "source": [
        "La segunda línea utiliza la función randint(), el reto es asegurar que tanto el límite inferior (1) como el superior (100) estén incluidos en el rango de posibles resultados."
      ]
    },
    {
      "cell_type": "code",
      "execution_count": null,
      "id": "a370407d",
      "metadata": {},
      "outputs": [],
      "source": [
        "numero_aleatorio = random.randint(1, 100)"
      ]
    },
    {
      "cell_type": "markdown",
      "id": "844b1536",
      "metadata": {},
      "source": [
        "Finalmente se utiliza la función print() para mostrar el número aleatorio generado."
      ]
    },
    {
      "cell_type": "code",
      "execution_count": 1,
      "id": "9cab2573",
      "metadata": {},
      "outputs": [
        {
          "name": "stdout",
          "output_type": "stream",
          "text": [
            "El número aleatorio generado es: 88\n"
          ]
        }
      ],
      "source": [
        "import random\n",
        "\n",
        "# Generar un número aleatorio entre 1 y 100\n",
        "numero_aleatorio = random.randint(1, 100)\n",
        "\n",
        "# Mostrar el número generado\n",
        "print(\"El número aleatorio generado es:\", numero_aleatorio)"
      ]
    }
  ],
  "metadata": {
    "colab": {
      "include_colab_link": true,
      "provenance": []
    },
    "kernelspec": {
      "display_name": "Python 3",
      "language": "python",
      "name": "python3"
    },
    "language_info": {
      "codemirror_mode": {
        "name": "ipython",
        "version": 3
      },
      "file_extension": ".py",
      "mimetype": "text/x-python",
      "name": "python",
      "nbconvert_exporter": "python",
      "pygments_lexer": "ipython3",
      "version": "3.12.2"
    }
  },
  "nbformat": 4,
  "nbformat_minor": 5
}
