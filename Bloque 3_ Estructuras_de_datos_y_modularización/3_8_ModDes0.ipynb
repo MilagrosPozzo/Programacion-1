{
  "cells": [
    {
      "cell_type": "markdown",
      "id": "c6cc1c38",
      "metadata": {
        "colab_type": "text",
        "id": "view-in-github"
      },
      "source": [
        "<a href=\"https://colab.research.google.com/github/MilagrosPozzo/Programacion-1/blob/main/3_8_Modulos.ipynb\" target=\"_parent\"><img src=\"https://colab.research.google.com/assets/colab-badge.svg\" alt=\"Open In Colab\"/></a>"
      ]
    },
    {
      "cell_type": "markdown",
      "id": "805c5029",
      "metadata": {
        "id": "805c5029"
      },
      "source": [
        "\n",
        "## Desafíos\n"
      ]
    },
    {
      "cell_type": "markdown",
      "id": "7c9c2813",
      "metadata": {
        "id": "7c9c2813"
      },
      "source": [
        "**Desafio 0:**\n",
        "\n",
        "Utiliza el módulo `random` para crear un programa que genere un número aleatorio entre 1 y 100."
      ]
    },
    {
      "cell_type": "markdown",
      "id": "0aa6a287",
      "metadata": {},
      "source": [
        "[Documentación oficial del módulo Random](https://docs.python.org/es/3.8/library/random.html)\n",
        "\n",
        "La función [random.randint()](https://www.digitalocean.com/community/tutorials/randint-method-in-python) es parte del módulo random de Python, que proporciona una variedad de formas de generar números aleatorios. La función random.randint() genera un número entero aleatorio dentro de un rango especificado. Este rango incluye tanto el valor inicial como el valor final. En este caso entre 1 y 100.\n",
        "\n",
        "Línea de Código Relevante:\n",
        "\n",
        "En la primera línea, importamos el módulo random, que es una biblioteca estándar de Python. Este módulo incluye funciones que permiten trabajar con números aleatorios."
      ]
    },
    {
      "cell_type": "code",
      "execution_count": null,
      "id": "9bdb92b0",
      "metadata": {},
      "outputs": [],
      "source": [
        "import random"
      ]
    },
    {
      "cell_type": "markdown",
      "id": "0f2d6825",
      "metadata": {},
      "source": [
        "La segunda línea utiliza la función randint(), el reto es asegurar que tanto el límite inferior (1) como el superior (100) estén incluidos en el rango de posibles resultados."
      ]
    },
    {
      "cell_type": "code",
      "execution_count": null,
      "id": "a370407d",
      "metadata": {},
      "outputs": [],
      "source": [
        "numero_aleatorio = random.randint(1, 100)"
      ]
    },
    {
      "cell_type": "markdown",
      "id": "844b1536",
      "metadata": {},
      "source": [
        "Finalmente se utiliza la función print() para mostrar el número aleatorio generado."
      ]
    },
    {
      "cell_type": "code",
      "execution_count": 1,
      "id": "9cab2573",
      "metadata": {},
      "outputs": [
        {
          "name": "stdout",
          "output_type": "stream",
          "text": [
            "El número aleatorio generado es: 88\n"
          ]
        }
      ],
      "source": [
        "# Importamos el módulo random para generar números aleatorios\n",
        "import random\n",
        "\n",
        "# Generar un número aleatorio entre 1 y 100 usando randint()\n",
        "numero_aleatorio = random.randint(1, 100)\n",
        "\n",
        "# Mostrar el número generado\n",
        "print(\"El número aleatorio generado es:\", numero_aleatorio)"
      ]
    },
    {
      "cell_type": "markdown",
      "id": "06da8628",
      "metadata": {},
      "source": [
        "🧠**Generar un Número Aleatorio para un Juego**\n",
        "\n",
        "Supongamos que estás desarrollando un juego y necesitas generar un número aleatorio para determinar el movimiento de un personaje. Puedes hacerlo de la siguiente manera:"
      ]
    },
    {
      "cell_type": "code",
      "execution_count": 2,
      "id": "ba8992ff",
      "metadata": {},
      "outputs": [
        {
          "name": "stdout",
          "output_type": "stream",
          "text": [
            "El personaje se mueve hacia la derecha\n"
          ]
        }
      ],
      "source": [
        "import random\n",
        "\n",
        "movimiento = random.randint(1, 4)\n",
        "\n",
        "if movimiento == 1:\n",
        "    print(\"El personaje se mueve hacia arriba\")\n",
        "elif movimiento == 2:\n",
        "    print(\"El personaje se mueve hacia abajo\")\n",
        "elif movimiento == 3:\n",
        "    print(\"El personaje se mueve hacia la izquierda\")\n",
        "elif movimiento == 4:\n",
        "    print(\"El personaje se mueve hacia la derecha\")"
      ]
    },
    {
      "cell_type": "markdown",
      "id": "7cadb2b3",
      "metadata": {},
      "source": [
        "En este ejemplo, el número generado aleatoriamente determinará la dirección en la que se moverá el personaje.\n",
        "\n",
        "🧠**Simulación de Lanzamiento de Dados**\n",
        "\n",
        "Otra aplicación común es la simulación de un lanzamiento de datos. Aquí hay un ejemplo de cómo hacerlo:"
      ]
    },
    {
      "cell_type": "code",
      "execution_count": 1,
      "id": "957d6528",
      "metadata": {},
      "outputs": [
        {
          "name": "stdout",
          "output_type": "stream",
          "text": [
            "El resultado del lanzamiento de dados es: 2\n"
          ]
        }
      ],
      "source": [
        "import random\n",
        "\n",
        "dice_roll = random.randint(1, 6)\n",
        "print(f\"El resultado del lanzamiento de dados es: {dice_roll}\")"
      ]
    },
    {
      "cell_type": "markdown",
      "id": "db20d1db",
      "metadata": {},
      "source": [
        "Este código generará un número aleatorio entre 1 y 6, simulando el resultado de un lanzamiento de datos."
      ]
    },
    {
      "cell_type": "markdown",
      "id": "e0974b0d",
      "metadata": {},
      "source": [
        "\n",
        "## Errores Comunes y Mejores Prácticas ##\n",
        "\n",
        "Al usar random.randint() , es fácil cometer algunos errores comunes. Aquí hay algunos de ellos y cómo evitarlos:\n",
        "\n",
        "Rango incorrecto\n",
        "Uno de los errores más comunes es especificar un rango incorrecto. Por ejemplo, si intentas generar un número aleatorio entre 5 y 1, obtendrás un error:"
      ]
    },
    {
      "cell_type": "code",
      "execution_count": null,
      "id": "694c1b5f",
      "metadata": {},
      "outputs": [],
      "source": [
        "import random\n",
        "\n",
        "# Esto generará un error\n",
        "numero_aleatorio = random.randint(5, 1)"
      ]
    },
    {
      "cell_type": "markdown",
      "id": "0a7649c2",
      "metadata": {},
      "source": [
        "Para evitar esto, asegúrese de que el primer número en el rango sea menor que el segundo.\n",
        "\n",
        "**Olvidar Importar el Módulo**\n",
        "\n",
        "Otro error común es olvidar importar el módulo aleatorio . Sin esta importación, la función random.randint() no estará disponible:"
      ]
    },
    {
      "cell_type": "code",
      "execution_count": null,
      "id": "25ea3994",
      "metadata": {},
      "outputs": [],
      "source": [
        "# Esto generará un error\n",
        "numero_aleatorio = random.randint(1, 10)"
      ]
    },
    {
      "cell_type": "markdown",
      "id": "484aee71",
      "metadata": {},
      "source": [
        "Asegúrese siempre de importar el módulo aleatorio al comienzo de su script:"
      ]
    },
    {
      "cell_type": "code",
      "execution_count": null,
      "id": "0dabac0d",
      "metadata": {},
      "outputs": [],
      "source": [
        "import random"
      ]
    },
    {
      "cell_type": "markdown",
      "id": "08ab2605",
      "metadata": {},
      "source": [
        "## Uso Avanzado ##\n",
        "La función random.randint() también se puede utilizar en aplicaciones más avanzadas. Veamos algunos ejemplos.\n",
        "\n",
        "**Generar una Lista de Números Aleatorios**\n",
        "\n",
        "Si necesitas generar una lista de números aleatorios, puedes usar una comprensión de listas junto con random.randint() :"
      ]
    },
    {
      "cell_type": "code",
      "execution_count": null,
      "id": "05e21f2b",
      "metadata": {},
      "outputs": [],
      "source": [
        "import random\n",
        "\n",
        "lista_aleatoria = [random.randint(1, 100) for _ in range(10)]\n",
        "print(lista_aleatoria)"
      ]
    },
    {
      "cell_type": "markdown",
      "id": "ed0b1637",
      "metadata": {},
      "source": [
        "Este código generará una lista de 10 números aleatorios entre 1 y 100.\n",
        "\n",
        "**Simulación de Eventos Aleatorios**\n",
        "\n",
        "En aplicaciones de simulación, puedes usar random.randint() para modelar eventos aleatorios. Por ejemplo, supongamos que estás simulando el lanzamiento de una moneda:"
      ]
    },
    {
      "cell_type": "code",
      "execution_count": null,
      "id": "e809e170",
      "metadata": {},
      "outputs": [],
      "source": [
        "import random\n",
        "\n",
        "resultados = {\"cara\": 0, \"cruz\": 0}\n",
        "\n",
        "for _ in range(1000):\n",
        "    lanzamiento = random.randint(0, 1)\n",
        "    if lanzamiento == 0:\n",
        "        resultados[\"cara\"] += 1\n",
        "    else:\n",
        "        resultados[\"cruz\"] += 1\n",
        "\n",
        "print(f\"Cara: {resultados['cara']}, Cruz: {resultados['cruz']}\")"
      ]
    },
    {
      "cell_type": "markdown",
      "id": "3a418848",
      "metadata": {},
      "source": [
        "Este código simula 1000 lanzamientos de una moneda y cuenta cuántas veces cae en cara o cruz."
      ]
    }
  ],
  "metadata": {
    "colab": {
      "include_colab_link": true,
      "provenance": []
    },
    "kernelspec": {
      "display_name": "Python 3",
      "language": "python",
      "name": "python3"
    },
    "language_info": {
      "codemirror_mode": {
        "name": "ipython",
        "version": 3
      },
      "file_extension": ".py",
      "mimetype": "text/x-python",
      "name": "python",
      "nbconvert_exporter": "python",
      "pygments_lexer": "ipython3",
      "version": "3.12.2"
    }
  },
  "nbformat": 4,
  "nbformat_minor": 5
}
