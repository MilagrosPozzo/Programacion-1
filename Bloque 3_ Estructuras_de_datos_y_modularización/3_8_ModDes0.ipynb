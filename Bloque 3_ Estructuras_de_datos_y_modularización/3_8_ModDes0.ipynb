{
  "cells": [
    {
      "cell_type": "markdown",
      "id": "c6cc1c38",
      "metadata": {
        "colab_type": "text",
        "id": "view-in-github"
      },
      "source": [
        "<a href=\"https://colab.research.google.com/github/MilagrosPozzo/Programacion-1/blob/main/3_8_Modulos.ipynb\" target=\"_parent\"><img src=\"https://colab.research.google.com/assets/colab-badge.svg\" alt=\"Open In Colab\"/></a>"
      ]
    },
    {
      "cell_type": "markdown",
      "id": "805c5029",
      "metadata": {
        "id": "805c5029"
      },
      "source": [
        "\n",
        "## Desafíos\n"
      ]
    },
    {
      "cell_type": "markdown",
      "id": "7c9c2813",
      "metadata": {
        "id": "7c9c2813"
      },
      "source": [
        "**Desafio 0:**\n",
        "\n",
        "Utiliza el módulo `random` para crear un programa que genere un número aleatorio entre 1 y 100."
      ]
    },
    {
      "cell_type": "markdown",
      "id": "0aa6a287",
      "metadata": {},
      "source": [
        "[Documentación oficial del módulo Random](https://docs.python.org/es/3.8/library/random.html)\n",
        "\n",
        "La función [random.randint()](https://www.digitalocean.com/community/tutorials/randint-method-in-python) es parte del módulo random de Python, que proporciona una variedad de formas de generar números aleatorios. La función random.randint() genera un número entero aleatorio dentro de un rango especificado. Este rango incluye tanto el valor inicial como el valor final. En este caso entre 1 y 100.\n",
        "\n",
        "Línea de Código Relevante:\n",
        "\n",
        "En la primera línea, importamos el módulo random, que es una biblioteca estándar de Python. Este módulo incluye funciones que permiten trabajar con números aleatorios."
      ]
    },
    {
      "cell_type": "code",
      "execution_count": null,
      "id": "9bdb92b0",
      "metadata": {},
      "outputs": [],
      "source": [
        "import random"
      ]
    },
    {
      "cell_type": "markdown",
      "id": "0f2d6825",
      "metadata": {},
      "source": [
        "La segunda línea utiliza la función randint(), el reto es asegurar que tanto el límite inferior (1) como el superior (100) estén incluidos en el rango de posibles resultados."
      ]
    },
    {
      "cell_type": "code",
      "execution_count": null,
      "id": "a370407d",
      "metadata": {},
      "outputs": [],
      "source": [
        "numero_aleatorio = random.randint(1, 100)"
      ]
    },
    {
      "cell_type": "markdown",
      "id": "844b1536",
      "metadata": {},
      "source": [
        "Finalmente se utiliza la función print() para mostrar el número aleatorio generado."
      ]
    },
    {
      "cell_type": "code",
      "execution_count": 1,
      "id": "9cab2573",
      "metadata": {},
      "outputs": [
        {
          "name": "stdout",
          "output_type": "stream",
          "text": [
            "El número aleatorio generado es: 88\n"
          ]
        }
      ],
      "source": [
        "import random\n",
        "\n",
        "# Generar un número aleatorio entre 1 y 100\n",
        "numero_aleatorio = random.randint(1, 100)\n",
        "\n",
        "# Mostrar el número generado\n",
        "print(\"El número aleatorio generado es:\", numero_aleatorio)"
      ]
    },
    {
      "cell_type": "markdown",
      "id": "f326e631",
      "metadata": {
        "id": "f326e631"
      },
      "source": [
        "**Desafío 1:**\n",
        "\n",
        "Investiga y utiliza al menos tres funciones del módulo `string` que puedan ser útiles para mejorar nuestro procesador de texto."
      ]
    },
    {
      "cell_type": "markdown",
      "id": "db488386",
      "metadata": {},
      "source": [
        "[string— Operaciones de cadenas comunes](https://docs.python.org/3/library/string.html)\n",
        "\n",
        "El módulo string en Python contiene diversas funciones y constantes que pueden ser útiles en un procesador de texto para manipular y procesar cadenas de caracteres. "
      ]
    },
    {
      "cell_type": "markdown",
      "id": "13638ba1",
      "metadata": {},
      "source": [
        "➡️string.capwords()\n",
        "\n",
        "Esta función toma una cadena de texto y convierte la primera letra de cada palabra en mayúscula, mientras convierte las demás letras en minúsculas. Esto es útil para dar formato a títulos, nombres, u otras frases donde cada palabra debería comenzar con una letra mayúscula."
      ]
    },
    {
      "cell_type": "code",
      "execution_count": null,
      "id": "daca3984",
      "metadata": {},
      "outputs": [],
      "source": [
        "import string\n",
        "\n",
        "texto = \"bienvenido al mundo de la programación en python\"\n",
        "texto_capitalizado = string.capwords(texto)\n",
        "print(texto_capitalizado)  # \"Bienvenido Al Mundo De La Programación En Python\""
      ]
    },
    {
      "cell_type": "markdown",
      "id": "713e85c9",
      "metadata": {},
      "source": [
        "➡️string.ascii_letters\n",
        "\n",
        "Esta constante devuelve una cadena que contiene todos los caracteres alfabéticos en minúsculas y mayúsculas (es decir, todas las letras desde a-z y A-Z). Es útil cuando necesitas verificar si un carácter es una letra o para generar claves o contraseñas aleatorias."
      ]
    },
    {
      "cell_type": "code",
      "execution_count": null,
      "id": "672f5179",
      "metadata": {},
      "outputs": [],
      "source": [
        "import string\n",
        "import random\n",
        "\n",
        "# Generar una cadena aleatoria de 8 caracteres que contenga solo letras\n",
        "clave = ''.join(random.choice(string.ascii_letters) for _ in range(8))\n",
        "print(clave)  # Ejemplo de salida: \"AbcDefGh\""
      ]
    },
    {
      "cell_type": "markdown",
      "id": "bc3b6068",
      "metadata": {},
      "source": [
        "➡️string.punctuation\n",
        "\n",
        "Esta constante contiene todos los signos de puntuación, lo cual es útil si deseas eliminar o validar la puntuación en un texto."
      ]
    },
    {
      "cell_type": "code",
      "execution_count": null,
      "id": "23d5cb62",
      "metadata": {},
      "outputs": [],
      "source": [
        "import string\n",
        "\n",
        "texto = \"¡Hola, mundo! ¿Cómo estás?\"\n",
        "texto_sin_puntuacion = texto.translate(str.maketrans('', '', string.punctuation))\n",
        "print(texto_sin_puntuacion)  # \"Hola mundo Cómo estás\""
      ]
    },
    {
      "cell_type": "markdown",
      "id": "51a97b5a",
      "metadata": {
        "id": "51a97b5a"
      },
      "source": [
        "**Desafío 2:**\n",
        "\n",
        "Utiliza el módulo `random` de Python para crear un programa que genere una contraseña aleatoria de 8 caracteres que incluya letras minúsculas, letras mayúsculas y números."
      ]
    },
    {
      "cell_type": "markdown",
      "id": "e5b7bb33",
      "metadata": {
        "id": "e5b7bb33"
      },
      "source": [
        "**Desafío 3:**\n",
        "\n",
        "Crea un módulo personalizado que contenga funciones para cambiar el formato del texto (por ejemplo, a negrita, itálica, etc.) e impórtalo en un nuevo programa."
      ]
    },
    {
      "cell_type": "markdown",
      "id": "16b79fce",
      "metadata": {},
      "source": []
    },
    {
      "cell_type": "markdown",
      "id": "41ccace2",
      "metadata": {
        "id": "41ccace2"
      },
      "source": [
        "**Desafío 4:**\n",
        "\n",
        "Utiliza el módulo `collections` para analizar un texto y generar estadísticas avanzadas,\n",
        "como las 10 palabras más comunes y su frecuencia.\n",
        "Extiende esto creando un gráfico de barras con matplotlib para visualizar la frecuencia de las palabras."
      ]
    },
    {
      "cell_type": "markdown",
      "id": "ad90daba",
      "metadata": {
        "id": "ad90daba"
      },
      "source": [
        "**Desafío 5:**\n",
        "\n",
        "Utiliza el módulo `os` para interactuar con el sistema operativo y añade características como guardar un archivo o leer un archivo existente en nuestro procesador de texto."
      ]
    },
    {
      "cell_type": "markdown",
      "id": "9b10274e",
      "metadata": {
        "id": "9b10274e"
      },
      "source": [
        "**Desafio 6:**\n",
        "\n",
        "Calculadora de Fechas\n",
        "Objetivo:\n",
        "Escribir un programa en Python que permita calcular la diferencia entre dos fechas, utilizando el módulo `datetime.`"
      ]
    }
  ],
  "metadata": {
    "colab": {
      "include_colab_link": true,
      "provenance": []
    },
    "kernelspec": {
      "display_name": "Python 3",
      "language": "python",
      "name": "python3"
    },
    "language_info": {
      "codemirror_mode": {
        "name": "ipython",
        "version": 3
      },
      "file_extension": ".py",
      "mimetype": "text/x-python",
      "name": "python",
      "nbconvert_exporter": "python",
      "pygments_lexer": "ipython3",
      "version": "3.12.2"
    }
  },
  "nbformat": 4,
  "nbformat_minor": 5
}
