{
  "cells": [
    {
      "cell_type": "markdown",
      "metadata": {
        "id": "iDybK60sElR1"
      },
      "source": [
        "# Introducción a las matrices en NumPy\n",
        "\n",
        "Hasta ahora, hemos trabajado con lo que podríamos llamar \"arreglos\" en Python usando listas, una funcionalidad nativa del lenguaje. Pero hemos mencionado también que Python, en su forma estándar, no tiene un verdadero soporte para \"arreglos\" como lo conocemos en otros lenguajes de programación. Y sí, eso es cierto.\n",
        "\n",
        "Pero aquí es donde NumPy entra en juego. NumPy es una biblioteca de Python que nos proporciona una estructura de datos tipo arreglo, el `ndarray`, optimizada para cálculos numéricos eficientes. En este módulo, vamos a aprender cómo trabajar con estos \"arreglos\" utilizando NumPy. Esta habilidad es esencial para muchas áreas en ciencia de datos, aprendizaje automático y computación científica, ya que nos permitirá manejar y realizar operaciones con conjuntos de datos numéricos de manera eficiente."
      ]
    },
    {
      "cell_type": "markdown",
      "metadata": {
        "id": "UfMLtKbKEsWt"
      },
      "source": [
        "# Creación de matrices en NumPy\n",
        "\n",
        "Podemos crear matrices en NumPy de varias formas. Aquí hay algunos ejemplos:"
      ]
    },
    {
      "cell_type": "code",
      "execution_count": 1,
      "metadata": {
        "colab": {
          "base_uri": "https://localhost:8080/"
        },
        "id": "qWnqpDkjEu5a",
        "outputId": "fdbae995-7910-4eb0-a75c-a8ef5e853fe1"
      },
      "outputs": [
        {
          "name": "stdout",
          "output_type": "stream",
          "text": [
            "A =\n",
            " [[1 2 3]\n",
            " [4 5 6]\n",
            " [7 8 9]]\n",
            "\n",
            "B =\n",
            " [[0. 0. 0.]\n",
            " [0. 0. 0.]\n",
            " [0. 0. 0.]]\n",
            "\n",
            "C =\n",
            " [[1. 1. 1.]\n",
            " [1. 1. 1.]\n",
            " [1. 1. 1.]]\n",
            "\n",
            "D =\n",
            " [[0.49989014 0.95312502 0.94647359]\n",
            " [0.93391733 0.67217801 0.73495462]\n",
            " [0.48786988 0.81813843 0.44406977]]\n"
          ]
        }
      ],
      "source": [
        "import numpy as np\n",
        "\n",
        "# Crear una matriz a partir de una lista de listas\n",
        "A = np.array([[1, 2, 3], [4, 5, 6], [7, 8, 9]])\n",
        "print(\"A =\\n\", A)\n",
        "\n",
        "# Crear una matriz de ceros\n",
        "B = np.zeros((3, 3))\n",
        "print(\"\\nB =\\n\", B)\n",
        "\n",
        "# Crear una matriz de unos\n",
        "C = np.ones((3, 3))\n",
        "print(\"\\nC =\\n\", C)\n",
        "\n",
        "# Crear una matriz con valores aleatorios\n",
        "D = np.random.rand(3, 3)\n",
        "print(\"\\nD =\\n\", D)"
      ]
    },
    {
      "cell_type": "markdown",
      "metadata": {
        "id": "9gZFoSDSGjD1"
      },
      "source": [
        "Seguramente habrás notado en algún desafío anterior el uso de as en líneas de código como import libreria as lib. as en Python se utiliza para crear un alias durante la importación de un módulo. En este caso, estamos importando el módulo numpy y asignándole el alias np. Esto se hace por conveniencia para hacer el código más legible y conciso.\n",
        "\n",
        "Después de esto, puedes usar el prefijo np. en lugar de numpy. para llamar a las funciones y métodos del módulo numpy. Esto es especialmente útil para módulos con nombres largos o que se utilizan con frecuencia.\n",
        "\n",
        "El alias np para numpy es una convención ampliamente adoptada por la comunidad de Python, especialmente entre los científicos de datos, ingenieros y desarrolladores que utilizan numpy para el cálculo numérico. Utilizar estas convenciones ayuda a mantener el código coherente y fácil de leer entre diferentes proyectos y equipos. Sin embargo, podrías elegir cualquier nombre que desees para el alias. Por ejemplo, import numpy as nump también sería válido, pero no es comúnmente utilizado."
      ]
    },
    {
      "cell_type": "markdown",
      "metadata": {},
      "source": [
        "_Nota_: Puede ocurrir que Python no tenga NumPy en tu instalacion, lo resuelves con pip install numpy o similar según tu sistema."
      ]
    },
    {
      "cell_type": "markdown",
      "metadata": {
        "id": "5Kq0wYFBEyi4"
      },
      "source": [
        "# Acceso y modificación de elementos de la matriz\n",
        "\n",
        "Podemos acceder y modificar elementos de la matriz utilizando índices. Veamos algunos ejemplos:"
      ]
    },
    {
      "cell_type": "code",
      "execution_count": null,
      "metadata": {
        "colab": {
          "base_uri": "https://localhost:8080/"
        },
        "id": "_eKklfzkHpQo",
        "outputId": "a9dd194f-2fa4-4c95-8472-0eb760125fed"
      },
      "outputs": [],
      "source": [
        "# Acceder a un elemento\n",
        "print(\"A[0, 0] =\", A[0, 0])\n",
        "\n",
        "# Modificar un elemento\n",
        "A[0, 0] = 10\n",
        "print(\"\\nA =\\n\", A)"
      ]
    },
    {
      "cell_type": "markdown",
      "metadata": {
        "id": "KMkaLgXRE1ww"
      },
      "source": [
        "# Operaciones básicas con matrices\n",
        "\n",
        "NumPy nos permite realizar varias operaciones con matrices, como suma, resta, producto escalar, producto de matrices y división. Veamos cómo hacerlo:"
      ]
    },
    {
      "cell_type": "code",
      "execution_count": null,
      "metadata": {
        "id": "MfxDLUW_E3vg"
      },
      "outputs": [],
      "source": [
        "# Crear dos matrices para las operaciones\n",
        "A = np.array([[1, 2], [3, 4]])\n",
        "B = np.array([[5, 6], [7, 8]])\n",
        "\n",
        "# Suma de matrices\n",
        "print(\"A + B =\\n\", A + B)\n",
        "\n",
        "# Resta de matrices\n",
        "print(\"\\nA - B =\\n\", A - B)\n",
        "\n",
        "# Producto escalar\n",
        "print(\"\\n2 * A =\\n\", 2 * A)\n",
        "\n",
        "# Producto de matrices\n",
        "print(\"\\nA @ B =\\n\", A @ B)\n",
        "\n",
        "# División de matrices\n",
        "print(\"\\nA / B =\\n\", A / B)"
      ]
    },
    {
      "cell_type": "markdown",
      "metadata": {
        "id": "IjqACVw6E7im"
      },
      "source": [
        "# Algunas operaciones especiales con matrices\n",
        "\n",
        "Además de las operaciones básicas, NumPy también nos permite realizar algunas operaciones especiales con matrices, como transposición, determinante, inversa, traza y rango. Veamos cómo hacerlo:"
      ]
    },
    {
      "cell_type": "code",
      "execution_count": null,
      "metadata": {
        "colab": {
          "base_uri": "https://localhost:8080/"
        },
        "id": "nqVGSxq0E-eI",
        "outputId": "8805930f-cf14-4fb7-fd50-20b50db890f9"
      },
      "outputs": [],
      "source": [
        "# Transposición de una matriz\n",
        "print(\"A.T =\\n\", A.T)\n",
        "\n",
        "# Determinante de una matriz\n",
        "print(\"\\nnp.linalg.det(A) =\", np.linalg.det(A))\n",
        "\n",
        "# Inversa de una matriz\n",
        "print(\"\\nnp.linalg.inv(A) =\\n\", np.linalg.inv(A))\n",
        "\n",
        "# Traza de una matriz\n",
        "print(\"\\nnp.trace(A) =\", np.trace(A))\n",
        "\n",
        "# Rango de una matriz\n",
        "print(\"\\nnp.linalg.matrix_rank(A) =\", np.linalg.matrix_rank(A))"
      ]
    },
    {
      "cell_type": "markdown",
      "metadata": {
        "id": "dMte1nstFAV1"
      },
      "source": [
        "# Desafío 1\n",
        "\n",
        "Considere las matrices $ A $ y $ B $ definidas como:\n",
        "\n",
        "$ A = \\begin{bmatrix} 1 & 2 \\\\ 3 & 4 \\end{bmatrix} $     y     $ B = \\begin{bmatrix} 5 & 6 \\\\ 7 & 8 \\end{bmatrix} $\n",
        "\n",
        "Tu tarea es calcular la matriz resultante de la operación $ (2A + B^T) $. Recuerda que $ B^T $ denota la transposición de la matriz $ B $."
      ]
    },
    {
      "cell_type": "code",
      "execution_count": null,
      "metadata": {},
      "outputs": [],
      "source": [
        "# Definición de matrices A y B\n",
        "A = np.array([[1, 2], [3, 4]])\n",
        "B = np.array([[5, 6], [7, 8]])\n",
        "\n",
        "# Cálculo de la operación 2A + B^T\n",
        "result = (2 * A + B.T)\n",
        "result"
      ]
    },
    {
      "cell_type": "markdown",
      "metadata": {
        "id": "RzLTx9UmFtGF"
      },
      "source": [
        "# Desafío 2\n",
        "\n",
        "Dada la matriz $ A = \\begin{bmatrix} 1 & 0 & 1 \\\\ 4 & -1 & 4 \\\\ 5 & 6 & 7 \\end{bmatrix} $, encuentra la traza de la matriz inversa de $ A $."
      ]
    },
    {
      "cell_type": "markdown",
      "metadata": {},
      "source": [
        "np.array se usa para definir la matriz AA como un arreglo de Numpy.\n",
        "\n",
        "np.linalg.inv(A) calcula la inversa de la matriz AA.\n",
        "\n",
        "np.trace(A_inv) calcula la traza de la matriz, que es la suma de los elementos en la diagonal principal de la matriz inversa."
      ]
    },
    {
      "cell_type": "code",
      "execution_count": null,
      "metadata": {},
      "outputs": [],
      "source": [
        "# Definición de la matriz A\n",
        "A = np.array([[1, 0, 1], [4, -1, 4], [5, 6, 7]])\n",
        "\n",
        "# Cálculo de la inversa de A\n",
        "A_inv = np.linalg.inv(A)\n",
        "\n",
        "# Cálculo de la traza de la matriz inversa\n",
        "trace_A_inv = np.trace(A_inv)\n",
        "trace_A_inv"
      ]
    },
    {
      "cell_type": "markdown",
      "metadata": {
        "id": "XQ3bqWOpF6ZV"
      },
      "source": [
        "# Desafío 3\n",
        "\n",
        "Dada la matriz $ A = \\begin{bmatrix} 1 & 2 & 3 \\\\ 4 & 5 & 6 \\\\ 7 & 8 & 9 \\end{bmatrix} $, encuentra el rango de la matriz resultante de $ (A + A^T) $."
      ]
    },
    {
      "cell_type": "code",
      "execution_count": 4,
      "metadata": {},
      "outputs": [
        {
          "data": {
            "text/plain": [
              "np.int64(2)"
            ]
          },
          "execution_count": 4,
          "metadata": {},
          "output_type": "execute_result"
        }
      ],
      "source": [
        "# Rango de la matriz resultante\n",
        "A = np.array([[1, 2, 3], [4, 5, 6], [7, 8, 9]])\n",
        "rank_result = np.linalg.matrix_rank(A + A.T) \n",
        "rank_result"
      ]
    },
    {
      "cell_type": "markdown",
      "metadata": {
        "id": "peAqBspDMYt1"
      },
      "source": [
        "# Desafío 4: Batalla Naval\n",
        "\n",
        "Para este desafío, tendrás que implementar un juego sencillo de \"Batalla Naval\". El tablero de juego será una matriz de 5x5 donde el agua será representada por ceros (0) y los barcos por unos (1).\n",
        "\n",
        "Primero, crea un tablero de juego utilizando NumPy, que será una matriz de ceros de 5x5.\n",
        "\n",
        "Luego, coloca tres barcos en el tablero de juego. Cada barco es un 1 y debes colocarlo en una posición aleatoria en el tablero. No te preocupes por el tamaño de los barcos; cada barco ocupará solo una celda.\n",
        "\n",
        "Finalmente, crea una función que acepte dos argumentos (las coordenadas x, y), y que verifique si en esa posición hay un barco (1) o agua (0). La función debe imprimir un mensaje indicando si se golpeó un barco o si el disparo cayó al agua."
      ]
    },
    {
      "cell_type": "markdown",
      "metadata": {},
      "source": []
    },
    {
      "cell_type": "code",
      "execution_count": null,
      "metadata": {},
      "outputs": [],
      "source": [
        "# Batalla Naval Jugador vs Jugador\n",
        "\n",
        "# Importamos las bibliotecas necesarias\n",
        "import random  # Para generar números aleatorios\n",
        "import numpy as np  # Para manejar matrices de manera eficiente\n",
        "\n",
        "# Definimos constantes para configurar el juego\n",
        "DIMENSIONES_TABLERO = 5  # Tamaño del tablero (5x5), puede cambiarse fácilmente\n",
        "CANTIDAD_BARCOS = 3  # Número de barcos para cada jugador\n",
        "DISPARO_FALLIDO = \"-\"  # Símbolo para representar un disparo fallido en el tablero\n",
        "DISPARO_ACERTADO = \"1\"  # Símbolo para representar un disparo acertado en el tablero\n",
        "JUGADORES = [\"J1\", \"J2\"]  # Lista de jugadores\n",
        "\n",
        "def crear_tablero(dimension):\n",
        "    # Crea un tablero vacío con '0' (agua) usando numpy\n",
        "    # Usamos dtype=str para que todos los elementos sean strings\n",
        "    return np.full((dimension, dimension), '0', dtype=str)\n",
        "\n",
        "def colocar_barcos(mar, cantidad_barcos):\n",
        "    dimension = len(mar)\n",
        "    barcos_colocados = 0\n",
        "    # Coloca barcos aleatoriamente hasta alcanzar la cantidad especificada\n",
        "    while barcos_colocados < cantidad_barcos:\n",
        "        # Genera coordenadas aleatorias\n",
        "        fila = random.randint(0, dimension - 1)\n",
        "        columna = random.randint(0, dimension - 1)\n",
        "        if mar[fila, columna] == \"0\":  # Verifica que la posición esté vacía\n",
        "            mar[fila, columna] = \"B\"  # Coloca el barco ('B' representa barco)\n",
        "            barcos_colocados += 1\n",
        "\n",
        "def imprimir_tablero(tablero):\n",
        "    letras = 'ABCDE'  # Letras para las filas\n",
        "    # Imprime los números sobre el tablero\n",
        "    print(\"  \" + \" \".join([str(i+1) for i in range(DIMENSIONES_TABLERO)]))\n",
        "    for i in range(DIMENSIONES_TABLERO):\n",
        "        # Imprime las letras de las filas seguidas por el contenido de cada celda\n",
        "        print(letras[i], \" \".join(tablero[i, j] for j in range(DIMENSIONES_TABLERO)))\n",
        "\n",
        "def convertir_coordenada(coordenada):\n",
        "    letras = 'ABCDE'\n",
        "    # Convierte la letra de la coordenada a un índice de fila\n",
        "    fila = letras.index(coordenada[0].upper())\n",
        "    # Convierte el número de la coordenada a un índice de columna (restando 1 para ajustar a índices base 0)\n",
        "    columna = int(coordenada[1]) - 1\n",
        "    return fila, columna\n",
        "\n",
        "def hacer_tiro(tablero, mar, fila, columna):\n",
        "    # Verifica si el disparo fue acertado\n",
        "    if mar[fila, columna] == \"B\":\n",
        "        print(\"¡Acierto!\")\n",
        "        tablero[fila, columna] = DISPARO_ACERTADO\n",
        "        mar[fila, columna] = \"0\"  # Elimina el barco del mar\n",
        "    else:\n",
        "        print(\"¡Fallo!\")\n",
        "        # Actualiza la interfaz \n",
        "        tablero[fila, columna] = DISPARO_FALLIDO\n",
        "\n",
        "def verificar_victoria(mar):\n",
        "    # Verifica si todos los barcos han sido hundidos\n",
        "    # Devuelve True si no hay barcos en el tablero\n",
        "    return not np.any(mar == \"B\")\n",
        "\n",
        "# Inicializar tableros y mares de los jugadores\n",
        "tablero_j1 = crear_tablero(DIMENSIONES_TABLERO)\n",
        "tablero_j2 = crear_tablero(DIMENSIONES_TABLERO)\n",
        "mar_j1 = crear_tablero(DIMENSIONES_TABLERO)\n",
        "mar_j2 = crear_tablero(DIMENSIONES_TABLERO)\n",
        "\n",
        "# Colocar barcos para ambos jugadores\n",
        "colocar_barcos(mar_j1, CANTIDAD_BARCOS)\n",
        "colocar_barcos(mar_j2, CANTIDAD_BARCOS)\n",
        "\n",
        "turno = 0\n",
        "while True:\n",
        "    # Determina el jugador actual\n",
        "    jugador_actual = JUGADORES[turno % 2]\n",
        "    # Selecciona el tablero y mar correspondientes\n",
        "    tablero_actual = tablero_j1 if jugador_actual == \"J1\" else tablero_j2\n",
        "    mar_oponente = mar_j2 if jugador_actual == \"J1\" else mar_j1\n",
        "    \n",
        "    print(f\"Turno de {jugador_actual}\")\n",
        "    imprimir_tablero(tablero_actual)\n",
        "    \n",
        "    mensaje = \" ingresa tu movimiento (por ejemplo, A4): \"\n",
        "    movimiento = input(f\"{jugador_actual},{mensaje}\").strip().lower()\n",
        "    \n",
        "    if movimiento == 'salir':\n",
        "        break\n",
        "    \n",
        "    try:\n",
        "        # Convierte la entrada del usuario a coordenadas de matriz\n",
        "        fila, columna = convertir_coordenada(movimiento)\n",
        "        # Verifica si las coordenadas están dentro del rango del tablero\n",
        "        if 0 <= fila < DIMENSIONES_TABLERO and 0 <= columna < DIMENSIONES_TABLERO:\n",
        "            hacer_tiro(tablero_actual, mar_oponente, fila, columna)\n",
        "            # Verifica si el jugador actual ha ganado\n",
        "            if verificar_victoria(mar_oponente):\n",
        "                print(f\"¡{jugador_actual} gana!\")\n",
        "                break\n",
        "            turno += 1  # Pasa al siguiente turno\n",
        "        else:\n",
        "            print(\"Movimiento fuera de rango. Inténtalo de nuevo.\")\n",
        "    except Exception:\n",
        "        # Captura cualquier error en la entrada del usuario\n",
        "        print(\"Movimiento inválido. Inténtalo de nuevo.\")"
      ]
    },
    {
      "cell_type": "markdown",
      "metadata": {},
      "source": [
        "# Desafío 5: Crear una simulación de \"vida artificial\" en un tablero de juego (matriz)\n",
        "En este desafío, implementarás una simulación del famoso Juego de la vida de Conway. Se trata de un autómata celular desarrollado por el matemático británico John Horton Conway en 1970. Es un juego de cero jugadores, lo que significa que su evolución se determina por su estado inicial, sin necesidad de más entradas humanas.\n",
        "\n",
        "### Objetivos del Desafío\n",
        "Crear el Tablero de Juego:\n",
        "\n",
        "Implementa una función para crear un tablero de juego de dimensiones n x m, donde cada celda puede estar viva (1) o muerta (0). Inicializa el tablero con un patrón inicial.\n",
        "\n",
        "### Definir las Reglas del Juego:\n",
        "\n",
        "Cada celda en el tablero tiene 8 vecinos. Las reglas para la evolución del estado de las celdas son:\n",
        "Una celda viva con menos de dos celdas vecinas vivas muere por subpoblación.\n",
        "Una celda viva con dos o tres celdas vecinas vivas sigue viva en la siguiente generación.\n",
        "Una celda viva con más de tres celdas vecinas vivas muere por sobrepoblación.\n",
        "Una celda muerta con exactamente tres celdas vecinas vivas se convierte en una celda viva por reproducción.\n",
        "\n",
        "### Simular la Evolución:\n",
        "\n",
        "Implementa una función para actualizar el tablero siguiendo las reglas del juego. Esta función debería generar la nueva configuración del tablero después de un número específico de iteraciones.\n",
        "\n",
        "### Visualizar la Simulación:\n",
        "\n",
        "Utiliza Matplotlib para visualizar la evolución del tablero a lo largo de las iteraciones. Muestra cada estado del tablero como una imagen en una animación."
      ]
    }
  ],
  "metadata": {
    "colab": {
      "authorship_tag": "ABX9TyOWXUv9C4rEVdP4lSPIsnxi",
      "include_colab_link": true,
      "provenance": []
    },
    "kernelspec": {
      "display_name": "Python 3",
      "name": "python3"
    },
    "language_info": {
      "codemirror_mode": {
        "name": "ipython",
        "version": 3
      },
      "file_extension": ".py",
      "mimetype": "text/x-python",
      "name": "python",
      "nbconvert_exporter": "python",
      "pygments_lexer": "ipython3",
      "version": "3.12.2"
    }
  },
  "nbformat": 4,
  "nbformat_minor": 0
}
